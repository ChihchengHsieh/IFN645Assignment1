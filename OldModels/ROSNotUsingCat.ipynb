{
 "cells": [
  {
   "cell_type": "markdown",
   "metadata": {},
   "source": [
    "# Importing Necessary Libraries"
   ]
  },
  {
   "cell_type": "code",
   "execution_count": 1,
   "metadata": {},
   "outputs": [],
   "source": [
    "import pandas as pd\n",
    "import numpy as np\n",
    "import sklearn\n",
    "from sklearn.model_selection import train_test_split\n",
    "import matplotlib.pyplot as plt\n",
    "import seaborn as sns\n",
    "from sklearn.tree import DecisionTreeClassifier\n",
    "from sklearn.metrics import classification_report, accuracy_score\n",
    "from sklearn.metrics import confusion_matrix\n",
    "import numpy as np\n",
    "from collections import defaultdict\n",
    "import pydot\n",
    "from io import StringIO\n",
    "from sklearn.tree import export_graphviz\n",
    "from sklearn.model_selection import GridSearchCV\n",
    "from sklearn.neural_network import MLPClassifier\n",
    "from sklearn.preprocessing import StandardScaler\n",
    "from sklearn.linear_model import LogisticRegression\n",
    "from sklearn.feature_selection import SelectFromModel\n",
    "from sklearn.metrics import roc_auc_score\n",
    "from sklearn.ensemble import VotingClassifier\n",
    "from sklearn.feature_selection import RFECV\n",
    "from sklearn.metrics import roc_curve\n",
    "from itertools import compress\n",
    "from imblearn.under_sampling import RandomUnderSampler\n",
    "from imblearn.over_sampling import RandomOverSampler\n",
    "import warnings\n",
    "warnings.filterwarnings('ignore')\n",
    "\n",
    "'''\n",
    "TODO:\n",
    "\n",
    "1. Try to improve\n",
    "\n",
    "2. Desing the replace_val for each column\n",
    "\n",
    "3. Creat preprocess procedure for every class.\n",
    "'''\n",
    "\n",
    "\n",
    "%matplotlib inline\n",
    "\n",
    "rs = 101"
   ]
  },
  {
   "cell_type": "markdown",
   "metadata": {},
   "source": [
    " # Task 1. Data Selection and Distribution. "
   ]
  },
  {
   "cell_type": "code",
   "execution_count": 2,
   "metadata": {
    "scrolled": true
   },
   "outputs": [],
   "source": [
    "## Read Data\n",
    "df = pd.read_csv(\"CaseStudyData.csv\")"
   ]
  },
  {
   "cell_type": "markdown",
   "metadata": {},
   "source": [
    " ### 1. What is the proportion of cars who can be classified as a “kick”? "
   ]
  },
  {
   "cell_type": "code",
   "execution_count": 3,
   "metadata": {},
   "outputs": [
    {
     "name": "stdout",
     "output_type": "stream",
     "text": [
      "Number of Columns:  31\n",
      "Columns:  ['PurchaseID', 'PurchaseTimestamp', 'PurchaseDate', 'Auction', 'VehYear', 'Make', 'Color', 'Transmission', 'WheelTypeID', 'WheelType', 'VehOdo', 'Nationality', 'Size', 'TopThreeAmericanName', 'MMRAcquisitionAuctionAveragePrice', 'MMRAcquisitionAuctionCleanPrice', 'MMRAcquisitionRetailAveragePrice', 'MMRAcquisitonRetailCleanPrice', 'MMRCurrentAuctionAveragePrice', 'MMRCurrentAuctionCleanPrice', 'MMRCurrentRetailAveragePrice', 'MMRCurrentRetailCleanPrice', 'MMRCurrentRetailRatio', 'PRIMEUNIT', 'AUCGUART', 'VNST', 'VehBCost', 'IsOnlineSale', 'WarrantyCost', 'ForSale', 'IsBadBuy']\n"
     ]
    }
   ],
   "source": [
    "## Exploring the features in this dataset\n",
    "print(\"Number of Columns: \", len(df.columns))\n",
    "print(\"Columns: \",list(df.columns))"
   ]
  },
  {
   "cell_type": "code",
   "execution_count": 4,
   "metadata": {},
   "outputs": [
    {
     "name": "stdout",
     "output_type": "stream",
     "text": [
      "Number of Observations:  41476\n"
     ]
    }
   ],
   "source": [
    "print(\"Number of Observations: \", len(df))"
   ]
  },
  {
   "cell_type": "code",
   "execution_count": 5,
   "metadata": {},
   "outputs": [
    {
     "name": "stdout",
     "output_type": "stream",
     "text": [
      "The proportion of kicks:  0.1294965763333012\n"
     ]
    }
   ],
   "source": [
    "proportionOfKicks = len(df[df['IsBadBuy'] == 1]) / len(list(df['IsBadBuy']))\n",
    "print(\"The proportion of kicks: \", proportionOfKicks)"
   ]
  },
  {
   "cell_type": "markdown",
   "metadata": {},
   "source": [
    "### 2. Did you have to fix any data quality problems? Detail them."
   ]
  },
  {
   "cell_type": "code",
   "execution_count": 6,
   "metadata": {},
   "outputs": [
    {
     "name": "stdout",
     "output_type": "stream",
     "text": [
      "Using New Preprocessing Strategy\n",
      "See [MMRCurrentAuctionAveragePriceMMRCurrentAuctionCleanPrice, MMRCurrentRetailAveragePrice, MMRCurrentRetailCleanPrice, MMRCurrentRetailRatio] as Interval Data\n",
      "Total null before Replacing:  1691\n"
     ]
    }
   ],
   "source": [
    "#### PREPROCESSING STATEGY\n",
    "NEW_STATEGY = True\n",
    "ResamplingMethod = 'ros' #['ros', 'rus']\n",
    "if NEW_STATEGY:\n",
    "    print(\"Using New Preprocessing Strategy\")\n",
    "    using_cat = False\n",
    "    categorial_cols = ['Auction', 'VehYear', 'Make', 'Color', 'Transmission','WheelTypeID', 'WheelType', 'Nationality', 'Size', 'TopThreeAmericanName','PRIMEUNIT','AUCGUART','VNST','IsOnlineSale','ForSale' ] # Replaced by the most common \n",
    "    interval_cols = ['VehOdo','MMRAcquisitionAuctionAveragePrice','MMRAcquisitionAuctionCleanPrice','MMRAcquisitionRetailAveragePrice','MMRAcquisitonRetailCleanPrice','VehBCost','WarrantyCost' ] \n",
    "    drop_cols = ['PurchaseID','PurchaseDate','PurchaseTimestamp']\n",
    "    questionMark_data = ['MMRCurrentAuctionAveragePrice','MMRCurrentAuctionCleanPrice','MMRCurrentRetailAveragePrice','MMRCurrentRetailCleanPrice','MMRCurrentRetailRatio']\n",
    "    replaced_vals = ['?', '#VALUE!']\n",
    "    if using_cat:\n",
    "        categorial_cols += questionMark_data\n",
    "        print(\"See [MMRCurrentAuctionAveragePrice\" +\n",
    "              \"MMRCurrentAuctionCleanPrice, MMRCurrentRetailAveragePrice,\" +\n",
    "              \" MMRCurrentRetailCleanPrice, MMRCurrentRetailRatio] as Categorial Data\")\n",
    "    else: \n",
    "        interval_cols += questionMark_data\n",
    "        print(\"See [MMRCurrentAuctionAveragePrice\" +\n",
    "              \"MMRCurrentAuctionCleanPrice, MMRCurrentRetailAveragePrice,\" +\n",
    "              \" MMRCurrentRetailCleanPrice, MMRCurrentRetailRatio] as Interval Data\")\n",
    "else:\n",
    "    print(\"Using Old Preprocessing Strategy\")\n",
    "    drop_cols = ['PurchaseID','PurchaseDate']\n",
    "    categorial_cols = ['Auction', 'VehYear', 'Make', 'Color', 'Transmission','WheelTypeID', 'WheelType', 'Nationality', 'Size', 'TopThreeAmericanName','PRIMEUNIT','AUCGUART','VNST','IsOnlineSale','ForSale' ] # Replaced by the most common \n",
    "    interval_cols = ['PurchaseTimestamp', 'VehOdo','MMRAcquisitionAuctionAveragePrice','MMRAcquisitionAuctionCleanPrice','MMRAcquisitionRetailAveragePrice','MMRAcquisitonRetailCleanPrice','MMRCurrentAuctionAveragePrice','MMRCurrentAuctionCleanPrice','MMRCurrentRetailAveragePrice','MMRCurrentRetailCleanPrice','MMRCurrentRetailRatio','VehBCost','WarrantyCost' ] # Replaced by the mean\n",
    "    replaced_vals = ['?', '#VALUE!']\n",
    "\n",
    "print(\"Total null before Replacing: \", df.isnull().sum().sum())"
   ]
  },
  {
   "cell_type": "code",
   "execution_count": 7,
   "metadata": {},
   "outputs": [
    {
     "name": "stdout",
     "output_type": "stream",
     "text": [
      "======================= PurchaseID =======================\n",
      "----------------------- FIRST FIVE -----------------------\n",
      "0    0\n",
      "1    1\n",
      "2    2\n",
      "3    3\n",
      "4    4\n",
      "Name: PurchaseID, dtype: int64\n",
      "----------------------- DESCIRBE -----------------------\n",
      "count    41476.000000\n",
      "mean     20737.500000\n",
      "std      11973.234219\n",
      "min          0.000000\n",
      "25%      10368.750000\n",
      "50%      20737.500000\n",
      "75%      31106.250000\n",
      "max      41475.000000\n",
      "Name: PurchaseID, dtype: float64\n",
      "----------------------- COUNTS -----------------------\n",
      "Five Most Common:  [2047, 11567, 15693, 13644, 3403]\n",
      "Num of NULL:  0\n",
      "Number of ? : 0\n",
      "Number of #VALUE! : 0\n",
      "======================= PurchaseTimestamp =======================\n",
      "----------------------- FIRST FIVE -----------------------\n",
      "0    1253232000\n",
      "1    1253232000\n",
      "2    1253232000\n",
      "3    1253232000\n",
      "4    1253232000\n",
      "Name: PurchaseTimestamp, dtype: int64\n",
      "----------------------- DESCIRBE -----------------------\n",
      "count    4.147600e+04\n",
      "mean     1.262260e+09\n",
      "std      1.796895e+07\n",
      "min      1.231114e+09\n",
      "25%      1.247530e+09\n",
      "50%      1.262045e+09\n",
      "75%      1.277770e+09\n",
      "max      1.293667e+09\n",
      "Name: PurchaseTimestamp, dtype: float64\n",
      "----------------------- COUNTS -----------------------\n",
      "Five Most Common:  [1235520000, 1259020800, 1234396800, 1264032000, 1287014400]\n",
      "Num of NULL:  0\n",
      "Number of ? : 0\n",
      "Number of #VALUE! : 0\n",
      "======================= PurchaseDate =======================\n",
      "----------------------- FIRST FIVE -----------------------\n",
      "0    18/09/2009 10:00\n",
      "1    18/09/2009 10:00\n",
      "2    18/09/2009 10:00\n",
      "3    18/09/2009 10:00\n",
      "4    18/09/2009 10:00\n",
      "Name: PurchaseDate, dtype: object\n",
      "----------------------- DESCIRBE -----------------------\n",
      "count                41476\n",
      "unique                 497\n",
      "top       24/11/2009 10:00\n",
      "freq                   242\n",
      "Name: PurchaseDate, dtype: object\n",
      "----------------------- COUNTS -----------------------\n",
      "Five Most Common:  ['24/11/2009 10:00', '12/02/2009 10:00', '25/02/2009 10:00', '21/01/2010 10:00', '14/10/2010 10:00']\n",
      "Num of NULL:  0\n",
      "Number of ? : 0\n",
      "Number of #VALUE! : 0\n",
      "======================= Auction =======================\n",
      "----------------------- FIRST FIVE -----------------------\n",
      "0    OTHER\n",
      "1    OTHER\n",
      "2    OTHER\n",
      "3    OTHER\n",
      "4    OTHER\n",
      "Name: Auction, dtype: object\n",
      "----------------------- DESCIRBE -----------------------\n",
      "count       41432\n",
      "unique          3\n",
      "top       MANHEIM\n",
      "freq        22168\n",
      "Name: Auction, dtype: object\n",
      "----------------------- COUNTS -----------------------\n",
      "Count List: \n",
      " MANHEIM    22168\n",
      "ADESA      11086\n",
      "OTHER       8178\n",
      "Name: Auction, dtype: int64\n",
      "Num of NULL:  44\n",
      "Number of ? : 0\n",
      "Number of #VALUE! : 0\n",
      "======================= VehYear =======================\n",
      "----------------------- FIRST FIVE -----------------------\n",
      "0    2008.0\n",
      "1    2008.0\n",
      "2    2008.0\n",
      "3    2008.0\n",
      "4    2008.0\n",
      "Name: VehYear, dtype: float64\n",
      "----------------------- DESCIRBE -----------------------\n",
      "count    41432.000000\n",
      "mean      2005.360615\n",
      "std          1.730587\n",
      "min       2001.000000\n",
      "25%       2004.000000\n",
      "50%       2005.000000\n",
      "75%       2007.000000\n",
      "max       2010.000000\n",
      "Name: VehYear, dtype: float64\n",
      "----------------------- COUNTS -----------------------\n",
      "Count List: \n",
      " 2006.0    9630\n",
      "2005.0    8682\n",
      "2007.0    6514\n",
      "2004.0    5792\n",
      "2008.0    4177\n",
      "2003.0    3554\n",
      "2002.0    1879\n",
      "2001.0     816\n",
      "2009.0     387\n",
      "2010.0       1\n",
      "Name: VehYear, dtype: int64\n",
      "Num of NULL:  44\n",
      "Number of ? : 0\n",
      "Number of #VALUE! : 0\n",
      "======================= Make =======================\n",
      "----------------------- FIRST FIVE -----------------------\n",
      "0        DODGE\n",
      "1        DODGE\n",
      "2     CHRYSLER\n",
      "3    CHEVROLET\n",
      "4        DODGE\n",
      "Name: Make, dtype: object\n",
      "----------------------- DESCIRBE -----------------------\n",
      "count         41432\n",
      "unique           30\n",
      "top       CHEVROLET\n",
      "freq           9548\n",
      "Name: Make, dtype: object\n",
      "----------------------- COUNTS -----------------------\n",
      "Count List: \n",
      " CHEVROLET     9548\n",
      "DODGE         7385\n",
      "FORD          6458\n",
      "CHRYSLER      5259\n",
      "PONTIAC       2355\n",
      "KIA           1337\n",
      "SATURN        1245\n",
      "NISSAN        1186\n",
      "JEEP           985\n",
      "HYUNDAI        957\n",
      "SUZUKI         842\n",
      "TOYOTA         664\n",
      "MITSUBISHI     569\n",
      "MAZDA          532\n",
      "MERCURY        527\n",
      "BUICK          413\n",
      "GMC            351\n",
      "HONDA          263\n",
      "OLDSMOBILE     146\n",
      "ISUZU           82\n",
      "SCION           77\n",
      "VOLKSWAGEN      73\n",
      "LINCOLN         54\n",
      "INFINITI        27\n",
      "ACURA           19\n",
      "MINI            19\n",
      "SUBARU          17\n",
      "CADILLAC        17\n",
      "LEXUS           13\n",
      "VOLVO           12\n",
      "Name: Make, dtype: int64\n",
      "Num of NULL:  44\n",
      "Number of ? : 0\n",
      "Number of #VALUE! : 0\n",
      "======================= Color =======================\n",
      "----------------------- FIRST FIVE -----------------------\n",
      "0       RED\n",
      "1       RED\n",
      "2    SILVER\n",
      "3       RED\n",
      "4    SILVER\n",
      "Name: Color, dtype: object\n",
      "----------------------- DESCIRBE -----------------------\n",
      "count      41432\n",
      "unique        17\n",
      "top       SILVER\n",
      "freq        8541\n",
      "Name: Color, dtype: object\n",
      "----------------------- COUNTS -----------------------\n",
      "Count List: \n",
      " SILVER       8541\n",
      "WHITE        6890\n",
      "BLUE         5855\n",
      "BLACK        4392\n",
      "GREY         4248\n",
      "RED          3661\n",
      "GOLD         3059\n",
      "GREEN        1796\n",
      "MAROON       1039\n",
      "BEIGE         894\n",
      "ORANGE        255\n",
      "BROWN         249\n",
      "PURPLE        205\n",
      "YELLOW        141\n",
      "OTHER         136\n",
      "NOT AVAIL      65\n",
      "?               6\n",
      "Name: Color, dtype: int64\n",
      "Num of NULL:  44\n",
      "Number of ? : 6\n",
      "Number of #VALUE! : 0\n",
      "======================= Transmission =======================\n",
      "----------------------- FIRST FIVE -----------------------\n",
      "0    AUTO\n",
      "1    AUTO\n",
      "2    AUTO\n",
      "3    AUTO\n",
      "4    AUTO\n",
      "Name: Transmission, dtype: object\n",
      "----------------------- DESCIRBE -----------------------\n",
      "count     41432\n",
      "unique        4\n",
      "top        AUTO\n",
      "freq      39930\n",
      "Name: Transmission, dtype: object\n",
      "----------------------- COUNTS -----------------------\n",
      "Count List: \n",
      " AUTO      39930\n",
      "MANUAL     1495\n",
      "?             6\n",
      "Manual        1\n",
      "Name: Transmission, dtype: int64\n",
      "Num of NULL:  44\n",
      "Number of ? : 6\n",
      "Number of #VALUE! : 0\n",
      "======================= WheelTypeID =======================\n",
      "----------------------- FIRST FIVE -----------------------\n",
      "0    2\n",
      "1    2\n",
      "2    2\n",
      "3    2\n",
      "4    2\n",
      "Name: WheelTypeID, dtype: object\n",
      "----------------------- DESCIRBE -----------------------\n",
      "count     41432\n",
      "unique        5\n",
      "top           1\n",
      "freq      20426\n",
      "Name: WheelTypeID, dtype: object\n",
      "----------------------- COUNTS -----------------------\n",
      "Count List: \n",
      " 1    20426\n",
      "2    18791\n",
      "?     1775\n",
      "3      437\n",
      "0        3\n",
      "Name: WheelTypeID, dtype: int64\n",
      "Num of NULL:  44\n",
      "Number of ? : 1775\n",
      "Number of #VALUE! : 0\n",
      "======================= WheelType =======================\n",
      "----------------------- FIRST FIVE -----------------------\n",
      "0    Covers\n",
      "1    Covers\n",
      "2    Covers\n",
      "3    Covers\n",
      "4    Covers\n",
      "Name: WheelType, dtype: object\n",
      "----------------------- DESCIRBE -----------------------\n",
      "count     41380\n",
      "unique        4\n",
      "top       Alloy\n",
      "freq      20406\n",
      "Name: WheelType, dtype: object\n",
      "----------------------- COUNTS -----------------------\n",
      "Count List: \n",
      " Alloy      20406\n",
      "Covers     18761\n",
      "?           1777\n",
      "Special      436\n",
      "Name: WheelType, dtype: int64\n",
      "Num of NULL:  96\n",
      "Number of ? : 1777\n",
      "Number of #VALUE! : 0\n",
      "======================= VehOdo =======================\n",
      "----------------------- FIRST FIVE -----------------------\n",
      "0    51099.0\n",
      "1    48542.0\n",
      "2    46318.0\n",
      "3    50413.0\n",
      "4    50199.0\n",
      "Name: VehOdo, dtype: float64\n",
      "----------------------- DESCIRBE -----------------------\n",
      "count     41432.000000\n",
      "mean      71300.010427\n",
      "std       14724.041171\n",
      "min         577.000000\n",
      "25%       61578.000000\n",
      "50%       73128.500000\n",
      "75%       82259.250000\n",
      "max      480444.000000\n",
      "Name: VehOdo, dtype: float64\n",
      "----------------------- COUNTS -----------------------\n",
      "Five Most Common:  [84675.0, 85884.0, 67464.0, 72101.0, 79600.0]\n",
      "Num of NULL:  44\n",
      "Number of ? : 0\n",
      "Number of #VALUE! : 0\n",
      "======================= Nationality =======================\n",
      "----------------------- FIRST FIVE -----------------------\n",
      "0    AMERICAN\n",
      "1    AMERICAN\n",
      "2    AMERICAN\n",
      "3    AMERICAN\n",
      "4    AMERICAN\n",
      "Name: Nationality, dtype: object\n",
      "----------------------- DESCIRBE -----------------------\n",
      "count        41432\n",
      "unique           6\n",
      "top       AMERICAN\n",
      "freq         34616\n",
      "Name: Nationality, dtype: object\n",
      "----------------------- COUNTS -----------------------\n",
      "Count List: \n",
      " AMERICAN          34616\n",
      "OTHER ASIAN        4474\n",
      "TOP LINE ASIAN     2110\n",
      "USA                 125\n",
      "OTHER               104\n",
      "?                     3\n",
      "Name: Nationality, dtype: int64\n",
      "Num of NULL:  44\n",
      "Number of ? : 3\n",
      "Number of #VALUE! : 0\n",
      "======================= Size =======================\n",
      "----------------------- FIRST FIVE -----------------------\n",
      "0     MEDIUM\n",
      "1     MEDIUM\n",
      "2     MEDIUM\n",
      "3    COMPACT\n",
      "4     MEDIUM\n",
      "Name: Size, dtype: object\n",
      "----------------------- DESCIRBE -----------------------\n",
      "count      41432\n",
      "unique        13\n",
      "top       MEDIUM\n",
      "freq       17540\n",
      "Name: Size, dtype: object\n",
      "----------------------- COUNTS -----------------------\n",
      "Count List: \n",
      " MEDIUM         17540\n",
      "LARGE           4968\n",
      "MEDIUM SUV      4569\n",
      "COMPACT         4035\n",
      "VAN             3367\n",
      "LARGE TRUCK     1897\n",
      "SMALL SUV       1332\n",
      "SPECIALTY        998\n",
      "CROSSOVER        974\n",
      "LARGE SUV        830\n",
      "SMALL TRUCK      494\n",
      "SPORTS           425\n",
      "?                  3\n",
      "Name: Size, dtype: int64\n",
      "Num of NULL:  44\n"
     ]
    },
    {
     "name": "stdout",
     "output_type": "stream",
     "text": [
      "Number of ? : 3\n",
      "Number of #VALUE! : 0\n",
      "======================= TopThreeAmericanName =======================\n",
      "----------------------- FIRST FIVE -----------------------\n",
      "0    CHRYSLER\n",
      "1    CHRYSLER\n",
      "2    CHRYSLER\n",
      "3          GM\n",
      "4    CHRYSLER\n",
      "Name: TopThreeAmericanName, dtype: object\n",
      "----------------------- DESCIRBE -----------------------\n",
      "count     41432\n",
      "unique        5\n",
      "top          GM\n",
      "freq      14075\n",
      "Name: TopThreeAmericanName, dtype: object\n",
      "----------------------- COUNTS -----------------------\n",
      "Count List: \n",
      " GM          14075\n",
      "CHRYSLER    13627\n",
      "FORD         7039\n",
      "OTHER        6688\n",
      "?               3\n",
      "Name: TopThreeAmericanName, dtype: int64\n",
      "Num of NULL:  44\n",
      "Number of ? : 3\n",
      "Number of #VALUE! : 0\n",
      "======================= MMRAcquisitionAuctionAveragePrice =======================\n",
      "----------------------- FIRST FIVE -----------------------\n",
      "0    8566\n",
      "1    8566\n",
      "2    8835\n",
      "3    7165\n",
      "4    8566\n",
      "Name: MMRAcquisitionAuctionAveragePrice, dtype: object\n",
      "----------------------- DESCIRBE -----------------------\n",
      "count     41416\n",
      "unique     9271\n",
      "top           0\n",
      "freq        502\n",
      "Name: MMRAcquisitionAuctionAveragePrice, dtype: object\n",
      "----------------------- COUNTS -----------------------\n",
      "Five Most Common:  ['0', '5480', '6311', '7811', '7644']\n",
      "Num of NULL:  60\n",
      "Number of ? : 7\n",
      "Number of #VALUE! : 0\n",
      "======================= MMRAcquisitionAuctionCleanPrice =======================\n",
      "----------------------- FIRST FIVE -----------------------\n",
      "0    9325\n",
      "1    9325\n",
      "2    9428\n",
      "3    7770\n",
      "4    9325\n",
      "Name: MMRAcquisitionAuctionCleanPrice, dtype: object\n",
      "----------------------- DESCIRBE -----------------------\n",
      "count     41429\n",
      "unique    10010\n",
      "top           0\n",
      "freq        415\n",
      "Name: MMRAcquisitionAuctionCleanPrice, dtype: object\n",
      "----------------------- COUNTS -----------------------\n",
      "Five Most Common:  ['0', '6461', '7450', '1', '8258']\n",
      "Num of NULL:  47\n",
      "Number of ? : 7\n",
      "Number of #VALUE! : 0\n",
      "======================= MMRAcquisitionRetailAveragePrice =======================\n",
      "----------------------- FIRST FIVE -----------------------\n",
      "0     9751\n",
      "1     9751\n",
      "2    10042\n",
      "3     8238\n",
      "4     9751\n",
      "Name: MMRAcquisitionRetailAveragePrice, dtype: object\n",
      "----------------------- DESCIRBE -----------------------\n",
      "count     41429\n",
      "unique    11070\n",
      "top           0\n",
      "freq        502\n",
      "Name: MMRAcquisitionRetailAveragePrice, dtype: object\n",
      "----------------------- COUNTS -----------------------\n",
      "Five Most Common:  ['0', '6418', '7316', '11114', '8756']\n",
      "Num of NULL:  47\n",
      "Number of ? : 7\n",
      "Number of #VALUE! : 0\n",
      "======================= MMRAcquisitonRetailCleanPrice =======================\n",
      "----------------------- FIRST FIVE -----------------------\n",
      "0    10571\n",
      "1    10571\n",
      "2    10682\n",
      "3     8892\n",
      "4    10571\n",
      "Name: MMRAcquisitonRetailCleanPrice, dtype: object\n",
      "----------------------- DESCIRBE -----------------------\n",
      "count     41327\n",
      "unique    11583\n",
      "top           0\n",
      "freq        501\n",
      "Name: MMRAcquisitonRetailCleanPrice, dtype: object\n",
      "----------------------- COUNTS -----------------------\n",
      "Five Most Common:  ['0', '7478', '8546', '11562', '10103']\n",
      "Num of NULL:  149\n",
      "Number of ? : 7\n",
      "Number of #VALUE! : 0\n",
      "======================= MMRCurrentAuctionAveragePrice =======================\n",
      "----------------------- FIRST FIVE -----------------------\n",
      "0    7781\n",
      "1    8568\n",
      "2    8137\n",
      "3    7074\n",
      "4    7857\n",
      "Name: MMRCurrentAuctionAveragePrice, dtype: object\n",
      "----------------------- DESCIRBE -----------------------\n",
      "count     41429\n",
      "unique     9183\n",
      "top           0\n",
      "freq        287\n",
      "Name: MMRCurrentAuctionAveragePrice, dtype: object\n",
      "----------------------- COUNTS -----------------------\n",
      "Five Most Common:  ['0', '?', '5480', '6311', '7269']\n",
      "Num of NULL:  47\n",
      "Number of ? : 184\n",
      "Number of #VALUE! : 0\n",
      "======================= MMRCurrentAuctionCleanPrice =======================\n",
      "----------------------- FIRST FIVE -----------------------\n",
      "0    8545\n",
      "1    9325\n",
      "2    8733\n",
      "3    7629\n",
      "4    8711\n",
      "Name: MMRCurrentAuctionCleanPrice, dtype: object\n",
      "----------------------- DESCIRBE -----------------------\n",
      "count     41429\n",
      "unique     9890\n",
      "top           0\n",
      "freq        206\n",
      "Name: MMRCurrentAuctionCleanPrice, dtype: object\n",
      "----------------------- COUNTS -----------------------\n",
      "Five Most Common:  ['0', '?', '6461', '1', '7450']\n",
      "Num of NULL:  47\n",
      "Number of ? : 184\n",
      "Number of #VALUE! : 0\n",
      "======================= MMRCurrentRetailAveragePrice =======================\n",
      "----------------------- FIRST FIVE -----------------------\n",
      "0    11777\n",
      "1     9753\n",
      "2     9288\n",
      "3     8140\n",
      "4     8986\n",
      "Name: MMRCurrentRetailAveragePrice, dtype: object\n",
      "----------------------- DESCIRBE -----------------------\n",
      "count     41409\n",
      "unique    10935\n",
      "top           0\n",
      "freq        287\n",
      "Name: MMRCurrentRetailAveragePrice, dtype: object\n",
      "----------------------- COUNTS -----------------------\n",
      "Five Most Common:  ['0', '?', '6418', '7316', '8756']\n",
      "Num of NULL:  67\n",
      "Number of ? : 184\n",
      "Number of #VALUE! : 0\n",
      "======================= MMRCurrentRetailCleanPrice =======================\n",
      "----------------------- FIRST FIVE -----------------------\n",
      "0    12505\n",
      "1    10571\n",
      "2     9932\n",
      "3     8739\n",
      "4     9908\n",
      "Name: MMRCurrentRetailCleanPrice, dtype: object\n",
      "----------------------- DESCIRBE -----------------------\n",
      "count     41409\n",
      "unique    11363\n",
      "top           0\n",
      "freq        287\n",
      "Name: MMRCurrentRetailCleanPrice, dtype: object\n",
      "----------------------- COUNTS -----------------------\n",
      "Five Most Common:  ['0', '?', '7478', '8546', '10103']\n",
      "Num of NULL:  67\n",
      "Number of ? : 184\n",
      "Number of #VALUE! : 0\n",
      "======================= MMRCurrentRetailRatio =======================\n",
      "----------------------- FIRST FIVE -----------------------\n",
      "0    0.941783287\n",
      "1    0.922618485\n",
      "2    0.935159082\n",
      "3    0.931456688\n",
      "4    0.906943884\n",
      "Name: MMRCurrentRetailRatio, dtype: object\n",
      "----------------------- DESCIRBE -----------------------\n",
      "count       41116\n",
      "unique      25870\n",
      "top       #VALUE!\n",
      "freq          178\n",
      "Name: MMRCurrentRetailRatio, dtype: object\n",
      "----------------------- COUNTS -----------------------\n",
      "Five Most Common:  ['#VALUE!', '0.858250869', '0.856073017', '0.866673265', '0.949268378']\n",
      "Num of NULL:  360\n",
      "Number of ? : 0\n",
      "Number of #VALUE! : 178\n",
      "======================= PRIMEUNIT =======================\n",
      "----------------------- FIRST FIVE -----------------------\n",
      "0    ?\n",
      "1    ?\n",
      "2    ?\n",
      "3    ?\n",
      "4    ?\n",
      "Name: PRIMEUNIT, dtype: object\n",
      "----------------------- DESCIRBE -----------------------\n",
      "count     41432\n",
      "unique        3\n",
      "top           ?\n",
      "freq      39634\n",
      "Name: PRIMEUNIT, dtype: object\n",
      "----------------------- COUNTS -----------------------\n",
      "Count List: \n",
      " ?      39634\n",
      "NO      1764\n",
      "YES       34\n",
      "Name: PRIMEUNIT, dtype: int64\n",
      "Num of NULL:  44\n",
      "Number of ? : 39634\n",
      "Number of #VALUE! : 0\n",
      "======================= AUCGUART =======================\n",
      "----------------------- FIRST FIVE -----------------------\n",
      "0    ?\n",
      "1    ?\n",
      "2    ?\n",
      "3    ?\n",
      "4    ?\n",
      "Name: AUCGUART, dtype: object\n",
      "----------------------- DESCIRBE -----------------------\n",
      "count     41432\n",
      "unique        3\n",
      "top           ?\n",
      "freq      39634\n",
      "Name: AUCGUART, dtype: object\n",
      "----------------------- COUNTS -----------------------\n",
      "Count List: \n",
      " ?        39634\n",
      "GREEN     1754\n",
      "RED         44\n",
      "Name: AUCGUART, dtype: int64\n",
      "Num of NULL:  44\n",
      "Number of ? : 39634\n",
      "Number of #VALUE! : 0\n",
      "======================= VNST =======================\n",
      "----------------------- FIRST FIVE -----------------------\n",
      "0    NC\n",
      "1    NC\n",
      "2    NC\n",
      "3    NC\n",
      "4    NC\n",
      "Name: VNST, dtype: object\n",
      "----------------------- DESCIRBE -----------------------\n",
      "count     41432\n",
      "unique       31\n",
      "top          TX\n",
      "freq       9076\n",
      "Name: VNST, dtype: object\n",
      "----------------------- COUNTS -----------------------\n",
      "Count List: \n",
      " TX    9076\n",
      "FL    5250\n",
      "CO    3623\n",
      "NC    3594\n",
      "AZ    3383\n",
      "CA    3268\n",
      "OK    2595\n",
      "SC    1662\n",
      "TN    1471\n",
      "GA    1287\n",
      "VA    1093\n",
      "MO     758\n",
      "PA     700\n",
      "NV     553\n",
      "IN     486\n",
      "MS     412\n",
      "LA     349\n",
      "NJ     317\n",
      "NM     239\n",
      "KY     230\n",
      "AL     179\n",
      "UT     165\n",
      "IL     165\n",
      "WV     137\n",
      "WA     136\n",
      "OR     136\n",
      "NH      97\n",
      "NE      26\n",
      "OH      25\n",
      "ID      14\n",
      "NY       6\n",
      "Name: VNST, dtype: int64\n",
      "Num of NULL:  44\n",
      "Number of ? : 0\n",
      "Number of #VALUE! : 0\n",
      "======================= VehBCost =======================\n",
      "----------------------- FIRST FIVE -----------------------\n",
      "0    7800\n",
      "1    7800\n",
      "2    7800\n",
      "3    6000\n",
      "4    7800\n",
      "Name: VehBCost, dtype: object\n",
      "----------------------- DESCIRBE -----------------------\n",
      "count     41432\n",
      "unique     1869\n",
      "top        7500\n",
      "freq        459\n",
      "Name: VehBCost, dtype: object\n",
      "----------------------- COUNTS -----------------------\n",
      "Five Most Common:  ['7500', '6500', '7800', '7200', '7000']\n",
      "Num of NULL:  44\n",
      "Number of ? : 29\n",
      "Number of #VALUE! : 0\n",
      "======================= IsOnlineSale =======================\n",
      "----------------------- FIRST FIVE -----------------------\n",
      "0    0\n",
      "1    0\n",
      "2    0\n",
      "3    0\n",
      "4    0\n",
      "Name: IsOnlineSale, dtype: object\n",
      "----------------------- DESCIRBE -----------------------\n",
      "count     41432.0\n",
      "unique        8.0\n",
      "top           0.0\n",
      "freq      31368.0\n",
      "Name: IsOnlineSale, dtype: float64\n",
      "----------------------- COUNTS -----------------------\n",
      "Count List: \n",
      " 0.0     31368\n",
      "0        8572\n",
      "1.0       753\n",
      "-1.0      601\n",
      "1         134\n",
      "?           2\n",
      "4.0         1\n",
      "2.0         1\n",
      "Name: IsOnlineSale, dtype: int64\n",
      "Num of NULL:  44\n",
      "Number of ? : 2\n",
      "Number of #VALUE! : 0\n",
      "======================= WarrantyCost =======================\n",
      "----------------------- FIRST FIVE -----------------------\n",
      "0    920.0\n",
      "1    834.0\n",
      "2    834.0\n",
      "3    671.0\n",
      "4    920.0\n",
      "Name: WarrantyCost, dtype: float64\n",
      "----------------------- DESCIRBE -----------------------\n",
      "count    41432.000000\n",
      "mean      1273.050758\n",
      "std        599.188662\n",
      "min        462.000000\n",
      "25%        834.000000\n",
      "50%       1155.000000\n",
      "75%       1623.000000\n",
      "max       7498.000000\n",
      "Name: WarrantyCost, dtype: float64\n",
      "----------------------- COUNTS -----------------------\n",
      "Five Most Common:  [920.0, 1974.0, 2152.0, 1215.0, 1389.0]\n",
      "Num of NULL:  44\n",
      "Number of ? : 0\n",
      "Number of #VALUE! : 0\n",
      "======================= ForSale =======================\n",
      "----------------------- FIRST FIVE -----------------------\n",
      "0    Yes\n",
      "1    Yes\n",
      "2    Yes\n",
      "3    Yes\n",
      "4    Yes\n",
      "Name: ForSale, dtype: object\n",
      "----------------------- DESCIRBE -----------------------\n",
      "count     41476\n",
      "unique        6\n",
      "top         Yes\n",
      "freq      27402\n",
      "Name: ForSale, dtype: object\n",
      "----------------------- COUNTS -----------------------\n",
      "Count List: \n",
      " Yes    27402\n",
      "YES     8544\n",
      "yes     5524\n",
      "?          3\n",
      "No         2\n",
      "0          1\n",
      "Name: ForSale, dtype: int64\n",
      "Num of NULL:  0\n",
      "Number of ? : 3\n",
      "Number of #VALUE! : 0\n",
      "======================= IsBadBuy =======================\n",
      "----------------------- FIRST FIVE -----------------------\n",
      "0    0\n",
      "1    0\n",
      "2    0\n",
      "3    0\n",
      "4    0\n",
      "Name: IsBadBuy, dtype: int64\n",
      "----------------------- DESCIRBE -----------------------\n",
      "count    41476.000000\n",
      "mean         0.129497\n",
      "std          0.335753\n",
      "min          0.000000\n",
      "25%          0.000000\n",
      "50%          0.000000\n",
      "75%          0.000000\n",
      "max          1.000000\n",
      "Name: IsBadBuy, dtype: float64\n",
      "----------------------- COUNTS -----------------------\n",
      "Count List: \n",
      " 0    36105\n",
      "1     5371\n",
      "Name: IsBadBuy, dtype: int64\n",
      "Num of NULL:  0\n",
      "Number of ? : 0\n",
      "Number of #VALUE! : 0\n"
     ]
    }
   ],
   "source": [
    "def printColumnInfo():\n",
    "    \n",
    "    '''\n",
    "    Display the information of this Dataframe\n",
    "    '''\n",
    "    \n",
    "    for colName in df.columns:\n",
    "        print(\"======================= \" + str(colName) + \" =======================\")\n",
    "        print(\"----------------------- FIRST FIVE -----------------------\")\n",
    "        print(df[colName][:5])\n",
    "        print(\"----------------------- DESCIRBE -----------------------\")\n",
    "        print(df[colName].describe())\n",
    "        print(\"----------------------- COUNTS -----------------------\")\n",
    "        commonList = list(df[colName].value_counts().keys())\n",
    "        if len(commonList) > 100:\n",
    "            print(\"Five Most Common: \", commonList[:5])\n",
    "        else:\n",
    "            print(\"Count List: \\n\", df[colName].value_counts())\n",
    "        print(\"Num of NULL: \", df[colName].isnull().sum())\n",
    "        for rep in replaced_vals:\n",
    "            print(\"Number of \"+str(rep)+\" : \" + str(len(df[df[colName] == rep])))\n",
    "printColumnInfo()"
   ]
  },
  {
   "cell_type": "code",
   "execution_count": 8,
   "metadata": {
    "scrolled": true
   },
   "outputs": [
    {
     "name": "stdout",
     "output_type": "stream",
     "text": [
      "Preprocess the col: Auction\n",
      "In the Column: Auction : 0, ?have been replaced by null\n",
      "Preprocess the col: VehYear\n",
      "Preprocess the col: Make\n",
      "Preprocess the col: Color\n",
      "In the Column: Color : 6, ?have been replaced by null\n",
      "Preprocess the col: Transmission\n",
      "In the Column: Transmission : 6, ?have been replaced by null\n",
      "Preprocess the col: WheelTypeID\n",
      "Preprocess the col: WheelType\n",
      "Preprocess the col: VehOdo\n",
      "Preprocess the col: Nationality\n",
      "In the Column: Nationality : 3, ?have been replaced by null\n",
      "Preprocess the col: Size\n",
      "In the Column: Size : 3, ?have been replaced by null\n",
      "Preprocess the col: TopThreeAmericanName\n",
      "In the Column: TopThreeAmericanName : 3, ?have been replaced by null\n",
      "Preprocess the col: MMRAcquisitionAuctionAveragePrice\n",
      "In the Column: MMRAcquisitionAuctionAveragePrice : 7, ?have been replaced by null\n",
      "Preprocess the col: MMRAcquisitionAuctionCleanPrice\n",
      "In the Column: MMRAcquisitionAuctionCleanPrice : 7, ?have been replaced by null\n",
      "Preprocess the col: MMRAcquisitionRetailAveragePrice\n",
      "In the Column: MMRAcquisitionRetailAveragePrice : 7, ?have been replaced by null\n",
      "Preprocess the col: MMRAcquisitonRetailCleanPrice\n",
      "In the Column: MMRAcquisitonRetailCleanPrice : 7, ?have been replaced by null\n",
      "Preprocess the col: MMRCurrentAuctionAveragePrice\n",
      "In the Column: MMRCurrentAuctionAveragePrice : 184, ?have been replaced by null\n",
      "In the Column: MMRCurrentAuctionAveragePrice : 0, #VALUE!have been replaced by null\n",
      "Preprocess the col: MMRCurrentAuctionCleanPrice\n",
      "In the Column: MMRCurrentAuctionCleanPrice : 184, ?have been replaced by null\n",
      "In the Column: MMRCurrentAuctionCleanPrice : 0, #VALUE!have been replaced by null\n",
      "Preprocess the col: MMRCurrentRetailAveragePrice\n",
      "In the Column: MMRCurrentRetailAveragePrice : 184, ?have been replaced by null\n",
      "In the Column: MMRCurrentRetailAveragePrice : 0, #VALUE!have been replaced by null\n",
      "Preprocess the col: MMRCurrentRetailCleanPrice\n",
      "In the Column: MMRCurrentRetailCleanPrice : 184, ?have been replaced by null\n",
      "In the Column: MMRCurrentRetailCleanPrice : 0, #VALUE!have been replaced by null\n",
      "Preprocess the col: MMRCurrentRetailRatio\n",
      "In the Column: MMRCurrentRetailRatio : 0, ?have been replaced by null\n",
      "In the Column: MMRCurrentRetailRatio : 178, #VALUE!have been replaced by null\n",
      "Preprocess the col: PRIMEUNIT\n",
      "Preprocess the col: AUCGUART\n",
      "Preprocess the col: VNST\n",
      "Preprocess the col: VehBCost\n",
      "In the Column: VehBCost : 29, ?have been replaced by null\n",
      "Preprocess the col: IsOnlineSale\n",
      "In the Column: IsOnlineSale : 2, ?have been replaced by null\n",
      "In the Column: IsOnlineSale : 1, 2.0have been replaced by null\n",
      "In the Column: IsOnlineSale : 1, 4.0have been replaced by null\n",
      "Preprocess the col: WarrantyCost\n",
      "Preprocess the col: ForSale\n",
      "In the Column: ForSale : 3, ?have been replaced by null\n",
      "In the Column: ForSale : 0, 0have been replaced by null\n",
      "Preprocess the col: IsBadBuy\n"
     ]
    }
   ],
   "source": [
    "if NEW_STATEGY:\n",
    "\n",
    "    class filling_method():\n",
    "        MOST_COMMON = \"MOST_COMMON\"\n",
    "        MEAN = \"MEAN\"\n",
    "        CERTAIN_VALUE = \"CERTAIN_VALUE\"\n",
    "\n",
    "    def replaceFunc(colName):\n",
    "        for replaced, target in preprocessStrategy[colName]['replace_pairs']:\n",
    "            df[colName].replace(replaced, target, inplace=True)\n",
    "\n",
    "    def removeOutlier(colName):  # FOR THE INTERVAL ONLY\n",
    "        global df\n",
    "        df = df[df[colName] < df[colName].quantile(0.999)]\n",
    "\n",
    "    def replacingValueCol(colName):\n",
    "        for replaced in preprocessStrategy[colName]['replaced_vals']:\n",
    "            print(\"In the Column: \" + str(colName) + \" : \" + str(len(\n",
    "                df[df[colName] == replaced])) + \", \" + str(replaced) + \"have been replaced by null\")\n",
    "            # Replacing the null in this process #Inplacing for saving the memory\n",
    "            df[colName].replace(replaced, float('nan'), inplace=True)\n",
    "\n",
    "    def loweringCol(colName):\n",
    "        df[colName] = df[colName].str.lower()\n",
    "\n",
    "    def fillingTheNullValue(colName):  # method can be [\"MEAN\", \"MOST_COMMON\"]\n",
    "        if preprocessStrategy[colName]['filling_method'] == filling_method.MEAN:\n",
    "            df[colName] = df[colName].astype('float')\n",
    "            df[colName].fillna(df[colName].astype(\n",
    "                'float').mean(), inplace=True)\n",
    "        elif preprocessStrategy[colName]['filling_method'] == filling_method.MOST_COMMON:\n",
    "            df[colName] = df[colName].astype('category')\n",
    "            df[colName].fillna(df[colName].astype(\n",
    "                'category').describe()['top'], inplace=True)\n",
    "        elif preprocessStrategy[colName]['filling_method'] == filling_method.CERTAIN_VALUE:\n",
    "            df[colName] = df[colName].astype('category')\n",
    "            df[colName] = df[colName].cat.add_categories(\n",
    "                [preprocessStrategy[colName]['filling_value']])\n",
    "            df[colName].fillna(preprocessStrategy[colName]\n",
    "                               ['filling_value'], inplace=True)\n",
    "\n",
    "    def filterOutRareValue(colName):\n",
    "\n",
    "        def checkingKeepValue(v, savingValues):\n",
    "            if v in savingValues:\n",
    "                return v\n",
    "            return \"LESS_FREQ\"\n",
    "\n",
    "        k = [v for v in df[colName].value_counts().values if v >\n",
    "             preprocessStrategy[colName]['min_freq']]\n",
    "        savingValues = df[colName].value_counts().keys()[:len(k)]\n",
    "\n",
    "        df[colName] = [checkingKeepValue(v, savingValues) for v in df[colName]]\n",
    "\n",
    "    def changeToType(colName):\n",
    "        df[colName] = df[colName].astype(\n",
    "            preprocessStrategy[colName]['changeToType'])\n",
    "\n",
    "    def newData_prep(df):\n",
    "        '''\n",
    "        For Preprocessing through the whole dictionary\n",
    "        '''\n",
    "        df.drop(drop_cols, axis=1, inplace=True)\n",
    "\n",
    "        for colName in df.columns:  # df.columns:\n",
    "\n",
    "            print(\"Preprocess the col: \" + colName)\n",
    "\n",
    "            for stra in preprocessStrategy[colName]['strategies']:\n",
    "                if not stra:\n",
    "                    continue\n",
    "                stra(colName)\n",
    "\n",
    "        if not using_cat:\n",
    "            df['MMRCurrentRetailRatio'] = df['MMRCurrentRetailAveragePrice'] / \\\n",
    "                (df['MMRCurrentRetailCleanPrice']+1e-8)  # Prvent divided by 0\n",
    "\n",
    "        return df\n",
    "\n",
    "    preprocessStrategy = defaultdict(dict)\n",
    "\n",
    "    preprocessStrategy['Auction'] = {\n",
    "        \"strategies\":\n",
    "            [\n",
    "                replacingValueCol,\n",
    "                loweringCol,\n",
    "                fillingTheNullValue,\n",
    "            ],\n",
    "        \"replaced_vals\": ['?'],\n",
    "        \"filling_method\": filling_method.MOST_COMMON\n",
    "    }\n",
    "\n",
    "    preprocessStrategy['VehYear'] = {\n",
    "        \"strategies\":\n",
    "            [\n",
    "                fillingTheNullValue,\n",
    "            ],\n",
    "        \"filling_method\": filling_method.CERTAIN_VALUE,\n",
    "        \"filling_value\": \"UNKNOWN_VALUE\"\n",
    "    }\n",
    "\n",
    "    preprocessStrategy['Make'] = {\n",
    "        \"strategies\":\n",
    "            [\n",
    "                loweringCol,\n",
    "                fillingTheNullValue,\n",
    "            ],\n",
    "        \"filling_method\": filling_method.MOST_COMMON\n",
    "    }\n",
    "\n",
    "    preprocessStrategy['Color'] = {\n",
    "        \"strategies\":\n",
    "            [\n",
    "                loweringCol,\n",
    "                replacingValueCol,\n",
    "                fillingTheNullValue,\n",
    "            ],\n",
    "        \"replaced_vals\": ['?'],\n",
    "        \"filling_method\": filling_method.MOST_COMMON\n",
    "    }\n",
    "\n",
    "    preprocessStrategy['Transmission'] = {\n",
    "        \"strategies\":\n",
    "            [\n",
    "                loweringCol,\n",
    "                replacingValueCol,\n",
    "                fillingTheNullValue,\n",
    "            ],\n",
    "        \"replaced_vals\": ['?'],\n",
    "        \"filling_method\": filling_method.MOST_COMMON\n",
    "    }\n",
    "\n",
    "    preprocessStrategy['WheelTypeID'] = {\n",
    "        \"strategies\":\n",
    "            [\n",
    "                fillingTheNullValue,\n",
    "            ],\n",
    "        \"filling_method\": filling_method.MOST_COMMON\n",
    "    }\n",
    "\n",
    "    preprocessStrategy['WheelType'] = {\n",
    "        \"strategies\":\n",
    "            [\n",
    "                loweringCol,\n",
    "                fillingTheNullValue,\n",
    "            ],\n",
    "        \"filling_method\": filling_method.MOST_COMMON\n",
    "    }\n",
    "\n",
    "    preprocessStrategy['VehOdo'] = {\n",
    "        \"strategies\":\n",
    "            [\n",
    "                fillingTheNullValue,\n",
    "            ],\n",
    "        \"filling_method\": filling_method.MEAN\n",
    "    }\n",
    "\n",
    "    preprocessStrategy['Nationality'] = {  # Should I merge USA with AMERICAN?\n",
    "        \"strategies\":\n",
    "            [\n",
    "                replaceFunc,\n",
    "                loweringCol,\n",
    "                replacingValueCol,\n",
    "                fillingTheNullValue,\n",
    "            ],\n",
    "        \"replaced_vals\": ['?'],\n",
    "        \"filling_method\": filling_method.MOST_COMMON,\n",
    "        \"replace_pairs\": [(\"USA\", \"AMERICAN\")]\n",
    "\n",
    "    }\n",
    "\n",
    "    preprocessStrategy['Size'] = {\n",
    "        \"strategies\":\n",
    "            [\n",
    "                loweringCol,\n",
    "                replacingValueCol,\n",
    "                fillingTheNullValue,\n",
    "            ],\n",
    "        \"replaced_vals\": ['?'],\n",
    "        \"filling_method\": filling_method.MOST_COMMON\n",
    "\n",
    "    }\n",
    "\n",
    "    preprocessStrategy['TopThreeAmericanName'] = {\n",
    "        \"strategies\":\n",
    "            [\n",
    "                loweringCol,\n",
    "                replacingValueCol,\n",
    "                fillingTheNullValue,\n",
    "            ],\n",
    "        \"replaced_vals\": ['?'],\n",
    "        \"filling_method\": filling_method.MOST_COMMON\n",
    "    }\n",
    "\n",
    "    preprocessStrategy['TopThreeAmericanName'] = {\n",
    "        \"strategies\":\n",
    "            [\n",
    "                loweringCol,\n",
    "                replacingValueCol,\n",
    "                fillingTheNullValue,\n",
    "            ],\n",
    "        \"replaced_vals\": ['?'],\n",
    "        \"filling_method\": filling_method.MOST_COMMON\n",
    "    }\n",
    "\n",
    "    preprocessStrategy['MMRAcquisitionAuctionAveragePrice'] = {\n",
    "        \"strategies\":\n",
    "            [\n",
    "                replacingValueCol,\n",
    "                fillingTheNullValue,\n",
    "            ],\n",
    "        \"replaced_vals\": ['?'],\n",
    "        \"filling_method\": filling_method.MEAN\n",
    "    }\n",
    "\n",
    "    preprocessStrategy['MMRAcquisitionAuctionCleanPrice'] = {\n",
    "        \"strategies\":\n",
    "            [\n",
    "                replacingValueCol,\n",
    "                fillingTheNullValue,\n",
    "            ],\n",
    "        \"replaced_vals\": ['?'],\n",
    "        \"filling_method\": filling_method.MEAN\n",
    "    }\n",
    "\n",
    "    preprocessStrategy['MMRAcquisitionRetailAveragePrice'] = {\n",
    "        \"strategies\":\n",
    "            [\n",
    "                replacingValueCol,\n",
    "                fillingTheNullValue,\n",
    "            ],\n",
    "        \"replaced_vals\": ['?'],\n",
    "        \"filling_method\": filling_method.MEAN\n",
    "    }\n",
    "\n",
    "    preprocessStrategy['MMRAcquisitonRetailCleanPrice'] = {\n",
    "        \"strategies\":\n",
    "            [\n",
    "                replacingValueCol,\n",
    "                fillingTheNullValue,\n",
    "            ],\n",
    "        \"replaced_vals\": ['?'],\n",
    "        \"filling_method\": filling_method.MEAN\n",
    "    }\n",
    "\n",
    "    ###############################################################\n",
    "\n",
    "    int_stra = {\n",
    "        \"strategies\":\n",
    "            [\n",
    "                replacingValueCol,\n",
    "                fillingTheNullValue,\n",
    "            ],\n",
    "        \"replaced_vals\": ['?', '#VALUE!'],  # GOT 184 '?'\n",
    "        \"filling_method\": filling_method.MEAN,\n",
    "    }\n",
    "\n",
    "    cat_stra = {  # HOW DO WE DEAL WITH ? in this column\n",
    "        \"strategies\":\n",
    "            [\n",
    "                filterOutRareValue,\n",
    "                fillingTheNullValue,\n",
    "            ],\n",
    "        #     \"replaced_vals\": ['?'], # GOT 184 '?'\n",
    "        \"filling_method\": filling_method.CERTAIN_VALUE,\n",
    "        \"filling_value\": 'NULL',\n",
    "        \"min_freq\": 50\n",
    "    }\n",
    "\n",
    "    preprocessStrategy['MMRCurrentAuctionAveragePrice'] \\\n",
    "        = preprocessStrategy['MMRCurrentAuctionCleanPrice'] \\\n",
    "        = preprocessStrategy['MMRCurrentRetailAveragePrice'] \\\n",
    "        = preprocessStrategy['MMRCurrentRetailCleanPrice'] \\\n",
    "        = preprocessStrategy['MMRCurrentRetailRatio'] \\\n",
    "        = cat_stra if using_cat else int_stra\n",
    "\n",
    "    ###############################################################\n",
    "\n",
    "    preprocessStrategy['PRIMEUNIT'] = {  # HOW DO WE DEAL WITH ? in this column\n",
    "        \"strategies\":\n",
    "            [\n",
    "                loweringCol,\n",
    "                fillingTheNullValue,\n",
    "            ],\n",
    "        #     \"replaced_vals\": ['?'], # GOT 184 '?'\n",
    "        \"filling_method\": filling_method.CERTAIN_VALUE,\n",
    "        \"filling_value\": 'NULL',\n",
    "    }\n",
    "\n",
    "    preprocessStrategy['AUCGUART'] = {  # HOW DO WE DEAL WITH ? in this column\n",
    "        \"strategies\":\n",
    "            [\n",
    "                loweringCol,\n",
    "                fillingTheNullValue,\n",
    "            ],\n",
    "        #     \"replaced_vals\": ['?'], # GOT 184 '?'\n",
    "        \"filling_method\": filling_method.CERTAIN_VALUE,\n",
    "        \"filling_value\": 'NULL',\n",
    "    }\n",
    "\n",
    "    preprocessStrategy['VNST'] = {  # HOW DO WE DEAL WITH ? in this column\n",
    "        \"strategies\":\n",
    "            [\n",
    "                loweringCol,\n",
    "                fillingTheNullValue,\n",
    "            ],\n",
    "        #     \"replaced_vals\": ['?'], # GOT 184 '?'\n",
    "        \"filling_method\": filling_method.CERTAIN_VALUE,\n",
    "        \"filling_value\": 'NULL',\n",
    "    }\n",
    "\n",
    "    preprocessStrategy['VehBCost'] = {  # HOW DO WE DEAL WITH ? in this column\n",
    "        \"strategies\":\n",
    "            [\n",
    "                replacingValueCol,\n",
    "\n",
    "                fillingTheNullValue,\n",
    "            ],\n",
    "        \"replaced_vals\": ['?'],  # GOT 184 '?'\n",
    "        \"filling_method\": filling_method.MEAN\n",
    "    }\n",
    "\n",
    "    preprocessStrategy['IsOnlineSale'] = {  # HOW DO WE DEAL WITH ? in this column\n",
    "        \"strategies\":\n",
    "            [\n",
    "                replacingValueCol,\n",
    "                changeToType,\n",
    "                fillingTheNullValue,\n",
    "            ],\n",
    "        \"replaced_vals\": ['?', 2.0, 4.0],  # GOT 184 '?'\n",
    "        \"filling_method\": filling_method.MOST_COMMON,\n",
    "        \"changeToType\": 'float'\n",
    "    }\n",
    "\n",
    "    preprocessStrategy['WarrantyCost'] = {  # HOW DO WE DEAL WITH ? in this column\n",
    "        \"strategies\":\n",
    "            [\n",
    "                fillingTheNullValue,\n",
    "            ],\n",
    "        \"replaced_vals\": ['?'],  # GOT 184 '?'\n",
    "        \"filling_method\": filling_method.MEAN,\n",
    "    }\n",
    "\n",
    "    preprocessStrategy['ForSale'] = {  # HOW DO WE DEAL WITH ? in this column\n",
    "        \"strategies\":\n",
    "            [\n",
    "                loweringCol,\n",
    "                replacingValueCol,\n",
    "                fillingTheNullValue,\n",
    "            ],\n",
    "        \"replaced_vals\": ['?', 0],  # GOT 184 '?'\n",
    "        \"filling_method\": filling_method.MOST_COMMON,\n",
    "    }\n",
    "\n",
    "    # HOW DO WE DEAL WITH ? in this column\n",
    "    preprocessStrategy['IsBadBuy'] = {\"strategies\": [None]}\n",
    "\n",
    "    newData_prep(df)\n",
    "\n",
    "\n",
    "else:\n",
    "\n",
    "    def data_prep(df):\n",
    "        '''\n",
    "        For Preprocessing the Data (OLD_METHOD)\n",
    "        '''\n",
    "\n",
    "        # Check the replaced values are not in the dataset\n",
    "\n",
    "        for colName in df.columns:\n",
    "\n",
    "            if colName in categorial_cols:\n",
    "\n",
    "                if colName == \"IsOnlineSale\":\n",
    "                    df[colName] = df[colName].astype(\n",
    "                        'float').astype('category')\n",
    "                    df[colName].fillna(df[colName].astype(\n",
    "                        'category').describe()['top'], inplace=True)\n",
    "\n",
    "                # Try to lower the data if the data type is string\n",
    "                try:\n",
    "                    df[colName] = df[colName].str.lower()\n",
    "                except:\n",
    "                    print(colName, \" can't be lowered\")\n",
    "\n",
    "                for replaced in replaced_vals:\n",
    "                    print(\"In the Column: \" + str(colName) + \": \" +\n",
    "                          str(len(df[df[colName] == replaced])) + \" -> \" + str(replaced))\n",
    "                    df[colName].replace(replaced, float('nan'), inplace=True)\n",
    "\n",
    "                df[colName] = df[colName].astype('category')\n",
    "\n",
    "                # Replacing the null by the most common category\n",
    "                df[colName].fillna(df[colName].astype(\n",
    "                    'category').describe()['top'], inplace=True)\n",
    "\n",
    "            if colName in interval_cols:\n",
    "\n",
    "                if colName == \"MMRCurrentRetailRatio\":  # Dealing with this calculated value at the last\n",
    "                    continue\n",
    "\n",
    "                for replaced in replaced_vals:\n",
    "                    print(\"In the Column: \" + str(colName) + \": \" +\n",
    "                          str(len(df[df[colName] == replaced])) + \" -> \" + str(replaced))\n",
    "                    df[colName].replace(replaced, float('nan'), inplace=True)\n",
    "\n",
    "                df[colName] = df[colName].astype('float')\n",
    "\n",
    "                # Removing outlier\n",
    "                df = df[df[colName] < df[colName].quantile(0.999)]\n",
    "\n",
    "                # Replacing the null by the mean\n",
    "                df[colName].fillna(df[colName].astype(\n",
    "                    'float').mean(), inplace=True)\n",
    "\n",
    "        df['MMRCurrentRetailRatio'] = df['MMRCurrentRetailAveragePrice'] / \\\n",
    "            (df['MMRCurrentRetailCleanPrice']+1e-8)  # Prvent divided by 0\n",
    "\n",
    "        df.drop(drop_cols, axis=1, inplace=True)\n",
    "\n",
    "        return df\n",
    "\n",
    "    df = data_prep(df)\n"
   ]
  },
  {
   "cell_type": "markdown",
   "metadata": {},
   "source": [
    "### 3. Can you identify any clear patterns by initial exploration of the data using histogram or box plot?"
   ]
  },
  {
   "cell_type": "code",
   "execution_count": 9,
   "metadata": {},
   "outputs": [],
   "source": [
    "def plotAllCols (df):\n",
    "    for colName in df.columns:\n",
    "        plt.figure(figsize=(20,10))\n",
    "        if colName in categorial_cols:\n",
    "            ### if it's categorial column, plot hist diagram \n",
    "            sns.countplot(x=colName, data = df, hue=\"IsBadBuy\")\n",
    "        elif colName in interval_cols:\n",
    "            ### if it's interval column, plot box diagram\n",
    "            sns.boxplot(x=\"IsBadBuy\", y=colName, data = df )"
   ]
  },
  {
   "cell_type": "code",
   "execution_count": 10,
   "metadata": {},
   "outputs": [
    {
     "data": {
      "image/png": "[encoded data removed]",
      "text/plain": [
       "<Figure size 1440x720 with 1 Axes>"
      ]
     },
     "metadata": {
      "needs_background": "light"
     },
     "output_type": "display_data"
    },
    {
     "data": {
      "image/png": "[encoded data removed]",
      "text/plain": [
       "<Figure size 1440x720 with 1 Axes>"
      ]
     },
     "metadata": {
      "needs_background": "light"
     },
     "output_type": "display_data"
    },
    {
     "data": {
      "image/png": "[encoded data removed]",
      "text/plain": [
       "<Figure size 1440x720 with 1 Axes>"
      ]
     },
     "metadata": {
      "needs_background": "light"
     },
     "output_type": "display_data"
    },
    {
     "data": {
      "image/png": "[encoded data removed]",
      "text/plain": [
       "<Figure size 1440x720 with 1 Axes>"
      ]
     },
     "metadata": {
      "needs_background": "light"
     },
     "output_type": "display_data"
    },
    {
     "data": {
      "image/png": "[encoded data removed]",
      "text/plain": [
       "<Figure size 1440x720 with 1 Axes>"
      ]
     },
     "metadata": {
      "needs_background": "light"
     },
     "output_type": "display_data"
    },
    {
     "data": {
      "image/png": "[encoded data removed]",
      "text/plain": [
       "<Figure size 1440x720 with 1 Axes>"
      ]
     },
     "metadata": {
      "needs_background": "light"
     },
     "output_type": "display_data"
    },
    {
     "data": {
      "image/png": "[encoded data removed]",
      "text/plain": [
       "<Figure size 1440x720 with 1 Axes>"
      ]
     },
     "metadata": {
      "needs_background": "light"
     },
     "output_type": "display_data"
    },
    {
     "data": {
      "image/png": "[encoded data removed]",
      "text/plain": [
       "<Figure size 1440x720 with 1 Axes>"
      ]
     },
     "metadata": {
      "needs_background": "light"
     },
     "output_type": "display_data"
    },
    {
     "data": {
      "image/png": "[encoded data removed]",
      "text/plain": [
       "<Figure size 1440x720 with 1 Axes>"
      ]
     },
     "metadata": {
      "needs_background": "light"
     },
     "output_type": "display_data"
    },
    {
     "data": {
      "image/png": "[encoded data removed]",
      "text/plain": [
       "<Figure size 1440x720 with 1 Axes>"
      ]
     },
     "metadata": {
      "needs_background": "light"
     },
     "output_type": "display_data"
    },
    {
     "data": {
      "image/png": "[encoded data removed]",
      "text/plain": [
       "<Figure size 1440x720 with 1 Axes>"
      ]
     },
     "metadata": {
      "needs_background": "light"
     },
     "output_type": "display_data"
    },
    {
     "data": {
      "image/png": "[encoded data removed]",
      "text/plain": [
       "<Figure size 1440x720 with 1 Axes>"
      ]
     },
     "metadata": {
      "needs_background": "light"
     },
     "output_type": "display_data"
    },
    {
     "data": {
      "image/png": "[encoded data removed]",
      "text/plain": [
       "<Figure size 1440x720 with 1 Axes>"
      ]
     },
     "metadata": {
      "needs_background": "light"
     },
     "output_type": "display_data"
    },
    {
     "data": {
      "image/png": "[encoded data removed]",
      "text/plain": [
       "<Figure size 1440x720 with 1 Axes>"
      ]
     },
     "metadata": {
      "needs_background": "light"
     },
     "output_type": "display_data"
    },
    {
     "data": {
      "image/png": "[encoded data removed]",
      "text/plain": [
       "<Figure size 1440x720 with 1 Axes>"
      ]
     },
     "metadata": {
      "needs_background": "light"
     },
     "output_type": "display_data"
    },
    {
     "data": {
      "image/png": "[encoded data removed]",
      "text/plain": [
       "<Figure size 1440x720 with 1 Axes>"
      ]
     },
     "metadata": {
      "needs_background": "light"
     },
     "output_type": "display_data"
    },
    {
     "data": {
      "image/png": "[encoded data removed]",
      "text/plain": [
       "<Figure size 1440x720 with 1 Axes>"
      ]
     },
     "metadata": {
      "needs_background": "light"
     },
     "output_type": "display_data"
    },
    {
     "data": {
      "image/png": "[encoded data removed]",
      "text/plain": [
       "<Figure size 1440x720 with 1 Axes>"
      ]
     },
     "metadata": {
      "needs_background": "light"
     },
     "output_type": "display_data"
    },
    {
     "data": {
      "image/png": "[encoded data removed]",
      "text/plain": [
       "<Figure size 1440x720 with 1 Axes>"
      ]
     },
     "metadata": {
      "needs_background": "light"
     },
     "output_type": "display_data"
    },
    {
     "data": {
      "image/png": "[encoded data removed]",
      "text/plain": [
       "<Figure size 1440x720 with 1 Axes>"
      ]
     },
     "metadata": {
      "needs_background": "light"
     },
     "output_type": "display_data"
    },
    {
     "data": {
      "image/png": "[encoded data removed]",
      "text/plain": [
       "<Figure size 1440x720 with 1 Axes>"
      ]
     },
     "metadata": {
      "needs_background": "light"
     },
     "output_type": "display_data"
    },
    {
     "data": {
      "image/png": "[encoded data removed]",
      "text/plain": [
       "<Figure size 1440x720 with 1 Axes>"
      ]
     },
     "metadata": {
      "needs_background": "light"
     },
     "output_type": "display_data"
    },
    {
     "data": {
      "image/png": "[encoded data removed]",
      "text/plain": [
       "<Figure size 1440x720 with 1 Axes>"
      ]
     },
     "metadata": {
      "needs_background": "light"
     },
     "output_type": "display_data"
    },
    {
     "data": {
      "image/png": "[encoded data removed]",
      "text/plain": [
       "<Figure size 1440x720 with 1 Axes>"
      ]
     },
     "metadata": {
      "needs_background": "light"
     },
     "output_type": "display_data"
    },
    {
     "data": {
      "image/png": "[encoded data removed]",
      "text/plain": [
       "<Figure size 1440x720 with 1 Axes>"
      ]
     },
     "metadata": {
      "needs_background": "light"
     },
     "output_type": "display_data"
    },
    {
     "data": {
      "image/png": "[encoded data removed]",
      "text/plain": [
       "<Figure size 1440x720 with 1 Axes>"
      ]
     },
     "metadata": {
      "needs_background": "light"
     },
     "output_type": "display_data"
    },
    {
     "data": {
      "image/png": "[encoded data removed]",
      "text/plain": [
       "<Figure size 1440x720 with 1 Axes>"
      ]
     },
     "metadata": {
      "needs_background": "light"
     },
     "output_type": "display_data"
    },
    {
     "data": {
      "text/plain": [
       "<Figure size 1440x720 with 0 Axes>"
      ]
     },
     "metadata": {},
     "output_type": "display_data"
    }
   ],
   "source": [
    "plotAllCols(df)"
   ]
  },
  {
   "cell_type": "markdown",
   "metadata": {},
   "source": [
    "### 4. What variables did you include in the analysis and what were their roles and measurement level set? Justify your choice"
   ]
  },
  {
   "cell_type": "code",
   "execution_count": null,
   "metadata": {},
   "outputs": [],
   "source": []
  },
  {
   "cell_type": "markdown",
   "metadata": {},
   "source": [
    "### 5. What distribution scheme did you use? What data partitioning allocation did you set? Explain your selection. "
   ]
  },
  {
   "cell_type": "code",
   "execution_count": 11,
   "metadata": {
    "scrolled": true
   },
   "outputs": [
    {
     "name": "stdout",
     "output_type": "stream",
     "text": [
      "Num of Features: 149\n",
      "Using ROS Resmapling\n"
     ]
    }
   ],
   "source": [
    "# Change to the dummy \n",
    "\n",
    "df = pd.get_dummies(df)\n",
    "\n",
    "feature_names = df.drop(\"IsBadBuy\", axis=1).columns\n",
    "print(\"Num of Features:\", len(feature_names))\n",
    "\n",
    "### Split to the training and test set. \n",
    "#  The test size is 3%\n",
    "\n",
    "# y = df['IsBadBuy']\n",
    "# X = df.drop(['IsBadBuy'], axis=1)\n",
    "# X_mat = X.as_matrix()\n",
    "\n",
    "# X_train, X_test, y_train, y_test = train_test_split(X_mat, y, test_size=0.3, stratify=y, random_state=rs)\n",
    "\n",
    "X_train, X_test, y_train, y_test = train_test_split(df.drop(\"IsBadBuy\", axis=1), df['IsBadBuy'], test_size=0.3, stratify=df['IsBadBuy'], random_state=rs)\n",
    "\n",
    "if ResamplingMethod == 'ros':\n",
    "    print(\"Using ROS Resmapling\")\n",
    "    ros = RandomOverSampler(random_state=rs)\n",
    "    X_train, y_train = ros.fit_resample(X_train, y_train)\n",
    "elif  ResamplingMethod == 'rus':\n",
    "    print(\"Using RUS Resmapling\")\n",
    "    rus = RandomUnderSampler(random_state=rs)\n",
    "    X_train, y_train = rus.fit_resample(X_train, y_train)\n",
    "else:\n",
    "    print(\"No Resampling Method Used\")"
   ]
  },
  {
   "cell_type": "code",
   "execution_count": 12,
   "metadata": {},
   "outputs": [
    {
     "name": "stdout",
     "output_type": "stream",
     "text": [
      "Number of Training:  50546\n",
      "Number of Test:  12443\n"
     ]
    }
   ],
   "source": [
    "print(\"Number of Training: \", len(X_train))\n",
    "print(\"Number of Test: \", len(X_test) )"
   ]
  },
  {
   "cell_type": "markdown",
   "metadata": {},
   "source": [
    "# Task 2. Predictive Modeling Using Decision Trees "
   ]
  },
  {
   "cell_type": "markdown",
   "metadata": {},
   "source": [
    "## 1. Python: Build a decision tree using the default setting. "
   ]
  },
  {
   "cell_type": "code",
   "execution_count": 13,
   "metadata": {},
   "outputs": [],
   "source": [
    "def printLRTopImportant(model, top = 5):\n",
    "    \n",
    "    coef = model.coef_[0]\n",
    "    indices = np.argsort(np.absolute(coef))\n",
    "    indices = np.flip(indices, axis=0)\n",
    "    indices = indices[:top]\n",
    "    for i in indices:\n",
    "        print(feature_names[i], ':', coef[i])\n",
    "\n",
    "def analyse_feature_importance(dm_model, feature_names, n_to_display=20):\n",
    "    # grab feature importances from the model\n",
    "    importances = dm_model.feature_importances_\n",
    "    \n",
    "    # sort them out in descending order\n",
    "    indices = np.argsort(importances)\n",
    "    indices = np.flip(indices, axis=0)\n",
    "\n",
    "    # limit to 20 features, you can leave this out to print out everything\n",
    "    indices = indices[:n_to_display]\n",
    "\n",
    "    for i in indices:\n",
    "        print(feature_names[i], ':', importances[i])\n",
    "\n",
    "def visualize_decision_tree(dm_model, feature_names, save_name):\n",
    "    dotfile = StringIO()\n",
    "    export_graphviz(dm_model, out_file=dotfile, feature_names=feature_names)\n",
    "    graph = pydot.graph_from_dot_data(dotfile.getvalue())\n",
    "    graph[0].write_png(save_name) # saved in the following file\n"
   ]
  },
  {
   "cell_type": "code",
   "execution_count": 14,
   "metadata": {},
   "outputs": [
    {
     "data": {
      "text/plain": [
       "DecisionTreeClassifier(class_weight=None, criterion='gini', max_depth=None,\n",
       "            max_features=None, max_leaf_nodes=None,\n",
       "            min_impurity_decrease=0.0, min_impurity_split=None,\n",
       "            min_samples_leaf=1, min_samples_split=2,\n",
       "            min_weight_fraction_leaf=0.0, presort=False, random_state=101,\n",
       "            splitter='best')"
      ]
     },
     "execution_count": 14,
     "metadata": {},
     "output_type": "execute_result"
    }
   ],
   "source": [
    "# simple decision tree training\n",
    "model = DecisionTreeClassifier(random_state=rs)\n",
    "model.fit(X_train, y_train)"
   ]
  },
  {
   "cell_type": "markdown",
   "metadata": {},
   "source": [
    "### a. What is the classification accuracy on training and test datasets?"
   ]
  },
  {
   "cell_type": "code",
   "execution_count": 15,
   "metadata": {},
   "outputs": [
    {
     "name": "stdout",
     "output_type": "stream",
     "text": [
      "Train accuracy: 0.9994856170616864\n",
      "Test accuracy: 0.8286586835972033\n",
      "              precision    recall  f1-score   support\n",
      "\n",
      "           0       0.91      0.90      0.90     10832\n",
      "           1       0.35      0.37      0.36      1611\n",
      "\n",
      "   micro avg       0.83      0.83      0.83     12443\n",
      "   macro avg       0.63      0.63      0.63     12443\n",
      "weighted avg       0.83      0.83      0.83     12443\n",
      "\n"
     ]
    },
    {
     "data": {
      "text/plain": [
       "array([[9714, 1118],\n",
       "       [1014,  597]])"
      ]
     },
     "execution_count": 15,
     "metadata": {},
     "output_type": "execute_result"
    }
   ],
   "source": [
    "print(\"Train accuracy:\", model.score(X_train, y_train))\n",
    "print(\"Test accuracy:\", model.score(X_test, y_test))\n",
    "y_pred = model.predict(X_test)\n",
    "print(classification_report(y_test, y_pred))\n",
    "confusion_matrix(y_test, y_pred) ## Confusion Matrix on the TestSet"
   ]
  },
  {
   "cell_type": "markdown",
   "metadata": {},
   "source": [
    "### b. What is the size of tree (i.e. number of nodes)?"
   ]
  },
  {
   "cell_type": "code",
   "execution_count": 16,
   "metadata": {},
   "outputs": [
    {
     "name": "stdout",
     "output_type": "stream",
     "text": [
      "Number of nodes:  6703\n"
     ]
    }
   ],
   "source": [
    "print(\"Number of nodes: \", model.tree_.node_count)"
   ]
  },
  {
   "cell_type": "markdown",
   "metadata": {},
   "source": [
    "### c. How many leaves are in the tree that is selected based on the validation dataset?"
   ]
  },
  {
   "cell_type": "code",
   "execution_count": null,
   "metadata": {},
   "outputs": [],
   "source": []
  },
  {
   "cell_type": "markdown",
   "metadata": {},
   "source": [
    "### d. Which variable is used for the first split? What are the competing splits for this first split? "
   ]
  },
  {
   "cell_type": "code",
   "execution_count": 17,
   "metadata": {},
   "outputs": [],
   "source": [
    "visualize_decision_tree(model, df.drop(\"IsBadBuy\", axis=1).columns, \"Tree_Struct.png\")"
   ]
  },
  {
   "cell_type": "markdown",
   "metadata": {},
   "source": [
    "### e. What are the 5 important variables in building the tree? "
   ]
  },
  {
   "cell_type": "code",
   "execution_count": 18,
   "metadata": {},
   "outputs": [
    {
     "name": "stdout",
     "output_type": "stream",
     "text": [
      "WheelTypeID_? : 0.13551426074337208\n",
      "MMRCurrentAuctionAveragePrice : 0.07916633374386034\n",
      "VehOdo : 0.06681157785792576\n",
      "VehBCost : 0.06493159964208899\n",
      "MMRCurrentRetailRatio : 0.06347311733157501\n"
     ]
    }
   ],
   "source": [
    "analyse_feature_importance(model, df.drop(\"IsBadBuy\", axis=1).columns, 5)"
   ]
  },
  {
   "cell_type": "markdown",
   "metadata": {},
   "source": [
    "### f. Report if you see any evidence of model overfitting. "
   ]
  },
  {
   "cell_type": "code",
   "execution_count": null,
   "metadata": {},
   "outputs": [],
   "source": []
  },
  {
   "cell_type": "markdown",
   "metadata": {},
   "source": [
    "### g. Did changing the default setting (i.e., only focus on changing the setting of the number of splits to create a node) help improving the model? Answer the above questions on the best performing tree."
   ]
  },
  {
   "cell_type": "code",
   "execution_count": null,
   "metadata": {},
   "outputs": [],
   "source": []
  },
  {
   "cell_type": "markdown",
   "metadata": {},
   "source": [
    "## 2. Python: Build another decision tree tuned with GridSearchCV"
   ]
  },
  {
   "cell_type": "code",
   "execution_count": null,
   "metadata": {},
   "outputs": [],
   "source": []
  },
  {
   "cell_type": "code",
   "execution_count": 19,
   "metadata": {
    "scrolled": true
   },
   "outputs": [
    {
     "data": {
      "text/plain": [
       "GridSearchCV(cv=3, error_score='raise-deprecating',\n",
       "       estimator=DecisionTreeClassifier(class_weight=None, criterion='gini', max_depth=None,\n",
       "            max_features=None, max_leaf_nodes=None,\n",
       "            min_impurity_decrease=0.0, min_impurity_split=None,\n",
       "            min_samples_leaf=1, min_samples_split=2,\n",
       "            min_weight_fraction_leaf=0.0, presort=False, random_state=101,\n",
       "            splitter='best'),\n",
       "       fit_params=None, iid='warn', n_jobs=None,\n",
       "       param_grid={'criterion': ['gini', 'entropy'], 'max_depth': [2, 3, 4, 5, 6, 200, 500, 1, 1001, 2001, 3001, 4001, 5001, None], 'splitter': ['best', 'random'], 'min_samples_leaf': range(1, 4), 'min_samples_split': [2, 0.5, 0.3], 'max_features': ['auto', 'sqrt', 'log2', None], 'class_weight': ['balanced', None]},\n",
       "       pre_dispatch='2*n_jobs', refit=True, return_train_score='warn',\n",
       "       scoring=None, verbose=0)"
      ]
     },
     "execution_count": 19,
     "metadata": {},
     "output_type": "execute_result"
    }
   ],
   "source": [
    "# grid search CV\n",
    "params = {'criterion': ['gini', 'entropy'],\n",
    "          'max_depth': list(range(2,7)) +[200, 500] + list(range(1, 6000, 1000)) + [None],\n",
    "          'splitter': ['best', 'random'],\n",
    "          'min_samples_leaf': range(1,  4),\n",
    "          'min_samples_split': [2, 0.5, 0.3],\n",
    "          'max_features':['auto','sqrt','log2', None],\n",
    "          'class_weight':['balanced', None]\n",
    "         }\n",
    "\n",
    "cv = GridSearchCV(param_grid=params, estimator=DecisionTreeClassifier(random_state=rs), cv=3)\n",
    "cv.fit(X_train, y_train)"
   ]
  },
  {
   "cell_type": "markdown",
   "metadata": {},
   "source": [
    "### a. What is the classification accuracy on training and test datasets?"
   ]
  },
  {
   "cell_type": "code",
   "execution_count": 20,
   "metadata": {},
   "outputs": [
    {
     "name": "stdout",
     "output_type": "stream",
     "text": [
      "Train accuracy: 0.9994856170616864\n",
      "Test accuracy: 0.8236759623884915\n",
      "              precision    recall  f1-score   support\n",
      "\n",
      "           0       0.90      0.90      0.90     10832\n",
      "           1       0.32      0.32      0.32      1611\n",
      "\n",
      "   micro avg       0.82      0.82      0.82     12443\n",
      "   macro avg       0.61      0.61      0.61     12443\n",
      "weighted avg       0.82      0.82      0.82     12443\n",
      "\n",
      "{'class_weight': 'balanced', 'criterion': 'gini', 'max_depth': 200, 'max_features': 'log2', 'min_samples_leaf': 1, 'min_samples_split': 2, 'splitter': 'best'}\n"
     ]
    }
   ],
   "source": [
    "print(\"Train accuracy:\", cv.score(X_train, y_train))\n",
    "print(\"Test accuracy:\", cv.score(X_test, y_test))\n",
    "\n",
    "# test the best model\n",
    "y_pred = cv.predict(X_test)\n",
    "print(classification_report(y_test, y_pred))\n",
    "# print parameters of the best model\n",
    "print(cv.best_params_)\n",
    "\n",
    "dt_model = cv.best_estimator_"
   ]
  },
  {
   "cell_type": "markdown",
   "metadata": {},
   "source": [
    "### b. What is the size of tree (i.e. number of nodes)? Is the size different from the maximal tree or the tree in the previous step? Why?"
   ]
  },
  {
   "cell_type": "code",
   "execution_count": 21,
   "metadata": {},
   "outputs": [
    {
     "name": "stdout",
     "output_type": "stream",
     "text": [
      "Number of nodes:  13743\n"
     ]
    }
   ],
   "source": [
    "print(\"Number of nodes: \", cv.best_estimator_.tree_.node_count)"
   ]
  },
  {
   "cell_type": "markdown",
   "metadata": {},
   "source": [
    "### c. How many leaves are in the tree that is selected based on the validation dataset?"
   ]
  },
  {
   "cell_type": "code",
   "execution_count": null,
   "metadata": {},
   "outputs": [],
   "source": []
  },
  {
   "cell_type": "markdown",
   "metadata": {},
   "source": [
    "### d. Which variable is used for the first split? What are the competing splits for this first split? "
   ]
  },
  {
   "cell_type": "code",
   "execution_count": 22,
   "metadata": {},
   "outputs": [],
   "source": [
    "visualize_decision_tree(cv.best_estimator_, df.drop(\"IsBadBuy\", axis=1).columns, \"Tree_Struct_CV.png\")"
   ]
  },
  {
   "cell_type": "markdown",
   "metadata": {},
   "source": [
    "### e. What are the 5 important variables in building the tree? "
   ]
  },
  {
   "cell_type": "code",
   "execution_count": 23,
   "metadata": {},
   "outputs": [
    {
     "name": "stdout",
     "output_type": "stream",
     "text": [
      "WheelType_? : 0.10196726739090486\n",
      "VehBCost : 0.07747480575066952\n",
      "VehOdo : 0.04975026240861232\n",
      "MMRAcquisitionAuctionCleanPrice : 0.04953950838542224\n",
      "MMRCurrentAuctionAveragePrice : 0.04898870588447332\n"
     ]
    }
   ],
   "source": [
    "analyse_feature_importance(cv.best_estimator_, df.drop(\"IsBadBuy\", axis=1).columns, 5)"
   ]
  },
  {
   "cell_type": "markdown",
   "metadata": {},
   "source": [
    "### f. Report if you see any evidence of model overfitting. "
   ]
  },
  {
   "cell_type": "code",
   "execution_count": null,
   "metadata": {},
   "outputs": [],
   "source": []
  },
  {
   "cell_type": "markdown",
   "metadata": {},
   "source": [
    "### g. What are the parameters used? Explain your choices."
   ]
  },
  {
   "cell_type": "code",
   "execution_count": null,
   "metadata": {},
   "outputs": [],
   "source": []
  },
  {
   "cell_type": "markdown",
   "metadata": {},
   "source": [
    "## 3. What is the significant difference do you see between these two decision tree models (steps 2.1 & 2.2)? How do they compare performance-wise? Explain why those changes may have happened. "
   ]
  },
  {
   "cell_type": "code",
   "execution_count": null,
   "metadata": {},
   "outputs": [],
   "source": []
  },
  {
   "cell_type": "markdown",
   "metadata": {},
   "source": [
    "## 4. From the better model, can you identify which cars could potential be “kicks”? Can you provide some descriptive summary of those cars?"
   ]
  },
  {
   "cell_type": "code",
   "execution_count": null,
   "metadata": {},
   "outputs": [],
   "source": []
  },
  {
   "cell_type": "code",
   "execution_count": null,
   "metadata": {},
   "outputs": [],
   "source": []
  },
  {
   "cell_type": "markdown",
   "metadata": {},
   "source": [
    "# Task 3. Predictive Modeling Using Regression"
   ]
  },
  {
   "cell_type": "markdown",
   "metadata": {},
   "source": [
    "## 1. In preparation for regression, is any imputation of missing values needed for this data set? List the variables that needed this."
   ]
  },
  {
   "cell_type": "code",
   "execution_count": 24,
   "metadata": {},
   "outputs": [],
   "source": [
    "# We've already done this in the prep_data function"
   ]
  },
  {
   "cell_type": "markdown",
   "metadata": {},
   "source": [
    "## 2. Apply transformation method(s) to the variable(s) that need it. List the variables that needed it"
   ]
  },
  {
   "cell_type": "code",
   "execution_count": 25,
   "metadata": {},
   "outputs": [
    {
     "name": "stdout",
     "output_type": "stream",
     "text": [
      "Using ROS Resmapling\n"
     ]
    }
   ],
   "source": [
    "## Doing the log transformation\n",
    "\n",
    "\n",
    "### Q: It's enoguh?\n",
    "columns_to_transform = interval_cols\n",
    "\n",
    "def logTransformation(df):\n",
    "    \n",
    "    df_log = df.copy()\n",
    "\n",
    "    \n",
    "    for col in columns_to_transform:\n",
    "        df_log[col] = df_log[col].apply(lambda x: x+1)\n",
    "        df_log[col] = df_log[col].apply(np.log)\n",
    "        \n",
    "        \n",
    "    return df_log\n",
    "\n",
    "df_log = logTransformation(df)\n",
    "X_train_log, X_test_log, y_train_log, y_test_log = train_test_split(df_log.drop(['IsBadBuy'], axis=1), df_log['IsBadBuy'], test_size=0.3, stratify=df_log['IsBadBuy']\n",
    ",random_state=rs)\n",
    "\n",
    "\n",
    "if ResamplingMethod == 'ros':\n",
    "    print(\"Using ROS Resmapling\")\n",
    "    ros = RandomOverSampler(random_state=rs)\n",
    "    X_train_log, y_train_log = ros.fit_resample(X_train_log, y_train_log)\n",
    "elif  ResamplingMethod == 'rus':\n",
    "    print(\"Using RUS Resmapling\")\n",
    "    rus = RandomUnderSampler(random_state=rs)\n",
    "    X_train_log, y_train_log = rus.fit_resample(X_train_log, y_train_log)\n",
    "else:\n",
    "    print(\"No Resampling Method Used\")\n",
    "\n",
    "\n",
    "\n",
    "# Standardise\n",
    "scaler_log = StandardScaler()\n",
    "X_train_log = scaler_log.fit_transform(X_train_log, y_train_log)\n",
    "X_test_log = scaler_log.transform(X_test_log)\n"
   ]
  },
  {
   "cell_type": "markdown",
   "metadata": {},
   "source": [
    "## 3. Build a regression model using the default regression method with all inputs. Once you done it, build another one and tune it using GridSearchCV. Answer the followings:"
   ]
  },
  {
   "cell_type": "code",
   "execution_count": 26,
   "metadata": {},
   "outputs": [
    {
     "data": {
      "text/plain": [
       "LogisticRegression(C=1.0, class_weight=None, dual=False, fit_intercept=True,\n",
       "          intercept_scaling=1, max_iter=100, multi_class='warn',\n",
       "          n_jobs=None, penalty='l2', random_state=101, solver='warn',\n",
       "          tol=0.0001, verbose=0, warm_start=False)"
      ]
     },
     "execution_count": 26,
     "metadata": {},
     "output_type": "execute_result"
    }
   ],
   "source": [
    "### Traing Logistic Regression\n",
    "model = LogisticRegression(random_state=rs)\n",
    "model.fit(X_train_log, y_train_log)"
   ]
  },
  {
   "cell_type": "code",
   "execution_count": 27,
   "metadata": {},
   "outputs": [
    {
     "data": {
      "text/plain": [
       "GridSearchCV(cv=3, error_score='raise-deprecating',\n",
       "       estimator=LogisticRegression(C=1.0, class_weight=None, dual=False, fit_intercept=True,\n",
       "          intercept_scaling=1, max_iter=100, multi_class='warn',\n",
       "          n_jobs=None, penalty='l2', random_state=101, solver='warn',\n",
       "          tol=0.0001, verbose=0, warm_start=False),\n",
       "       fit_params=None, iid='warn', n_jobs=-1,\n",
       "       param_grid={'C': [0.0001, 0.001, 0.01, 0.1, 1], 'solver': ['newton-cg', 'lbfgs', 'liblinear', 'sag', 'saga'], 'max_iter': [30, 50, 100], 'warm_start': [True, False], 'class_weight': ['balanced', None]},\n",
       "       pre_dispatch='2*n_jobs', refit=True, return_train_score='warn',\n",
       "       scoring=None, verbose=0)"
      ]
     },
     "execution_count": 27,
     "metadata": {},
     "output_type": "execute_result"
    }
   ],
   "source": [
    "## GridSearch for Logistic Regression\n",
    "params = {\n",
    "    'C': [pow(10, x) for x in range(-4, 1)],\n",
    "    'solver' : ['newton-cg',\"lbfgs\", \"liblinear\", \"sag\", \"saga\"],\n",
    "    'max_iter': [30, 50, 100],\n",
    "    'warm_start': [True, False],\n",
    "    'class_weight':['balanced', None]\n",
    "}\n",
    "\n",
    "cv = GridSearchCV(param_grid=params, estimator=LogisticRegression(random_state=rs), cv=3, n_jobs=-1)\n",
    "cv.fit(X_train_log, y_train_log)"
   ]
  },
  {
   "cell_type": "markdown",
   "metadata": {},
   "source": [
    "### h. Name the regression function used."
   ]
  },
  {
   "cell_type": "code",
   "execution_count": null,
   "metadata": {},
   "outputs": [],
   "source": []
  },
  {
   "cell_type": "markdown",
   "metadata": {},
   "source": [
    "### i. How much was the difference in performance of two models build, default and optimal?"
   ]
  },
  {
   "cell_type": "code",
   "execution_count": 28,
   "metadata": {},
   "outputs": [
    {
     "name": "stdout",
     "output_type": "stream",
     "text": [
      "Train accuracy: 0.6998773394531713\n",
      "Test accuracy: 0.7560877601864502\n",
      "GridSearch Train accuracy: 0.7009456732481304\n",
      "GridSearch Test accuracy: 0.7552840954753677\n"
     ]
    }
   ],
   "source": [
    "print(\"Train accuracy:\", model.score(X_train_log, y_train_log))\n",
    "print(\"Test accuracy:\", model.score(X_test_log, y_test_log))\n",
    "print(\"GridSearch Train accuracy:\", cv.score(X_train_log, y_train_log))\n",
    "print(\"GridSearch Test accuracy:\", cv.score(X_test_log, y_test_log))"
   ]
  },
  {
   "cell_type": "markdown",
   "metadata": {},
   "source": [
    "### j. Show the set parameters for the best model. What are the parameters used? Explain your decision. What are the optimal parameters?"
   ]
  },
  {
   "cell_type": "code",
   "execution_count": 29,
   "metadata": {},
   "outputs": [
    {
     "name": "stdout",
     "output_type": "stream",
     "text": [
      "The best model parameters:  {'C': 1, 'class_weight': 'balanced', 'max_iter': 30, 'solver': 'lbfgs', 'warm_start': True}\n"
     ]
    }
   ],
   "source": [
    "print(\"The best model parameters: \", cv.best_params_)"
   ]
  },
  {
   "cell_type": "markdown",
   "metadata": {},
   "source": [
    "### k. Report which variables are included in the regression model."
   ]
  },
  {
   "cell_type": "code",
   "execution_count": null,
   "metadata": {},
   "outputs": [],
   "source": []
  },
  {
   "cell_type": "markdown",
   "metadata": {},
   "source": [
    "### l. Report the top-5 important variables (in the order) in the model."
   ]
  },
  {
   "cell_type": "code",
   "execution_count": 30,
   "metadata": {},
   "outputs": [],
   "source": [
    "def printLRTopImportant(model, top = 5):\n",
    "    \n",
    "    coef = model.coef_[0]\n",
    "    indices = np.argsort(np.absolute(coef))\n",
    "    indices = np.flip(indices, axis=0)\n",
    "    indices = indices[:top]\n",
    "    for i in indices:\n",
    "        print(feature_names[i], ':', coef[i])"
   ]
  },
  {
   "cell_type": "code",
   "execution_count": 31,
   "metadata": {},
   "outputs": [
    {
     "name": "stdout",
     "output_type": "stream",
     "text": [
      "MMRAcquisitionAuctionAveragePrice : -1.8301352716819697\n",
      "MMRAcquisitionRetailAveragePrice : 1.556335135697774\n",
      "MMRCurrentRetailCleanPrice : -1.1608985500248494\n",
      "WheelTypeID_? : 0.7647388496623555\n",
      "MMRCurrentAuctionAveragePrice : 0.7090035140103588\n"
     ]
    }
   ],
   "source": [
    "printLRTopImportant(model, 5)"
   ]
  },
  {
   "cell_type": "markdown",
   "metadata": {},
   "source": [
    "### m. What is classification accuracy on training and test datasets?"
   ]
  },
  {
   "cell_type": "code",
   "execution_count": 32,
   "metadata": {},
   "outputs": [
    {
     "name": "stdout",
     "output_type": "stream",
     "text": [
      "Classification Report: \n",
      "\n",
      "               precision    recall  f1-score   support\n",
      "\n",
      "           0       0.93      0.78      0.85     10832\n",
      "           1       0.29      0.61      0.39      1611\n",
      "\n",
      "   micro avg       0.76      0.76      0.76     12443\n",
      "   macro avg       0.61      0.69      0.62     12443\n",
      "weighted avg       0.85      0.76      0.79     12443\n",
      "\n",
      "GridSearch Classification Report: \n",
      "\n",
      "               precision    recall  f1-score   support\n",
      "\n",
      "           0       0.93      0.78      0.85     10832\n",
      "           1       0.29      0.61      0.39      1611\n",
      "\n",
      "   micro avg       0.76      0.76      0.76     12443\n",
      "   macro avg       0.61      0.69      0.62     12443\n",
      "weighted avg       0.85      0.76      0.79     12443\n",
      "\n"
     ]
    }
   ],
   "source": [
    "y_pred = model.predict(X_test_log)\n",
    "print(\"Classification Report: \\n\\n\",classification_report(y_test_log, y_pred))\n",
    "\n",
    "y_pred = cv.predict(X_test_log)\n",
    "print(\"GridSearch Classification Report: \\n\\n\",classification_report(y_test_log, y_pred))\n",
    "log_reg_model = cv.best_estimator_"
   ]
  },
  {
   "cell_type": "markdown",
   "metadata": {},
   "source": [
    "### n. Report any sign of overfitting."
   ]
  },
  {
   "cell_type": "code",
   "execution_count": 33,
   "metadata": {},
   "outputs": [],
   "source": [
    "## The GridSearch Precision and Recall is weird"
   ]
  },
  {
   "cell_type": "markdown",
   "metadata": {},
   "source": [
    "## 4. Build another regression model using the subset of inputs selected by RFE and selection by model method. Answer the followings:"
   ]
  },
  {
   "cell_type": "code",
   "execution_count": 34,
   "metadata": {
    "scrolled": true
   },
   "outputs": [],
   "source": [
    "rfe = RFECV(estimator = LogisticRegression(random_state=rs), cv=3)\n",
    "rfe.fit(X_train_log, y_train_log)\n",
    "X_train_rfe = rfe.transform(X_train_log)\n",
    "X_test_rfe = rfe.transform(X_test_log)\n",
    "\n",
    "selectmodel = SelectFromModel(dt_model, prefit=True)\n",
    "X_train_sel_model = selectmodel.transform(X_train_log)\n",
    "X_test_sel_model = selectmodel.transform(X_test_log)"
   ]
  },
  {
   "cell_type": "markdown",
   "metadata": {},
   "source": [
    "### a. Report which variables are included in the regression model."
   ]
  },
  {
   "cell_type": "code",
   "execution_count": 35,
   "metadata": {},
   "outputs": [
    {
     "name": "stdout",
     "output_type": "stream",
     "text": [
      "Original feature set 149\n",
      "Number of RFE-selected features:  126\n",
      "Number of selectFromModel features:  24\n"
     ]
    }
   ],
   "source": [
    "print(\"Original feature set\", X_train.shape[1])\n",
    "print(\"Number of RFE-selected features: \", rfe.n_features_)\n",
    "print(\"Number of selectFromModel features: \",  X_train_sel_model.shape[1])"
   ]
  },
  {
   "cell_type": "code",
   "execution_count": 36,
   "metadata": {},
   "outputs": [
    {
     "name": "stdout",
     "output_type": "stream",
     "text": [
      "The RFE-selected features: \n",
      "\n",
      " ['VehOdo', 'MMRAcquisitionAuctionAveragePrice', 'MMRAcquisitionAuctionCleanPrice', 'MMRAcquisitionRetailAveragePrice', 'MMRAcquisitonRetailCleanPrice', 'MMRCurrentAuctionAveragePrice', 'MMRCurrentAuctionCleanPrice', 'MMRCurrentRetailAveragePrice', 'MMRCurrentRetailCleanPrice', 'MMRCurrentRetailRatio', 'VehBCost', 'WarrantyCost', 'Auction_adesa', 'Auction_manheim', 'Auction_other', 'VehYear_2001.0', 'VehYear_2002.0', 'VehYear_2003.0', 'VehYear_2004.0', 'VehYear_2005.0', 'VehYear_2006.0', 'VehYear_2007.0', 'VehYear_2008.0', 'VehYear_2009.0', 'VehYear_2010.0', 'VehYear_UNKNOWN_VALUE', 'Make_acura', 'Make_buick', 'Make_chevrolet', 'Make_chrysler', 'Make_dodge', 'Make_ford', 'Make_honda', 'Make_infiniti', 'Make_isuzu', 'Make_jeep', 'Make_kia', 'Make_lexus', 'Make_lincoln', 'Make_mini', 'Make_mitsubishi', 'Make_nissan', 'Make_oldsmobile', 'Make_pontiac', 'Make_saturn', 'Make_scion', 'Make_subaru', 'Make_suzuki', 'Make_toyota', 'Make_volvo', 'Color_beige', 'Color_black', 'Color_brown', 'Color_gold', 'Color_green', 'Color_grey', 'Color_not avail', 'Color_orange', 'Color_other', 'Color_purple', 'Color_red', 'Color_silver', 'Color_white', 'Color_yellow', 'Transmission_auto', 'Transmission_manual', 'WheelTypeID_0', 'WheelTypeID_1', 'WheelTypeID_2', 'WheelTypeID_3', 'WheelTypeID_?', 'WheelType_?', 'WheelType_alloy', 'WheelType_covers', 'WheelType_special', 'Nationality_american', 'Nationality_other', 'Nationality_other asian', 'Nationality_top line asian', 'Size_compact', 'Size_crossover', 'Size_large', 'Size_large suv', 'Size_large truck', 'Size_medium', 'Size_medium suv', 'Size_small suv', 'Size_specialty', 'Size_sports', 'Size_van', 'TopThreeAmericanName_chrysler', 'TopThreeAmericanName_gm', 'TopThreeAmericanName_other', 'PRIMEUNIT_?', 'PRIMEUNIT_no', 'PRIMEUNIT_yes', 'PRIMEUNIT_NULL', 'AUCGUART_?', 'AUCGUART_green', 'AUCGUART_NULL', 'VNST_al', 'VNST_az', 'VNST_co', 'VNST_fl', 'VNST_ga', 'VNST_id', 'VNST_in', 'VNST_ky', 'VNST_la', 'VNST_nc', 'VNST_ne', 'VNST_nh', 'VNST_nj', 'VNST_nm', 'VNST_ny', 'VNST_or', 'VNST_pa', 'VNST_sc', 'VNST_tn', 'VNST_tx', 'VNST_ut', 'VNST_NULL', 'IsOnlineSale_1.0', 'ForSale_0', 'ForSale_no', 'ForSale_yes']\n",
      "\n",
      "\n",
      "\n",
      "The SelectFromModel features: \n",
      "\n",
      " ['VehOdo', 'MMRAcquisitionAuctionAveragePrice', 'MMRAcquisitionAuctionCleanPrice', 'MMRAcquisitionRetailAveragePrice', 'MMRAcquisitonRetailCleanPrice', 'MMRCurrentAuctionAveragePrice', 'MMRCurrentAuctionCleanPrice', 'MMRCurrentRetailAveragePrice', 'MMRCurrentRetailCleanPrice', 'MMRCurrentRetailRatio', 'VehBCost', 'WarrantyCost', 'Auction_manheim', 'VehYear_2004.0', 'Make_chevrolet', 'Make_dodge', 'Color_silver', 'Color_white', 'WheelTypeID_2', 'WheelType_?', 'WheelType_covers', 'TopThreeAmericanName_chrysler', 'TopThreeAmericanName_gm', 'VNST_tx']\n"
     ]
    }
   ],
   "source": [
    "print(\"The RFE-selected features: \\n\\n\", list(compress(feature_names, rfe.support_)))\n",
    "print(\"\\n\\n\")\n",
    "print(\"The SelectFromModel features: \\n\\n\",list(compress(feature_names, selectmodel.get_support())))"
   ]
  },
  {
   "cell_type": "markdown",
   "metadata": {},
   "source": [
    "### b. Report the top-5 important variables (in the order) in the model."
   ]
  },
  {
   "cell_type": "code",
   "execution_count": 37,
   "metadata": {},
   "outputs": [
    {
     "name": "stdout",
     "output_type": "stream",
     "text": [
      "[LibLinear]"
     ]
    },
    {
     "name": "stderr",
     "output_type": "stream",
     "text": [
      "[Parallel(n_jobs=1)]: Using backend SequentialBackend with 1 concurrent workers.\n",
      "[Parallel(n_jobs=1)]: Done   1 out of   1 | elapsed:    0.6s finished\n"
     ]
    },
    {
     "data": {
      "text/plain": [
       "GridSearchCV(cv=3, error_score='raise-deprecating',\n",
       "       estimator=LogisticRegression(C=1.0, class_weight=None, dual=False, fit_intercept=True,\n",
       "          intercept_scaling=1, max_iter=100, multi_class='warn',\n",
       "          n_jobs=None, penalty='l2', random_state=101, solver='warn',\n",
       "          tol=0.0001, verbose=True, warm_start=False),\n",
       "       fit_params=None, iid='warn', n_jobs=-1,\n",
       "       param_grid={'C': [0.0001, 0.001, 0.01, 0.1, 1], 'solver': ['newton-cg', 'lbfgs', 'liblinear', 'sag', 'saga'], 'max_iter': [30, 50, 100], 'warm_start': [True, False], 'class_weight': ['balanced', None]},\n",
       "       pre_dispatch='2*n_jobs', refit=True, return_train_score='warn',\n",
       "       scoring=None, verbose=0)"
      ]
     },
     "execution_count": 37,
     "metadata": {},
     "output_type": "execute_result"
    }
   ],
   "source": [
    "params = {\n",
    "    'C': [pow(10, x) for x in range(-4, 1)],\n",
    "    'solver' : ['newton-cg',\"lbfgs\", \"liblinear\", \"sag\", \"saga\"],\n",
    "    'max_iter': [30, 50, 100],\n",
    "    'warm_start': [True, False],\n",
    "    'class_weight':['balanced', None]\n",
    "\n",
    "}\n",
    "rfe_cv = GridSearchCV(param_grid=params, estimator=LogisticRegression(random_state=rs, verbose=True), cv=3, n_jobs=-1)\n",
    "rfe_cv.fit(X_train_rfe, y_train_log)\n",
    "\n",
    "selectModel_cv = GridSearchCV(param_grid=params, estimator=LogisticRegression(random_state=rs, verbose=True), cv=3, n_jobs=-1)\n",
    "selectModel_cv.fit(X_train_sel_model, y_train_log)\n"
   ]
  },
  {
   "cell_type": "code",
   "execution_count": 38,
   "metadata": {},
   "outputs": [
    {
     "name": "stdout",
     "output_type": "stream",
     "text": [
      "Top-5 important variables for RFE: \n",
      "\n",
      "MMRAcquisitionAuctionAveragePrice : -1.2007986138089202\n",
      "MMRAcquisitionRetailAveragePrice : 1.1707944988856998\n",
      "MMRCurrentRetailCleanPrice : -0.5862338769571586\n",
      "Color_white : 0.5771408731924557\n",
      "MMRAcquisitonRetailCleanPrice : 0.5560971039889662\n",
      "\n",
      "\n",
      "\n",
      "Top-5 important variables for selectModel \n",
      "\n",
      "MMRCurrentRetailAveragePrice : -3.155872487409825\n",
      "MMRCurrentRetailCleanPrice : 2.2997683935748934\n",
      "MMRAcquisitionAuctionAveragePrice : -1.8616373108354378\n",
      "VehYear_2005.0 : 1.2396144583206734\n",
      "MMRAcquisitonRetailCleanPrice : 0.9311113016898371\n"
     ]
    }
   ],
   "source": [
    "print(\"Top-5 important variables for RFE: \\n\")\n",
    "printLRTopImportant(rfe_cv.best_estimator_, 5)\n",
    "print(\"\\n\\n\")\n",
    "print(\"Top-5 important variables for selectModel \\n\")\n",
    "printLRTopImportant(selectModel_cv.best_estimator_, 5)"
   ]
  },
  {
   "cell_type": "markdown",
   "metadata": {},
   "source": [
    "### c. What are the parameters used? Explain your choices. What are the optimal parameters? Which regression function is being used?"
   ]
  },
  {
   "cell_type": "code",
   "execution_count": 39,
   "metadata": {
    "scrolled": true
   },
   "outputs": [
    {
     "name": "stdout",
     "output_type": "stream",
     "text": [
      "Optimal Parameters for RFE {'C': 0.1, 'class_weight': 'balanced', 'max_iter': 30, 'solver': 'liblinear', 'warm_start': True}\n",
      "Optimal Parameters for selectModel {'C': 1, 'class_weight': 'balanced', 'max_iter': 30, 'solver': 'newton-cg', 'warm_start': True}\n"
     ]
    }
   ],
   "source": [
    "print(\"Optimal Parameters for RFE\", rfe_cv.best_params_)\n",
    "print(\"Optimal Parameters for selectModel\", selectModel_cv.best_params_)"
   ]
  },
  {
   "cell_type": "markdown",
   "metadata": {},
   "source": [
    "### d. Report any sign of overfitting"
   ]
  },
  {
   "cell_type": "code",
   "execution_count": null,
   "metadata": {},
   "outputs": [],
   "source": []
  },
  {
   "cell_type": "markdown",
   "metadata": {},
   "source": [
    "### e. What is classification accuracy on training and test datasets?"
   ]
  },
  {
   "cell_type": "code",
   "execution_count": 40,
   "metadata": {},
   "outputs": [
    {
     "name": "stdout",
     "output_type": "stream",
     "text": [
      "GridSearch Train accuracy: 0.7009456732481304\n",
      "GridSearch Test accuracy: 0.7552840954753677\n",
      "\n",
      "\n",
      "RFE:\n",
      "\n",
      "Train accuracy: 0.7000949630039963\n",
      "Test accuracy: 0.7568914248975327\n",
      "\n",
      "\n",
      "selectModel:\n",
      "\n",
      "Train accuracy: 0.6835951410596288\n",
      "Test accuracy: 0.7648477055372499\n"
     ]
    }
   ],
   "source": [
    "print(\"GridSearch Train accuracy:\", cv.score(X_train_log, y_train_log))\n",
    "print(\"GridSearch Test accuracy:\", cv.score(X_test_log, y_test_log))\n",
    "print(\"\\n\\nRFE:\\n\")\n",
    "print(\"Train accuracy:\", rfe_cv.score(X_train_rfe, y_train_log))\n",
    "print(\"Test accuracy:\", rfe_cv.score(X_test_rfe, y_test_log))\n",
    "print(\"\\n\\nselectModel:\\n\")\n",
    "print(\"Train accuracy:\", selectModel_cv.score(X_train_sel_model, y_train_log))\n",
    "print(\"Test accuracy:\", selectModel_cv.score(X_test_sel_model, y_test_log))"
   ]
  },
  {
   "cell_type": "markdown",
   "metadata": {},
   "source": [
    "### f. Did it improve/worsen the performance? Explain why those changes may have happened"
   ]
  },
  {
   "cell_type": "code",
   "execution_count": 41,
   "metadata": {},
   "outputs": [
    {
     "name": "stdout",
     "output_type": "stream",
     "text": [
      "REF classification report: \n",
      "               precision    recall  f1-score   support\n",
      "\n",
      "           0       0.93      0.78      0.85     10832\n",
      "           1       0.29      0.60      0.39      1611\n",
      "\n",
      "   micro avg       0.76      0.76      0.76     12443\n",
      "   macro avg       0.61      0.69      0.62     12443\n",
      "weighted avg       0.85      0.76      0.79     12443\n",
      "\n",
      "\n",
      "\n",
      "\n",
      "selectModel classification report: \n",
      "               precision    recall  f1-score   support\n",
      "\n",
      "           0       0.92      0.79      0.85     10832\n",
      "           1       0.29      0.57      0.38      1611\n",
      "\n",
      "   micro avg       0.76      0.76      0.76     12443\n",
      "   macro avg       0.61      0.68      0.62     12443\n",
      "weighted avg       0.84      0.76      0.79     12443\n",
      "\n"
     ]
    }
   ],
   "source": [
    "y_pred = rfe_cv.predict(X_test_rfe)\n",
    "print(\"REF classification report: \\n\",classification_report(y_test, y_pred))\n",
    "print(\"\\n\\n\")\n",
    "y_pred = selectModel_cv.predict(X_test_sel_model)\n",
    "print(\"selectModel classification report: \\n\",classification_report(y_test, y_pred))"
   ]
  },
  {
   "cell_type": "markdown",
   "metadata": {},
   "source": [
    " # Task4 - Predicting using neural network"
   ]
  },
  {
   "cell_type": "markdown",
   "metadata": {},
   "source": [
    "## 1. Build a Neural Network model using the default setting. Answer the following:"
   ]
  },
  {
   "cell_type": "code",
   "execution_count": 42,
   "metadata": {},
   "outputs": [
    {
     "data": {
      "text/plain": [
       "MLPClassifier(activation='relu', alpha=0.0001, batch_size='auto', beta_1=0.9,\n",
       "       beta_2=0.999, early_stopping=False, epsilon=1e-08,\n",
       "       hidden_layer_sizes=(100,), learning_rate='constant',\n",
       "       learning_rate_init=0.001, max_iter=200, momentum=0.9,\n",
       "       n_iter_no_change=10, nesterovs_momentum=True, power_t=0.5,\n",
       "       random_state=101, shuffle=True, solver='adam', tol=0.0001,\n",
       "       validation_fraction=0.1, verbose=False, warm_start=False)"
      ]
     },
     "execution_count": 42,
     "metadata": {},
     "output_type": "execute_result"
    }
   ],
   "source": [
    "model = MLPClassifier(random_state=rs)\n",
    "model.fit(X_train_log, y_train_log)"
   ]
  },
  {
   "cell_type": "markdown",
   "metadata": {},
   "source": [
    "### a. What is the network architecture?"
   ]
  },
  {
   "cell_type": "code",
   "execution_count": 43,
   "metadata": {},
   "outputs": [
    {
     "name": "stdout",
     "output_type": "stream",
     "text": [
      "Number of Layers:  3\n",
      "The First layer is Input Layer, and the last layer is the output layer\n",
      "1 Layer with hidden size 149\n",
      "2 Layer with hidden size 100\n",
      "3 Layer with hidden size 1\n",
      "The activation function:  relu\n"
     ]
    }
   ],
   "source": [
    "def printMLPArchitecture(model):\n",
    "\n",
    "    print(\"Number of Layers: \",model.n_layers_ )\n",
    "    print(\"The First layer is Input Layer, and the last layer is the output layer\")\n",
    "    for i, w in enumerate(model.coefs_):\n",
    "        print(\"{} Layer with hidden size {}\".format(i+1, w.shape[0]))\n",
    "        if (i+1) == len(model.coefs_):\n",
    "            print(\"{} Layer with hidden size {}\".format(i+2, w.shape[1]))\n",
    "    \n",
    "    print(\"The activation function: \", model.activation)\n",
    "            \n",
    "printMLPArchitecture(model)"
   ]
  },
  {
   "cell_type": "markdown",
   "metadata": {},
   "source": [
    "### b. How many iterations are needed to train this network?"
   ]
  },
  {
   "cell_type": "code",
   "execution_count": 44,
   "metadata": {},
   "outputs": [
    {
     "name": "stdout",
     "output_type": "stream",
     "text": [
      "Number of iterations it ran:  200\n"
     ]
    }
   ],
   "source": [
    "print(\"Number of iterations it ran: \", model.n_iter_)"
   ]
  },
  {
   "cell_type": "markdown",
   "metadata": {},
   "source": [
    "### c. Do you see any sign of over-fitting?"
   ]
  },
  {
   "cell_type": "code",
   "execution_count": 45,
   "metadata": {
    "scrolled": false
   },
   "outputs": [],
   "source": [
    "# fig = plt.figure(figsize=(10, 5))\n",
    "# plt.ylabel('Accuracy',fontsize=15)\n",
    "# plt.xlabel('Number of iterations',fontsize=15)\n",
    "# plt.title('Validation Accuracy',fontsize=20,fontweight =\"bold\")\n",
    "# plt.plot(model.validation_scores_, label=\"Validation Accuracy\")"
   ]
  },
  {
   "cell_type": "markdown",
   "metadata": {},
   "source": [
    "### d. Did the training process converge and resulted in the best model? "
   ]
  },
  {
   "cell_type": "code",
   "execution_count": 46,
   "metadata": {
    "scrolled": true
   },
   "outputs": [
    {
     "data": {
      "text/plain": [
       "[<matplotlib.lines.Line2D at 0x7f482fe10c18>]"
      ]
     },
     "execution_count": 46,
     "metadata": {},
     "output_type": "execute_result"
    },
    {
     "data": {
      "image/png": "[encoded data removed]",
      "text/plain": [
       "<Figure size 720x360 with 1 Axes>"
      ]
     },
     "metadata": {
      "needs_background": "light"
     },
     "output_type": "display_data"
    }
   ],
   "source": [
    "fig = plt.figure(figsize=(10, 5))\n",
    "plt.ylabel('Loss',fontsize=15)\n",
    "plt.xlabel('Number of iterations',fontsize=15)\n",
    "plt.title('Training Loss',fontsize=20,fontweight =\"bold\")\n",
    "plt.plot(model.loss_curve_, label=\"Training Loss\")\n",
    "\n",
    "### The Loss curve is still decreasing"
   ]
  },
  {
   "cell_type": "markdown",
   "metadata": {},
   "source": [
    "### e. What is classification accuracy on training and test datasets?"
   ]
  },
  {
   "cell_type": "code",
   "execution_count": 47,
   "metadata": {},
   "outputs": [
    {
     "name": "stdout",
     "output_type": "stream",
     "text": [
      "MLP Train accuracy: 0.459660507260713\n",
      "MLP Test accuracy: 0.6925982480109298\n",
      "\n",
      "\n",
      "\n",
      "MLP classification report: \n",
      "               precision    recall  f1-score   support\n",
      "\n",
      "           0       0.86      0.77      0.81     10832\n",
      "           1       0.09      0.14      0.11      1611\n",
      "\n",
      "   micro avg       0.69      0.69      0.69     12443\n",
      "   macro avg       0.47      0.46      0.46     12443\n",
      "weighted avg       0.76      0.69      0.72     12443\n",
      "\n"
     ]
    }
   ],
   "source": [
    "print(\"MLP Train accuracy:\", model.score(X_train, y_train))\n",
    "print(\"MLP Test accuracy:\", model.score(X_test, y_test))\n",
    "print(\"\\n\\n\")\n",
    "y_pred = model.predict(X_test)\n",
    "print(\"MLP classification report: \\n\",classification_report(y_test, y_pred))"
   ]
  },
  {
   "cell_type": "markdown",
   "metadata": {},
   "source": [
    "## 2. Refine this network by tuning it with GridSearchCV. "
   ]
  },
  {
   "cell_type": "code",
   "execution_count": null,
   "metadata": {},
   "outputs": [],
   "source": []
  },
  {
   "cell_type": "code",
   "execution_count": 48,
   "metadata": {},
   "outputs": [
    {
     "name": "stdout",
     "output_type": "stream",
     "text": [
      "Iteration 1, loss = 0.54693080\n",
      "Validation score: 0.735312\n",
      "Iteration 2, loss = 0.47179153\n",
      "Validation score: 0.777844\n",
      "Iteration 3, loss = 0.40331981\n",
      "Validation score: 0.812265\n",
      "Iteration 4, loss = 0.33787091\n",
      "Validation score: 0.831454\n",
      "Iteration 5, loss = 0.29212924\n",
      "Validation score: 0.867656\n",
      "Iteration 6, loss = 0.25190921\n",
      "Validation score: 0.881701\n",
      "Iteration 7, loss = 0.21855853\n",
      "Validation score: 0.883680\n",
      "Iteration 8, loss = 0.19788286\n",
      "Validation score: 0.902868\n",
      "Iteration 9, loss = 0.18081237\n",
      "Validation score: 0.910584\n",
      "Iteration 10, loss = 0.16247232\n",
      "Validation score: 0.901879\n",
      "Iteration 11, loss = 0.15504546\n",
      "Validation score: 0.905440\n",
      "Iteration 12, loss = 0.14536334\n",
      "Validation score: 0.916716\n",
      "Iteration 13, loss = 0.13576600\n",
      "Validation score: 0.918101\n",
      "Iteration 14, loss = 0.13033542\n",
      "Validation score: 0.916716\n",
      "Iteration 15, loss = 0.12545532\n",
      "Validation score: 0.918101\n",
      "Iteration 16, loss = 0.11629657\n",
      "Validation score: 0.904055\n",
      "Iteration 17, loss = 0.11284304\n",
      "Validation score: 0.921464\n",
      "Iteration 18, loss = 0.11189941\n",
      "Validation score: 0.916914\n",
      "Iteration 19, loss = 0.10325006\n",
      "Validation score: 0.919881\n",
      "Iteration 20, loss = 0.10414006\n",
      "Validation score: 0.922255\n",
      "Iteration 21, loss = 0.09889908\n",
      "Validation score: 0.916123\n",
      "Iteration 22, loss = 0.09608051\n",
      "Validation score: 0.934125\n",
      "Iteration 23, loss = 0.09218121\n",
      "Validation score: 0.921068\n",
      "Iteration 24, loss = 0.09992786\n",
      "Validation score: 0.932542\n",
      "Iteration 25, loss = 0.09121864\n",
      "Validation score: 0.923046\n",
      "Iteration 26, loss = 0.09121179\n",
      "Validation score: 0.927003\n",
      "Iteration 27, loss = 0.08499365\n",
      "Validation score: 0.926805\n",
      "Iteration 28, loss = 0.08393078\n",
      "Validation score: 0.925618\n",
      "Iteration 29, loss = 0.08556150\n",
      "Validation score: 0.926014\n",
      "Iteration 30, loss = 0.07823876\n",
      "Validation score: 0.935114\n",
      "Iteration 31, loss = 0.08434710\n",
      "Validation score: 0.932542\n",
      "Iteration 32, loss = 0.07646444\n",
      "Validation score: 0.930762\n",
      "Iteration 33, loss = 0.07609882\n",
      "Validation score: 0.927596\n",
      "Iteration 34, loss = 0.07801165\n",
      "Validation score: 0.936894\n",
      "Iteration 35, loss = 0.07598078\n",
      "Validation score: 0.938675\n",
      "Iteration 36, loss = 0.07703660\n",
      "Validation score: 0.925025\n",
      "Iteration 37, loss = 0.07983014\n",
      "Validation score: 0.931751\n",
      "Iteration 38, loss = 0.06890338\n",
      "Validation score: 0.937290\n",
      "Iteration 39, loss = 0.06798918\n",
      "Validation score: 0.914738\n",
      "Iteration 40, loss = 0.07286112\n",
      "Validation score: 0.929970\n",
      "Iteration 41, loss = 0.07699081\n",
      "Validation score: 0.930168\n",
      "Iteration 42, loss = 0.06542391\n",
      "Validation score: 0.935509\n",
      "Iteration 43, loss = 0.06830986\n",
      "Validation score: 0.941246\n",
      "Iteration 44, loss = 0.06397221\n",
      "Validation score: 0.935114\n",
      "Iteration 45, loss = 0.07137154\n",
      "Validation score: 0.941048\n",
      "Iteration 46, loss = 0.06991063\n",
      "Validation score: 0.935509\n",
      "Iteration 47, loss = 0.06207058\n",
      "Validation score: 0.932542\n",
      "Iteration 48, loss = 0.06402944\n",
      "Validation score: 0.940455\n",
      "Iteration 49, loss = 0.05873632\n",
      "Validation score: 0.939070\n",
      "Iteration 50, loss = 0.06306456\n",
      "Validation score: 0.933333\n",
      "Iteration 51, loss = 0.07488623\n",
      "Validation score: 0.935509\n",
      "Iteration 52, loss = 0.06438127\n",
      "Validation score: 0.934125\n",
      "Iteration 53, loss = 0.05928741\n",
      "Validation score: 0.941444\n",
      "Iteration 54, loss = 0.06207190\n",
      "Validation score: 0.938081\n",
      "Iteration 55, loss = 0.06144641\n",
      "Validation score: 0.920475\n",
      "Iteration 56, loss = 0.06293869\n",
      "Validation score: 0.937685\n",
      "Iteration 57, loss = 0.05972565\n",
      "Validation score: 0.929179\n",
      "Iteration 58, loss = 0.05873227\n",
      "Validation score: 0.932344\n",
      "Iteration 59, loss = 0.06258876\n",
      "Validation score: 0.940653\n",
      "Iteration 60, loss = 0.05570789\n",
      "Validation score: 0.936696\n",
      "Iteration 61, loss = 0.05624749\n",
      "Validation score: 0.940059\n",
      "Iteration 62, loss = 0.05877355\n",
      "Validation score: 0.936696\n",
      "Iteration 63, loss = 0.06326369\n",
      "Validation score: 0.939862\n",
      "Iteration 64, loss = 0.05362035\n",
      "Validation score: 0.945796\n",
      "Iteration 65, loss = 0.05962739\n",
      "Validation score: 0.928981\n",
      "Iteration 66, loss = 0.05404427\n",
      "Validation score: 0.944411\n",
      "Iteration 67, loss = 0.05856537\n",
      "Validation score: 0.929773\n",
      "Iteration 68, loss = 0.05812045\n",
      "Validation score: 0.935509\n",
      "Iteration 69, loss = 0.05249832\n",
      "Validation score: 0.937092\n",
      "Iteration 70, loss = 0.05692958\n",
      "Validation score: 0.942235\n",
      "Iteration 71, loss = 0.06169963\n",
      "Validation score: 0.933927\n",
      "Iteration 72, loss = 0.05295570\n",
      "Validation score: 0.948961\n",
      "Iteration 73, loss = 0.04822423\n",
      "Validation score: 0.940653\n",
      "Iteration 74, loss = 0.05481595\n",
      "Validation score: 0.932542\n",
      "Iteration 75, loss = 0.05504483\n",
      "Validation score: 0.938477\n",
      "Iteration 76, loss = 0.05376706\n",
      "Validation score: 0.939466\n",
      "Iteration 77, loss = 0.05802848\n",
      "Validation score: 0.928783\n",
      "Iteration 78, loss = 0.05205336\n",
      "Validation score: 0.942829\n",
      "Iteration 79, loss = 0.05029906\n",
      "Validation score: 0.938675\n",
      "Iteration 80, loss = 0.05840547\n",
      "Validation score: 0.934125\n",
      "Iteration 81, loss = 0.05243236\n",
      "Validation score: 0.943620\n",
      "Iteration 82, loss = 0.05094091\n",
      "Validation score: 0.930762\n",
      "Iteration 83, loss = 0.04746883\n",
      "Validation score: 0.941444\n",
      "Validation score did not improve more than tol=0.000100 for 10 consecutive epochs. Stopping.\n"
     ]
    },
    {
     "data": {
      "text/plain": [
       "GridSearchCV(cv=3, error_score='raise-deprecating',\n",
       "       estimator=MLPClassifier(activation='relu', alpha=0.0001, batch_size='auto', beta_1=0.9,\n",
       "       beta_2=0.999, early_stopping=False, epsilon=1e-08,\n",
       "       hidden_layer_sizes=(100,), learning_rate='constant',\n",
       "       learning_rate_init=0.001, max_iter=200, momentum=0.9,\n",
       "       n_iter_no_change=10, nesterovs_momentum=True, power_t=0.5,\n",
       "       random_state=101, shuffle=True, solver='adam', tol=0.0001,\n",
       "       validation_fraction=0.1, verbose=True, warm_start=False),\n",
       "       fit_params=None, iid='warn', n_jobs=-1,\n",
       "       param_grid=[{'hidden_layer_sizes': [(128, 64, 32, 16)], 'activation': ['relu'], 'solver': ['adam'], 'batch_size': [64], 'shuffle': [True], 'learning_rate_init': [0.001], 'n_iter_no_change': [10], 'max_iter': [200], 'warm_start': [True], 'early_stopping': [True], 'alpha': [0.01, 0.001]}],\n",
       "       pre_dispatch='2*n_jobs', refit=True, return_train_score='warn',\n",
       "       scoring=None, verbose=0)"
      ]
     },
     "execution_count": 48,
     "metadata": {},
     "output_type": "execute_result"
    }
   ],
   "source": [
    "# Default\n",
    "# params = {'hidden_layer_sizes': [(3,), (5,), (7,), (9,)], 'alpha': [0.01,0.001, 0.0001, 0.00001]}\n",
    "\n",
    "params = [\n",
    "    {\n",
    "        'hidden_layer_sizes': [(128, 64, 32, 16)],\n",
    "        'activation': ['relu'],\n",
    "        'solver' : ['adam',],\n",
    "        'batch_size': [64],\n",
    "        'shuffle': [True],\n",
    "        'learning_rate_init': [0.001],\n",
    "        'n_iter_no_change': [10],\n",
    "        'max_iter':[200],\n",
    "        'warm_start': [True],\n",
    "        'early_stopping': [True],\n",
    "        'alpha': [0.01, 0.001],\n",
    "    },      \n",
    "]\n",
    "\n",
    "\n",
    "cv = GridSearchCV(param_grid=params, estimator=MLPClassifier(random_state=rs, verbose=True), cv=3, n_jobs=-1)\n",
    "# cv = GridSearchCV(param_grid=params, estimator=MLPClassifier(random_state=rs, early_stopping=True, max_iter = max_iter, n_iter_no_change = max_iter ), cv=3, n_jobs=-1)\n",
    "cv.fit(X_train_log, y_train_log)"
   ]
  },
  {
   "cell_type": "markdown",
   "metadata": {},
   "source": [
    "### a. What is the network architecture?"
   ]
  },
  {
   "cell_type": "code",
   "execution_count": 49,
   "metadata": {},
   "outputs": [
    {
     "name": "stdout",
     "output_type": "stream",
     "text": [
      "Best Parameters of NN:  {'activation': 'relu', 'alpha': 0.001, 'batch_size': 64, 'early_stopping': True, 'hidden_layer_sizes': (128, 64, 32, 16), 'learning_rate_init': 0.001, 'max_iter': 200, 'n_iter_no_change': 10, 'shuffle': True, 'solver': 'adam', 'warm_start': True}\n"
     ]
    }
   ],
   "source": [
    "print(\"Best Parameters of NN: \", cv.best_params_)"
   ]
  },
  {
   "cell_type": "code",
   "execution_count": 50,
   "metadata": {},
   "outputs": [
    {
     "name": "stdout",
     "output_type": "stream",
     "text": [
      "Number of Layers:  6\n",
      "The First layer is Input Layer, and the last layer is the output layer\n",
      "1 Layer with hidden size 149\n",
      "2 Layer with hidden size 128\n",
      "3 Layer with hidden size 64\n",
      "4 Layer with hidden size 32\n",
      "5 Layer with hidden size 16\n",
      "6 Layer with hidden size 1\n",
      "The activation function:  relu\n"
     ]
    }
   ],
   "source": [
    "printMLPArchitecture(cv.best_estimator_)"
   ]
  },
  {
   "cell_type": "markdown",
   "metadata": {},
   "source": [
    "# b. How many iterations are needed to train this network?"
   ]
  },
  {
   "cell_type": "code",
   "execution_count": 51,
   "metadata": {},
   "outputs": [
    {
     "name": "stdout",
     "output_type": "stream",
     "text": [
      "Number of iterations it ran:  83\n"
     ]
    }
   ],
   "source": [
    "print(\"Number of iterations it ran: \",cv.best_estimator_.n_iter_)"
   ]
  },
  {
   "cell_type": "markdown",
   "metadata": {},
   "source": [
    "### c. Sign of overfitting?"
   ]
  },
  {
   "cell_type": "code",
   "execution_count": 52,
   "metadata": {},
   "outputs": [
    {
     "data": {
      "text/plain": [
       "[<matplotlib.lines.Line2D at 0x7f483a049c50>]"
      ]
     },
     "execution_count": 52,
     "metadata": {},
     "output_type": "execute_result"
    },
    {
     "data": {
      "image/png": "[encoded data removed]",
      "text/plain": [
       "<Figure size 720x360 with 1 Axes>"
      ]
     },
     "metadata": {
      "needs_background": "light"
     },
     "output_type": "display_data"
    }
   ],
   "source": [
    "fig = plt.figure(figsize=(10, 5))\n",
    "plt.ylabel('Accuracy',fontsize=15)\n",
    "plt.xlabel('Number of iterations',fontsize=15)\n",
    "plt.title('Validation Accuracy',fontsize=20,fontweight =\"bold\")\n",
    "plt.plot(cv.best_estimator_.validation_scores_, label=\"Validation Accuracy\")"
   ]
  },
  {
   "cell_type": "markdown",
   "metadata": {},
   "source": [
    "### d. Did the training process converge and resulted in the best model? "
   ]
  },
  {
   "cell_type": "code",
   "execution_count": 53,
   "metadata": {},
   "outputs": [
    {
     "data": {
      "text/plain": [
       "[<matplotlib.lines.Line2D at 0x7f4870df49e8>]"
      ]
     },
     "execution_count": 53,
     "metadata": {},
     "output_type": "execute_result"
    },
    {
     "data": {
      "image/png": "[encoded data removed]",
      "text/plain": [
       "<Figure size 720x360 with 1 Axes>"
      ]
     },
     "metadata": {
      "needs_background": "light"
     },
     "output_type": "display_data"
    }
   ],
   "source": [
    "fig = plt.figure(figsize=(10, 5))\n",
    "plt.ylabel('Loss',fontsize=15)\n",
    "plt.xlabel('Number of iterations',fontsize=15)\n",
    "plt.title('Training Loss',fontsize=20,fontweight =\"bold\")\n",
    "plt.plot(cv.best_estimator_.loss_curve_, label=\"Training Loss\")\n"
   ]
  },
  {
   "cell_type": "markdown",
   "metadata": {},
   "source": [
    "### e. What is classification accuracy on training and test datasets? Is there any improvement in the outcome?"
   ]
  },
  {
   "cell_type": "code",
   "execution_count": 54,
   "metadata": {},
   "outputs": [
    {
     "name": "stdout",
     "output_type": "stream",
     "text": [
      "GridSearch NN Train accuracy: 0.9844893760139279\n",
      "GridSearch NN Test accuracy: 0.8415976854456321\n",
      "\n",
      "\n",
      "\n",
      "GridSearch NN Classification Report: \n",
      "               precision    recall  f1-score   support\n",
      "\n",
      "           0       0.90      0.92      0.91     10832\n",
      "           1       0.37      0.33      0.35      1611\n",
      "\n",
      "   micro avg       0.84      0.84      0.84     12443\n",
      "   macro avg       0.64      0.63      0.63     12443\n",
      "weighted avg       0.83      0.84      0.84     12443\n",
      "\n",
      "Best Parameters of NN:  {'activation': 'relu', 'alpha': 0.001, 'batch_size': 64, 'early_stopping': True, 'hidden_layer_sizes': (128, 64, 32, 16), 'learning_rate_init': 0.001, 'max_iter': 200, 'n_iter_no_change': 10, 'shuffle': True, 'solver': 'adam', 'warm_start': True}\n"
     ]
    }
   ],
   "source": [
    "print(\"GridSearch NN Train accuracy:\", cv.score(X_train_log, y_train_log))\n",
    "print(\"GridSearch NN Test accuracy:\", cv.score(X_test_log, y_test_log))\n",
    "\n",
    "print(\"\\n\\n\")\n",
    "y_pred = cv.predict(X_test_log)\n",
    "print(\"GridSearch NN Classification Report: \\n\",classification_report(y_test_log, y_pred))\n",
    "\n",
    "print(\"Best Parameters of NN: \", cv.best_params_)\n",
    "nn_model = cv.best_estimator_"
   ]
  },
  {
   "cell_type": "markdown",
   "metadata": {},
   "source": [
    "## 3. Would feature selection help here? Build another Neural Network model with inputs selected from RFE with regression (use the best model generated in Task 3) and selection with decision tree (use the best model from Task 2)."
   ]
  },
  {
   "cell_type": "code",
   "execution_count": 55,
   "metadata": {
    "scrolled": true
   },
   "outputs": [
    {
     "name": "stdout",
     "output_type": "stream",
     "text": [
      "Iteration 1, loss = 0.54379255\n",
      "Validation score: 0.727003\n",
      "Iteration 2, loss = 0.47608808\n",
      "Validation score: 0.768150\n",
      "Iteration 3, loss = 0.42003955\n",
      "Validation score: 0.799209\n",
      "Iteration 4, loss = 0.36825116\n",
      "Validation score: 0.798813\n",
      "Iteration 5, loss = 0.31963542\n",
      "Validation score: 0.834224\n",
      "Iteration 6, loss = 0.27991410\n",
      "Validation score: 0.857369\n",
      "Iteration 7, loss = 0.25017291\n",
      "Validation score: 0.868843\n",
      "Iteration 8, loss = 0.22515935\n",
      "Validation score: 0.874777\n",
      "Iteration 9, loss = 0.20524337\n",
      "Validation score: 0.881108\n",
      "Iteration 10, loss = 0.18742855\n",
      "Validation score: 0.893175\n",
      "Iteration 11, loss = 0.17456972\n",
      "Validation score: 0.890999\n",
      "Iteration 12, loss = 0.16126007\n",
      "Validation score: 0.902077\n",
      "Iteration 13, loss = 0.15218531\n",
      "Validation score: 0.901682\n",
      "Iteration 14, loss = 0.14374594\n",
      "Validation score: 0.900495\n",
      "Iteration 15, loss = 0.13717406\n",
      "Validation score: 0.908012\n",
      "Iteration 16, loss = 0.12471034\n",
      "Validation score: 0.901879\n",
      "Iteration 17, loss = 0.12454071\n",
      "Validation score: 0.910188\n",
      "Iteration 18, loss = 0.11624687\n",
      "Validation score: 0.921662\n",
      "Iteration 19, loss = 0.11089894\n",
      "Validation score: 0.916123\n",
      "Iteration 20, loss = 0.11077687\n",
      "Validation score: 0.918497\n",
      "Iteration 21, loss = 0.10240690\n",
      "Validation score: 0.917903\n",
      "Iteration 22, loss = 0.09718684\n",
      "Validation score: 0.920475\n",
      "Iteration 23, loss = 0.09371833\n",
      "Validation score: 0.917705\n",
      "Iteration 24, loss = 0.09937165\n",
      "Validation score: 0.913551\n",
      "Iteration 25, loss = 0.09116725\n",
      "Validation score: 0.925223\n",
      "Iteration 26, loss = 0.08686521\n",
      "Validation score: 0.919486\n",
      "Iteration 27, loss = 0.08334350\n",
      "Validation score: 0.922453\n",
      "Iteration 28, loss = 0.08096201\n",
      "Validation score: 0.923640\n",
      "Iteration 29, loss = 0.08178548\n",
      "Validation score: 0.920870\n",
      "Iteration 30, loss = 0.07502148\n",
      "Validation score: 0.922057\n",
      "Iteration 31, loss = 0.07708381\n",
      "Validation score: 0.931949\n",
      "Iteration 32, loss = 0.08055094\n",
      "Validation score: 0.917112\n",
      "Iteration 33, loss = 0.07454518\n",
      "Validation score: 0.922651\n",
      "Iteration 34, loss = 0.06402472\n",
      "Validation score: 0.922651\n",
      "Iteration 35, loss = 0.07238067\n",
      "Validation score: 0.926014\n",
      "Iteration 36, loss = 0.07060910\n",
      "Validation score: 0.931157\n",
      "Iteration 37, loss = 0.06786643\n",
      "Validation score: 0.917507\n",
      "Iteration 38, loss = 0.06375887\n",
      "Validation score: 0.929377\n",
      "Iteration 39, loss = 0.06043171\n",
      "Validation score: 0.930366\n",
      "Iteration 40, loss = 0.06331680\n",
      "Validation score: 0.931355\n",
      "Iteration 41, loss = 0.07254079\n",
      "Validation score: 0.923244\n",
      "Iteration 42, loss = 0.06207245\n",
      "Validation score: 0.925816\n",
      "Validation score did not improve more than tol=0.000100 for 10 consecutive epochs. Stopping.\n",
      "Iteration 1, loss = 0.57330803\n",
      "Validation score: 0.700890\n",
      "Iteration 2, loss = 0.55231919\n",
      "Validation score: 0.704055\n",
      "Iteration 3, loss = 0.53980146\n",
      "Validation score: 0.713353\n",
      "Iteration 4, loss = 0.52637715\n",
      "Validation score: 0.724827\n",
      "Iteration 5, loss = 0.51236898\n",
      "Validation score: 0.724827\n",
      "Iteration 6, loss = 0.49793560\n",
      "Validation score: 0.737290\n",
      "Iteration 7, loss = 0.48371777\n",
      "Validation score: 0.748566\n",
      "Iteration 8, loss = 0.46784482\n",
      "Validation score: 0.756677\n",
      "Iteration 9, loss = 0.45385907\n",
      "Validation score: 0.753511\n",
      "Iteration 10, loss = 0.43924093\n",
      "Validation score: 0.768348\n",
      "Iteration 11, loss = 0.42754442\n",
      "Validation score: 0.785559\n",
      "Iteration 12, loss = 0.41175972\n",
      "Validation score: 0.793472\n",
      "Iteration 13, loss = 0.40052821\n",
      "Validation score: 0.790307\n",
      "Iteration 14, loss = 0.38851943\n",
      "Validation score: 0.798220\n",
      "Iteration 15, loss = 0.37709170\n",
      "Validation score: 0.796439\n",
      "Iteration 16, loss = 0.36717006\n",
      "Validation score: 0.794263\n",
      "Iteration 17, loss = 0.35841589\n",
      "Validation score: 0.812463\n",
      "Iteration 18, loss = 0.34708563\n",
      "Validation score: 0.813848\n",
      "Iteration 19, loss = 0.33810506\n",
      "Validation score: 0.814243\n",
      "Iteration 20, loss = 0.32867232\n",
      "Validation score: 0.821365\n",
      "Iteration 21, loss = 0.32338271\n",
      "Validation score: 0.823145\n",
      "Iteration 22, loss = 0.31209824\n",
      "Validation score: 0.833630\n",
      "Iteration 23, loss = 0.30350092\n",
      "Validation score: 0.825915\n",
      "Iteration 24, loss = 0.29766153\n",
      "Validation score: 0.837389\n",
      "Iteration 25, loss = 0.29023196\n",
      "Validation score: 0.843521\n",
      "Iteration 26, loss = 0.28204334\n",
      "Validation score: 0.836597\n",
      "Iteration 27, loss = 0.28335248\n",
      "Validation score: 0.848863\n",
      "Iteration 28, loss = 0.27437432\n",
      "Validation score: 0.850247\n",
      "Iteration 29, loss = 0.27288003\n",
      "Validation score: 0.850445\n",
      "Iteration 30, loss = 0.26339030\n",
      "Validation score: 0.864688\n",
      "Iteration 31, loss = 0.25732065\n",
      "Validation score: 0.853412\n",
      "Iteration 32, loss = 0.25328139\n",
      "Validation score: 0.858952\n",
      "Iteration 33, loss = 0.24786158\n",
      "Validation score: 0.856380\n",
      "Iteration 34, loss = 0.24501986\n",
      "Validation score: 0.865084\n",
      "Iteration 35, loss = 0.23920381\n",
      "Validation score: 0.858952\n",
      "Iteration 36, loss = 0.23644814\n",
      "Validation score: 0.858160\n",
      "Iteration 37, loss = 0.23185303\n",
      "Validation score: 0.869634\n",
      "Iteration 38, loss = 0.22630183\n",
      "Validation score: 0.869238\n",
      "Iteration 39, loss = 0.22163310\n",
      "Validation score: 0.871019\n",
      "Iteration 40, loss = 0.21871218\n",
      "Validation score: 0.872404\n",
      "Iteration 41, loss = 0.21845417\n",
      "Validation score: 0.873393\n",
      "Iteration 42, loss = 0.21218798\n",
      "Validation score: 0.874184\n",
      "Iteration 43, loss = 0.20696662\n",
      "Validation score: 0.875964\n",
      "Iteration 44, loss = 0.20450217\n",
      "Validation score: 0.876954\n",
      "Iteration 45, loss = 0.20609946\n",
      "Validation score: 0.874382\n",
      "Iteration 46, loss = 0.19943176\n",
      "Validation score: 0.874580\n",
      "Iteration 47, loss = 0.19374065\n",
      "Validation score: 0.885658\n",
      "Iteration 48, loss = 0.19283788\n",
      "Validation score: 0.876954\n",
      "Iteration 49, loss = 0.19071235\n",
      "Validation score: 0.878734\n",
      "Iteration 50, loss = 0.18617896\n",
      "Validation score: 0.883877\n",
      "Iteration 51, loss = 0.18739931\n",
      "Validation score: 0.877547\n",
      "Iteration 52, loss = 0.18388099\n",
      "Validation score: 0.886449\n",
      "Iteration 53, loss = 0.17887319\n",
      "Validation score: 0.892582\n",
      "Iteration 54, loss = 0.17510454\n",
      "Validation score: 0.886053\n",
      "Iteration 55, loss = 0.17872255\n",
      "Validation score: 0.883877\n",
      "Iteration 56, loss = 0.17457621\n",
      "Validation score: 0.888625\n",
      "Iteration 57, loss = 0.17125972\n",
      "Validation score: 0.885658\n",
      "Iteration 58, loss = 0.16580691\n",
      "Validation score: 0.885658\n",
      "Iteration 59, loss = 0.16687167\n",
      "Validation score: 0.896934\n",
      "Iteration 60, loss = 0.16285759\n",
      "Validation score: 0.895351\n",
      "Iteration 61, loss = 0.16409401\n",
      "Validation score: 0.893966\n",
      "Iteration 62, loss = 0.16133912\n",
      "Validation score: 0.889416\n",
      "Iteration 63, loss = 0.15426549\n",
      "Validation score: 0.894955\n",
      "Iteration 64, loss = 0.15494800\n",
      "Validation score: 0.883877\n",
      "Iteration 65, loss = 0.15468493\n",
      "Validation score: 0.903660\n",
      "Iteration 66, loss = 0.15522799\n",
      "Validation score: 0.893769\n",
      "Iteration 67, loss = 0.15022172\n",
      "Validation score: 0.892582\n",
      "Iteration 68, loss = 0.14927851\n",
      "Validation score: 0.901286\n",
      "Iteration 69, loss = 0.14947810\n",
      "Validation score: 0.896142\n",
      "Iteration 70, loss = 0.14900039\n",
      "Validation score: 0.893966\n",
      "Iteration 71, loss = 0.13982624\n",
      "Validation score: 0.903066\n",
      "Iteration 72, loss = 0.14389187\n",
      "Validation score: 0.900890\n",
      "Iteration 73, loss = 0.14128673\n",
      "Validation score: 0.904055\n",
      "Iteration 74, loss = 0.14085949\n",
      "Validation score: 0.896538\n",
      "Iteration 75, loss = 0.13723825\n",
      "Validation score: 0.903858\n",
      "Iteration 76, loss = 0.13505717\n",
      "Validation score: 0.904055\n",
      "Iteration 77, loss = 0.13541222\n",
      "Validation score: 0.901484\n",
      "Iteration 78, loss = 0.13465241\n",
      "Validation score: 0.893769\n",
      "Iteration 79, loss = 0.13992227\n",
      "Validation score: 0.901088\n",
      "Iteration 80, loss = 0.12931261\n",
      "Validation score: 0.903066\n",
      "Iteration 81, loss = 0.12465855\n",
      "Validation score: 0.909199\n",
      "Iteration 82, loss = 0.12909149\n",
      "Validation score: 0.911375\n",
      "Iteration 83, loss = 0.13236172\n",
      "Validation score: 0.909594\n",
      "Iteration 84, loss = 0.12432258\n",
      "Validation score: 0.908803\n",
      "Iteration 85, loss = 0.12641086\n",
      "Validation score: 0.910979\n",
      "Iteration 86, loss = 0.12442374\n",
      "Validation score: 0.913947\n",
      "Iteration 87, loss = 0.12835073\n",
      "Validation score: 0.913947\n",
      "Iteration 88, loss = 0.12301191\n",
      "Validation score: 0.915134\n",
      "Iteration 89, loss = 0.12069449\n",
      "Validation score: 0.903462\n",
      "Iteration 90, loss = 0.11777278\n",
      "Validation score: 0.903462\n",
      "Iteration 91, loss = 0.12404978\n",
      "Validation score: 0.916320\n",
      "Iteration 92, loss = 0.11887503\n",
      "Validation score: 0.914342\n",
      "Iteration 93, loss = 0.11366074\n",
      "Validation score: 0.899505\n",
      "Iteration 94, loss = 0.12110635\n",
      "Validation score: 0.903066\n",
      "Iteration 95, loss = 0.11552910\n",
      "Validation score: 0.910781\n",
      "Iteration 96, loss = 0.11419314\n",
      "Validation score: 0.911968\n"
     ]
    },
    {
     "name": "stdout",
     "output_type": "stream",
     "text": [
      "Iteration 97, loss = 0.12256008\n",
      "Validation score: 0.905242\n",
      "Iteration 98, loss = 0.11431645\n",
      "Validation score: 0.912760\n",
      "Iteration 99, loss = 0.11201425\n",
      "Validation score: 0.915529\n",
      "Iteration 100, loss = 0.10848371\n",
      "Validation score: 0.909397\n",
      "Iteration 101, loss = 0.10614389\n",
      "Validation score: 0.904649\n",
      "Iteration 102, loss = 0.11164762\n",
      "Validation score: 0.916914\n",
      "Iteration 103, loss = 0.11209671\n",
      "Validation score: 0.905836\n",
      "Iteration 104, loss = 0.10906200\n",
      "Validation score: 0.910188\n",
      "Iteration 105, loss = 0.10476748\n",
      "Validation score: 0.909990\n",
      "Iteration 106, loss = 0.11122429\n",
      "Validation score: 0.909792\n",
      "Iteration 107, loss = 0.10502549\n",
      "Validation score: 0.919288\n",
      "Iteration 108, loss = 0.10180094\n",
      "Validation score: 0.918892\n",
      "Iteration 109, loss = 0.10136023\n",
      "Validation score: 0.908012\n",
      "Iteration 110, loss = 0.10664119\n",
      "Validation score: 0.917507\n",
      "Iteration 111, loss = 0.10293620\n",
      "Validation score: 0.916320\n",
      "Iteration 112, loss = 0.11947076\n",
      "Validation score: 0.894164\n",
      "Iteration 113, loss = 0.11190286\n",
      "Validation score: 0.921860\n",
      "Iteration 114, loss = 0.09398701\n",
      "Validation score: 0.919881\n",
      "Iteration 115, loss = 0.09901050\n",
      "Validation score: 0.906825\n",
      "Iteration 116, loss = 0.10237304\n",
      "Validation score: 0.916914\n",
      "Iteration 117, loss = 0.10077175\n",
      "Validation score: 0.916518\n",
      "Iteration 118, loss = 0.10207948\n",
      "Validation score: 0.907221\n",
      "Iteration 119, loss = 0.10196449\n",
      "Validation score: 0.917903\n",
      "Iteration 120, loss = 0.09959117\n",
      "Validation score: 0.917310\n",
      "Iteration 121, loss = 0.09460524\n",
      "Validation score: 0.926014\n",
      "Iteration 122, loss = 0.09721610\n",
      "Validation score: 0.917310\n",
      "Iteration 123, loss = 0.09614555\n",
      "Validation score: 0.919683\n",
      "Iteration 124, loss = 0.09664914\n",
      "Validation score: 0.915331\n",
      "Iteration 125, loss = 0.09612944\n",
      "Validation score: 0.910386\n",
      "Iteration 126, loss = 0.09315450\n",
      "Validation score: 0.915727\n",
      "Iteration 127, loss = 0.09338246\n",
      "Validation score: 0.909397\n",
      "Iteration 128, loss = 0.09998416\n",
      "Validation score: 0.920673\n",
      "Iteration 129, loss = 0.08686188\n",
      "Validation score: 0.903660\n",
      "Iteration 130, loss = 0.09772999\n",
      "Validation score: 0.920673\n",
      "Iteration 131, loss = 0.09810758\n",
      "Validation score: 0.922255\n",
      "Iteration 132, loss = 0.08309455\n",
      "Validation score: 0.924036\n",
      "Validation score did not improve more than tol=0.000100 for 10 consecutive epochs. Stopping.\n"
     ]
    },
    {
     "data": {
      "text/plain": [
       "GridSearchCV(cv=3, error_score='raise-deprecating',\n",
       "       estimator=MLPClassifier(activation='relu', alpha=0.0001, batch_size='auto', beta_1=0.9,\n",
       "       beta_2=0.999, early_stopping=True, epsilon=1e-08,\n",
       "       hidden_layer_sizes=(100,), learning_rate='constant',\n",
       "       learning_rate_init=0.001, max_iter=200, momentum=0.9,\n",
       "       n_iter_no_change=10, nesterovs_momentum=True, power_t=0.5,\n",
       "       random_state=101, shuffle=True, solver='adam', tol=0.0001,\n",
       "       validation_fraction=0.1, verbose=True, warm_start=False),\n",
       "       fit_params=None, iid='warn', n_jobs=-1,\n",
       "       param_grid=[{'hidden_layer_sizes': [(128,), (128, 64, 32)], 'activation': ['logistic', 'relu'], 'solver': ['adam'], 'batch_size': [64], 'shuffle': [True], 'learning_rate_init': [0.001], 'n_iter_no_change': [10], 'max_iter': [200], 'warm_start': [True], 'early_stopping': [True], 'alpha': [0.1, 0.0001...er_no_change': [10], 'warm_start': [True], 'early_stopping': [True], 'alpha': [0.1, 0.0001, 1e-06]}],\n",
       "       pre_dispatch='2*n_jobs', refit=True, return_train_score='warn',\n",
       "       scoring=None, verbose=0)"
      ]
     },
     "execution_count": 55,
     "metadata": {},
     "output_type": "execute_result"
    }
   ],
   "source": [
    "params = [\n",
    "    {\n",
    "        'hidden_layer_sizes': [(128, 64, 32, 16)],\n",
    "        'activation': ['relu'],\n",
    "        'solver' : ['adam',],\n",
    "        'batch_size': [64],\n",
    "        'shuffle': [True],\n",
    "        'learning_rate_init': [0.001],\n",
    "        'n_iter_no_change': [10],\n",
    "        'max_iter':[200],\n",
    "        'warm_start': [True],\n",
    "        'early_stopping': [True],\n",
    "        'alpha': [0.01, 0.001],\n",
    "    },      \n",
    "]\n",
    "\n",
    "\n",
    "\n",
    "rfe_cv = GridSearchCV(param_grid=params, estimator=MLPClassifier(random_state=rs, early_stopping=True, verbose=True), cv=3, n_jobs=-1)\n",
    "rfe_cv.fit(X_train_rfe, y_train_log)\n",
    "modelSelect_cv = GridSearchCV(param_grid=params, estimator=MLPClassifier(random_state=rs, early_stopping=True, verbose=True), cv=3, n_jobs=-1)\n",
    "modelSelect_cv.fit(X_train_sel_model, y_train_log)"
   ]
  },
  {
   "cell_type": "markdown",
   "metadata": {},
   "source": [
    "### a. Did feature selection help here? Any change in the network architecture? What inputs are being used as the network input?"
   ]
  },
  {
   "cell_type": "code",
   "execution_count": 56,
   "metadata": {},
   "outputs": [
    {
     "name": "stdout",
     "output_type": "stream",
     "text": [
      "Best Parameters of NN:  {'activation': 'relu', 'alpha': 0.001, 'batch_size': 64, 'early_stopping': True, 'hidden_layer_sizes': (128, 64, 32, 16), 'learning_rate_init': 0.001, 'max_iter': 200, 'n_iter_no_change': 10, 'shuffle': True, 'solver': 'adam', 'warm_start': True}\n",
      "Best Parameters of RFE NN:  {'activation': 'relu', 'alpha': 1e-06, 'batch_size': 64, 'early_stopping': True, 'hidden_layer_sizes': (128, 64, 32), 'learning_rate_init': 0.001, 'max_iter': 200, 'n_iter_no_change': 10, 'shuffle': True, 'solver': 'adam', 'warm_start': True}\n",
      "Best Parameters of modelSelect NN:  {'activation': 'relu', 'alpha': 0.0001, 'batch_size': 64, 'early_stopping': True, 'hidden_layer_sizes': (128, 64, 32), 'learning_rate_init': 0.001, 'max_iter': 200, 'n_iter_no_change': 10, 'shuffle': True, 'solver': 'adam', 'warm_start': True}\n",
      "\n",
      "\n",
      "\n",
      "GridSearch:\n",
      "Number of Layers:  6\n",
      "The First layer is Input Layer, and the last layer is the output layer\n",
      "1 Layer with hidden size 149\n",
      "2 Layer with hidden size 128\n",
      "3 Layer with hidden size 64\n",
      "4 Layer with hidden size 32\n",
      "5 Layer with hidden size 16\n",
      "6 Layer with hidden size 1\n",
      "The activation function:  relu\n",
      "\n",
      "\n",
      "RFE:\n",
      "Number of Layers:  5\n",
      "The First layer is Input Layer, and the last layer is the output layer\n",
      "1 Layer with hidden size 126\n",
      "2 Layer with hidden size 128\n",
      "3 Layer with hidden size 64\n",
      "4 Layer with hidden size 32\n",
      "5 Layer with hidden size 1\n",
      "The activation function:  relu\n",
      "\n",
      "\n",
      "modelSelect:\n",
      "Number of Layers:  5\n",
      "The First layer is Input Layer, and the last layer is the output layer\n",
      "1 Layer with hidden size 24\n",
      "2 Layer with hidden size 128\n",
      "3 Layer with hidden size 64\n",
      "4 Layer with hidden size 32\n",
      "5 Layer with hidden size 1\n",
      "The activation function:  relu\n",
      "\n",
      "\n"
     ]
    }
   ],
   "source": [
    "print(\"Best Parameters of NN: \", cv.best_params_)\n",
    "print(\"Best Parameters of RFE NN: \", rfe_cv.best_params_)\n",
    "print(\"Best Parameters of modelSelect NN: \", modelSelect_cv.best_params_)\n",
    "print(\"\\n\\n\")\n",
    "\n",
    "print(\"GridSearch:\")\n",
    "printMLPArchitecture(cv.best_estimator_)\n",
    "print(\"\\n\")\n",
    "print(\"RFE:\")\n",
    "printMLPArchitecture(rfe_cv.best_estimator_)\n",
    "print(\"\\n\")\n",
    "print(\"modelSelect:\")\n",
    "printMLPArchitecture(modelSelect_cv.best_estimator_)\n",
    "print(\"\\n\")\n"
   ]
  },
  {
   "cell_type": "markdown",
   "metadata": {},
   "source": [
    "### b. What is classification accuracy on training and test datasets? Is there any improvement in the outcome?"
   ]
  },
  {
   "cell_type": "code",
   "execution_count": 57,
   "metadata": {},
   "outputs": [
    {
     "name": "stdout",
     "output_type": "stream",
     "text": [
      "GridSearch NN Train accuracy: 0.9844893760139279\n",
      "GridSearch NN Test accuracy: 0.8415976854456321\n",
      "RFE NN Train accuracy: 0.9759624896134215\n",
      "RFE NNTest accuracy: 0.8274531865305794\n",
      "modelSelect NN Train accuracy: 0.9666640288054446\n",
      "modelSelect NN Test accuracmodelSelect_cvy: 0.8104958611267379\n"
     ]
    }
   ],
   "source": [
    "print(\"GridSearch NN Train accuracy:\", cv.score(X_train_log, y_train_log))\n",
    "print(\"GridSearch NN Test accuracy:\", cv.score(X_test_log, y_test_log))\n",
    "print(\"RFE NN Train accuracy:\", rfe_cv.score(X_train_rfe, y_train_log))\n",
    "print(\"RFE NNTest accuracy:\", rfe_cv.score(X_test_rfe, y_test_log))\n",
    "print(\"modelSelect NN Train accuracy:\", modelSelect_cv.score(X_train_sel_model, y_train_log))\n",
    "print(\"modelSelect NN Test accuracmodelSelect_cvy:\", modelSelect_cv.score(X_test_sel_model, y_test_log))"
   ]
  },
  {
   "cell_type": "markdown",
   "metadata": {},
   "source": [
    "### c. How many iterations are now needed to train this network?"
   ]
  },
  {
   "cell_type": "code",
   "execution_count": 58,
   "metadata": {},
   "outputs": [
    {
     "name": "stdout",
     "output_type": "stream",
     "text": [
      "Number of iterations GS ran:  83\n",
      "Number of iterations rfe ran:  42\n",
      "Number of iterations modelSelect ran:  132\n"
     ]
    }
   ],
   "source": [
    "print(\"Number of iterations GS ran: \",cv.best_estimator_.n_iter_)\n",
    "print(\"Number of iterations rfe ran: \",rfe_cv.best_estimator_.n_iter_)\n",
    "print(\"Number of iterations modelSelect ran: \",modelSelect_cv.best_estimator_.n_iter_)"
   ]
  },
  {
   "cell_type": "markdown",
   "metadata": {},
   "source": [
    "### d. Do you see any sign of over-fitting?"
   ]
  },
  {
   "cell_type": "code",
   "execution_count": null,
   "metadata": {},
   "outputs": [],
   "source": []
  },
  {
   "cell_type": "markdown",
   "metadata": {},
   "source": [
    "### e. Did the training process converge and resulted in the best model? "
   ]
  },
  {
   "cell_type": "code",
   "execution_count": 59,
   "metadata": {},
   "outputs": [
    {
     "data": {
      "text/plain": [
       "<matplotlib.legend.Legend at 0x7f483786e390>"
      ]
     },
     "execution_count": 59,
     "metadata": {},
     "output_type": "execute_result"
    },
    {
     "data": {
      "image/png": "[encoded data removed]",
      "text/plain": [
       "<Figure size 720x360 with 1 Axes>"
      ]
     },
     "metadata": {
      "needs_background": "light"
     },
     "output_type": "display_data"
    }
   ],
   "source": [
    "fig = plt.figure(figsize=(10, 5))\n",
    "plt.ylabel('Loss',fontsize=15)\n",
    "plt.xlabel('Number of iterations',fontsize=15)\n",
    "plt.title('Training Loss',fontsize=20,fontweight =\"bold\")\n",
    "plt.plot(cv.best_estimator_.loss_curve_, label=\"GridSearch Loss\")\n",
    "plt.plot(rfe_cv.best_estimator_.loss_curve_, label=\"RFE Loss\")\n",
    "plt.plot(modelSelect_cv.best_estimator_.loss_curve_, label=\"modelSelect Loss\")\n",
    "plt.legend(loc='upper right')"
   ]
  },
  {
   "cell_type": "markdown",
   "metadata": {},
   "source": [
    "# 4. Using the comparison methods, which of the models (i.e one with selected variables and another with all variables) appears to be better? From the better model, can you identify cars those could potential be “kicks”? Can you provide some descriptive summary of those cars? Is it easy to comprehend the performance of the best neural network model for decision making?"
   ]
  },
  {
   "cell_type": "code",
   "execution_count": 60,
   "metadata": {
    "scrolled": false
   },
   "outputs": [
    {
     "name": "stdout",
     "output_type": "stream",
     "text": [
      "GridSearch Classification Report: \n",
      "              precision    recall  f1-score   support\n",
      "\n",
      "           0       0.90      0.92      0.91     10832\n",
      "           1       0.37      0.33      0.35      1611\n",
      "\n",
      "   micro avg       0.84      0.84      0.84     12443\n",
      "   macro avg       0.64      0.63      0.63     12443\n",
      "weighted avg       0.83      0.84      0.84     12443\n",
      "\n",
      "\n",
      "\n",
      "RFE Classification Report: \n",
      "              precision    recall  f1-score   support\n",
      "\n",
      "           0       0.90      0.90      0.90     10832\n",
      "           1       0.34      0.35      0.35      1611\n",
      "\n",
      "   micro avg       0.83      0.83      0.83     12443\n",
      "   macro avg       0.62      0.63      0.62     12443\n",
      "weighted avg       0.83      0.83      0.83     12443\n",
      "\n",
      "\n",
      "\n",
      "modelSelect Classification Report: \n",
      "              precision    recall  f1-score   support\n",
      "\n",
      "           0       0.90      0.88      0.89     10832\n",
      "           1       0.30      0.35      0.33      1611\n",
      "\n",
      "   micro avg       0.81      0.81      0.81     12443\n",
      "   macro avg       0.60      0.62      0.61     12443\n",
      "weighted avg       0.82      0.81      0.82     12443\n",
      "\n"
     ]
    }
   ],
   "source": [
    "print(\"GridSearch Classification Report: \")\n",
    "y_pred = cv.predict(X_test_log)\n",
    "print(classification_report(y_test_log, y_pred))\n",
    "print(\"\\n\\nRFE Classification Report: \")\n",
    "y_pred = rfe_cv.predict(X_test_rfe)\n",
    "print(classification_report(y_test_log, y_pred))\n",
    "print(\"\\n\\nmodelSelect Classification Report: \")\n",
    "y_pred = modelSelect_cv.predict(X_test_sel_model)\n",
    "print(classification_report(y_test_log, y_pred))"
   ]
  },
  {
   "cell_type": "markdown",
   "metadata": {},
   "source": [
    "# Task 5. Generating an Ensemble Model and Comparing Models"
   ]
  },
  {
   "cell_type": "markdown",
   "metadata": {},
   "source": [
    "## 1. Generate an ensemble model to include the best regression model, best decision tree model, and best neural network model."
   ]
  },
  {
   "cell_type": "code",
   "execution_count": 61,
   "metadata": {},
   "outputs": [
    {
     "name": "stdout",
     "output_type": "stream",
     "text": [
      "Iteration 1, loss = 0.54693080\n",
      "Validation score: 0.735312\n",
      "Iteration 2, loss = 0.47179153\n",
      "Validation score: 0.777844\n",
      "Iteration 3, loss = 0.40331981\n",
      "Validation score: 0.812265\n",
      "Iteration 4, loss = 0.33787091\n",
      "Validation score: 0.831454\n",
      "Iteration 5, loss = 0.29212924\n",
      "Validation score: 0.867656\n",
      "Iteration 6, loss = 0.25190921\n",
      "Validation score: 0.881701\n",
      "Iteration 7, loss = 0.21855853\n",
      "Validation score: 0.883680\n",
      "Iteration 8, loss = 0.19788286\n",
      "Validation score: 0.902868\n",
      "Iteration 9, loss = 0.18081237\n",
      "Validation score: 0.910584\n",
      "Iteration 10, loss = 0.16247232\n",
      "Validation score: 0.901879\n",
      "Iteration 11, loss = 0.15504546\n",
      "Validation score: 0.905440\n",
      "Iteration 12, loss = 0.14536334\n",
      "Validation score: 0.916716\n",
      "Iteration 13, loss = 0.13576600\n",
      "Validation score: 0.918101\n",
      "Iteration 14, loss = 0.13033542\n",
      "Validation score: 0.916716\n",
      "Iteration 15, loss = 0.12545532\n",
      "Validation score: 0.918101\n",
      "Iteration 16, loss = 0.11629657\n",
      "Validation score: 0.904055\n",
      "Iteration 17, loss = 0.11284304\n",
      "Validation score: 0.921464\n",
      "Iteration 18, loss = 0.11189941\n",
      "Validation score: 0.916914\n",
      "Iteration 19, loss = 0.10325006\n",
      "Validation score: 0.919881\n",
      "Iteration 20, loss = 0.10414006\n",
      "Validation score: 0.922255\n",
      "Iteration 21, loss = 0.09889908\n",
      "Validation score: 0.916123\n",
      "Iteration 22, loss = 0.09608051\n",
      "Validation score: 0.934125\n",
      "Iteration 23, loss = 0.09218121\n",
      "Validation score: 0.921068\n",
      "Iteration 24, loss = 0.09992786\n",
      "Validation score: 0.932542\n",
      "Iteration 25, loss = 0.09121864\n",
      "Validation score: 0.923046\n",
      "Iteration 26, loss = 0.09121179\n",
      "Validation score: 0.927003\n",
      "Iteration 27, loss = 0.08499365\n",
      "Validation score: 0.926805\n",
      "Iteration 28, loss = 0.08393078\n",
      "Validation score: 0.925618\n",
      "Iteration 29, loss = 0.08556150\n",
      "Validation score: 0.926014\n",
      "Iteration 30, loss = 0.07823876\n",
      "Validation score: 0.935114\n",
      "Iteration 31, loss = 0.08434710\n",
      "Validation score: 0.932542\n",
      "Iteration 32, loss = 0.07646444\n",
      "Validation score: 0.930762\n",
      "Iteration 33, loss = 0.07609882\n",
      "Validation score: 0.927596\n",
      "Iteration 34, loss = 0.07801165\n",
      "Validation score: 0.936894\n",
      "Iteration 35, loss = 0.07598078\n",
      "Validation score: 0.938675\n",
      "Iteration 36, loss = 0.07703660\n",
      "Validation score: 0.925025\n",
      "Iteration 37, loss = 0.07983014\n",
      "Validation score: 0.931751\n",
      "Iteration 38, loss = 0.06890338\n",
      "Validation score: 0.937290\n",
      "Iteration 39, loss = 0.06798918\n",
      "Validation score: 0.914738\n",
      "Iteration 40, loss = 0.07286112\n",
      "Validation score: 0.929970\n",
      "Iteration 41, loss = 0.07699081\n",
      "Validation score: 0.930168\n",
      "Iteration 42, loss = 0.06542391\n",
      "Validation score: 0.935509\n",
      "Iteration 43, loss = 0.06830986\n",
      "Validation score: 0.941246\n",
      "Iteration 44, loss = 0.06397221\n",
      "Validation score: 0.935114\n",
      "Iteration 45, loss = 0.07137154\n",
      "Validation score: 0.941048\n",
      "Iteration 46, loss = 0.06991063\n",
      "Validation score: 0.935509\n",
      "Iteration 47, loss = 0.06207058\n",
      "Validation score: 0.932542\n",
      "Iteration 48, loss = 0.06402944\n",
      "Validation score: 0.940455\n",
      "Iteration 49, loss = 0.05873632\n",
      "Validation score: 0.939070\n",
      "Iteration 50, loss = 0.06306456\n",
      "Validation score: 0.933333\n",
      "Iteration 51, loss = 0.07488623\n",
      "Validation score: 0.935509\n",
      "Iteration 52, loss = 0.06438127\n",
      "Validation score: 0.934125\n",
      "Iteration 53, loss = 0.05928741\n",
      "Validation score: 0.941444\n",
      "Iteration 54, loss = 0.06207190\n",
      "Validation score: 0.938081\n",
      "Iteration 55, loss = 0.06144641\n",
      "Validation score: 0.920475\n",
      "Iteration 56, loss = 0.06293869\n",
      "Validation score: 0.937685\n",
      "Iteration 57, loss = 0.05972565\n",
      "Validation score: 0.929179\n",
      "Iteration 58, loss = 0.05873227\n",
      "Validation score: 0.932344\n",
      "Iteration 59, loss = 0.06258876\n",
      "Validation score: 0.940653\n",
      "Iteration 60, loss = 0.05570789\n",
      "Validation score: 0.936696\n",
      "Iteration 61, loss = 0.05624749\n",
      "Validation score: 0.940059\n",
      "Iteration 62, loss = 0.05877355\n",
      "Validation score: 0.936696\n",
      "Iteration 63, loss = 0.06326369\n",
      "Validation score: 0.939862\n",
      "Iteration 64, loss = 0.05362035\n",
      "Validation score: 0.945796\n",
      "Iteration 65, loss = 0.05962739\n",
      "Validation score: 0.928981\n",
      "Iteration 66, loss = 0.05404427\n",
      "Validation score: 0.944411\n",
      "Iteration 67, loss = 0.05856537\n",
      "Validation score: 0.929773\n",
      "Iteration 68, loss = 0.05812045\n",
      "Validation score: 0.935509\n",
      "Iteration 69, loss = 0.05249832\n",
      "Validation score: 0.937092\n",
      "Iteration 70, loss = 0.05692958\n",
      "Validation score: 0.942235\n",
      "Iteration 71, loss = 0.06169963\n",
      "Validation score: 0.933927\n",
      "Iteration 72, loss = 0.05295570\n",
      "Validation score: 0.948961\n",
      "Iteration 73, loss = 0.04822423\n",
      "Validation score: 0.940653\n",
      "Iteration 74, loss = 0.05481595\n",
      "Validation score: 0.932542\n",
      "Iteration 75, loss = 0.05504483\n",
      "Validation score: 0.938477\n",
      "Iteration 76, loss = 0.05376706\n",
      "Validation score: 0.939466\n",
      "Iteration 77, loss = 0.05802848\n",
      "Validation score: 0.928783\n",
      "Iteration 78, loss = 0.05205336\n",
      "Validation score: 0.942829\n",
      "Iteration 79, loss = 0.05029906\n",
      "Validation score: 0.938675\n",
      "Iteration 80, loss = 0.05840547\n",
      "Validation score: 0.934125\n",
      "Iteration 81, loss = 0.05243236\n",
      "Validation score: 0.943620\n",
      "Iteration 82, loss = 0.05094091\n",
      "Validation score: 0.930762\n",
      "Iteration 83, loss = 0.04746883\n",
      "Validation score: 0.941444\n",
      "Validation score did not improve more than tol=0.000100 for 10 consecutive epochs. Stopping.\n"
     ]
    }
   ],
   "source": [
    "voting = VotingClassifier(estimators=[('dt', dt_model), ('lr', log_reg_model), ('nn', nn_model)], voting='soft')\n",
    "voting.fit(X_train_log, y_train_log)\n",
    "\n",
    "y_pred_dt = dt_model.predict(X_test_log)\n",
    "y_pred_log_reg = log_reg_model.predict(X_test_log)\n",
    "y_pred_nn = nn_model.predict(X_test_log)\n",
    "y_pred_ensemble = voting.predict(X_test_log)\n"
   ]
  },
  {
   "cell_type": "markdown",
   "metadata": {},
   "source": [
    "### a. Does the Ensemble model outperform the underlying models? Resonate your answer."
   ]
  },
  {
   "cell_type": "code",
   "execution_count": 62,
   "metadata": {},
   "outputs": [
    {
     "name": "stdout",
     "output_type": "stream",
     "text": [
      "Report for DT: \n",
      "               precision    recall  f1-score   support\n",
      "\n",
      "           0       0.87      0.95      0.91     10832\n",
      "           1       0.16      0.07      0.10      1611\n",
      "\n",
      "   micro avg       0.83      0.83      0.83     12443\n",
      "   macro avg       0.52      0.51      0.50     12443\n",
      "weighted avg       0.78      0.83      0.80     12443\n",
      "\n",
      "\n",
      "Report for Logistic Regression: \n",
      "               precision    recall  f1-score   support\n",
      "\n",
      "           0       0.93      0.78      0.85     10832\n",
      "           1       0.29      0.61      0.39      1611\n",
      "\n",
      "   micro avg       0.76      0.76      0.76     12443\n",
      "   macro avg       0.61      0.69      0.62     12443\n",
      "weighted avg       0.85      0.76      0.79     12443\n",
      "\n",
      "\n",
      "Report for NN: \n",
      "               precision    recall  f1-score   support\n",
      "\n",
      "           0       0.90      0.92      0.91     10832\n",
      "           1       0.37      0.33      0.35      1611\n",
      "\n",
      "   micro avg       0.84      0.84      0.84     12443\n",
      "   macro avg       0.64      0.63      0.63     12443\n",
      "weighted avg       0.83      0.84      0.84     12443\n",
      "\n",
      "\n",
      "Report for Ensemble: \n",
      "               precision    recall  f1-score   support\n",
      "\n",
      "           0       0.91      0.93      0.92     10832\n",
      "           1       0.44      0.38      0.41      1611\n",
      "\n",
      "   micro avg       0.86      0.86      0.86     12443\n",
      "   macro avg       0.67      0.65      0.66     12443\n",
      "weighted avg       0.85      0.86      0.85     12443\n",
      "\n"
     ]
    }
   ],
   "source": [
    "print(\"Report for DT: \\n\",classification_report(y_test_log, y_pred_dt))\n",
    "print(\"\\nReport for Logistic Regression: \\n\",classification_report(y_test_log, y_pred_log_reg))\n",
    "print(\"\\nReport for NN: \\n\",classification_report(y_test_log, y_pred_nn))\n",
    "print(\"\\nReport for Ensemble: \\n\",classification_report(y_test_log, y_pred_ensemble))"
   ]
  },
  {
   "cell_type": "markdown",
   "metadata": {},
   "source": [
    "## 2. Use the comparison methods (or the comparison node) to compare the best decision tree model, the best regression model, the best neural network model and the ensemble model. "
   ]
  },
  {
   "cell_type": "markdown",
   "metadata": {},
   "source": [
    "### a. Discuss the findings led by (a) ROC Chart (and Index); (b) Score Ranking (or Accuracy Score); (c) Fit Statistics; (or Classification report) and (4) Output."
   ]
  },
  {
   "cell_type": "markdown",
   "metadata": {},
   "source": [
    "(a) ROC Chart (and Index)"
   ]
  },
  {
   "cell_type": "code",
   "execution_count": 63,
   "metadata": {},
   "outputs": [
    {
     "name": "stdout",
     "output_type": "stream",
     "text": [
      "ROC index on test for DT: 0.6106552750339935\n",
      "ROC index on test for logistic regression: 0.4997357932951725\n",
      "ROC index on test for NN: 0.5\n",
      "ROC index on voting classifier: 0.7459614568233351\n"
     ]
    },
    {
     "data": {
      "image/png": "[encoded data removed]",
      "text/plain": [
       "<Figure size 432x288 with 1 Axes>"
      ]
     },
     "metadata": {
      "needs_background": "light"
     },
     "output_type": "display_data"
    }
   ],
   "source": [
    "#### ROC\n",
    "\n",
    "y_pred_proba_dt = dt_model.predict_proba(X_test)\n",
    "y_pred_proba_log_reg = log_reg_model.predict_proba(X_test)\n",
    "y_pred_proba_nn = nn_model.predict_proba(X_test)\n",
    "y_pred_proba_ensemble = voting.predict_proba(X_test_log)\n",
    "\n",
    "roc_index_dt = roc_auc_score(y_test, y_pred_proba_dt[:, 1])\n",
    "roc_index_log_reg = roc_auc_score(y_test, y_pred_proba_log_reg[:, 1])\n",
    "roc_index_nn = roc_auc_score(y_test, y_pred_proba_nn[:, 1])\n",
    "roc_index_ensemble = roc_auc_score(y_test_log, y_pred_proba_ensemble[:, 1])\n",
    "\n",
    "\n",
    "print(\"ROC index on test for DT:\", roc_index_dt)\n",
    "print(\"ROC index on test for logistic regression:\", roc_index_log_reg)\n",
    "print(\"ROC index on test for NN:\", roc_index_nn)\n",
    "print(\"ROC index on voting classifier:\", roc_index_ensemble)\n",
    "\n",
    "\n",
    "fpr_dt, tpr_dt, thresholds_dt = roc_curve(y_test, y_pred_proba_dt[:,1])\n",
    "fpr_log_reg, tpr_log_reg, thresholds_log_reg = roc_curve(y_test, y_pred_proba_log_reg[:,1])\n",
    "fpr_nn, tpr_nn, thresholds_nn = roc_curve(y_test, y_pred_proba_nn[:,1])\n",
    "fpr_ensemble, tpr_ensemble, thresholds_ensemble = roc_curve(y_test, y_pred_proba_ensemble[:,1])\n",
    "\n",
    "\n",
    "plt.plot(fpr_dt, tpr_dt, label='ROC Curve for DT {:.3f}'.format(roc_index_dt), color='red', lw=0.5)\n",
    "plt.plot(fpr_log_reg, tpr_log_reg, label='ROC Curve for Log reg {:.3f}'.format(roc_index_log_reg), color='green', lw=0.5)\n",
    "plt.plot(fpr_nn, tpr_nn, label='ROC Curve for NN {:.3f}'.format(roc_index_nn), color='darkorange', lw=0.5)\n",
    "plt.plot(fpr_ensemble, tpr_ensemble, label='ROC Curve for Ensemble {:.3f}'.format(roc_index_ensemble), color='darkorange', lw=0.5)\n",
    "\n",
    "plt.plot([0, 1], [0, 1], color='navy', lw=0.5, linestyle='--')\n",
    "plt.xlim([0.0, 1.0])\n",
    "plt.ylim([0.0, 1.0])\n",
    "plt.xlabel('False Positive Rate')\n",
    "plt.ylabel('True Positive Rate')\n",
    "plt.title('Receiver operating characteristic example')\n",
    "plt.legend(loc=\"lower right\")\n",
    "plt.show()"
   ]
  },
  {
   "cell_type": "markdown",
   "metadata": {},
   "source": [
    "(b) Score Ranking (or Accuracy Score)"
   ]
  },
  {
   "cell_type": "code",
   "execution_count": 64,
   "metadata": {},
   "outputs": [
    {
     "name": "stdout",
     "output_type": "stream",
     "text": [
      "Accuracy score on test for DT: 0.8348469018725387\n",
      "Accuracy score on test for Logistic Regression: 0.7552840954753677\n",
      "Accuracy score on test for NN: 0.8415976854456321\n",
      "Accuracy score on test for Ensemble: 0.856465482600659\n"
     ]
    }
   ],
   "source": [
    "print(\"Accuracy score on test for DT:\", accuracy_score(y_test_log, y_pred_dt))\n",
    "print(\"Accuracy score on test for Logistic Regression:\", accuracy_score(y_test_log, y_pred_log_reg))\n",
    "print(\"Accuracy score on test for NN:\", accuracy_score(y_test_log, y_pred_nn))\n",
    "print(\"Accuracy score on test for Ensemble:\", accuracy_score(y_test_log, y_pred_ensemble))"
   ]
  },
  {
   "cell_type": "markdown",
   "metadata": {},
   "source": [
    "(c) Classification report"
   ]
  },
  {
   "cell_type": "code",
   "execution_count": 65,
   "metadata": {},
   "outputs": [
    {
     "name": "stdout",
     "output_type": "stream",
     "text": [
      "Report for DT: \n",
      "               precision    recall  f1-score   support\n",
      "\n",
      "           0       0.87      0.95      0.91     10832\n",
      "           1       0.16      0.07      0.10      1611\n",
      "\n",
      "   micro avg       0.83      0.83      0.83     12443\n",
      "   macro avg       0.52      0.51      0.50     12443\n",
      "weighted avg       0.78      0.83      0.80     12443\n",
      "\n",
      "\n",
      "Report for Logistic Regression: \n",
      "               precision    recall  f1-score   support\n",
      "\n",
      "           0       0.93      0.78      0.85     10832\n",
      "           1       0.29      0.61      0.39      1611\n",
      "\n",
      "   micro avg       0.76      0.76      0.76     12443\n",
      "   macro avg       0.61      0.69      0.62     12443\n",
      "weighted avg       0.85      0.76      0.79     12443\n",
      "\n",
      "\n",
      "Report for NN: \n",
      "               precision    recall  f1-score   support\n",
      "\n",
      "           0       0.90      0.92      0.91     10832\n",
      "           1       0.37      0.33      0.35      1611\n",
      "\n",
      "   micro avg       0.84      0.84      0.84     12443\n",
      "   macro avg       0.64      0.63      0.63     12443\n",
      "weighted avg       0.83      0.84      0.84     12443\n",
      "\n",
      "\n",
      "Report for Ensemble: \n",
      "               precision    recall  f1-score   support\n",
      "\n",
      "           0       0.91      0.93      0.92     10832\n",
      "           1       0.44      0.38      0.41      1611\n",
      "\n",
      "   micro avg       0.86      0.86      0.86     12443\n",
      "   macro avg       0.67      0.65      0.66     12443\n",
      "weighted avg       0.85      0.86      0.85     12443\n",
      "\n"
     ]
    }
   ],
   "source": [
    "print(\"Report for DT: \\n\",classification_report(y_test_log, y_pred_dt))\n",
    "print(\"\\nReport for Logistic Regression: \\n\",classification_report(y_test_log, y_pred_log_reg))\n",
    "print(\"\\nReport for NN: \\n\",classification_report(y_test_log, y_pred_nn))\n",
    "print(\"\\nReport for Ensemble: \\n\",classification_report(y_test_log, y_pred_ensemble))"
   ]
  },
  {
   "cell_type": "markdown",
   "metadata": {},
   "source": [
    "(d) Output"
   ]
  },
  {
   "cell_type": "code",
   "execution_count": null,
   "metadata": {},
   "outputs": [],
   "source": []
  },
  {
   "cell_type": "markdown",
   "metadata": {},
   "source": [
    "### b. Do all the models agree on the cars characteristics? How do they vary?"
   ]
  },
  {
   "cell_type": "code",
   "execution_count": null,
   "metadata": {},
   "outputs": [],
   "source": []
  },
  {
   "cell_type": "markdown",
   "metadata": {},
   "source": [
    "# Task 6. Final Remarks: Decision Making"
   ]
  },
  {
   "cell_type": "markdown",
   "metadata": {},
   "source": [
    "## 1. Finally, based on all models and analysis, is there"
   ]
  },
  {
   "cell_type": "markdown",
   "metadata": {},
   "source": [
    "## 2. Can you summarise positives and negatives of each predictive modelling method based on this analysis? "
   ]
  },
  {
   "cell_type": "markdown",
   "metadata": {},
   "source": [
    "## 3. How the outcome of this study can be used by decision makers? "
   ]
  },
  {
   "cell_type": "code",
   "execution_count": null,
   "metadata": {},
   "outputs": [],
   "source": []
  },
  {
   "cell_type": "code",
   "execution_count": null,
   "metadata": {},
   "outputs": [],
   "source": []
  },
  {
   "cell_type": "code",
   "execution_count": null,
   "metadata": {},
   "outputs": [],
   "source": []
  }
 ],
 "metadata": {
  "kernelspec": {
   "display_name": "Python 3",
   "language": "python",
   "name": "python3"
  },
  "language_info": {
   "codemirror_mode": {
    "name": "ipython",
    "version": 3
   },
   "file_extension": ".py",
   "mimetype": "text/x-python",
   "name": "python",
   "nbconvert_exporter": "python",
   "pygments_lexer": "ipython3",
   "version": "3.6.7"
  }
 },
 "nbformat": 4,
 "nbformat_minor": 2
}
