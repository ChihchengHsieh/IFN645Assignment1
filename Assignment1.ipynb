{
 "cells": [
  {
   "cell_type": "markdown",
   "metadata": {},
   "source": [
    "# Importing Necessary Libraries"
   ]
  },
  {
   "cell_type": "code",
   "execution_count": 1,
   "metadata": {},
   "outputs": [],
   "source": [
    "import pandas as pd\n",
    "import numpy as np\n",
    "import sklearn\n",
    "from sklearn.model_selection import train_test_split\n",
    "import matplotlib.pyplot as plt\n",
    "import seaborn as sns\n",
    "from sklearn.tree import DecisionTreeClassifier\n",
    "from sklearn.metrics import classification_report, accuracy_score\n",
    "from sklearn.metrics import confusion_matrix\n",
    "import numpy as np\n",
    "from collections import defaultdict\n",
    "import pydot\n",
    "from io import StringIO\n",
    "from sklearn.tree import export_graphviz\n",
    "from sklearn.model_selection import GridSearchCV\n",
    "from sklearn.neural_network import MLPClassifier\n",
    "from sklearn.preprocessing import StandardScaler\n",
    "from sklearn.linear_model import LogisticRegression\n",
    "from sklearn.feature_selection import SelectFromModel\n",
    "from sklearn.metrics import roc_auc_score\n",
    "from sklearn.ensemble import VotingClassifier\n",
    "from sklearn.feature_selection import RFECV\n",
    "from sklearn.metrics import roc_curve\n",
    "from itertools import compress\n",
    "from imblearn.under_sampling import RandomUnderSampler\n",
    "from imblearn.over_sampling import RandomOverSampler\n",
    "\n",
    "'''\n",
    "TODO:\n",
    "\n",
    "1. Try to improve\n",
    "\n",
    "2. Desing the replace_val for each column\n",
    "\n",
    "3. Creat preprocess procedure for every class.\n",
    "'''\n",
    "\n",
    "\n",
    "%matplotlib inline\n",
    "\n",
    "rs = 101"
   ]
  },
  {
   "cell_type": "markdown",
   "metadata": {},
   "source": [
    " # Task 1. Data Selection and Distribution. "
   ]
  },
  {
   "cell_type": "code",
   "execution_count": 2,
   "metadata": {
    "scrolled": true
   },
   "outputs": [
    {
     "name": "stderr",
     "output_type": "stream",
     "text": [
      "/home/chihcheng/python3env/lib/python3.6/site-packages/IPython/core/interactiveshell.py:3044: DtypeWarning: Columns (27) have mixed types. Specify dtype option on import or set low_memory=False.\n",
      "  interactivity=interactivity, compiler=compiler, result=result)\n"
     ]
    }
   ],
   "source": [
    "## Read Data\n",
    "df = pd.read_csv(\"CaseStudyData.csv\")"
   ]
  },
  {
   "cell_type": "markdown",
   "metadata": {},
   "source": [
    " ### 1. What is the proportion of cars who can be classified as a “kick”? "
   ]
  },
  {
   "cell_type": "code",
   "execution_count": 3,
   "metadata": {},
   "outputs": [
    {
     "name": "stdout",
     "output_type": "stream",
     "text": [
      "Number of Columns:  31\n",
      "Columns:  ['PurchaseID', 'PurchaseTimestamp', 'PurchaseDate', 'Auction', 'VehYear', 'Make', 'Color', 'Transmission', 'WheelTypeID', 'WheelType', 'VehOdo', 'Nationality', 'Size', 'TopThreeAmericanName', 'MMRAcquisitionAuctionAveragePrice', 'MMRAcquisitionAuctionCleanPrice', 'MMRAcquisitionRetailAveragePrice', 'MMRAcquisitonRetailCleanPrice', 'MMRCurrentAuctionAveragePrice', 'MMRCurrentAuctionCleanPrice', 'MMRCurrentRetailAveragePrice', 'MMRCurrentRetailCleanPrice', 'MMRCurrentRetailRatio', 'PRIMEUNIT', 'AUCGUART', 'VNST', 'VehBCost', 'IsOnlineSale', 'WarrantyCost', 'ForSale', 'IsBadBuy']\n"
     ]
    }
   ],
   "source": [
    "## Exploring the features in this dataset\n",
    "print(\"Number of Columns: \", len(df.columns))\n",
    "print(\"Columns: \",list(df.columns))"
   ]
  },
  {
   "cell_type": "code",
   "execution_count": 4,
   "metadata": {},
   "outputs": [
    {
     "name": "stdout",
     "output_type": "stream",
     "text": [
      "Number of Observations:  41476\n"
     ]
    }
   ],
   "source": [
    "print(\"Number of Observations: \", len(df))"
   ]
  },
  {
   "cell_type": "code",
   "execution_count": 5,
   "metadata": {},
   "outputs": [
    {
     "name": "stdout",
     "output_type": "stream",
     "text": [
      "The proportion of kicks:  0.1294965763333012\n"
     ]
    }
   ],
   "source": [
    "proportionOfKicks = len(df[df['IsBadBuy'] == 1]) / len(list(df['IsBadBuy']))\n",
    "print(\"The proportion of kicks: \", proportionOfKicks)"
   ]
  },
  {
   "cell_type": "markdown",
   "metadata": {},
   "source": [
    "### 2. Did you have to fix any data quality problems? Detail them."
   ]
  },
  {
   "cell_type": "code",
   "execution_count": 6,
   "metadata": {},
   "outputs": [
    {
     "name": "stdout",
     "output_type": "stream",
     "text": [
      "Using New Preprocessing Strategy\n",
      "See [MMRCurrentAuctionAveragePriceMMRCurrentAuctionCleanPrice, MMRCurrentRetailAveragePrice, MMRCurrentRetailCleanPrice, MMRCurrentRetailRatio] as Categorial Data\n",
      "Total null before Replacing:  1691\n"
     ]
    }
   ],
   "source": [
    "#### PREPROCESSING STATEGY\n",
    "NEW_STATEGY = True\n",
    "ResamplingMethod = 'ros' #['ros', 'rus']\n",
    "if NEW_STATEGY:\n",
    "    print(\"Using New Preprocessing Strategy\")\n",
    "    using_cat = True\n",
    "    categorial_cols = ['Auction', 'VehYear', 'Make', 'Color', 'Transmission','WheelTypeID', 'WheelType', 'Nationality', 'Size', 'TopThreeAmericanName','PRIMEUNIT','AUCGUART','VNST','IsOnlineSale','ForSale' ] # Replaced by the most common \n",
    "    interval_cols = ['VehOdo','MMRAcquisitionAuctionAveragePrice','MMRAcquisitionAuctionCleanPrice','MMRAcquisitionRetailAveragePrice','MMRAcquisitonRetailCleanPrice','VehBCost','WarrantyCost' ] \n",
    "    drop_cols = ['PurchaseID','PurchaseDate','PurchaseTimestamp']\n",
    "    questionMark_data = ['MMRCurrentAuctionAveragePrice','MMRCurrentAuctionCleanPrice','MMRCurrentRetailAveragePrice','MMRCurrentRetailCleanPrice','MMRCurrentRetailRatio']\n",
    "    replaced_vals = ['?', '#VALUE!']\n",
    "    if using_cat:\n",
    "        categorial_cols += questionMark_data\n",
    "        print(\"See [MMRCurrentAuctionAveragePrice\" +\n",
    "              \"MMRCurrentAuctionCleanPrice, MMRCurrentRetailAveragePrice,\" +\n",
    "              \" MMRCurrentRetailCleanPrice, MMRCurrentRetailRatio] as Categorial Data\")\n",
    "    else: \n",
    "        interval_cols += questionMark_data\n",
    "        print(\"See [MMRCurrentAuctionAveragePrice\" +\n",
    "              \"MMRCurrentAuctionCleanPrice, MMRCurrentRetailAveragePrice,\" +\n",
    "              \" MMRCurrentRetailCleanPrice, MMRCurrentRetailRatio] as Interval Data\")\n",
    "else:\n",
    "    print(\"Using Old Preprocessing Strategy\")\n",
    "    drop_cols = ['PurchaseID','PurchaseDate']\n",
    "    categorial_cols = ['Auction', 'VehYear', 'Make', 'Color', 'Transmission','WheelTypeID', 'WheelType', 'Nationality', 'Size', 'TopThreeAmericanName','PRIMEUNIT','AUCGUART','VNST','IsOnlineSale','ForSale' ] # Replaced by the most common \n",
    "    interval_cols = ['PurchaseTimestamp', 'VehOdo','MMRAcquisitionAuctionAveragePrice','MMRAcquisitionAuctionCleanPrice','MMRAcquisitionRetailAveragePrice','MMRAcquisitonRetailCleanPrice','MMRCurrentAuctionAveragePrice','MMRCurrentAuctionCleanPrice','MMRCurrentRetailAveragePrice','MMRCurrentRetailCleanPrice','MMRCurrentRetailRatio','VehBCost','WarrantyCost' ] # Replaced by the mean\n",
    "    replaced_vals = ['?', '#VALUE!']\n",
    "\n",
    "print(\"Total null before Replacing: \", df.isnull().sum().sum())"
   ]
  },
  {
   "cell_type": "code",
   "execution_count": 7,
   "metadata": {},
   "outputs": [
    {
     "name": "stderr",
     "output_type": "stream",
     "text": [
      "/home/chihcheng/python3env/lib/python3.6/site-packages/pandas/core/ops.py:1649: FutureWarning: elementwise comparison failed; returning scalar instead, but in the future will perform elementwise comparison\n",
      "  result = method(y)\n"
     ]
    },
    {
     "name": "stdout",
     "output_type": "stream",
     "text": [
      "======================= PurchaseID =======================\n",
      "----------------------- FIRST FIVE -----------------------\n",
      "0    0\n",
      "1    1\n",
      "2    2\n",
      "3    3\n",
      "4    4\n",
      "Name: PurchaseID, dtype: int64\n",
      "----------------------- DESCIRBE -----------------------\n",
      "count    41476.000000\n",
      "mean     20737.500000\n",
      "std      11973.234219\n",
      "min          0.000000\n",
      "25%      10368.750000\n",
      "50%      20737.500000\n",
      "75%      31106.250000\n",
      "max      41475.000000\n",
      "Name: PurchaseID, dtype: float64\n",
      "----------------------- COUNTS -----------------------\n",
      "Five Most Common:  [2047, 11567, 15693, 13644, 3403]\n",
      "Num of NULL:  0\n",
      "Number of ? : 0\n",
      "Number of #VALUE! : 0\n",
      "======================= PurchaseTimestamp =======================\n",
      "----------------------- FIRST FIVE -----------------------\n",
      "0    1253232000\n",
      "1    1253232000\n",
      "2    1253232000\n",
      "3    1253232000\n",
      "4    1253232000\n",
      "Name: PurchaseTimestamp, dtype: int64\n",
      "----------------------- DESCIRBE -----------------------\n",
      "count    4.147600e+04\n",
      "mean     1.262260e+09\n",
      "std      1.796895e+07\n",
      "min      1.231114e+09\n",
      "25%      1.247530e+09\n",
      "50%      1.262045e+09\n",
      "75%      1.277770e+09\n",
      "max      1.293667e+09\n",
      "Name: PurchaseTimestamp, dtype: float64\n",
      "----------------------- COUNTS -----------------------\n",
      "Five Most Common:  [1235520000, 1259020800, 1234396800, 1264032000, 1287014400]\n",
      "Num of NULL:  0\n",
      "Number of ? : 0\n",
      "Number of #VALUE! : 0\n",
      "======================= PurchaseDate =======================\n",
      "----------------------- FIRST FIVE -----------------------\n",
      "0    18/09/2009 10:00\n",
      "1    18/09/2009 10:00\n",
      "2    18/09/2009 10:00\n",
      "3    18/09/2009 10:00\n",
      "4    18/09/2009 10:00\n",
      "Name: PurchaseDate, dtype: object\n",
      "----------------------- DESCIRBE -----------------------\n",
      "count                41476\n",
      "unique                 497\n",
      "top       12/02/2009 10:00\n",
      "freq                   242\n",
      "Name: PurchaseDate, dtype: object\n",
      "----------------------- COUNTS -----------------------\n",
      "Five Most Common:  ['12/02/2009 10:00', '25/02/2009 10:00', '24/11/2009 10:00', '21/01/2010 10:00', '14/10/2010 10:00']\n",
      "Num of NULL:  0\n",
      "Number of ? : 0\n",
      "Number of #VALUE! : 0\n",
      "======================= Auction =======================\n",
      "----------------------- FIRST FIVE -----------------------\n",
      "0    OTHER\n",
      "1    OTHER\n",
      "2    OTHER\n",
      "3    OTHER\n",
      "4    OTHER\n",
      "Name: Auction, dtype: object\n",
      "----------------------- DESCIRBE -----------------------\n",
      "count       41432\n",
      "unique          3\n",
      "top       MANHEIM\n",
      "freq        22168\n",
      "Name: Auction, dtype: object\n",
      "----------------------- COUNTS -----------------------\n",
      "Count List: \n",
      " MANHEIM    22168\n",
      "ADESA      11086\n",
      "OTHER       8178\n",
      "Name: Auction, dtype: int64\n",
      "Num of NULL:  44\n",
      "Number of ? : 0\n",
      "Number of #VALUE! : 0\n",
      "======================= VehYear =======================\n",
      "----------------------- FIRST FIVE -----------------------\n",
      "0    2008.0\n",
      "1    2008.0\n",
      "2    2008.0\n",
      "3    2008.0\n",
      "4    2008.0\n",
      "Name: VehYear, dtype: float64\n",
      "----------------------- DESCIRBE -----------------------\n",
      "count    41432.000000\n",
      "mean      2005.360615\n",
      "std          1.730587\n",
      "min       2001.000000\n",
      "25%       2004.000000\n",
      "50%       2005.000000\n",
      "75%       2007.000000\n",
      "max       2010.000000\n",
      "Name: VehYear, dtype: float64\n",
      "----------------------- COUNTS -----------------------\n",
      "Count List: \n",
      " 2006.0    9630\n",
      "2005.0    8682\n",
      "2007.0    6514\n",
      "2004.0    5792\n",
      "2008.0    4177\n",
      "2003.0    3554\n",
      "2002.0    1879\n",
      "2001.0     816\n",
      "2009.0     387\n",
      "2010.0       1\n",
      "Name: VehYear, dtype: int64\n",
      "Num of NULL:  44\n",
      "Number of ? : 0\n",
      "Number of #VALUE! : 0\n",
      "======================= Make =======================\n",
      "----------------------- FIRST FIVE -----------------------\n",
      "0        DODGE\n",
      "1        DODGE\n",
      "2     CHRYSLER\n",
      "3    CHEVROLET\n",
      "4        DODGE\n",
      "Name: Make, dtype: object\n",
      "----------------------- DESCIRBE -----------------------\n",
      "count         41432\n",
      "unique           30\n",
      "top       CHEVROLET\n",
      "freq           9548\n",
      "Name: Make, dtype: object\n",
      "----------------------- COUNTS -----------------------\n",
      "Count List: \n",
      " CHEVROLET     9548\n",
      "DODGE         7385\n",
      "FORD          6458\n",
      "CHRYSLER      5259\n",
      "PONTIAC       2355\n",
      "KIA           1337\n",
      "SATURN        1245\n",
      "NISSAN        1186\n",
      "JEEP           985\n",
      "HYUNDAI        957\n",
      "SUZUKI         842\n",
      "TOYOTA         664\n",
      "MITSUBISHI     569\n",
      "MAZDA          532\n",
      "MERCURY        527\n",
      "BUICK          413\n",
      "GMC            351\n",
      "HONDA          263\n",
      "OLDSMOBILE     146\n",
      "ISUZU           82\n",
      "SCION           77\n",
      "VOLKSWAGEN      73\n",
      "LINCOLN         54\n",
      "INFINITI        27\n",
      "MINI            19\n",
      "ACURA           19\n",
      "SUBARU          17\n",
      "CADILLAC        17\n",
      "LEXUS           13\n",
      "VOLVO           12\n",
      "Name: Make, dtype: int64\n",
      "Num of NULL:  44\n",
      "Number of ? : 0\n",
      "Number of #VALUE! : 0\n",
      "======================= Color =======================\n",
      "----------------------- FIRST FIVE -----------------------\n",
      "0       RED\n",
      "1       RED\n",
      "2    SILVER\n",
      "3       RED\n",
      "4    SILVER\n",
      "Name: Color, dtype: object\n",
      "----------------------- DESCIRBE -----------------------\n",
      "count      41432\n",
      "unique        17\n",
      "top       SILVER\n",
      "freq        8541\n",
      "Name: Color, dtype: object\n",
      "----------------------- COUNTS -----------------------\n",
      "Count List: \n",
      " SILVER       8541\n",
      "WHITE        6890\n",
      "BLUE         5855\n",
      "BLACK        4392\n",
      "GREY         4248\n",
      "RED          3661\n",
      "GOLD         3059\n",
      "GREEN        1796\n",
      "MAROON       1039\n",
      "BEIGE         894\n",
      "ORANGE        255\n",
      "BROWN         249\n",
      "PURPLE        205\n",
      "YELLOW        141\n",
      "OTHER         136\n",
      "NOT AVAIL      65\n",
      "?               6\n",
      "Name: Color, dtype: int64\n",
      "Num of NULL:  44\n",
      "Number of ? : 6\n",
      "Number of #VALUE! : 0\n",
      "======================= Transmission =======================\n",
      "----------------------- FIRST FIVE -----------------------\n",
      "0    AUTO\n",
      "1    AUTO\n",
      "2    AUTO\n",
      "3    AUTO\n",
      "4    AUTO\n",
      "Name: Transmission, dtype: object\n",
      "----------------------- DESCIRBE -----------------------\n",
      "count     41432\n",
      "unique        4\n",
      "top        AUTO\n",
      "freq      39930\n",
      "Name: Transmission, dtype: object\n",
      "----------------------- COUNTS -----------------------\n",
      "Count List: \n",
      " AUTO      39930\n",
      "MANUAL     1495\n",
      "?             6\n",
      "Manual        1\n",
      "Name: Transmission, dtype: int64\n",
      "Num of NULL:  44\n",
      "Number of ? : 6\n",
      "Number of #VALUE! : 0\n",
      "======================= WheelTypeID =======================\n",
      "----------------------- FIRST FIVE -----------------------\n",
      "0    2\n",
      "1    2\n",
      "2    2\n",
      "3    2\n",
      "4    2\n",
      "Name: WheelTypeID, dtype: object\n",
      "----------------------- DESCIRBE -----------------------\n",
      "count     41432\n",
      "unique        5\n",
      "top           1\n",
      "freq      20426\n",
      "Name: WheelTypeID, dtype: object\n",
      "----------------------- COUNTS -----------------------\n",
      "Count List: \n",
      " 1    20426\n",
      "2    18791\n",
      "?     1775\n",
      "3      437\n",
      "0        3\n",
      "Name: WheelTypeID, dtype: int64\n",
      "Num of NULL:  44\n",
      "Number of ? : 1775\n",
      "Number of #VALUE! : 0\n",
      "======================= WheelType =======================\n",
      "----------------------- FIRST FIVE -----------------------\n",
      "0    Covers\n",
      "1    Covers\n",
      "2    Covers\n",
      "3    Covers\n",
      "4    Covers\n",
      "Name: WheelType, dtype: object\n",
      "----------------------- DESCIRBE -----------------------\n",
      "count     41380\n",
      "unique        4\n",
      "top       Alloy\n",
      "freq      20406\n",
      "Name: WheelType, dtype: object\n",
      "----------------------- COUNTS -----------------------\n",
      "Count List: \n",
      " Alloy      20406\n",
      "Covers     18761\n",
      "?           1777\n",
      "Special      436\n",
      "Name: WheelType, dtype: int64\n",
      "Num of NULL:  96\n",
      "Number of ? : 1777\n",
      "Number of #VALUE! : 0\n",
      "======================= VehOdo =======================\n",
      "----------------------- FIRST FIVE -----------------------\n",
      "0    51099.0\n",
      "1    48542.0\n",
      "2    46318.0\n",
      "3    50413.0\n",
      "4    50199.0\n",
      "Name: VehOdo, dtype: float64\n",
      "----------------------- DESCIRBE -----------------------\n",
      "count     41432.000000\n",
      "mean      71300.010427\n",
      "std       14724.041171\n",
      "min         577.000000\n",
      "25%       61578.000000\n",
      "50%       73128.500000\n",
      "75%       82259.250000\n",
      "max      480444.000000\n",
      "Name: VehOdo, dtype: float64\n",
      "----------------------- COUNTS -----------------------\n",
      "Five Most Common:  [84675.0, 85884.0, 67464.0, 72101.0, 79600.0]\n",
      "Num of NULL:  44\n",
      "Number of ? : 0\n",
      "Number of #VALUE! : 0\n",
      "======================= Nationality =======================\n",
      "----------------------- FIRST FIVE -----------------------\n",
      "0    AMERICAN\n",
      "1    AMERICAN\n",
      "2    AMERICAN\n",
      "3    AMERICAN\n",
      "4    AMERICAN\n",
      "Name: Nationality, dtype: object\n",
      "----------------------- DESCIRBE -----------------------\n",
      "count        41432\n",
      "unique           6\n",
      "top       AMERICAN\n",
      "freq         34616\n",
      "Name: Nationality, dtype: object\n",
      "----------------------- COUNTS -----------------------\n",
      "Count List: \n",
      " AMERICAN          34616\n",
      "OTHER ASIAN        4474\n",
      "TOP LINE ASIAN     2110\n",
      "USA                 125\n",
      "OTHER               104\n",
      "?                     3\n",
      "Name: Nationality, dtype: int64\n"
     ]
    },
    {
     "name": "stdout",
     "output_type": "stream",
     "text": [
      "Num of NULL:  44\n",
      "Number of ? : 3\n",
      "Number of #VALUE! : 0\n",
      "======================= Size =======================\n",
      "----------------------- FIRST FIVE -----------------------\n",
      "0     MEDIUM\n",
      "1     MEDIUM\n",
      "2     MEDIUM\n",
      "3    COMPACT\n",
      "4     MEDIUM\n",
      "Name: Size, dtype: object\n",
      "----------------------- DESCIRBE -----------------------\n",
      "count      41432\n",
      "unique        13\n",
      "top       MEDIUM\n",
      "freq       17540\n",
      "Name: Size, dtype: object\n",
      "----------------------- COUNTS -----------------------\n",
      "Count List: \n",
      " MEDIUM         17540\n",
      "LARGE           4968\n",
      "MEDIUM SUV      4569\n",
      "COMPACT         4035\n",
      "VAN             3367\n",
      "LARGE TRUCK     1897\n",
      "SMALL SUV       1332\n",
      "SPECIALTY        998\n",
      "CROSSOVER        974\n",
      "LARGE SUV        830\n",
      "SMALL TRUCK      494\n",
      "SPORTS           425\n",
      "?                  3\n",
      "Name: Size, dtype: int64\n",
      "Num of NULL:  44\n",
      "Number of ? : 3\n",
      "Number of #VALUE! : 0\n",
      "======================= TopThreeAmericanName =======================\n",
      "----------------------- FIRST FIVE -----------------------\n",
      "0    CHRYSLER\n",
      "1    CHRYSLER\n",
      "2    CHRYSLER\n",
      "3          GM\n",
      "4    CHRYSLER\n",
      "Name: TopThreeAmericanName, dtype: object\n",
      "----------------------- DESCIRBE -----------------------\n",
      "count     41432\n",
      "unique        5\n",
      "top          GM\n",
      "freq      14075\n",
      "Name: TopThreeAmericanName, dtype: object\n",
      "----------------------- COUNTS -----------------------\n",
      "Count List: \n",
      " GM          14075\n",
      "CHRYSLER    13627\n",
      "FORD         7039\n",
      "OTHER        6688\n",
      "?               3\n",
      "Name: TopThreeAmericanName, dtype: int64\n",
      "Num of NULL:  44\n",
      "Number of ? : 3\n",
      "Number of #VALUE! : 0\n",
      "======================= MMRAcquisitionAuctionAveragePrice =======================\n",
      "----------------------- FIRST FIVE -----------------------\n",
      "0    8566\n",
      "1    8566\n",
      "2    8835\n",
      "3    7165\n",
      "4    8566\n",
      "Name: MMRAcquisitionAuctionAveragePrice, dtype: object\n",
      "----------------------- DESCIRBE -----------------------\n",
      "count     41416\n",
      "unique     9271\n",
      "top           0\n",
      "freq        502\n",
      "Name: MMRAcquisitionAuctionAveragePrice, dtype: object\n",
      "----------------------- COUNTS -----------------------\n",
      "Five Most Common:  ['0', '5480', '6311', '7811', '7644']\n",
      "Num of NULL:  60\n",
      "Number of ? : 7\n",
      "Number of #VALUE! : 0\n",
      "======================= MMRAcquisitionAuctionCleanPrice =======================\n",
      "----------------------- FIRST FIVE -----------------------\n",
      "0    9325\n",
      "1    9325\n",
      "2    9428\n",
      "3    7770\n",
      "4    9325\n",
      "Name: MMRAcquisitionAuctionCleanPrice, dtype: object\n",
      "----------------------- DESCIRBE -----------------------\n",
      "count     41429\n",
      "unique    10010\n",
      "top           0\n",
      "freq        415\n",
      "Name: MMRAcquisitionAuctionCleanPrice, dtype: object\n",
      "----------------------- COUNTS -----------------------\n",
      "Five Most Common:  ['0', '6461', '7450', '1', '8258']\n",
      "Num of NULL:  47\n",
      "Number of ? : 7\n",
      "Number of #VALUE! : 0\n",
      "======================= MMRAcquisitionRetailAveragePrice =======================\n",
      "----------------------- FIRST FIVE -----------------------\n",
      "0     9751\n",
      "1     9751\n",
      "2    10042\n",
      "3     8238\n",
      "4     9751\n",
      "Name: MMRAcquisitionRetailAveragePrice, dtype: object\n",
      "----------------------- DESCIRBE -----------------------\n",
      "count     41429\n",
      "unique    11070\n",
      "top           0\n",
      "freq        502\n",
      "Name: MMRAcquisitionRetailAveragePrice, dtype: object\n",
      "----------------------- COUNTS -----------------------\n",
      "Five Most Common:  ['0', '6418', '7316', '11114', '8756']\n",
      "Num of NULL:  47\n",
      "Number of ? : 7\n",
      "Number of #VALUE! : 0\n",
      "======================= MMRAcquisitonRetailCleanPrice =======================\n",
      "----------------------- FIRST FIVE -----------------------\n",
      "0    10571\n",
      "1    10571\n",
      "2    10682\n",
      "3     8892\n",
      "4    10571\n",
      "Name: MMRAcquisitonRetailCleanPrice, dtype: object\n",
      "----------------------- DESCIRBE -----------------------\n",
      "count     41327\n",
      "unique    11583\n",
      "top           0\n",
      "freq        501\n",
      "Name: MMRAcquisitonRetailCleanPrice, dtype: object\n",
      "----------------------- COUNTS -----------------------\n",
      "Five Most Common:  ['0', '7478', '8546', '11562', '10103']\n",
      "Num of NULL:  149\n",
      "Number of ? : 7\n",
      "Number of #VALUE! : 0\n",
      "======================= MMRCurrentAuctionAveragePrice =======================\n",
      "----------------------- FIRST FIVE -----------------------\n",
      "0    7781\n",
      "1    8568\n",
      "2    8137\n",
      "3    7074\n",
      "4    7857\n",
      "Name: MMRCurrentAuctionAveragePrice, dtype: object\n",
      "----------------------- DESCIRBE -----------------------\n",
      "count     41429\n",
      "unique     9183\n",
      "top           0\n",
      "freq        287\n",
      "Name: MMRCurrentAuctionAveragePrice, dtype: object\n",
      "----------------------- COUNTS -----------------------\n",
      "Five Most Common:  ['0', '?', '5480', '6311', '7269']\n",
      "Num of NULL:  47\n",
      "Number of ? : 184\n",
      "Number of #VALUE! : 0\n",
      "======================= MMRCurrentAuctionCleanPrice =======================\n",
      "----------------------- FIRST FIVE -----------------------\n",
      "0    8545\n",
      "1    9325\n",
      "2    8733\n",
      "3    7629\n",
      "4    8711\n",
      "Name: MMRCurrentAuctionCleanPrice, dtype: object\n",
      "----------------------- DESCIRBE -----------------------\n",
      "count     41429\n",
      "unique     9890\n",
      "top           0\n",
      "freq        206\n",
      "Name: MMRCurrentAuctionCleanPrice, dtype: object\n",
      "----------------------- COUNTS -----------------------\n",
      "Five Most Common:  ['0', '?', '6461', '1', '7450']\n",
      "Num of NULL:  47\n",
      "Number of ? : 184\n",
      "Number of #VALUE! : 0\n",
      "======================= MMRCurrentRetailAveragePrice =======================\n",
      "----------------------- FIRST FIVE -----------------------\n",
      "0    11777\n",
      "1     9753\n",
      "2     9288\n",
      "3     8140\n",
      "4     8986\n",
      "Name: MMRCurrentRetailAveragePrice, dtype: object\n",
      "----------------------- DESCIRBE -----------------------\n",
      "count     41409\n",
      "unique    10935\n",
      "top           0\n",
      "freq        287\n",
      "Name: MMRCurrentRetailAveragePrice, dtype: object\n",
      "----------------------- COUNTS -----------------------\n",
      "Five Most Common:  ['0', '?', '6418', '7316', '8756']\n",
      "Num of NULL:  67\n",
      "Number of ? : 184\n",
      "Number of #VALUE! : 0\n",
      "======================= MMRCurrentRetailCleanPrice =======================\n",
      "----------------------- FIRST FIVE -----------------------\n",
      "0    12505\n",
      "1    10571\n",
      "2     9932\n",
      "3     8739\n",
      "4     9908\n",
      "Name: MMRCurrentRetailCleanPrice, dtype: object\n",
      "----------------------- DESCIRBE -----------------------\n",
      "count     41409\n",
      "unique    11363\n",
      "top           0\n",
      "freq        287\n",
      "Name: MMRCurrentRetailCleanPrice, dtype: object\n",
      "----------------------- COUNTS -----------------------\n",
      "Five Most Common:  ['0', '?', '7478', '8546', '10103']\n",
      "Num of NULL:  67\n",
      "Number of ? : 184\n",
      "Number of #VALUE! : 0\n",
      "======================= MMRCurrentRetailRatio =======================\n",
      "----------------------- FIRST FIVE -----------------------\n",
      "0    0.941783287\n",
      "1    0.922618485\n",
      "2    0.935159082\n",
      "3    0.931456688\n",
      "4    0.906943884\n",
      "Name: MMRCurrentRetailRatio, dtype: object\n",
      "----------------------- DESCIRBE -----------------------\n",
      "count       41116\n",
      "unique      25870\n",
      "top       #VALUE!\n",
      "freq          178\n",
      "Name: MMRCurrentRetailRatio, dtype: object\n",
      "----------------------- COUNTS -----------------------\n",
      "Five Most Common:  ['#VALUE!', '0.858250869', '0.856073017', '0.866673265', '0.949268378']\n",
      "Num of NULL:  360\n",
      "Number of ? : 0\n",
      "Number of #VALUE! : 178\n",
      "======================= PRIMEUNIT =======================\n",
      "----------------------- FIRST FIVE -----------------------\n",
      "0    ?\n",
      "1    ?\n",
      "2    ?\n",
      "3    ?\n",
      "4    ?\n",
      "Name: PRIMEUNIT, dtype: object\n",
      "----------------------- DESCIRBE -----------------------\n",
      "count     41432\n",
      "unique        3\n",
      "top           ?\n",
      "freq      39634\n",
      "Name: PRIMEUNIT, dtype: object\n",
      "----------------------- COUNTS -----------------------\n",
      "Count List: \n",
      " ?      39634\n",
      "NO      1764\n",
      "YES       34\n",
      "Name: PRIMEUNIT, dtype: int64\n",
      "Num of NULL:  44\n",
      "Number of ? : 39634\n",
      "Number of #VALUE! : 0\n",
      "======================= AUCGUART =======================\n",
      "----------------------- FIRST FIVE -----------------------\n",
      "0    ?\n",
      "1    ?\n",
      "2    ?\n",
      "3    ?\n",
      "4    ?\n",
      "Name: AUCGUART, dtype: object\n",
      "----------------------- DESCIRBE -----------------------\n",
      "count     41432\n",
      "unique        3\n",
      "top           ?\n",
      "freq      39634\n",
      "Name: AUCGUART, dtype: object\n",
      "----------------------- COUNTS -----------------------\n",
      "Count List: \n",
      " ?        39634\n",
      "GREEN     1754\n",
      "RED         44\n",
      "Name: AUCGUART, dtype: int64\n",
      "Num of NULL:  44\n",
      "Number of ? : 39634\n",
      "Number of #VALUE! : 0\n",
      "======================= VNST =======================\n",
      "----------------------- FIRST FIVE -----------------------\n",
      "0    NC\n",
      "1    NC\n",
      "2    NC\n",
      "3    NC\n",
      "4    NC\n",
      "Name: VNST, dtype: object\n",
      "----------------------- DESCIRBE -----------------------\n",
      "count     41432\n",
      "unique       31\n",
      "top          TX\n",
      "freq       9076\n",
      "Name: VNST, dtype: object\n",
      "----------------------- COUNTS -----------------------\n",
      "Count List: \n",
      " TX    9076\n",
      "FL    5250\n",
      "CO    3623\n",
      "NC    3594\n",
      "AZ    3383\n",
      "CA    3268\n",
      "OK    2595\n",
      "SC    1662\n",
      "TN    1471\n",
      "GA    1287\n",
      "VA    1093\n",
      "MO     758\n",
      "PA     700\n",
      "NV     553\n",
      "IN     486\n",
      "MS     412\n",
      "LA     349\n",
      "NJ     317\n",
      "NM     239\n",
      "KY     230\n",
      "AL     179\n",
      "IL     165\n",
      "UT     165\n",
      "WV     137\n",
      "OR     136\n",
      "WA     136\n",
      "NH      97\n",
      "NE      26\n",
      "OH      25\n",
      "ID      14\n",
      "NY       6\n",
      "Name: VNST, dtype: int64\n",
      "Num of NULL:  44\n",
      "Number of ? : 0\n",
      "Number of #VALUE! : 0\n",
      "======================= VehBCost =======================\n",
      "----------------------- FIRST FIVE -----------------------\n",
      "0    7800\n",
      "1    7800\n",
      "2    7800\n",
      "3    6000\n",
      "4    7800\n",
      "Name: VehBCost, dtype: object\n",
      "----------------------- DESCIRBE -----------------------\n",
      "count     41432\n",
      "unique     1869\n",
      "top        7500\n",
      "freq        459\n",
      "Name: VehBCost, dtype: object\n",
      "----------------------- COUNTS -----------------------\n",
      "Five Most Common:  ['7500', '6500', '7800', '7200', '7000']\n",
      "Num of NULL:  44\n",
      "Number of ? : 29\n",
      "Number of #VALUE! : 0\n",
      "======================= IsOnlineSale =======================\n",
      "----------------------- FIRST FIVE -----------------------\n",
      "0    0\n",
      "1    0\n",
      "2    0\n",
      "3    0\n",
      "4    0\n",
      "Name: IsOnlineSale, dtype: object\n",
      "----------------------- DESCIRBE -----------------------\n",
      "count     41432.0\n",
      "unique        8.0\n",
      "top           0.0\n",
      "freq      31368.0\n",
      "Name: IsOnlineSale, dtype: float64\n",
      "----------------------- COUNTS -----------------------\n",
      "Count List: \n",
      " 0.0     31368\n",
      "0        8572\n",
      "1.0       753\n",
      "-1.0      601\n",
      "1         134\n",
      "?           2\n",
      "4.0         1\n",
      "2.0         1\n",
      "Name: IsOnlineSale, dtype: int64\n",
      "Num of NULL:  44\n",
      "Number of ? : 2\n",
      "Number of #VALUE! : 0\n",
      "======================= WarrantyCost =======================\n",
      "----------------------- FIRST FIVE -----------------------\n",
      "0    920.0\n",
      "1    834.0\n",
      "2    834.0\n",
      "3    671.0\n",
      "4    920.0\n",
      "Name: WarrantyCost, dtype: float64\n",
      "----------------------- DESCIRBE -----------------------\n",
      "count    41432.000000\n",
      "mean      1273.050758\n",
      "std        599.188662\n",
      "min        462.000000\n",
      "25%        834.000000\n",
      "50%       1155.000000\n",
      "75%       1623.000000\n",
      "max       7498.000000\n",
      "Name: WarrantyCost, dtype: float64\n",
      "----------------------- COUNTS -----------------------\n",
      "Five Most Common:  [920.0, 1974.0, 2152.0, 1215.0, 1389.0]\n",
      "Num of NULL:  44\n",
      "Number of ? : 0\n",
      "Number of #VALUE! : 0\n",
      "======================= ForSale =======================\n",
      "----------------------- FIRST FIVE -----------------------\n",
      "0    Yes\n",
      "1    Yes\n",
      "2    Yes\n",
      "3    Yes\n",
      "4    Yes\n",
      "Name: ForSale, dtype: object\n",
      "----------------------- DESCIRBE -----------------------\n",
      "count     41476\n",
      "unique        6\n",
      "top         Yes\n",
      "freq      27402\n",
      "Name: ForSale, dtype: object\n",
      "----------------------- COUNTS -----------------------\n",
      "Count List: \n",
      " Yes    27402\n",
      "YES     8544\n",
      "yes     5524\n",
      "?          3\n",
      "No         2\n",
      "0          1\n",
      "Name: ForSale, dtype: int64\n",
      "Num of NULL:  0\n",
      "Number of ? : 3\n",
      "Number of #VALUE! : 0\n",
      "======================= IsBadBuy =======================\n",
      "----------------------- FIRST FIVE -----------------------\n",
      "0    0\n",
      "1    0\n",
      "2    0\n",
      "3    0\n",
      "4    0\n",
      "Name: IsBadBuy, dtype: int64\n",
      "----------------------- DESCIRBE -----------------------\n",
      "count    41476.000000\n",
      "mean         0.129497\n",
      "std          0.335753\n",
      "min          0.000000\n",
      "25%          0.000000\n",
      "50%          0.000000\n",
      "75%          0.000000\n",
      "max          1.000000\n",
      "Name: IsBadBuy, dtype: float64\n",
      "----------------------- COUNTS -----------------------\n",
      "Count List: \n",
      " 0    36105\n",
      "1     5371\n",
      "Name: IsBadBuy, dtype: int64\n",
      "Num of NULL:  0\n",
      "Number of ? : 0\n",
      "Number of #VALUE! : 0\n"
     ]
    }
   ],
   "source": [
    "def printColumnInfo():\n",
    "    \n",
    "    '''\n",
    "    Display the information of this Dataframe\n",
    "    '''\n",
    "    \n",
    "    for colName in df.columns:\n",
    "        print(\"======================= \" + str(colName) + \" =======================\")\n",
    "        print(\"----------------------- FIRST FIVE -----------------------\")\n",
    "        print(df[colName][:5])\n",
    "        print(\"----------------------- DESCIRBE -----------------------\")\n",
    "        print(df[colName].describe())\n",
    "        print(\"----------------------- COUNTS -----------------------\")\n",
    "        commonList = list(df[colName].value_counts().keys())\n",
    "        if len(commonList) > 100:\n",
    "            print(\"Five Most Common: \", commonList[:5])\n",
    "        else:\n",
    "            print(\"Count List: \\n\", df[colName].value_counts())\n",
    "        print(\"Num of NULL: \", df[colName].isnull().sum())\n",
    "        for rep in replaced_vals:\n",
    "            print(\"Number of \"+str(rep)+\" : \" + str(len(df[df[colName] == rep])))\n",
    "printColumnInfo()"
   ]
  },
  {
   "cell_type": "code",
   "execution_count": 8,
   "metadata": {
    "scrolled": true
   },
   "outputs": [
    {
     "name": "stdout",
     "output_type": "stream",
     "text": [
      "Preprocess the col: Auction\n",
      "<function replacingValueCol at 0x7f35438138c8>\n",
      "In the Column: Auction : 0, ?have been replaced by null\n",
      "<function loweringCol at 0x7f3542ee6ae8>\n",
      "<function fillingTheNullValue at 0x7f3542ee6730>\n",
      "Preprocess the col: VehYear\n",
      "<function fillingTheNullValue at 0x7f3542ee6730>\n",
      "Preprocess the col: Make\n",
      "<function loweringCol at 0x7f3542ee6ae8>\n",
      "<function fillingTheNullValue at 0x7f3542ee6730>\n",
      "Preprocess the col: Color\n",
      "<function loweringCol at 0x7f3542ee6ae8>\n",
      "<function replacingValueCol at 0x7f35438138c8>\n",
      "In the Column: Color : 6, ?have been replaced by null\n",
      "<function fillingTheNullValue at 0x7f3542ee6730>\n",
      "Preprocess the col: Transmission\n",
      "<function loweringCol at 0x7f3542ee6ae8>\n",
      "<function replacingValueCol at 0x7f35438138c8>\n",
      "In the Column: Transmission : 6, ?have been replaced by null\n",
      "<function fillingTheNullValue at 0x7f3542ee6730>\n",
      "Preprocess the col: WheelTypeID\n",
      "<function fillingTheNullValue at 0x7f3542ee6730>\n",
      "Preprocess the col: WheelType\n",
      "<function loweringCol at 0x7f3542ee6ae8>\n",
      "<function fillingTheNullValue at 0x7f3542ee6730>\n",
      "Preprocess the col: VehOdo\n",
      "<function fillingTheNullValue at 0x7f3542ee6730>\n",
      "Preprocess the col: Nationality\n",
      "<function replaceFunc at 0x7f3542f32620>\n",
      "<function loweringCol at 0x7f3542ee6ae8>\n",
      "<function replacingValueCol at 0x7f35438138c8>\n",
      "In the Column: Nationality : 3, ?have been replaced by null\n",
      "<function fillingTheNullValue at 0x7f3542ee6730>\n",
      "Preprocess the col: Size\n",
      "<function loweringCol at 0x7f3542ee6ae8>\n",
      "<function replacingValueCol at 0x7f35438138c8>\n",
      "In the Column: Size : 3, ?have been replaced by null\n",
      "<function fillingTheNullValue at 0x7f3542ee6730>\n",
      "Preprocess the col: TopThreeAmericanName\n",
      "<function loweringCol at 0x7f3542ee6ae8>\n",
      "<function replacingValueCol at 0x7f35438138c8>\n",
      "In the Column: TopThreeAmericanName : 3, ?have been replaced by null\n",
      "<function fillingTheNullValue at 0x7f3542ee6730>\n",
      "Preprocess the col: MMRAcquisitionAuctionAveragePrice\n",
      "<function replacingValueCol at 0x7f35438138c8>\n",
      "In the Column: MMRAcquisitionAuctionAveragePrice : 7, ?have been replaced by null\n",
      "<function fillingTheNullValue at 0x7f3542ee6730>\n",
      "Preprocess the col: MMRAcquisitionAuctionCleanPrice\n",
      "<function replacingValueCol at 0x7f35438138c8>\n",
      "In the Column: MMRAcquisitionAuctionCleanPrice : 7, ?have been replaced by null\n",
      "<function fillingTheNullValue at 0x7f3542ee6730>\n",
      "Preprocess the col: MMRAcquisitionRetailAveragePrice\n",
      "<function replacingValueCol at 0x7f35438138c8>\n",
      "In the Column: MMRAcquisitionRetailAveragePrice : 7, ?have been replaced by null\n",
      "<function fillingTheNullValue at 0x7f3542ee6730>\n",
      "Preprocess the col: MMRAcquisitonRetailCleanPrice\n",
      "<function replacingValueCol at 0x7f35438138c8>\n",
      "In the Column: MMRAcquisitonRetailCleanPrice : 7, ?have been replaced by null\n",
      "<function fillingTheNullValue at 0x7f3542ee6730>\n",
      "Preprocess the col: MMRCurrentAuctionAveragePrice\n",
      "<function filterOutRareValue at 0x7f3542ee6e18>\n",
      "<function fillingTheNullValue at 0x7f3542ee6730>\n",
      "Preprocess the col: MMRCurrentAuctionCleanPrice\n",
      "<function filterOutRareValue at 0x7f3542ee6e18>\n",
      "<function fillingTheNullValue at 0x7f3542ee6730>\n",
      "Preprocess the col: MMRCurrentRetailAveragePrice\n",
      "<function filterOutRareValue at 0x7f3542ee6e18>\n",
      "<function fillingTheNullValue at 0x7f3542ee6730>\n",
      "Preprocess the col: MMRCurrentRetailCleanPrice\n",
      "<function filterOutRareValue at 0x7f3542ee6e18>\n",
      "<function fillingTheNullValue at 0x7f3542ee6730>\n",
      "Preprocess the col: MMRCurrentRetailRatio\n",
      "<function filterOutRareValue at 0x7f3542ee6e18>\n",
      "<function fillingTheNullValue at 0x7f3542ee6730>\n",
      "Preprocess the col: PRIMEUNIT\n",
      "<function loweringCol at 0x7f3542ee6ae8>\n",
      "<function fillingTheNullValue at 0x7f3542ee6730>\n",
      "Preprocess the col: AUCGUART\n",
      "<function loweringCol at 0x7f3542ee6ae8>\n",
      "<function fillingTheNullValue at 0x7f3542ee6730>\n",
      "Preprocess the col: VNST\n",
      "<function loweringCol at 0x7f3542ee6ae8>\n",
      "<function fillingTheNullValue at 0x7f3542ee6730>\n",
      "Preprocess the col: VehBCost\n",
      "<function replacingValueCol at 0x7f35438138c8>\n",
      "In the Column: VehBCost : 29, ?have been replaced by null\n",
      "<function fillingTheNullValue at 0x7f3542ee6730>\n",
      "Preprocess the col: IsOnlineSale\n",
      "<function replacingValueCol at 0x7f35438138c8>\n",
      "In the Column: IsOnlineSale : 2, ?have been replaced by null\n",
      "In the Column: IsOnlineSale : 1, 2.0have been replaced by null\n",
      "In the Column: IsOnlineSale : 1, 4.0have been replaced by null\n",
      "<function changeToType at 0x7f3542ee6bf8>\n",
      "<function fillingTheNullValue at 0x7f3542ee6730>\n",
      "Preprocess the col: WarrantyCost\n",
      "<function fillingTheNullValue at 0x7f3542ee6730>\n",
      "Preprocess the col: ForSale\n",
      "<function loweringCol at 0x7f3542ee6ae8>\n",
      "<function replacingValueCol at 0x7f35438138c8>\n",
      "In the Column: ForSale : 3, ?have been replaced by null\n",
      "In the Column: ForSale : 0, 0have been replaced by null\n",
      "<function fillingTheNullValue at 0x7f3542ee6730>\n",
      "Preprocess the col: IsBadBuy\n"
     ]
    }
   ],
   "source": [
    "if NEW_STATEGY:\n",
    "\n",
    "    class filling_method():\n",
    "        MOST_COMMON = \"MOST_COMMON\"\n",
    "        MEAN = \"MEAN\"\n",
    "        CERTAIN_VALUE = \"CERTAIN_VALUE\"\n",
    "\n",
    "    def replaceFunc(colName):\n",
    "        for replaced, target in preprocessStrategy[colName]['replace_pairs']:\n",
    "            df[colName].replace(replaced, target, inplace=True)\n",
    "\n",
    "    def removeOutlier(colName):  # FOR THE INTERVAL ONLY\n",
    "        global df\n",
    "        df = df[df[colName] < df[colName].quantile(0.999)]\n",
    "\n",
    "    def replacingValueCol(colName):\n",
    "        for replaced in preprocessStrategy[colName]['replaced_vals']:\n",
    "            print(\"In the Column: \" + str(colName) + \" : \" + str(len(\n",
    "                df[df[colName] == replaced])) + \", \" + str(replaced) + \"have been replaced by null\")\n",
    "            # Replacing the null in this process #Inplacing for saving the memory\n",
    "            df[colName].replace(replaced, float('nan'), inplace=True)\n",
    "\n",
    "    def loweringCol(colName):\n",
    "        df[colName] = df[colName].str.lower()\n",
    "\n",
    "    def fillingTheNullValue(colName):  # method can be [\"MEAN\", \"MOST_COMMON\"]\n",
    "        if preprocessStrategy[colName]['filling_method'] == filling_method.MEAN:\n",
    "            df[colName] = df[colName].astype('float')\n",
    "            df[colName].fillna(df[colName].astype(\n",
    "                'float').mean(), inplace=True)\n",
    "        elif preprocessStrategy[colName]['filling_method'] == filling_method.MOST_COMMON:\n",
    "            df[colName] = df[colName].astype('category')\n",
    "            df[colName].fillna(df[colName].astype(\n",
    "                'category').describe()['top'], inplace=True)\n",
    "        elif preprocessStrategy[colName]['filling_method'] == filling_method.CERTAIN_VALUE:\n",
    "            df[colName] = df[colName].astype('category')\n",
    "            df[colName] = df[colName].cat.add_categories(\n",
    "                [preprocessStrategy[colName]['filling_value']])\n",
    "            df[colName].fillna(preprocessStrategy[colName]\n",
    "                               ['filling_value'], inplace=True)\n",
    "\n",
    "    def filterOutRareValue(colName):\n",
    "\n",
    "        def checkingKeepValue(v, savingValues):\n",
    "            if v in savingValues:\n",
    "                return v\n",
    "            return \"LESS_FREQ\"\n",
    "\n",
    "        k = [v for v in df[colName].value_counts().values if v >\n",
    "             preprocessStrategy[colName]['min_freq']]\n",
    "        savingValues = df[colName].value_counts().keys()[:len(k)]\n",
    "\n",
    "        df[colName] = [checkingKeepValue(v, savingValues) for v in df[colName]]\n",
    "\n",
    "    def changeToType(colName):\n",
    "        df[colName] = df[colName].astype(\n",
    "            preprocessStrategy[colName]['changeToType'])\n",
    "\n",
    "    def newData_prep(df):\n",
    "        '''\n",
    "        For Preprocessing through the whole dictionary\n",
    "        '''\n",
    "        df.drop(drop_cols, axis=1, inplace=True)\n",
    "\n",
    "        for colName in df.columns:  # df.columns:\n",
    "\n",
    "            print(\"Preprocess the col: \" + colName)\n",
    "\n",
    "            for stra in preprocessStrategy[colName]['strategies']:\n",
    "                if not stra:\n",
    "                    continue\n",
    "                print(stra)\n",
    "                stra(colName)\n",
    "\n",
    "        if not using_cat:\n",
    "            df['MMRCurrentRetailRatio'] = df['MMRCurrentRetailAveragePrice'] / \\\n",
    "                (df['MMRCurrentRetailCleanPrice']+1e-8)  # Prvent divided by 0\n",
    "\n",
    "        return df\n",
    "\n",
    "    preprocessStrategy = defaultdict(dict)\n",
    "\n",
    "    preprocessStrategy['Auction'] = {\n",
    "        \"strategies\":\n",
    "            [\n",
    "                replacingValueCol,\n",
    "                loweringCol,\n",
    "                fillingTheNullValue,\n",
    "            ],\n",
    "        \"replaced_vals\": ['?'],\n",
    "        \"filling_method\": filling_method.MOST_COMMON\n",
    "    }\n",
    "\n",
    "    preprocessStrategy['VehYear'] = {\n",
    "        \"strategies\":\n",
    "            [\n",
    "                fillingTheNullValue,\n",
    "            ],\n",
    "        \"filling_method\": filling_method.CERTAIN_VALUE,\n",
    "        \"filling_value\": \"UNKNOWN_VALUE\"\n",
    "    }\n",
    "\n",
    "    preprocessStrategy['Make'] = {\n",
    "        \"strategies\":\n",
    "            [\n",
    "                loweringCol,\n",
    "                fillingTheNullValue,\n",
    "            ],\n",
    "        \"filling_method\": filling_method.MOST_COMMON\n",
    "    }\n",
    "\n",
    "    preprocessStrategy['Color'] = {\n",
    "        \"strategies\":\n",
    "            [\n",
    "                loweringCol,\n",
    "                replacingValueCol,\n",
    "                fillingTheNullValue,\n",
    "            ],\n",
    "        \"replaced_vals\": ['?'],\n",
    "        \"filling_method\": filling_method.MOST_COMMON\n",
    "    }\n",
    "\n",
    "    preprocessStrategy['Transmission'] = {\n",
    "        \"strategies\":\n",
    "            [\n",
    "                loweringCol,\n",
    "                replacingValueCol,\n",
    "                fillingTheNullValue,\n",
    "            ],\n",
    "        \"replaced_vals\": ['?'],\n",
    "        \"filling_method\": filling_method.MOST_COMMON\n",
    "    }\n",
    "\n",
    "    preprocessStrategy['WheelTypeID'] = {\n",
    "        \"strategies\":\n",
    "            [\n",
    "                fillingTheNullValue,\n",
    "            ],\n",
    "        \"filling_method\": filling_method.MOST_COMMON\n",
    "    }\n",
    "\n",
    "    preprocessStrategy['WheelType'] = {\n",
    "        \"strategies\":\n",
    "            [\n",
    "                loweringCol,\n",
    "                fillingTheNullValue,\n",
    "            ],\n",
    "        \"filling_method\": filling_method.MOST_COMMON\n",
    "    }\n",
    "\n",
    "    preprocessStrategy['VehOdo'] = {\n",
    "        \"strategies\":\n",
    "            [\n",
    "                fillingTheNullValue,\n",
    "            ],\n",
    "        \"filling_method\": filling_method.MEAN\n",
    "    }\n",
    "\n",
    "    preprocessStrategy['Nationality'] = {  # Should I merge USA with AMERICAN?\n",
    "        \"strategies\":\n",
    "            [\n",
    "                replaceFunc,\n",
    "                loweringCol,\n",
    "                replacingValueCol,\n",
    "                fillingTheNullValue,\n",
    "            ],\n",
    "        \"replaced_vals\": ['?'],\n",
    "        \"filling_method\": filling_method.MOST_COMMON,\n",
    "        \"replace_pairs\": [(\"USA\", \"AMERICAN\")]\n",
    "\n",
    "    }\n",
    "\n",
    "    preprocessStrategy['Size'] = {\n",
    "        \"strategies\":\n",
    "            [\n",
    "                loweringCol,\n",
    "                replacingValueCol,\n",
    "                fillingTheNullValue,\n",
    "            ],\n",
    "        \"replaced_vals\": ['?'],\n",
    "        \"filling_method\": filling_method.MOST_COMMON\n",
    "\n",
    "    }\n",
    "\n",
    "    preprocessStrategy['TopThreeAmericanName'] = {\n",
    "        \"strategies\":\n",
    "            [\n",
    "                loweringCol,\n",
    "                replacingValueCol,\n",
    "                fillingTheNullValue,\n",
    "            ],\n",
    "        \"replaced_vals\": ['?'],\n",
    "        \"filling_method\": filling_method.MOST_COMMON\n",
    "    }\n",
    "\n",
    "    preprocessStrategy['TopThreeAmericanName'] = {\n",
    "        \"strategies\":\n",
    "            [\n",
    "                loweringCol,\n",
    "                replacingValueCol,\n",
    "                fillingTheNullValue,\n",
    "            ],\n",
    "        \"replaced_vals\": ['?'],\n",
    "        \"filling_method\": filling_method.MOST_COMMON\n",
    "    }\n",
    "\n",
    "    preprocessStrategy['MMRAcquisitionAuctionAveragePrice'] = {\n",
    "        \"strategies\":\n",
    "            [\n",
    "                replacingValueCol,\n",
    "                fillingTheNullValue,\n",
    "            ],\n",
    "        \"replaced_vals\": ['?'],\n",
    "        \"filling_method\": filling_method.MEAN\n",
    "    }\n",
    "\n",
    "    preprocessStrategy['MMRAcquisitionAuctionCleanPrice'] = {\n",
    "        \"strategies\":\n",
    "            [\n",
    "                replacingValueCol,\n",
    "                fillingTheNullValue,\n",
    "            ],\n",
    "        \"replaced_vals\": ['?'],\n",
    "        \"filling_method\": filling_method.MEAN\n",
    "    }\n",
    "\n",
    "    preprocessStrategy['MMRAcquisitionRetailAveragePrice'] = {\n",
    "        \"strategies\":\n",
    "            [\n",
    "                replacingValueCol,\n",
    "                fillingTheNullValue,\n",
    "            ],\n",
    "        \"replaced_vals\": ['?'],\n",
    "        \"filling_method\": filling_method.MEAN\n",
    "    }\n",
    "\n",
    "    preprocessStrategy['MMRAcquisitonRetailCleanPrice'] = {\n",
    "        \"strategies\":\n",
    "            [\n",
    "                replacingValueCol,\n",
    "                fillingTheNullValue,\n",
    "            ],\n",
    "        \"replaced_vals\": ['?'],\n",
    "        \"filling_method\": filling_method.MEAN\n",
    "    }\n",
    "\n",
    "    ###############################################################\n",
    "\n",
    "    int_stra = {\n",
    "        \"strategies\":\n",
    "            [\n",
    "                replacingValueCol,\n",
    "                fillingTheNullValue,\n",
    "            ],\n",
    "        \"replaced_vals\": ['?', '#VALUE!'],  # GOT 184 '?'\n",
    "        \"filling_method\": filling_method.MEAN,\n",
    "    }\n",
    "\n",
    "    cat_stra = {  # HOW DO WE DEAL WITH ? in this column\n",
    "        \"strategies\":\n",
    "            [\n",
    "                filterOutRareValue,\n",
    "                fillingTheNullValue,\n",
    "            ],\n",
    "        #     \"replaced_vals\": ['?'], # GOT 184 '?'\n",
    "        \"filling_method\": filling_method.CERTAIN_VALUE,\n",
    "        \"filling_value\": 'NULL',\n",
    "        \"min_freq\": 50\n",
    "    }\n",
    "\n",
    "    preprocessStrategy['MMRCurrentAuctionAveragePrice'] \\\n",
    "        = preprocessStrategy['MMRCurrentAuctionCleanPrice'] \\\n",
    "        = preprocessStrategy['MMRCurrentRetailAveragePrice'] \\\n",
    "        = preprocessStrategy['MMRCurrentRetailCleanPrice'] \\\n",
    "        = preprocessStrategy['MMRCurrentRetailRatio'] \\\n",
    "        = cat_stra if using_cat else int_stra\n",
    "\n",
    "    ###############################################################\n",
    "\n",
    "    preprocessStrategy['PRIMEUNIT'] = {  # HOW DO WE DEAL WITH ? in this column\n",
    "        \"strategies\":\n",
    "            [\n",
    "                loweringCol,\n",
    "                fillingTheNullValue,\n",
    "            ],\n",
    "        #     \"replaced_vals\": ['?'], # GOT 184 '?'\n",
    "        \"filling_method\": filling_method.CERTAIN_VALUE,\n",
    "        \"filling_value\": 'NULL',\n",
    "    }\n",
    "\n",
    "    preprocessStrategy['AUCGUART'] = {  # HOW DO WE DEAL WITH ? in this column\n",
    "        \"strategies\":\n",
    "            [\n",
    "                loweringCol,\n",
    "                fillingTheNullValue,\n",
    "            ],\n",
    "        #     \"replaced_vals\": ['?'], # GOT 184 '?'\n",
    "        \"filling_method\": filling_method.CERTAIN_VALUE,\n",
    "        \"filling_value\": 'NULL',\n",
    "    }\n",
    "\n",
    "    preprocessStrategy['VNST'] = {  # HOW DO WE DEAL WITH ? in this column\n",
    "        \"strategies\":\n",
    "            [\n",
    "                loweringCol,\n",
    "                fillingTheNullValue,\n",
    "            ],\n",
    "        #     \"replaced_vals\": ['?'], # GOT 184 '?'\n",
    "        \"filling_method\": filling_method.CERTAIN_VALUE,\n",
    "        \"filling_value\": 'NULL',\n",
    "    }\n",
    "\n",
    "    preprocessStrategy['VehBCost'] = {  # HOW DO WE DEAL WITH ? in this column\n",
    "        \"strategies\":\n",
    "            [\n",
    "                replacingValueCol,\n",
    "\n",
    "                fillingTheNullValue,\n",
    "            ],\n",
    "        \"replaced_vals\": ['?'],  # GOT 184 '?'\n",
    "        \"filling_method\": filling_method.MEAN\n",
    "    }\n",
    "\n",
    "    preprocessStrategy['IsOnlineSale'] = {  # HOW DO WE DEAL WITH ? in this column\n",
    "        \"strategies\":\n",
    "            [\n",
    "                replacingValueCol,\n",
    "                changeToType,\n",
    "                fillingTheNullValue,\n",
    "            ],\n",
    "        \"replaced_vals\": ['?', 2.0, 4.0],  # GOT 184 '?'\n",
    "        \"filling_method\": filling_method.MOST_COMMON,\n",
    "        \"changeToType\": 'float'\n",
    "    }\n",
    "\n",
    "    preprocessStrategy['WarrantyCost'] = {  # HOW DO WE DEAL WITH ? in this column\n",
    "        \"strategies\":\n",
    "            [\n",
    "                fillingTheNullValue,\n",
    "            ],\n",
    "        \"replaced_vals\": ['?'],  # GOT 184 '?'\n",
    "        \"filling_method\": filling_method.MEAN,\n",
    "    }\n",
    "\n",
    "    preprocessStrategy['ForSale'] = {  # HOW DO WE DEAL WITH ? in this column\n",
    "        \"strategies\":\n",
    "            [\n",
    "                loweringCol,\n",
    "                replacingValueCol,\n",
    "                fillingTheNullValue,\n",
    "            ],\n",
    "        \"replaced_vals\": ['?', 0],  # GOT 184 '?'\n",
    "        \"filling_method\": filling_method.MOST_COMMON,\n",
    "    }\n",
    "\n",
    "    # HOW DO WE DEAL WITH ? in this column\n",
    "    preprocessStrategy['IsBadBuy'] = {\"strategies\": [None]}\n",
    "\n",
    "    newData_prep(df)\n",
    "\n",
    "\n",
    "else:\n",
    "\n",
    "    def data_prep(df):\n",
    "        '''\n",
    "        For Preprocessing the Data (OLD_METHOD)\n",
    "        '''\n",
    "\n",
    "        # Check the replaced values are not in the dataset\n",
    "\n",
    "        for colName in df.columns:\n",
    "\n",
    "            if colName in categorial_cols:\n",
    "\n",
    "                if colName == \"IsOnlineSale\":\n",
    "                    df[colName] = df[colName].astype(\n",
    "                        'float').astype('category')\n",
    "                    df[colName].fillna(df[colName].astype(\n",
    "                        'category').describe()['top'], inplace=True)\n",
    "\n",
    "                # Try to lower the data if the data type is string\n",
    "                try:\n",
    "                    df[colName] = df[colName].str.lower()\n",
    "                except:\n",
    "                    print(colName, \" can't be lowered\")\n",
    "\n",
    "                for replaced in replaced_vals:\n",
    "                    print(\"In the Column: \" + str(colName) + \": \" +\n",
    "                          str(len(df[df[colName] == replaced])) + \" -> \" + str(replaced))\n",
    "                    df[colName].replace(replaced, float('nan'), inplace=True)\n",
    "\n",
    "                df[colName] = df[colName].astype('category')\n",
    "\n",
    "                # Replacing the null by the most common category\n",
    "                df[colName].fillna(df[colName].astype(\n",
    "                    'category').describe()['top'], inplace=True)\n",
    "\n",
    "            if colName in interval_cols:\n",
    "\n",
    "                if colName == \"MMRCurrentRetailRatio\":  # Dealing with this calculated value at the last\n",
    "                    continue\n",
    "\n",
    "                for replaced in replaced_vals:\n",
    "                    print(\"In the Column: \" + str(colName) + \": \" +\n",
    "                          str(len(df[df[colName] == replaced])) + \" -> \" + str(replaced))\n",
    "                    df[colName].replace(replaced, float('nan'), inplace=True)\n",
    "\n",
    "                df[colName] = df[colName].astype('float')\n",
    "\n",
    "                # Removing outlier\n",
    "                df = df[df[colName] < df[colName].quantile(0.999)]\n",
    "\n",
    "                # Replacing the null by the mean\n",
    "                df[colName].fillna(df[colName].astype(\n",
    "                    'float').mean(), inplace=True)\n",
    "\n",
    "        df['MMRCurrentRetailRatio'] = df['MMRCurrentRetailAveragePrice'] / \\\n",
    "            (df['MMRCurrentRetailCleanPrice']+1e-8)  # Prvent divided by 0\n",
    "\n",
    "        df.drop(drop_cols, axis=1, inplace=True)\n",
    "\n",
    "        return df\n",
    "\n",
    "    df = data_prep(df)\n"
   ]
  },
  {
   "cell_type": "markdown",
   "metadata": {},
   "source": [
    "### 3. Can you identify any clear patterns by initial exploration of the data using histogram or box plot?"
   ]
  },
  {
   "cell_type": "code",
   "execution_count": null,
   "metadata": {},
   "outputs": [],
   "source": [
    "def plotAllCols (df):\n",
    "    for colName in df.columns:\n",
    "        plt.figure(figsize=(20,10))\n",
    "        if colName in categorial_cols:\n",
    "            ### if it's categorial column, plot hist diagram \n",
    "            sns.countplot(x=colName, data = df, hue=\"IsBadBuy\")\n",
    "        elif colName in interval_cols:\n",
    "            ### if it's interval column, plot box diagram\n",
    "            sns.boxplot(x=\"IsBadBuy\", y=colName, data = df )"
   ]
  },
  {
   "cell_type": "code",
   "execution_count": null,
   "metadata": {},
   "outputs": [
    {
     "name": "stderr",
     "output_type": "stream",
     "text": [
      "/home/chihcheng/python3env/lib/python3.6/site-packages/matplotlib/pyplot.py:514: RuntimeWarning: More than 20 figures have been opened. Figures created through the pyplot interface (`matplotlib.pyplot.figure`) are retained until explicitly closed and may consume too much memory. (To control this warning, see the rcParam `figure.max_open_warning`).\n",
      "  max_open_warning, RuntimeWarning)\n",
      "/home/chihcheng/python3env/lib/python3.6/site-packages/matplotlib/pyplot.py:514: RuntimeWarning: More than 20 figures have been opened. Figures created through the pyplot interface (`matplotlib.pyplot.figure`) are retained until explicitly closed and may consume too much memory. (To control this warning, see the rcParam `figure.max_open_warning`).\n",
      "  max_open_warning, RuntimeWarning)\n"
     ]
    },
    {
     "data": {
      "image/png": "[encoded data removed]",
      "text/plain": [
       "<Figure size 1440x720 with 1 Axes>"
      ]
     },
     "metadata": {
      "needs_background": "light"
     },
     "output_type": "display_data"
    },
    {
     "data": {
      "image/png": "[encoded data removed]",
      "text/plain": [
       "<Figure size 1440x720 with 1 Axes>"
      ]
     },
     "metadata": {
      "needs_background": "light"
     },
     "output_type": "display_data"
    },
    {
     "data": {
      "image/png": "[encoded data removed]",
      "text/plain": [
       "<Figure size 1440x720 with 1 Axes>"
      ]
     },
     "metadata": {
      "needs_background": "light"
     },
     "output_type": "display_data"
    },
    {
     "data": {
      "image/png": "[encoded data removed]",
      "text/plain": [
       "<Figure size 1440x720 with 1 Axes>"
      ]
     },
     "metadata": {
      "needs_background": "light"
     },
     "output_type": "display_data"
    },
    {
     "data": {
      "image/png": "[encoded data removed]",
      "text/plain": [
       "<Figure size 1440x720 with 1 Axes>"
      ]
     },
     "metadata": {
      "needs_background": "light"
     },
     "output_type": "display_data"
    },
    {
     "data": {
      "image/png": "[encoded data removed]",
      "text/plain": [
       "<Figure size 1440x720 with 1 Axes>"
      ]
     },
     "metadata": {
      "needs_background": "light"
     },
     "output_type": "display_data"
    },
    {
     "data": {
      "image/png": "[encoded data removed]",
      "text/plain": [
       "<Figure size 1440x720 with 1 Axes>"
      ]
     },
     "metadata": {
      "needs_background": "light"
     },
     "output_type": "display_data"
    },
    {
     "data": {
      "image/png": "[encoded data removed]",
      "text/plain": [
       "<Figure size 1440x720 with 1 Axes>"
      ]
     },
     "metadata": {
      "needs_background": "light"
     },
     "output_type": "display_data"
    },
    {
     "data": {
      "image/png": "[encoded data removed]",
      "text/plain": [
       "<Figure size 1440x720 with 1 Axes>"
      ]
     },
     "metadata": {
      "needs_background": "light"
     },
     "output_type": "display_data"
    },
    {
     "data": {
      "image/png": "[encoded data removed]",
      "text/plain": [
       "<Figure size 1440x720 with 1 Axes>"
      ]
     },
     "metadata": {
      "needs_background": "light"
     },
     "output_type": "display_data"
    },
    {
     "data": {
      "image/png": "[encoded data removed]",
      "text/plain": [
       "<Figure size 1440x720 with 1 Axes>"
      ]
     },
     "metadata": {
      "needs_background": "light"
     },
     "output_type": "display_data"
    },
    {
     "data": {
      "image/png": "[encoded data removed]",
      "text/plain": [
       "<Figure size 1440x720 with 1 Axes>"
      ]
     },
     "metadata": {
      "needs_background": "light"
     },
     "output_type": "display_data"
    },
    {
     "data": {
      "image/png": "[encoded data removed]",
      "text/plain": [
       "<Figure size 1440x720 with 1 Axes>"
      ]
     },
     "metadata": {
      "needs_background": "light"
     },
     "output_type": "display_data"
    },
    {
     "data": {
      "image/png": "[encoded data removed]",
      "text/plain": [
       "<Figure size 1440x720 with 1 Axes>"
      ]
     },
     "metadata": {
      "needs_background": "light"
     },
     "output_type": "display_data"
    },
    {
     "data": {
      "image/png": "[encoded data removed]",
      "text/plain": [
       "<Figure size 1440x720 with 1 Axes>"
      ]
     },
     "metadata": {
      "needs_background": "light"
     },
     "output_type": "display_data"
    },
    {
     "data": {
      "image/png": "[encoded data removed]",
      "text/plain": [
       "<Figure size 1440x720 with 1 Axes>"
      ]
     },
     "metadata": {
      "needs_background": "light"
     },
     "output_type": "display_data"
    },
    {
     "data": {
      "image/png": "[encoded data removed]",
      "text/plain": [
       "<Figure size 1440x720 with 1 Axes>"
      ]
     },
     "metadata": {
      "needs_background": "light"
     },
     "output_type": "display_data"
    },
    {
     "data": {
      "image/png": "[encoded data removed]",
      "text/plain": [
       "<Figure size 1440x720 with 1 Axes>"
      ]
     },
     "metadata": {
      "needs_background": "light"
     },
     "output_type": "display_data"
    },
    {
     "data": {
      "image/png": "[encoded data removed]",
      "text/plain": [
       "<Figure size 1440x720 with 1 Axes>"
      ]
     },
     "metadata": {
      "needs_background": "light"
     },
     "output_type": "display_data"
    },
    {
     "data": {
      "image/png": "[encoded data removed]",
      "text/plain": [
       "<Figure size 1440x720 with 1 Axes>"
      ]
     },
     "metadata": {
      "needs_background": "light"
     },
     "output_type": "display_data"
    },
    {
     "data": {
      "image/png": "[encoded data removed]",
      "text/plain": [
       "<Figure size 1440x720 with 1 Axes>"
      ]
     },
     "metadata": {
      "needs_background": "light"
     },
     "output_type": "display_data"
    },
    {
     "data": {
      "image/png": "[encoded data removed]",
      "text/plain": [
       "<Figure size 1440x720 with 1 Axes>"
      ]
     },
     "metadata": {
      "needs_background": "light"
     },
     "output_type": "display_data"
    },
    {
     "data": {
      "image/png": "[encoded data removed]",
      "text/plain": [
       "<Figure size 1440x720 with 1 Axes>"
      ]
     },
     "metadata": {
      "needs_background": "light"
     },
     "output_type": "display_data"
    },
    {
     "data": {
      "image/png": "[encoded data removed]",
      "text/plain": [
       "<Figure size 1440x720 with 1 Axes>"
      ]
     },
     "metadata": {
      "needs_background": "light"
     },
     "output_type": "display_data"
    },
    {
     "data": {
      "image/png": "[encoded data removed]",
      "text/plain": [
       "<Figure size 1440x720 with 1 Axes>"
      ]
     },
     "metadata": {
      "needs_background": "light"
     },
     "output_type": "display_data"
    },
    {
     "data": {
      "image/png": "[encoded data removed]",
      "text/plain": [
       "<Figure size 1440x720 with 1 Axes>"
      ]
     },
     "metadata": {
      "needs_background": "light"
     },
     "output_type": "display_data"
    },
    {
     "data": {
      "image/png": "[encoded data removed]",
      "text/plain": [
       "<Figure size 1440x720 with 1 Axes>"
      ]
     },
     "metadata": {
      "needs_background": "light"
     },
     "output_type": "display_data"
    },
    {
     "data": {
      "text/plain": [
       "<Figure size 1440x720 with 0 Axes>"
      ]
     },
     "metadata": {},
     "output_type": "display_data"
    }
   ],
   "source": [
    "plotAllCols(df)"
   ]
  },
  {
   "cell_type": "markdown",
   "metadata": {},
   "source": [
    "### 4. What variables did you include in the analysis and what were their roles and measurement level set? Justify your choice"
   ]
  },
  {
   "cell_type": "code",
   "execution_count": null,
   "metadata": {},
   "outputs": [],
   "source": []
  },
  {
   "cell_type": "markdown",
   "metadata": {},
   "source": [
    "### 5. What distribution scheme did you use? What data partitioning allocation did you set? Explain your selection. "
   ]
  },
  {
   "cell_type": "code",
   "execution_count": null,
   "metadata": {
    "scrolled": true
   },
   "outputs": [
    {
     "name": "stdout",
     "output_type": "stream",
     "text": [
      "Using ROS Resmapling\n"
     ]
    }
   ],
   "source": [
    "# Change to the dummy \n",
    "\n",
    "df = pd.get_dummies(df)\n",
    "\n",
    "feature_names = df.drop(\"IsBadBuy\", axis=1).columns\n",
    "\n",
    "\n",
    "### Split to the training and test set. \n",
    "#  The test size is 3%\n",
    "\n",
    "# y = df['IsBadBuy']\n",
    "# X = df.drop(['IsBadBuy'], axis=1)\n",
    "# X_mat = X.as_matrix()\n",
    "\n",
    "# X_train, X_test, y_train, y_test = train_test_split(X_mat, y, test_size=0.3, stratify=y, random_state=rs)\n",
    "\n",
    "X_train, X_test, y_train, y_test = train_test_split(df.drop(\"IsBadBuy\", axis=1), df['IsBadBuy'], test_size=0.3, stratify=df['IsBadBuy'], random_state=rs)\n",
    "\n",
    "if ResamplingMethod == 'ros':\n",
    "    print(\"Using ROS Resmapling\")\n",
    "    ros = RandomOverSampler(random_state=rs)\n",
    "    X_train, y_train = ros.fit_resample(X_train, y_train)\n",
    "elif  ResamplingMethod == 'rus':\n",
    "    print(\"Using RUS Resmapling\")\n",
    "    rus = RandomUnderSampler(random_state=rs)\n",
    "    X_train, y_train = rus.fit_resample(X_train, y_train)\n",
    "else:\n",
    "    print(\"No Resampling Method Used\")"
   ]
  },
  {
   "cell_type": "code",
   "execution_count": null,
   "metadata": {},
   "outputs": [
    {
     "name": "stdout",
     "output_type": "stream",
     "text": [
      "Number of Training:  50546\n",
      "Number of Test:  12443\n"
     ]
    }
   ],
   "source": [
    "print(\"Number of Training: \", len(X_train))\n",
    "print(\"Number of Test: \", len(X_test) )"
   ]
  },
  {
   "cell_type": "markdown",
   "metadata": {},
   "source": [
    "# Task 2. Predictive Modeling Using Decision Trees "
   ]
  },
  {
   "cell_type": "markdown",
   "metadata": {},
   "source": [
    "## 1. Python: Build a decision tree using the default setting. "
   ]
  },
  {
   "cell_type": "code",
   "execution_count": null,
   "metadata": {},
   "outputs": [],
   "source": [
    "def printLRTopImportant(model, top = 5):\n",
    "    \n",
    "    coef = model.coef_[0]\n",
    "    indices = np.argsort(np.absolute(coef))\n",
    "    indices = np.flip(indices, axis=0)\n",
    "    indices = indices[:top]\n",
    "    for i in indices:\n",
    "        print(feature_names[i], ':', coef[i])\n",
    "\n",
    "def analyse_feature_importance(dm_model, feature_names, n_to_display=20):\n",
    "    # grab feature importances from the model\n",
    "    importances = dm_model.feature_importances_\n",
    "    \n",
    "    # sort them out in descending order\n",
    "    indices = np.argsort(importances)\n",
    "    indices = np.flip(indices, axis=0)\n",
    "\n",
    "    # limit to 20 features, you can leave this out to print out everything\n",
    "    indices = indices[:n_to_display]\n",
    "\n",
    "    for i in indices:\n",
    "        print(feature_names[i], ':', importances[i])\n",
    "\n",
    "def visualize_decision_tree(dm_model, feature_names, save_name):\n",
    "    dotfile = StringIO()\n",
    "    export_graphviz(dm_model, out_file=dotfile, feature_names=feature_names)\n",
    "    graph = pydot.graph_from_dot_data(dotfile.getvalue())\n",
    "    graph[0].write_png(save_name) # saved in the following file\n"
   ]
  },
  {
   "cell_type": "code",
   "execution_count": null,
   "metadata": {},
   "outputs": [
    {
     "data": {
      "text/plain": [
       "DecisionTreeClassifier(class_weight=None, criterion='gini', max_depth=None,\n",
       "            max_features=None, max_leaf_nodes=None,\n",
       "            min_impurity_decrease=0.0, min_impurity_split=None,\n",
       "            min_samples_leaf=1, min_samples_split=2,\n",
       "            min_weight_fraction_leaf=0.0, presort=False, random_state=101,\n",
       "            splitter='best')"
      ]
     },
     "execution_count": 14,
     "metadata": {},
     "output_type": "execute_result"
    }
   ],
   "source": [
    "# simple decision tree training\n",
    "model = DecisionTreeClassifier(random_state=rs)\n",
    "model.fit(X_train, y_train)"
   ]
  },
  {
   "cell_type": "markdown",
   "metadata": {},
   "source": [
    "### a. What is the classification accuracy on training and test datasets?"
   ]
  },
  {
   "cell_type": "code",
   "execution_count": null,
   "metadata": {},
   "outputs": [
    {
     "name": "stdout",
     "output_type": "stream",
     "text": [
      "Train accuracy: 0.9994856170616864\n",
      "Test accuracy: 0.8256047576950896\n",
      "              precision    recall  f1-score   support\n",
      "\n",
      "           0       0.90      0.90      0.90     10832\n",
      "           1       0.33      0.33      0.33      1611\n",
      "\n",
      "   micro avg       0.83      0.83      0.83     12443\n",
      "   macro avg       0.61      0.61      0.61     12443\n",
      "weighted avg       0.83      0.83      0.83     12443\n",
      "\n"
     ]
    }
   ],
   "source": [
    "print(\"Train accuracy:\", model.score(X_train, y_train))\n",
    "print(\"Test accuracy:\", model.score(X_test, y_test))\n",
    "y_pred = model.predict(X_test)\n",
    "print(classification_report(y_test, y_pred))\n",
    "confusion_matrix(y_test, y_pred) ## Confusion Matrix on the TestSet"
   ]
  },
  {
   "cell_type": "markdown",
   "metadata": {},
   "source": [
    "### b. What is the size of tree (i.e. number of nodes)?"
   ]
  },
  {
   "cell_type": "code",
   "execution_count": null,
   "metadata": {},
   "outputs": [
    {
     "name": "stdout",
     "output_type": "stream",
     "text": [
      "Number of nodes:  7451\n"
     ]
    }
   ],
   "source": [
    "print(\"Number of nodes: \",model.tree_.node_count)"
   ]
  },
  {
   "cell_type": "markdown",
   "metadata": {},
   "source": [
    "### c. How many leaves are in the tree that is selected based on the validation dataset?"
   ]
  },
  {
   "cell_type": "code",
   "execution_count": null,
   "metadata": {},
   "outputs": [],
   "source": []
  },
  {
   "cell_type": "markdown",
   "metadata": {},
   "source": [
    "### d. Which variable is used for the first split? What are the competing splits for this first split? "
   ]
  },
  {
   "cell_type": "code",
   "execution_count": null,
   "metadata": {},
   "outputs": [],
   "source": [
    "visualize_decision_tree(model, df.drop(\"IsBadBuy\", axis=1).columns, \"Tree_Struct.png\")"
   ]
  },
  {
   "cell_type": "markdown",
   "metadata": {},
   "source": [
    "### e. What are the 5 important variables in building the tree? "
   ]
  },
  {
   "cell_type": "code",
   "execution_count": null,
   "metadata": {},
   "outputs": [
    {
     "name": "stdout",
     "output_type": "stream",
     "text": [
      "WheelTypeID_? : 0.13551426074337208\n",
      "VehBCost : 0.12697398520218173\n",
      "VehOdo : 0.09322697324736888\n",
      "MMRAcquisitionAuctionCleanPrice : 0.0728830956066675\n",
      "MMRAcquisitionRetailAveragePrice : 0.06240815240105831\n"
     ]
    }
   ],
   "source": [
    "analyse_feature_importance(model, df.drop(\"IsBadBuy\", axis=1).columns, 5)"
   ]
  },
  {
   "cell_type": "markdown",
   "metadata": {},
   "source": [
    "### f. Report if you see any evidence of model overfitting. "
   ]
  },
  {
   "cell_type": "code",
   "execution_count": null,
   "metadata": {},
   "outputs": [],
   "source": []
  },
  {
   "cell_type": "markdown",
   "metadata": {},
   "source": [
    "### g. Did changing the default setting (i.e., only focus on changing the setting of the number of splits to create a node) help improving the model? Answer the above questions on the best performing tree."
   ]
  },
  {
   "cell_type": "code",
   "execution_count": null,
   "metadata": {},
   "outputs": [],
   "source": []
  },
  {
   "cell_type": "markdown",
   "metadata": {},
   "source": [
    "## 2. Python: Build another decision tree tuned with GridSearchCV"
   ]
  },
  {
   "cell_type": "code",
   "execution_count": null,
   "metadata": {},
   "outputs": [
    {
     "data": {
      "text/plain": [
       "array([[9742, 1090],\n",
       "       [1080,  531]])"
      ]
     },
     "execution_count": 19,
     "metadata": {},
     "output_type": "execute_result"
    }
   ],
   "source": []
  },
  {
   "cell_type": "code",
   "execution_count": null,
   "metadata": {
    "scrolled": true
   },
   "outputs": [],
   "source": [
    "# grid search CV\n",
    "params = {'criterion': ['gini', 'entropy'],\n",
    "          'max_depth': list(range(1, 6000, 1000)) + [None],\n",
    "          'splitter': ['best', 'random'],\n",
    "          'min_samples_leaf': range(1,  4),\n",
    "          'min_samples_split': [2, 0.5, 0.3],\n",
    "          'max_features':['auto','sqrt','log2', None],\n",
    "          'class_weight':['balanced', None]\n",
    "         }\n",
    "\n",
    "cv = GridSearchCV(param_grid=params, estimator=DecisionTreeClassifier(random_state=rs), cv=10)\n",
    "cv.fit(X_train, y_train)"
   ]
  },
  {
   "cell_type": "markdown",
   "metadata": {},
   "source": [
    "### a. What is the classification accuracy on training and test datasets?"
   ]
  },
  {
   "cell_type": "code",
   "execution_count": null,
   "metadata": {},
   "outputs": [],
   "source": [
    "print(\"Train accuracy:\", cv.score(X_train, y_train))\n",
    "print(\"Test accuracy:\", cv.score(X_test, y_test))\n",
    "\n",
    "# test the best model\n",
    "y_pred = cv.predict(X_test)\n",
    "print(classification_report(y_test, y_pred))\n",
    "# print parameters of the best model\n",
    "print(cv.best_params_)\n",
    "\n",
    "dt_model = cv.best_estimator_"
   ]
  },
  {
   "cell_type": "markdown",
   "metadata": {},
   "source": [
    "### b. What is the size of tree (i.e. number of nodes)? Is the size different from the maximal tree or the tree in the previous step? Why?"
   ]
  },
  {
   "cell_type": "code",
   "execution_count": null,
   "metadata": {},
   "outputs": [],
   "source": [
    "print(\"Number of nodes: \", cv.best_estimator_.tree_.node_count)"
   ]
  },
  {
   "cell_type": "markdown",
   "metadata": {},
   "source": [
    "### c. How many leaves are in the tree that is selected based on the validation dataset?"
   ]
  },
  {
   "cell_type": "code",
   "execution_count": null,
   "metadata": {},
   "outputs": [],
   "source": []
  },
  {
   "cell_type": "markdown",
   "metadata": {},
   "source": [
    "### d. Which variable is used for the first split? What are the competing splits for this first split? "
   ]
  },
  {
   "cell_type": "code",
   "execution_count": null,
   "metadata": {},
   "outputs": [],
   "source": [
    "visualize_decision_tree(cv.best_estimator_, df.drop(\"IsBadBuy\", axis=1).columns, \"Tree_Struct_CV.png\")"
   ]
  },
  {
   "cell_type": "markdown",
   "metadata": {},
   "source": [
    "### e. What are the 5 important variables in building the tree? "
   ]
  },
  {
   "cell_type": "code",
   "execution_count": null,
   "metadata": {},
   "outputs": [],
   "source": [
    "analyse_feature_importance(cv.best_estimator_, df.drop(\"IsBadBuy\", axis=1).columns, 5)"
   ]
  },
  {
   "cell_type": "markdown",
   "metadata": {},
   "source": [
    "### f. Report if you see any evidence of model overfitting. "
   ]
  },
  {
   "cell_type": "code",
   "execution_count": null,
   "metadata": {},
   "outputs": [],
   "source": []
  },
  {
   "cell_type": "markdown",
   "metadata": {},
   "source": [
    "### g. What are the parameters used? Explain your choices."
   ]
  },
  {
   "cell_type": "code",
   "execution_count": null,
   "metadata": {},
   "outputs": [],
   "source": []
  },
  {
   "cell_type": "markdown",
   "metadata": {},
   "source": [
    "## 3. What is the significant difference do you see between these two decision tree models (steps 2.1 & 2.2)? How do they compare performance-wise? Explain why those changes may have happened. "
   ]
  },
  {
   "cell_type": "code",
   "execution_count": null,
   "metadata": {},
   "outputs": [],
   "source": []
  },
  {
   "cell_type": "markdown",
   "metadata": {},
   "source": [
    "## 4. From the better model, can you identify which cars could potential be “kicks”? Can you provide some descriptive summary of those cars?"
   ]
  },
  {
   "cell_type": "code",
   "execution_count": null,
   "metadata": {},
   "outputs": [],
   "source": []
  },
  {
   "cell_type": "code",
   "execution_count": null,
   "metadata": {},
   "outputs": [],
   "source": []
  },
  {
   "cell_type": "markdown",
   "metadata": {},
   "source": [
    "# Task 3. Predictive Modeling Using Regression"
   ]
  },
  {
   "cell_type": "markdown",
   "metadata": {},
   "source": [
    "## 1. In preparation for regression, is any imputation of missing values needed for this data set? List the variables that needed this."
   ]
  },
  {
   "cell_type": "code",
   "execution_count": null,
   "metadata": {},
   "outputs": [],
   "source": [
    "# We've already done this in the prep_data function"
   ]
  },
  {
   "cell_type": "markdown",
   "metadata": {},
   "source": [
    "## 2. Apply transformation method(s) to the variable(s) that need it. List the variables that needed it"
   ]
  },
  {
   "cell_type": "code",
   "execution_count": null,
   "metadata": {},
   "outputs": [],
   "source": [
    "## Doing the log transformation\n",
    "\n",
    "\n",
    "### Q: It's enoguh?\n",
    "columns_to_transform = interval_cols\n",
    "\n",
    "def logTransformation(df):\n",
    "    \n",
    "    df_log = df.copy()\n",
    "\n",
    "    \n",
    "    for col in columns_to_transform:\n",
    "        df_log[col] = df_log[col].apply(lambda x: x+1)\n",
    "        df_log[col] = df_log[col].apply(np.log)\n",
    "        \n",
    "        \n",
    "    return df_log\n",
    "\n",
    "df_log = logTransformation(df)\n",
    "X_train_log, X_test_log, y_train_log, y_test_log = train_test_split(df_log.drop(['IsBadBuy'], axis=1), df_log['IsBadBuy'], test_size=0.3, stratify=df_log['IsBadBuy']\n",
    ",random_state=rs)\n",
    "\n",
    "# Standardise\n",
    "scaler_log = StandardScaler()\n",
    "X_train_log = scaler_log.fit_transform(X_train_log, y_train_log)\n",
    "X_test_log = scaler_log.transform(X_test_log)\n"
   ]
  },
  {
   "cell_type": "markdown",
   "metadata": {},
   "source": [
    "## 3. Build a regression model using the default regression method with all inputs. Once you done it, build another one and tune it using GridSearchCV. Answer the followings:"
   ]
  },
  {
   "cell_type": "code",
   "execution_count": null,
   "metadata": {},
   "outputs": [],
   "source": [
    "### Traing Logistic Regression\n",
    "model = LogisticRegression(random_state=rs)\n",
    "model.fit(X_train_log, y_train_log)"
   ]
  },
  {
   "cell_type": "code",
   "execution_count": null,
   "metadata": {},
   "outputs": [],
   "source": [
    "## GridSearch for Logistic Regression\n",
    "params = {\n",
    "    'C': [pow(10, x) for x in range(-4, 1)],\n",
    "    'solver' : ['newton-cg',\"lbfgs\", \"liblinear\", \"sag\", \"saga\"],\n",
    "    'max_iter': [30, 50, 100],\n",
    "    'warm_start': [True, False],\n",
    "    'class_weight':['balanced', None]\n",
    "}\n",
    "\n",
    "cv = GridSearchCV(param_grid=params, estimator=LogisticRegression(random_state=rs), cv=10, n_jobs=-1)\n",
    "cv.fit(X_train_log, y_train_log)"
   ]
  },
  {
   "cell_type": "markdown",
   "metadata": {},
   "source": [
    "### h. Name the regression function used."
   ]
  },
  {
   "cell_type": "code",
   "execution_count": null,
   "metadata": {},
   "outputs": [],
   "source": []
  },
  {
   "cell_type": "markdown",
   "metadata": {},
   "source": [
    "### i. How much was the difference in performance of two models build, default and optimal?"
   ]
  },
  {
   "cell_type": "code",
   "execution_count": null,
   "metadata": {},
   "outputs": [],
   "source": [
    "print(\"Train accuracy:\", model.score(X_train_log, y_train_log))\n",
    "print(\"Test accuracy:\", model.score(X_test_log, y_test_log))\n",
    "print(\"GridSearch Train accuracy:\", cv.score(X_train_log, y_train_log))\n",
    "print(\"GridSearch Test accuracy:\", cv.score(X_test_log, y_test_log))"
   ]
  },
  {
   "cell_type": "markdown",
   "metadata": {},
   "source": [
    "### j. Show the set parameters for the best model. What are the parameters used? Explain your decision. What are the optimal parameters?"
   ]
  },
  {
   "cell_type": "code",
   "execution_count": null,
   "metadata": {},
   "outputs": [],
   "source": [
    "print(\"The best model parameters: \", cv.best_params_)"
   ]
  },
  {
   "cell_type": "markdown",
   "metadata": {},
   "source": [
    "### k. Report which variables are included in the regression model."
   ]
  },
  {
   "cell_type": "code",
   "execution_count": null,
   "metadata": {},
   "outputs": [],
   "source": []
  },
  {
   "cell_type": "markdown",
   "metadata": {},
   "source": [
    "### l. Report the top-5 important variables (in the order) in the model."
   ]
  },
  {
   "cell_type": "code",
   "execution_count": null,
   "metadata": {},
   "outputs": [],
   "source": [
    "def printLRTopImportant(model, top = 5):\n",
    "    \n",
    "    coef = model.coef_[0]\n",
    "    indices = np.argsort(np.absolute(coef))\n",
    "    indices = np.flip(indices, axis=0)\n",
    "    indices = indices[:top]\n",
    "    for i in indices:\n",
    "        print(feature_names[i], ':', coef[i])"
   ]
  },
  {
   "cell_type": "code",
   "execution_count": null,
   "metadata": {},
   "outputs": [],
   "source": [
    "printLRTopImportant(model, 5)"
   ]
  },
  {
   "cell_type": "markdown",
   "metadata": {},
   "source": [
    "### m. What is classification accuracy on training and test datasets?"
   ]
  },
  {
   "cell_type": "code",
   "execution_count": null,
   "metadata": {},
   "outputs": [],
   "source": [
    "y_pred = model.predict(X_test_log)\n",
    "print(\"Classification Report: \\n\\n\",classification_report(y_test_log, y_pred))\n",
    "\n",
    "y_pred = cv.predict(X_test_log)\n",
    "print(\"GridSearch Classification Report: \\n\\n\",classification_report(y_test_log, y_pred))\n",
    "log_reg_model = cv.best_estimator_"
   ]
  },
  {
   "cell_type": "markdown",
   "metadata": {},
   "source": [
    "### n. Report any sign of overfitting."
   ]
  },
  {
   "cell_type": "code",
   "execution_count": null,
   "metadata": {},
   "outputs": [],
   "source": [
    "## The GridSearch Precision and Recall is weird"
   ]
  },
  {
   "cell_type": "markdown",
   "metadata": {},
   "source": [
    "## 4. Build another regression model using the subset of inputs selected by RFE and selection by model method. Answer the followings:"
   ]
  },
  {
   "cell_type": "code",
   "execution_count": null,
   "metadata": {
    "scrolled": true
   },
   "outputs": [],
   "source": [
    "rfe = RFECV(estimator = LogisticRegression(random_state=rs), cv=10)\n",
    "rfe.fit(X_train_log, y_train_log)\n",
    "X_train_rfe = rfe.transform(X_train_log)\n",
    "X_test_rfe = rfe.transform(X_test_log)\n",
    "\n",
    "selectmodel = SelectFromModel(dt_model, prefit=True)\n",
    "X_train_sel_model = selectmodel.transform(X_train_log)\n",
    "X_test_sel_model = selectmodel.transform(X_test_log)"
   ]
  },
  {
   "cell_type": "markdown",
   "metadata": {},
   "source": [
    "### a. Report which variables are included in the regression model."
   ]
  },
  {
   "cell_type": "code",
   "execution_count": null,
   "metadata": {},
   "outputs": [],
   "source": [
    "print(\"Original feature set\", X_train.shape[1])\n",
    "print(\"Number of RFE-selected features: \", rfe.n_features_)\n",
    "print(\"Number of selectFromModel features: \",  X_train_sel_model.shape[1])"
   ]
  },
  {
   "cell_type": "code",
   "execution_count": null,
   "metadata": {},
   "outputs": [],
   "source": [
    "print(\"The RFE-selected features: \\n\\n\", list(compress(feature_names, rfe.support_)))\n",
    "print(\"\\n\\n\")\n",
    "print(\"The SelectFromModel features: \\n\\n\",list(compress(feature_names, selectmodel.get_support())))"
   ]
  },
  {
   "cell_type": "markdown",
   "metadata": {},
   "source": [
    "### b. Report the top-5 important variables (in the order) in the model."
   ]
  },
  {
   "cell_type": "code",
   "execution_count": null,
   "metadata": {},
   "outputs": [],
   "source": [
    "params = {\n",
    "    'C': [pow(10, x) for x in range(-4, 1)],\n",
    "    'solver' : ['newton-cg',\"lbfgs\", \"liblinear\", \"sag\", \"saga\"],\n",
    "    'max_iter': [30, 50, 100],\n",
    "    'warm_start': [True, False],\n",
    "    'class_weight':['balanced', None]\n",
    "\n",
    "}\n",
    "rfe_cv = GridSearchCV(param_grid=params, estimator=LogisticRegression(random_state=rs, verbose=True), cv=10, n_jobs=-1)\n",
    "rfe_cv.fit(X_train_rfe, y_train_log)\n",
    "\n",
    "selectModel_cv = GridSearchCV(param_grid=params, estimator=LogisticRegression(random_state=rs, verbose=True), cv=10, n_jobs=-1)\n",
    "selectModel_cv.fit(X_train_sel_model, y_train_log)\n"
   ]
  },
  {
   "cell_type": "code",
   "execution_count": null,
   "metadata": {},
   "outputs": [],
   "source": [
    "print(\"Top-5 important variables for RFE: \\n\")\n",
    "printLRTopImportant(rfe_cv.best_estimator_, 5)\n",
    "print(\"\\n\\n\")\n",
    "print(\"Top-5 important variables for selectModel \\n\")\n",
    "printLRTopImportant(selectModel_cv.best_estimator_, 5)"
   ]
  },
  {
   "cell_type": "markdown",
   "metadata": {},
   "source": [
    "### c. What are the parameters used? Explain your choices. What are the optimal parameters? Which regression function is being used?"
   ]
  },
  {
   "cell_type": "code",
   "execution_count": null,
   "metadata": {
    "scrolled": true
   },
   "outputs": [],
   "source": [
    "print(\"Optimal Parameters for RFE\", rfe_cv.best_params_)\n",
    "print(\"Optimal Parameters for selectModel\", selectModel_cv.best_params_)"
   ]
  },
  {
   "cell_type": "markdown",
   "metadata": {},
   "source": [
    "### d. Report any sign of overfitting"
   ]
  },
  {
   "cell_type": "code",
   "execution_count": null,
   "metadata": {},
   "outputs": [],
   "source": []
  },
  {
   "cell_type": "markdown",
   "metadata": {},
   "source": [
    "### e. What is classification accuracy on training and test datasets?"
   ]
  },
  {
   "cell_type": "code",
   "execution_count": null,
   "metadata": {},
   "outputs": [],
   "source": [
    "print(\"GridSearch Train accuracy:\", cv.score(X_train_log, y_train_log))\n",
    "print(\"GridSearch Test accuracy:\", cv.score(X_test_log, y_test_log))\n",
    "print(\"\\n\\nRFE:\\n\")\n",
    "print(\"Train accuracy:\", rfe_cv.score(X_train_rfe, y_train_log))\n",
    "print(\"Test accuracy:\", rfe_cv.score(X_test_rfe, y_test_log))\n",
    "print(\"\\n\\nselectModel:\\n\")\n",
    "print(\"Train accuracy:\", selectModel_cv.score(X_train_sel_model, y_train_log))\n",
    "print(\"Test accuracy:\", selectModel_cv.score(X_test_sel_model, y_test_log))"
   ]
  },
  {
   "cell_type": "markdown",
   "metadata": {},
   "source": [
    "### f. Did it improve/worsen the performance? Explain why those changes may have happened"
   ]
  },
  {
   "cell_type": "code",
   "execution_count": null,
   "metadata": {},
   "outputs": [],
   "source": [
    "y_pred = rfe_cv.predict(X_test_rfe)\n",
    "print(\"REF classification report: \\n\",classification_report(y_test, y_pred))\n",
    "print(\"\\n\\n\")\n",
    "y_pred = selectModel_cv.predict(X_test_sel_model)\n",
    "print(\"selectModel classification report: \\n\",classification_report(y_test, y_pred))"
   ]
  },
  {
   "cell_type": "markdown",
   "metadata": {},
   "source": [
    " # Task4 - Predicting using neural network"
   ]
  },
  {
   "cell_type": "markdown",
   "metadata": {},
   "source": [
    "## 1. Build a Neural Network model using the default setting. Answer the following:"
   ]
  },
  {
   "cell_type": "code",
   "execution_count": null,
   "metadata": {},
   "outputs": [],
   "source": [
    "model = MLPClassifier(random_state=rs)\n",
    "model.fit(X_train_log, y_train_log)"
   ]
  },
  {
   "cell_type": "markdown",
   "metadata": {},
   "source": [
    "### a. What is the network architecture?"
   ]
  },
  {
   "cell_type": "code",
   "execution_count": null,
   "metadata": {},
   "outputs": [],
   "source": [
    "def printMLPArchitecture(model):\n",
    "\n",
    "    print(\"Number of Layers: \",model.n_layers_ )\n",
    "    print(\"The First layer is Input Layer, and the last layer is the output layer\")\n",
    "    for i, w in enumerate(model.coefs_):\n",
    "        print(\"{} Layer with hidden size {}\".format(i+1, w.shape[0]))\n",
    "        if (i+1) == len(model.coefs_):\n",
    "            print(\"{} Layer with hidden size {}\".format(i+2, w.shape[1]))\n",
    "    \n",
    "    print(\"The activation function: \", model.activation)\n",
    "            \n",
    "printMLPArchitecture(model)"
   ]
  },
  {
   "cell_type": "markdown",
   "metadata": {},
   "source": [
    "### b. How many iterations are needed to train this network?"
   ]
  },
  {
   "cell_type": "code",
   "execution_count": null,
   "metadata": {},
   "outputs": [],
   "source": [
    "print(\"Number of iterations it ran: \", model.n_iter_)"
   ]
  },
  {
   "cell_type": "markdown",
   "metadata": {},
   "source": [
    "### c. Do you see any sign of over-fitting?"
   ]
  },
  {
   "cell_type": "code",
   "execution_count": null,
   "metadata": {
    "scrolled": false
   },
   "outputs": [],
   "source": [
    "# fig = plt.figure(figsize=(10, 5))\n",
    "# plt.ylabel('Accuracy',fontsize=15)\n",
    "# plt.xlabel('Number of iterations',fontsize=15)\n",
    "# plt.title('Validation Accuracy',fontsize=20,fontweight =\"bold\")\n",
    "# plt.plot(model.validation_scores_, label=\"Validation Accuracy\")"
   ]
  },
  {
   "cell_type": "markdown",
   "metadata": {},
   "source": [
    "### d. Did the training process converge and resulted in the best model? "
   ]
  },
  {
   "cell_type": "code",
   "execution_count": null,
   "metadata": {
    "scrolled": true
   },
   "outputs": [],
   "source": [
    "fig = plt.figure(figsize=(10, 5))\n",
    "plt.ylabel('Loss',fontsize=15)\n",
    "plt.xlabel('Number of iterations',fontsize=15)\n",
    "plt.title('Training Loss',fontsize=20,fontweight =\"bold\")\n",
    "plt.plot(model.loss_curve_, label=\"Training Loss\")\n",
    "\n",
    "### The Loss curve is still decreasing"
   ]
  },
  {
   "cell_type": "markdown",
   "metadata": {},
   "source": [
    "### e. What is classification accuracy on training and test datasets?"
   ]
  },
  {
   "cell_type": "code",
   "execution_count": null,
   "metadata": {},
   "outputs": [],
   "source": [
    "print(\"MLP Train accuracy:\", model.score(X_train, y_train))\n",
    "print(\"MLP Test accuracy:\", model.score(X_test, y_test))\n",
    "print(\"\\n\\n\")\n",
    "y_pred = model.predict(X_test)\n",
    "print(\"MLP classification report: \\n\",classification_report(y_test, y_pred))"
   ]
  },
  {
   "cell_type": "markdown",
   "metadata": {},
   "source": [
    "## 2. Refine this network by tuning it with GridSearchCV. "
   ]
  },
  {
   "cell_type": "code",
   "execution_count": null,
   "metadata": {},
   "outputs": [],
   "source": [
    "# Default\n",
    "# params = {'hidden_layer_sizes': [(3,), (5,), (7,), (9,)], 'alpha': [0.01,0.001, 0.0001, 0.00001]}\n",
    "\n",
    "\n",
    "params = [\n",
    "    {\n",
    "        'hidden_layer_sizes': [(128,)],\n",
    "        'activation': ['logistic', 'relu','identity'],\n",
    "        'solver' : ['adam',],\n",
    "        'batch_size': [32, 64],\n",
    "        'shuffle': [True],\n",
    "        'learning_rate_init': [pow(10, x) for x in range(-4, -2)],\n",
    "        'n_iter_no_change': [10, 20],\n",
    "        'warm_start': [True, False],\n",
    "    },\n",
    "    {\n",
    "        'hidden_layer_sizes': [(128,)],\n",
    "        'learning_rate' : ['constant', 'invscaling', 'adaptive'],\n",
    "        'activation': ['logistic', 'relu','identity'],\n",
    "        'solver' : ['sgd'],\n",
    "        'shuffle': [True],\n",
    "        'batch_size': [32, 64],\n",
    "        'learning_rate_init': [pow(10, x) for x in range(-4, -2)],\n",
    "        'n_iter_no_change': [10, 20],\n",
    "        'warm_start': [True, False],\n",
    "    },\n",
    "    {\n",
    "        'hidden_layer_sizes': [(128,)],\n",
    "        'activation': ['logistic', 'relu','identity'],\n",
    "        'solver' : ['lbfgs'],\n",
    "        'batch_size': [32, 64],\n",
    "        'learning_rate_init': [pow(10, x) for x in range(-4, -2)],\n",
    "        'n_iter_no_change': [10, 20],\n",
    "        'warm_start': [True, False],     \n",
    "    }\n",
    "        \n",
    "]\n",
    "\n",
    "cv = GridSearchCV(param_grid=params, estimator=MLPClassifier(random_state=rs, early_stopping = True, verbose=True), cv=3, n_jobs=-1)\n",
    "# cv = GridSearchCV(param_grid=params, estimator=MLPClassifier(random_state=rs, early_stopping=True, max_iter = max_iter, n_iter_no_change = max_iter ), cv=10, n_jobs=-1)\n",
    "cv.fit(X_train_log, y_train_log)"
   ]
  },
  {
   "cell_type": "markdown",
   "metadata": {},
   "source": [
    "### a. What is the network architecture?"
   ]
  },
  {
   "cell_type": "code",
   "execution_count": null,
   "metadata": {},
   "outputs": [],
   "source": [
    "print(\"Best Parameters of NN: \", cv.best_params_)"
   ]
  },
  {
   "cell_type": "code",
   "execution_count": null,
   "metadata": {},
   "outputs": [],
   "source": [
    "printMLPArchitecture(cv.best_estimator_)"
   ]
  },
  {
   "cell_type": "markdown",
   "metadata": {},
   "source": [
    "# b. How many iterations are needed to train this network?"
   ]
  },
  {
   "cell_type": "code",
   "execution_count": null,
   "metadata": {},
   "outputs": [],
   "source": [
    "print(\"Number of iterations it ran: \",cv.best_estimator_.n_iter_)"
   ]
  },
  {
   "cell_type": "markdown",
   "metadata": {},
   "source": [
    "### c. Sign of overfitting?"
   ]
  },
  {
   "cell_type": "code",
   "execution_count": null,
   "metadata": {},
   "outputs": [],
   "source": [
    "fig = plt.figure(figsize=(10, 5))\n",
    "plt.ylabel('Accuracy',fontsize=15)\n",
    "plt.xlabel('Number of iterations',fontsize=15)\n",
    "plt.title('Validation Accuracy',fontsize=20,fontweight =\"bold\")\n",
    "plt.plot(cv.best_estimator_.validation_scores_, label=\"Validation Accuracy\")"
   ]
  },
  {
   "cell_type": "markdown",
   "metadata": {},
   "source": [
    "### d. Did the training process converge and resulted in the best model? "
   ]
  },
  {
   "cell_type": "code",
   "execution_count": null,
   "metadata": {},
   "outputs": [],
   "source": [
    "fig = plt.figure(figsize=(10, 5))\n",
    "plt.ylabel('Loss',fontsize=15)\n",
    "plt.xlabel('Number of iterations',fontsize=15)\n",
    "plt.title('Training Loss',fontsize=20,fontweight =\"bold\")\n",
    "plt.plot(cv.best_estimator_.loss_curve_, label=\"Training Loss\")\n"
   ]
  },
  {
   "cell_type": "markdown",
   "metadata": {},
   "source": [
    "### e. What is classification accuracy on training and test datasets? Is there any improvement in the outcome?"
   ]
  },
  {
   "cell_type": "code",
   "execution_count": null,
   "metadata": {},
   "outputs": [],
   "source": [
    "print(\"GridSearch NN Train accuracy:\", cv.score(X_train_log, y_train_log))\n",
    "print(\"GridSearch NN Test accuracy:\", cv.score(X_test_log, y_test_log))\n",
    "\n",
    "print(\"\\n\\n\")\n",
    "y_pred = cv.predict(X_test_log)\n",
    "print(\"GridSearch NN Classification Report: \\n\",classification_report(y_test_log, y_pred))\n",
    "\n",
    "print(\"Best Parameters of NN: \", cv.best_params_)\n",
    "nn_model = cv.best_estimator_"
   ]
  },
  {
   "cell_type": "markdown",
   "metadata": {},
   "source": [
    "## 3. Would feature selection help here? Build another Neural Network model with inputs selected from RFE with regression (use the best model generated in Task 3) and selection with decision tree (use the best model from Task 2)."
   ]
  },
  {
   "cell_type": "code",
   "execution_count": null,
   "metadata": {
    "scrolled": true
   },
   "outputs": [],
   "source": [
    "params = [\n",
    "    {\n",
    "        'hidden_layer_sizes': [(128,)],\n",
    "        'activation': ['logistic', 'relu','identity'],\n",
    "        'solver' : ['adam',],\n",
    "        'batch_size': [ 64],\n",
    "        'shuffle': [True],\n",
    "        'learning_rate_init': [pow(10, x) for x in range(-4, -2)],\n",
    "        'n_iter_no_change': [10],\n",
    "        'warm_start': [True, False],\n",
    "    },\n",
    "    {\n",
    "        'hidden_layer_sizes': [(128,)],\n",
    "        'learning_rate' : ['constant', 'invscaling', 'adaptive'],\n",
    "        'activation': ['logistic', 'relu','identity'],\n",
    "        'solver' : ['sgd'],\n",
    "        'shuffle': [True],\n",
    "        'batch_size': [64],\n",
    "        'learning_rate_init': [pow(10, x) for x in range(-4, -2)],\n",
    "        'n_iter_no_change': [10],\n",
    "        'warm_start': [True, False],\n",
    "    },\n",
    "    {\n",
    "        'hidden_layer_sizes': [(128,)],\n",
    "        'activation': ['logistic', 'relu','identity'],\n",
    "        'solver' : ['lbfgs'],\n",
    "        'batch_size': [64],\n",
    "        'learning_rate_init': [pow(10, x) for x in range(-4, -2)],\n",
    "        'n_iter_no_change': [10],\n",
    "        'warm_start': [True, False],     \n",
    "    }\n",
    "        \n",
    "]\n",
    "\n",
    "\n",
    "rfe_cv = GridSearchCV(param_grid=params, estimator=MLPClassifier(random_state=rs, early_stopping=True, verbose=True), cv=10, n_jobs=-1)\n",
    "rfe_cv.fit(X_train_rfe, y_train_log)\n",
    "modelSelect_cv = GridSearchCV(param_grid=params, estimator=MLPClassifier(random_state=rs, early_stopping=True, verbose=True), cv=10, n_jobs=-1)\n",
    "modelSelect_cv.fit(X_train_sel_model, y_train_log)"
   ]
  },
  {
   "cell_type": "markdown",
   "metadata": {},
   "source": [
    "### a. Did feature selection help here? Any change in the network architecture? What inputs are being used as the network input?"
   ]
  },
  {
   "cell_type": "code",
   "execution_count": null,
   "metadata": {},
   "outputs": [],
   "source": [
    "print(\"Best Parameters of NN: \", cv.best_params_)\n",
    "print(\"Best Parameters of RFE NN: \", rfe_cv.best_params_)\n",
    "print(\"Best Parameters of modelSelect NN: \", modelSelect_cv.best_params_)\n",
    "print(\"\\n\\n\")\n",
    "\n",
    "print(\"GridSearch:\")\n",
    "printMLPArchitecture(cv.best_estimator_)\n",
    "print(\"\\n\")\n",
    "print(\"RFE:\")\n",
    "printMLPArchitecture(rfe_cv.best_estimator_)\n",
    "print(\"\\n\")\n",
    "print(\"modelSelect:\")\n",
    "printMLPArchitecture(modelSelect_cv.best_estimator_)\n",
    "print(\"\\n\")\n"
   ]
  },
  {
   "cell_type": "markdown",
   "metadata": {},
   "source": [
    "### b. What is classification accuracy on training and test datasets? Is there any improvement in the outcome?"
   ]
  },
  {
   "cell_type": "code",
   "execution_count": null,
   "metadata": {},
   "outputs": [],
   "source": [
    "print(\"GridSearch NN Train accuracy:\", cv.score(X_train_log, y_train_log))\n",
    "print(\"GridSearch NN Test accuracy:\", cv.score(X_test_log, y_test_log))\n",
    "print(\"RFE NN Train accuracy:\", rfe_cv.score(X_train_rfe, y_train_log))\n",
    "print(\"RFE NNTest accuracy:\", rfe_cv.score(X_test_rfe, y_test_log))\n",
    "print(\"modelSelect NN Train accuracy:\", modelSelect_cv.score(X_train_sel_model, y_train))\n",
    "print(\"modelSelect NN Test accuracmodelSelect_cvy:\", modelSelect_cv.score(X_test_sel_model, y_test))"
   ]
  },
  {
   "cell_type": "markdown",
   "metadata": {},
   "source": [
    "### c. How many iterations are now needed to train this network?"
   ]
  },
  {
   "cell_type": "code",
   "execution_count": null,
   "metadata": {},
   "outputs": [],
   "source": [
    "print(\"Number of iterations GS ran: \",cv.best_estimator_.n_iter_)\n",
    "print(\"Number of iterations rfe ran: \",rfe_cv.best_estimator_.n_iter_)\n",
    "print(\"Number of iterations modelSelect ran: \",modelSelect_cv.best_estimator_.n_iter_)"
   ]
  },
  {
   "cell_type": "markdown",
   "metadata": {},
   "source": [
    "### d. Do you see any sign of over-fitting?"
   ]
  },
  {
   "cell_type": "code",
   "execution_count": null,
   "metadata": {},
   "outputs": [],
   "source": []
  },
  {
   "cell_type": "markdown",
   "metadata": {},
   "source": [
    "### e. Did the training process converge and resulted in the best model? "
   ]
  },
  {
   "cell_type": "code",
   "execution_count": null,
   "metadata": {},
   "outputs": [],
   "source": [
    "fig = plt.figure(figsize=(10, 5))\n",
    "plt.ylabel('Loss',fontsize=15)\n",
    "plt.xlabel('Number of iterations',fontsize=15)\n",
    "plt.title('Training Loss',fontsize=20,fontweight =\"bold\")\n",
    "plt.plot(cv.best_estimator_.loss_curve_, label=\"GridSearch Loss\")\n",
    "plt.plot(rfe_cv.best_estimator_.loss_curve_, label=\"RFE Loss\")\n",
    "plt.plot(modelSelect_cv.best_estimator_.loss_curve_, label=\"modelSelect Loss\")\n",
    "plt.legend(loc='upper right')"
   ]
  },
  {
   "cell_type": "markdown",
   "metadata": {},
   "source": [
    "# 4. Using the comparison methods, which of the models (i.e one with selected variables and another with all variables) appears to be better? From the better model, can you identify cars those could potential be “kicks”? Can you provide some descriptive summary of those cars? Is it easy to comprehend the performance of the best neural network model for decision making?"
   ]
  },
  {
   "cell_type": "code",
   "execution_count": null,
   "metadata": {},
   "outputs": [],
   "source": [
    "print(\"GridSearch Classification Report: \")\n",
    "y_pred = cv.predict(X_test_log)\n",
    "print(classification_report(y_test_log, y_pred))\n",
    "print(\"\\n\\nRFE Classification Report: \")\n",
    "y_pred = rfe_cv.predict(X_test_rfe)\n",
    "print(classification_report(y_test_log, y_pred))\n",
    "print(\"\\n\\nmodelSelect Classification Report: \")\n",
    "y_pred = modelSelect_cv.predict(X_test_sel_model)\n",
    "print(classification_report(y_test_log, y_pred))"
   ]
  },
  {
   "cell_type": "markdown",
   "metadata": {},
   "source": [
    "# Task 5. Generating an Ensemble Model and Comparing Models"
   ]
  },
  {
   "cell_type": "markdown",
   "metadata": {},
   "source": [
    "## 1. Generate an ensemble model to include the best regression model, best decision tree model, and best neural network model."
   ]
  },
  {
   "cell_type": "code",
   "execution_count": null,
   "metadata": {},
   "outputs": [],
   "source": [
    "voting = VotingClassifier(estimators=[('dt', dt_model), ('lr', log_reg_model), ('nn', nn_model)], voting='soft')\n",
    "voting.fit(X_train_log, y_train_log)\n",
    "\n",
    "y_pred_dt = dt_model.predict(X_test_log)\n",
    "y_pred_log_reg = log_reg_model.predict(X_test_log)\n",
    "y_pred_nn = nn_model.predict(X_test_log)\n",
    "y_pred_ensemble = voting.predict(X_test_log)\n"
   ]
  },
  {
   "cell_type": "markdown",
   "metadata": {},
   "source": [
    "### a. Does the Ensemble model outperform the underlying models? Resonate your answer."
   ]
  },
  {
   "cell_type": "code",
   "execution_count": null,
   "metadata": {},
   "outputs": [],
   "source": [
    "print(\"Report for DT: \\n\",classification_report(y_test_log, y_pred_dt))\n",
    "print(\"\\nReport for Logistic Regression: \\n\",classification_report(y_test_log, y_pred_log_reg))\n",
    "print(\"\\nReport for NN: \\n\",classification_report(y_test_log, y_pred_nn))\n",
    "print(\"\\nReport for Ensemble: \\n\",classification_report(y_test_log, y_pred_ensemble))"
   ]
  },
  {
   "cell_type": "markdown",
   "metadata": {},
   "source": [
    "## 2. Use the comparison methods (or the comparison node) to compare the best decision tree model, the best regression model, the best neural network model and the ensemble model. "
   ]
  },
  {
   "cell_type": "markdown",
   "metadata": {},
   "source": [
    "### a. Discuss the findings led by (a) ROC Chart (and Index); (b) Score Ranking (or Accuracy Score); (c) Fit Statistics; (or Classification report) and (4) Output."
   ]
  },
  {
   "cell_type": "markdown",
   "metadata": {},
   "source": [
    "(a) ROC Chart (and Index)"
   ]
  },
  {
   "cell_type": "code",
   "execution_count": null,
   "metadata": {},
   "outputs": [],
   "source": [
    "#### ROC\n",
    "\n",
    "y_pred_proba_dt = dt_model.predict_proba(X_test)\n",
    "y_pred_proba_log_reg = log_reg_model.predict_proba(X_test)\n",
    "y_pred_proba_nn = nn_model.predict_proba(X_test)\n",
    "y_pred_proba_ensemble = voting.predict_proba(X_test_log)\n",
    "\n",
    "roc_index_dt = roc_auc_score(y_test, y_pred_proba_dt[:, 1])\n",
    "roc_index_log_reg = roc_auc_score(y_test, y_pred_proba_log_reg[:, 1])\n",
    "roc_index_nn = roc_auc_score(y_test, y_pred_proba_nn[:, 1])\n",
    "roc_index_ensemble = roc_auc_score(y_test_log, y_pred_proba_ensemble[:, 1])\n",
    "\n",
    "\n",
    "print(\"ROC index on test for DT:\", roc_index_dt)\n",
    "print(\"ROC index on test for logistic regression:\", roc_index_log_reg)\n",
    "print(\"ROC index on test for NN:\", roc_index_nn)\n",
    "print(\"ROC index on voting classifier:\", roc_index_ensemble)\n",
    "\n",
    "\n",
    "fpr_dt, tpr_dt, thresholds_dt = roc_curve(y_test, y_pred_proba_dt[:,1])\n",
    "fpr_log_reg, tpr_log_reg, thresholds_log_reg = roc_curve(y_test, y_pred_proba_log_reg[:,1])\n",
    "fpr_nn, tpr_nn, thresholds_nn = roc_curve(y_test, y_pred_proba_nn[:,1])\n",
    "fpr_ensemble, tpr_ensemble, thresholds_ensemble = roc_curve(y_test, y_pred_proba_ensemble[:,1])\n",
    "\n",
    "\n",
    "plt.plot(fpr_dt, tpr_dt, label='ROC Curve for DT {:.3f}'.format(roc_index_dt), color='red', lw=0.5)\n",
    "plt.plot(fpr_log_reg, tpr_log_reg, label='ROC Curve for Log reg {:.3f}'.format(roc_index_log_reg), color='green', lw=0.5)\n",
    "plt.plot(fpr_nn, tpr_nn, label='ROC Curve for NN {:.3f}'.format(roc_index_nn), color='darkorange', lw=0.5)\n",
    "plt.plot(fpr_ensemble, tpr_ensemble, label='ROC Curve for Ensemble {:.3f}'.format(roc_index_ensemble), color='darkorange', lw=0.5)\n",
    "\n",
    "plt.plot([0, 1], [0, 1], color='navy', lw=0.5, linestyle='--')\n",
    "plt.xlim([0.0, 1.0])\n",
    "plt.ylim([0.0, 1.0])\n",
    "plt.xlabel('False Positive Rate')\n",
    "plt.ylabel('True Positive Rate')\n",
    "plt.title('Receiver operating characteristic example')\n",
    "plt.legend(loc=\"lower right\")\n",
    "plt.show()"
   ]
  },
  {
   "cell_type": "markdown",
   "metadata": {},
   "source": [
    "(b) Score Ranking (or Accuracy Score)"
   ]
  },
  {
   "cell_type": "code",
   "execution_count": null,
   "metadata": {},
   "outputs": [],
   "source": [
    "print(\"Accuracy score on test for DT:\", accuracy_score(y_test_log, y_pred_dt))\n",
    "print(\"Accuracy score on test for Logistic Regression:\", accuracy_score(y_test_log, y_pred_log_reg))\n",
    "print(\"Accuracy score on test for NN:\", accuracy_score(y_test_log, y_pred_nn))\n",
    "print(\"Accuracy score on test for Ensemble:\", accuracy_score(y_test_log, y_pred_ensemble))"
   ]
  },
  {
   "cell_type": "markdown",
   "metadata": {},
   "source": [
    "(c) Classification report"
   ]
  },
  {
   "cell_type": "code",
   "execution_count": null,
   "metadata": {},
   "outputs": [],
   "source": [
    "print(\"Report for DT: \\n\",classification_report(y_test_log, y_pred_dt))\n",
    "print(\"\\nReport for Logistic Regression: \\n\",classification_report(y_test_log, y_pred_log_reg))\n",
    "print(\"\\nReport for NN: \\n\",classification_report(y_test_log, y_pred_nn))\n",
    "print(\"\\nReport for Ensemble: \\n\",classification_report(y_test_log, y_pred_ensemble))"
   ]
  },
  {
   "cell_type": "markdown",
   "metadata": {},
   "source": [
    "(d) Output"
   ]
  },
  {
   "cell_type": "code",
   "execution_count": null,
   "metadata": {},
   "outputs": [],
   "source": []
  },
  {
   "cell_type": "markdown",
   "metadata": {},
   "source": [
    "### b. Do all the models agree on the cars characteristics? How do they vary?"
   ]
  },
  {
   "cell_type": "code",
   "execution_count": null,
   "metadata": {},
   "outputs": [],
   "source": []
  },
  {
   "cell_type": "markdown",
   "metadata": {},
   "source": [
    "# Task 6. Final Remarks: Decision Making"
   ]
  },
  {
   "cell_type": "markdown",
   "metadata": {},
   "source": [
    "## 1. Finally, based on all models and analysis, is there"
   ]
  },
  {
   "cell_type": "markdown",
   "metadata": {},
   "source": [
    "## 2. Can you summarise positives and negatives of each predictive modelling method based on this analysis? "
   ]
  },
  {
   "cell_type": "markdown",
   "metadata": {},
   "source": [
    "## 3. How the outcome of this study can be used by decision makers? "
   ]
  },
  {
   "cell_type": "code",
   "execution_count": null,
   "metadata": {},
   "outputs": [],
   "source": []
  },
  {
   "cell_type": "code",
   "execution_count": null,
   "metadata": {},
   "outputs": [],
   "source": []
  },
  {
   "cell_type": "code",
   "execution_count": null,
   "metadata": {},
   "outputs": [],
   "source": []
  }
 ],
 "metadata": {
  "kernelspec": {
   "display_name": "Python 3",
   "language": "python",
   "name": "python3"
  },
  "language_info": {
   "codemirror_mode": {
    "name": "ipython",
    "version": 3
   },
   "file_extension": ".py",
   "mimetype": "text/x-python",
   "name": "python",
   "nbconvert_exporter": "python",
   "pygments_lexer": "ipython3",
   "version": "3.6.7"
  }
 },
 "nbformat": 4,
 "nbformat_minor": 2
}
