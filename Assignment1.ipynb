{
 "cells": [
  {
   "cell_type": "code",
   "execution_count": 380,
   "metadata": {},
   "outputs": [],
   "source": [
    "import pandas as pd\n",
    "import numpy as np\n",
    "import sklearn\n",
    "from sklearn.model_selection import train_test_split\n",
    "import matplotlib.pyplot as plt"
   ]
  },
  {
   "cell_type": "code",
   "execution_count": 381,
   "metadata": {},
   "outputs": [],
   "source": [
    "df = pd.read_csv(\"CaseStudyData.csv\")"
   ]
  },
  {
   "cell_type": "markdown",
   "metadata": {},
   "source": [
    " # 1. What is the proportion of cars who can be classified as a “kick”? "
   ]
  },
  {
   "cell_type": "code",
   "execution_count": 382,
   "metadata": {},
   "outputs": [
    {
     "data": {
      "text/plain": [
       "Index(['PurchaseID', 'PurchaseTimestamp', 'PurchaseDate', 'Auction', 'VehYear',\n",
       "       'Make', 'Color', 'Transmission', 'WheelTypeID', 'WheelType', 'VehOdo',\n",
       "       'Nationality', 'Size', 'TopThreeAmericanName',\n",
       "       'MMRAcquisitionAuctionAveragePrice', 'MMRAcquisitionAuctionCleanPrice',\n",
       "       'MMRAcquisitionRetailAveragePrice', 'MMRAcquisitonRetailCleanPrice',\n",
       "       'MMRCurrentAuctionAveragePrice', 'MMRCurrentAuctionCleanPrice',\n",
       "       'MMRCurrentRetailAveragePrice', 'MMRCurrentRetailCleanPrice',\n",
       "       'MMRCurrentRetailRatio', 'PRIMEUNIT', 'AUCGUART', 'VNST', 'VehBCost',\n",
       "       'IsOnlineSale', 'WarrantyCost', 'ForSale', 'IsBadBuy'],\n",
       "      dtype='object')"
      ]
     },
     "execution_count": 382,
     "metadata": {},
     "output_type": "execute_result"
    }
   ],
   "source": [
    "df.columns"
   ]
  },
  {
   "cell_type": "code",
   "execution_count": 383,
   "metadata": {},
   "outputs": [],
   "source": [
    "proportionOfKicks = len(df[df['IsBadBuy'] == 1]) / len(list(df['IsBadBuy']))"
   ]
  },
  {
   "cell_type": "code",
   "execution_count": 384,
   "metadata": {},
   "outputs": [
    {
     "name": "stdout",
     "output_type": "stream",
     "text": [
      "The proportion of kicks:  0.1294965763333012\n"
     ]
    }
   ],
   "source": [
    "print(\"The proportion of kicks: \", proportionOfKicks)"
   ]
  },
  {
   "cell_type": "markdown",
   "metadata": {},
   "source": [
    "# 2. Did you have to fix any data quality problems? Detail them."
   ]
  },
  {
   "cell_type": "code",
   "execution_count": 385,
   "metadata": {},
   "outputs": [],
   "source": [
    "drop_cols = ['PurchaseID']\n",
    "categorial_cols = ['PurchaseDate','Auction', 'VehYear', 'Make', 'Color', 'Transmission','WheelTypeID', 'WheelType', 'Nationality', 'Size', 'TopThreeAmericanName','PRIMEUNIT','AUCGUART','VNST','IsOnlineSale','ForSale' ] # Replaced by the most common \n",
    "interval_cols = ['PurchaseTimestamp', 'VehOdo','MMRAcquisitionAuctionAveragePrice','MMRAcquisitionAuctionCleanPrice','MMRAcquisitionRetailAveragePrice','MMRAcquisitonRetailCleanPrice','MMRCurrentAuctionAveragePrice','MMRCurrentAuctionCleanPrice','MMRCurrentRetailAveragePrice','MMRCurrentRetailCleanPrice','MMRCurrentRetailRatio','VehBCost','WarrantyCost' ] # Replaced by the mean\n",
    "replaced_vals = ['?', '#VALUE!']\n",
    "\n",
    "for replaced in replaced_vals:\n",
    "        df.replace(replaced, float('nan'),inplace = True)"
   ]
  },
  {
   "cell_type": "code",
   "execution_count": 386,
   "metadata": {},
   "outputs": [
    {
     "name": "stdout",
     "output_type": "stream",
     "text": [
      "Total null:  85508\n"
     ]
    }
   ],
   "source": [
    "print(\"Total null: \", df.isnull().sum().sum() )"
   ]
  },
  {
   "cell_type": "code",
   "execution_count": 387,
   "metadata": {},
   "outputs": [
    {
     "name": "stdout",
     "output_type": "stream",
     "text": [
      "Column PurchaseID has 0 null values\n",
      "Column PurchaseTimestamp has 0 null values\n",
      "Column PurchaseDate has 0 null values\n",
      "Column Auction has 44 null values\n",
      "Column VehYear has 44 null values\n",
      "Column Make has 44 null values\n",
      "Column Color has 50 null values\n",
      "Column Transmission has 50 null values\n",
      "Column WheelTypeID has 1819 null values\n",
      "Column WheelType has 1873 null values\n",
      "Column VehOdo has 44 null values\n",
      "Column Nationality has 47 null values\n",
      "Column Size has 47 null values\n",
      "Column TopThreeAmericanName has 47 null values\n",
      "Column MMRAcquisitionAuctionAveragePrice has 67 null values\n",
      "Column MMRAcquisitionAuctionCleanPrice has 54 null values\n",
      "Column MMRAcquisitionRetailAveragePrice has 54 null values\n",
      "Column MMRAcquisitonRetailCleanPrice has 156 null values\n",
      "Column MMRCurrentAuctionAveragePrice has 231 null values\n",
      "Column MMRCurrentAuctionCleanPrice has 231 null values\n",
      "Column MMRCurrentRetailAveragePrice has 251 null values\n",
      "Column MMRCurrentRetailCleanPrice has 251 null values\n",
      "Column MMRCurrentRetailRatio has 538 null values\n",
      "Column PRIMEUNIT has 39678 null values\n",
      "Column AUCGUART has 39678 null values\n",
      "Column VNST has 44 null values\n",
      "Column VehBCost has 73 null values\n",
      "Column IsOnlineSale has 46 null values\n",
      "Column WarrantyCost has 44 null values\n",
      "Column ForSale has 3 null values\n",
      "Column IsBadBuy has 0 null values\n"
     ]
    }
   ],
   "source": [
    "from collections import defaultdict\n",
    "nullValues = defaultdict(int)\n",
    "for colName in df.columns:\n",
    "    print(\"Column \" + str(colName) + \" has \" + str(df[colName].isnull().sum()) +\" null values\")\n",
    "    nullValues[colName] = df[colName].isnull().sum()"
   ]
  },
  {
   "cell_type": "code",
   "execution_count": 388,
   "metadata": {},
   "outputs": [],
   "source": [
    "def data_prep(df):\n",
    "    \n",
    "    \n",
    "    # Making sure the replaced_vals doesn't exist in the dataframe\n",
    "    for replaced in replaced_vals:\n",
    "        df.replace(replaced, float('nan'),inplace = True)\n",
    "    \n",
    "    for colName in df.columns:\n",
    "        \n",
    "        if colName in categorial_cols:\n",
    "            df[colName] = df[colName].astype('category')\n",
    "            df[colName].fillna(df[colName].astype('category').describe()['top'], inplace=True)\n",
    "        \n",
    "        if colName in interval_cols:\n",
    "            df[colName] = df[colName].astype('float')\n",
    "            df[colName].fillna(df[colName].astype('float').mean(), inplace=True)\n",
    "            \n",
    "    df.drop(drop_cols, axis=1, inplace = True)\n",
    "    \n",
    "    # one-hot encoding\n",
    "#     df = pd.get_dummies(df)\n",
    "    \n",
    "    return df"
   ]
  },
  {
   "cell_type": "code",
   "execution_count": 389,
   "metadata": {},
   "outputs": [],
   "source": [
    "df = data_prep(df)"
   ]
  },
  {
   "cell_type": "code",
   "execution_count": 391,
   "metadata": {},
   "outputs": [
    {
     "data": {
      "text/plain": [
       "30"
      ]
     },
     "execution_count": 391,
     "metadata": {},
     "output_type": "execute_result"
    }
   ],
   "source": [
    "len(df.columns)"
   ]
  },
  {
   "cell_type": "code",
   "execution_count": null,
   "metadata": {},
   "outputs": [],
   "source": [
    "# Column PurchaseID -> droped\n",
    "# Column PurchaseTimestamp -> int\n",
    "# Column PurchaseDate -> int\n",
    "# Column Auction -> cat\n",
    "# Column VehYear -> cat\n",
    "# Column Make -> cat \n",
    "# Column Color -> cat\n",
    "# Column Transmission -> cat\n",
    "# Column WheelTypeID -> cat\n",
    "# Column WheelType -> cat\n",
    "# Column VehOdo -> int\n",
    "# Column Nationality -> cat\n",
    "# Column Size -> cat\n",
    "# Column TopThreeAmericanName -> cat\n",
    "# Column MMRAcquisitionAuctionAveragePrice -> int \n",
    "# Column MMRAcquisitionAuctionCleanPrice -> int\n",
    "# Column MMRAcquisitionRetailAveragePrice -> int\n",
    "# Column MMRAcquisitonRetailCleanPrice -> int\n",
    "# Column MMRCurrentAuctionAveragePrice -> int\n",
    "# Column MMRCurrentAuctionCleanPrice -> int\n",
    "# Column MMRCurrentRetailAveragePrice -> int\n",
    "# Column MMRCurrentRetailCleanPrice -> int \n",
    "# Column MMRCurrentRetailRatio -> int \n",
    "# Column PRIMEUNIT -> cat \n",
    "# Column AUCGUART -> cat\n",
    "# Column VNST -> cat\n",
    "# Column VehBCost -> int \n",
    "# Column IsOnlineSale -> cat <Removing the outliner, data cleaning, -1 should be unknown>\n",
    "# Column WarrantyCost -> int\n",
    "# Column ForSale -> cat <data Cleaning>  if str .lower()\n",
    "# Column IsBadBuy -> bool\n",
    "\n",
    "# # AUCGUART & PRIMEUNIT -> lost together"
   ]
  },
  {
   "cell_type": "markdown",
   "metadata": {},
   "source": [
    "# 3. Can you identify any clear patterns by initial exploration of the data using histogram or box plot?"
   ]
  },
  {
   "cell_type": "code",
   "execution_count": null,
   "metadata": {},
   "outputs": [],
   "source": []
  },
  {
   "cell_type": "code",
   "execution_count": null,
   "metadata": {},
   "outputs": [],
   "source": []
  }
 ],
 "metadata": {
  "kernelspec": {
   "display_name": "Python 3",
   "language": "python",
   "name": "python3"
  },
  "language_info": {
   "codemirror_mode": {
    "name": "ipython",
    "version": 3
   },
   "file_extension": ".py",
   "mimetype": "text/x-python",
   "name": "python",
   "nbconvert_exporter": "python",
   "pygments_lexer": "ipython3",
   "version": "3.7.2"
  }
 },
 "nbformat": 4,
 "nbformat_minor": 2
}
