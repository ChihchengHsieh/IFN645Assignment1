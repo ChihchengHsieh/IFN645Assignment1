{
 "cells": [
  {
   "cell_type": "markdown",
   "metadata": {},
   "source": [
    "# Importing Necessary Libraries"
   ]
  },
  {
   "cell_type": "code",
   "execution_count": 1,
   "metadata": {},
   "outputs": [],
   "source": [
    "import pandas as pd\n",
    "import numpy as np\n",
    "import sklearn\n",
    "from sklearn.model_selection import train_test_split\n",
    "import matplotlib.pyplot as plt\n",
    "import seaborn as sns\n",
    "from sklearn.tree import DecisionTreeClassifier\n",
    "from sklearn.metrics import classification_report, accuracy_score\n",
    "from sklearn.metrics import confusion_matrix\n",
    "import numpy as np\n",
    "from collections import defaultdict\n",
    "import pydot\n",
    "from io import StringIO\n",
    "from sklearn.tree import export_graphviz\n",
    "from sklearn.model_selection import GridSearchCV\n",
    "from sklearn.neural_network import MLPClassifier\n",
    "from sklearn.preprocessing import StandardScaler\n",
    "from sklearn.linear_model import LogisticRegression\n",
    "from sklearn.feature_selection import SelectFromModel\n",
    "from sklearn.metrics import roc_auc_score\n",
    "from sklearn.ensemble import VotingClassifier\n",
    "from sklearn.feature_selection import RFECV\n",
    "from sklearn.metrics import roc_curve\n",
    "from itertools import compress\n",
    "from imblearn.under_sampling import RandomUnderSampler\n",
    "from imblearn.over_sampling import RandomOverSampler\n",
    "import warnings\n",
    "warnings.filterwarnings('ignore')\n",
    "\n",
    "'''\n",
    "TODO:\n",
    "\n",
    "1. Try to improve\n",
    "\n",
    "2. Desing the replace_val for each column\n",
    "\n",
    "3. Creat preprocess procedure for every class.\n",
    "\n",
    "4. Put confusion matrix after all training\n",
    "'''\n",
    "\n",
    "\n",
    "%matplotlib inline\n",
    "\n",
    "rs = 101"
   ]
  },
  {
   "cell_type": "markdown",
   "metadata": {},
   "source": [
    " # Task 1. Data Selection and Distribution. "
   ]
  },
  {
   "cell_type": "code",
   "execution_count": 2,
   "metadata": {
    "scrolled": true
   },
   "outputs": [],
   "source": [
    "## Read Data\n",
    "df = pd.read_csv(\"CaseStudyData.csv\")"
   ]
  },
  {
   "cell_type": "markdown",
   "metadata": {},
   "source": [
    " ### 1. What is the proportion of cars who can be classified as a “kick”? "
   ]
  },
  {
   "cell_type": "code",
   "execution_count": 3,
   "metadata": {},
   "outputs": [
    {
     "name": "stdout",
     "output_type": "stream",
     "text": [
      "Number of Columns:  31\n",
      "Columns:  ['PurchaseID', 'PurchaseTimestamp', 'PurchaseDate', 'Auction', 'VehYear', 'Make', 'Color', 'Transmission', 'WheelTypeID', 'WheelType', 'VehOdo', 'Nationality', 'Size', 'TopThreeAmericanName', 'MMRAcquisitionAuctionAveragePrice', 'MMRAcquisitionAuctionCleanPrice', 'MMRAcquisitionRetailAveragePrice', 'MMRAcquisitonRetailCleanPrice', 'MMRCurrentAuctionAveragePrice', 'MMRCurrentAuctionCleanPrice', 'MMRCurrentRetailAveragePrice', 'MMRCurrentRetailCleanPrice', 'MMRCurrentRetailRatio', 'PRIMEUNIT', 'AUCGUART', 'VNST', 'VehBCost', 'IsOnlineSale', 'WarrantyCost', 'ForSale', 'IsBadBuy']\n"
     ]
    }
   ],
   "source": [
    "## Exploring the features in this dataset\n",
    "print(\"Number of Columns: \", len(df.columns))\n",
    "print(\"Columns: \",list(df.columns))"
   ]
  },
  {
   "cell_type": "code",
   "execution_count": 4,
   "metadata": {},
   "outputs": [
    {
     "name": "stdout",
     "output_type": "stream",
     "text": [
      "Number of Observations:  41476\n"
     ]
    }
   ],
   "source": [
    "print(\"Number of Observations: \", len(df))"
   ]
  },
  {
   "cell_type": "code",
   "execution_count": 5,
   "metadata": {},
   "outputs": [
    {
     "name": "stdout",
     "output_type": "stream",
     "text": [
      "The proportion of kicks:  0.1294965763333012\n"
     ]
    }
   ],
   "source": [
    "proportionOfKicks = len(df[df['IsBadBuy'] == 1]) / len(list(df['IsBadBuy']))\n",
    "print(\"The proportion of kicks: \", proportionOfKicks)"
   ]
  },
  {
   "cell_type": "markdown",
   "metadata": {},
   "source": [
    "### 2. Did you have to fix any data quality problems? Detail them."
   ]
  },
  {
   "cell_type": "code",
   "execution_count": 6,
   "metadata": {},
   "outputs": [
    {
     "name": "stdout",
     "output_type": "stream",
     "text": [
      "Using New Preprocessing Strategy\n",
      "See [MMRCurrentAuctionAveragePriceMMRCurrentAuctionCleanPrice, MMRCurrentRetailAveragePrice, MMRCurrentRetailCleanPrice, MMRCurrentRetailRatio] as Interval Data\n",
      "Total null before Replacing:  1691\n"
     ]
    }
   ],
   "source": [
    "#### PREPROCESSING STATEGY\n",
    "NEW_STATEGY = True\n",
    "ResamplingMethod = 'ros' #['ros', 'rus']\n",
    "if NEW_STATEGY:\n",
    "    print(\"Using New Preprocessing Strategy\")\n",
    "    using_cat = False\n",
    "    categorial_cols = ['Auction', 'VehYear', 'Make', 'Color', 'Transmission','WheelTypeID', 'WheelType', 'Nationality', 'Size', 'TopThreeAmericanName','PRIMEUNIT','AUCGUART','VNST','IsOnlineSale','ForSale' ] # Replaced by the most common \n",
    "    interval_cols = ['VehOdo','MMRAcquisitionAuctionAveragePrice','MMRAcquisitionAuctionCleanPrice','MMRAcquisitionRetailAveragePrice','MMRAcquisitonRetailCleanPrice','VehBCost','WarrantyCost' ] \n",
    "    drop_cols = ['PurchaseID','PurchaseDate','PurchaseTimestamp']\n",
    "    questionMark_data = ['MMRCurrentAuctionAveragePrice','MMRCurrentAuctionCleanPrice','MMRCurrentRetailAveragePrice','MMRCurrentRetailCleanPrice','MMRCurrentRetailRatio']\n",
    "    replaced_vals = ['?', '#VALUE!']\n",
    "    if using_cat:\n",
    "        categorial_cols += questionMark_data\n",
    "        print(\"See [MMRCurrentAuctionAveragePrice\" +\n",
    "              \"MMRCurrentAuctionCleanPrice, MMRCurrentRetailAveragePrice,\" +\n",
    "              \" MMRCurrentRetailCleanPrice, MMRCurrentRetailRatio] as Categorial Data\")\n",
    "    else: \n",
    "        interval_cols += questionMark_data\n",
    "        print(\"See [MMRCurrentAuctionAveragePrice\" +\n",
    "              \"MMRCurrentAuctionCleanPrice, MMRCurrentRetailAveragePrice,\" +\n",
    "              \" MMRCurrentRetailCleanPrice, MMRCurrentRetailRatio] as Interval Data\")\n",
    "else:\n",
    "    print(\"Using Old Preprocessing Strategy\")\n",
    "    drop_cols = ['PurchaseID','PurchaseDate']\n",
    "    categorial_cols = ['Auction', 'VehYear', 'Make', 'Color', 'Transmission','WheelTypeID', 'WheelType', 'Nationality', 'Size', 'TopThreeAmericanName','PRIMEUNIT','AUCGUART','VNST','IsOnlineSale','ForSale' ] # Replaced by the most common \n",
    "    interval_cols = ['PurchaseTimestamp', 'VehOdo','MMRAcquisitionAuctionAveragePrice','MMRAcquisitionAuctionCleanPrice','MMRAcquisitionRetailAveragePrice','MMRAcquisitonRetailCleanPrice','MMRCurrentAuctionAveragePrice','MMRCurrentAuctionCleanPrice','MMRCurrentRetailAveragePrice','MMRCurrentRetailCleanPrice','MMRCurrentRetailRatio','VehBCost','WarrantyCost' ] # Replaced by the mean\n",
    "    replaced_vals = ['?', '#VALUE!']\n",
    "\n",
    "print(\"Total null before Replacing: \", df.isnull().sum().sum())"
   ]
  },
  {
   "cell_type": "code",
   "execution_count": 7,
   "metadata": {},
   "outputs": [
    {
     "name": "stdout",
     "output_type": "stream",
     "text": [
      "======================= PurchaseID =======================\n",
      "----------------------- FIRST FIVE -----------------------\n",
      "0    0\n",
      "1    1\n",
      "2    2\n",
      "3    3\n",
      "4    4\n",
      "Name: PurchaseID, dtype: int64\n",
      "----------------------- DESCIRBE -----------------------\n",
      "count    41476.000000\n",
      "mean     20737.500000\n",
      "std      11973.234219\n",
      "min          0.000000\n",
      "25%      10368.750000\n",
      "50%      20737.500000\n",
      "75%      31106.250000\n",
      "max      41475.000000\n",
      "Name: PurchaseID, dtype: float64\n",
      "----------------------- COUNTS -----------------------\n",
      "Five Most Common:  [2047, 11567, 15693, 13644, 3403]\n",
      "Num of NULL:  0\n",
      "Number of ? : 0\n",
      "Number of #VALUE! : 0\n",
      "======================= PurchaseTimestamp =======================\n",
      "----------------------- FIRST FIVE -----------------------\n",
      "0    1253232000\n",
      "1    1253232000\n",
      "2    1253232000\n",
      "3    1253232000\n",
      "4    1253232000\n",
      "Name: PurchaseTimestamp, dtype: int64\n",
      "----------------------- DESCIRBE -----------------------\n",
      "count    4.147600e+04\n",
      "mean     1.262260e+09\n",
      "std      1.796895e+07\n",
      "min      1.231114e+09\n",
      "25%      1.247530e+09\n",
      "50%      1.262045e+09\n",
      "75%      1.277770e+09\n",
      "max      1.293667e+09\n",
      "Name: PurchaseTimestamp, dtype: float64\n",
      "----------------------- COUNTS -----------------------\n",
      "Five Most Common:  [1235520000, 1259020800, 1234396800, 1264032000, 1287014400]\n",
      "Num of NULL:  0\n",
      "Number of ? : 0\n",
      "Number of #VALUE! : 0\n",
      "======================= PurchaseDate =======================\n",
      "----------------------- FIRST FIVE -----------------------\n",
      "0    18/09/2009 10:00\n",
      "1    18/09/2009 10:00\n",
      "2    18/09/2009 10:00\n",
      "3    18/09/2009 10:00\n",
      "4    18/09/2009 10:00\n",
      "Name: PurchaseDate, dtype: object\n",
      "----------------------- DESCIRBE -----------------------\n",
      "count                41476\n",
      "unique                 497\n",
      "top       12/02/2009 10:00\n",
      "freq                   242\n",
      "Name: PurchaseDate, dtype: object\n",
      "----------------------- COUNTS -----------------------\n",
      "Five Most Common:  ['12/02/2009 10:00', '25/02/2009 10:00', '24/11/2009 10:00', '21/01/2010 10:00', '14/10/2010 10:00']\n",
      "Num of NULL:  0\n",
      "Number of ? : 0\n",
      "Number of #VALUE! : 0\n",
      "======================= Auction =======================\n",
      "----------------------- FIRST FIVE -----------------------\n",
      "0    OTHER\n",
      "1    OTHER\n",
      "2    OTHER\n",
      "3    OTHER\n",
      "4    OTHER\n",
      "Name: Auction, dtype: object\n",
      "----------------------- DESCIRBE -----------------------\n",
      "count       41432\n",
      "unique          3\n",
      "top       MANHEIM\n",
      "freq        22168\n",
      "Name: Auction, dtype: object\n",
      "----------------------- COUNTS -----------------------\n",
      "Count List: \n",
      " MANHEIM    22168\n",
      "ADESA      11086\n",
      "OTHER       8178\n",
      "Name: Auction, dtype: int64\n",
      "Num of NULL:  44\n",
      "Number of ? : 0\n",
      "Number of #VALUE! : 0\n",
      "======================= VehYear =======================\n",
      "----------------------- FIRST FIVE -----------------------\n",
      "0    2008.0\n",
      "1    2008.0\n",
      "2    2008.0\n",
      "3    2008.0\n",
      "4    2008.0\n",
      "Name: VehYear, dtype: float64\n",
      "----------------------- DESCIRBE -----------------------\n",
      "count    41432.000000\n",
      "mean      2005.360615\n",
      "std          1.730587\n",
      "min       2001.000000\n",
      "25%       2004.000000\n",
      "50%       2005.000000\n",
      "75%       2007.000000\n",
      "max       2010.000000\n",
      "Name: VehYear, dtype: float64\n",
      "----------------------- COUNTS -----------------------\n",
      "Count List: \n",
      " 2006.0    9630\n",
      "2005.0    8682\n",
      "2007.0    6514\n",
      "2004.0    5792\n",
      "2008.0    4177\n",
      "2003.0    3554\n",
      "2002.0    1879\n",
      "2001.0     816\n",
      "2009.0     387\n",
      "2010.0       1\n",
      "Name: VehYear, dtype: int64\n",
      "Num of NULL:  44\n",
      "Number of ? : 0\n",
      "Number of #VALUE! : 0\n",
      "======================= Make =======================\n",
      "----------------------- FIRST FIVE -----------------------\n",
      "0        DODGE\n",
      "1        DODGE\n",
      "2     CHRYSLER\n",
      "3    CHEVROLET\n",
      "4        DODGE\n",
      "Name: Make, dtype: object\n",
      "----------------------- DESCIRBE -----------------------\n",
      "count         41432\n",
      "unique           30\n",
      "top       CHEVROLET\n",
      "freq           9548\n",
      "Name: Make, dtype: object\n",
      "----------------------- COUNTS -----------------------\n",
      "Count List: \n",
      " CHEVROLET     9548\n",
      "DODGE         7385\n",
      "FORD          6458\n",
      "CHRYSLER      5259\n",
      "PONTIAC       2355\n",
      "KIA           1337\n",
      "SATURN        1245\n",
      "NISSAN        1186\n",
      "JEEP           985\n",
      "HYUNDAI        957\n",
      "SUZUKI         842\n",
      "TOYOTA         664\n",
      "MITSUBISHI     569\n",
      "MAZDA          532\n",
      "MERCURY        527\n",
      "BUICK          413\n",
      "GMC            351\n",
      "HONDA          263\n",
      "OLDSMOBILE     146\n",
      "ISUZU           82\n",
      "SCION           77\n",
      "VOLKSWAGEN      73\n",
      "LINCOLN         54\n",
      "INFINITI        27\n",
      "ACURA           19\n",
      "MINI            19\n",
      "SUBARU          17\n",
      "CADILLAC        17\n",
      "LEXUS           13\n",
      "VOLVO           12\n",
      "Name: Make, dtype: int64\n",
      "Num of NULL:  44\n",
      "Number of ? : 0\n",
      "Number of #VALUE! : 0\n",
      "======================= Color =======================\n",
      "----------------------- FIRST FIVE -----------------------\n",
      "0       RED\n",
      "1       RED\n",
      "2    SILVER\n",
      "3       RED\n",
      "4    SILVER\n",
      "Name: Color, dtype: object\n",
      "----------------------- DESCIRBE -----------------------\n",
      "count      41432\n",
      "unique        17\n",
      "top       SILVER\n",
      "freq        8541\n",
      "Name: Color, dtype: object\n",
      "----------------------- COUNTS -----------------------\n",
      "Count List: \n",
      " SILVER       8541\n",
      "WHITE        6890\n",
      "BLUE         5855\n",
      "BLACK        4392\n",
      "GREY         4248\n",
      "RED          3661\n",
      "GOLD         3059\n",
      "GREEN        1796\n",
      "MAROON       1039\n",
      "BEIGE         894\n",
      "ORANGE        255\n",
      "BROWN         249\n",
      "PURPLE        205\n",
      "YELLOW        141\n",
      "OTHER         136\n",
      "NOT AVAIL      65\n",
      "?               6\n",
      "Name: Color, dtype: int64\n",
      "Num of NULL:  44\n",
      "Number of ? : 6\n",
      "Number of #VALUE! : 0\n",
      "======================= Transmission =======================\n",
      "----------------------- FIRST FIVE -----------------------\n",
      "0    AUTO\n",
      "1    AUTO\n",
      "2    AUTO\n",
      "3    AUTO\n",
      "4    AUTO\n",
      "Name: Transmission, dtype: object\n",
      "----------------------- DESCIRBE -----------------------\n",
      "count     41432\n",
      "unique        4\n",
      "top        AUTO\n",
      "freq      39930\n",
      "Name: Transmission, dtype: object\n",
      "----------------------- COUNTS -----------------------\n",
      "Count List: \n",
      " AUTO      39930\n",
      "MANUAL     1495\n",
      "?             6\n",
      "Manual        1\n",
      "Name: Transmission, dtype: int64\n",
      "Num of NULL:  44\n",
      "Number of ? : 6\n",
      "Number of #VALUE! : 0\n",
      "======================= WheelTypeID =======================\n",
      "----------------------- FIRST FIVE -----------------------\n",
      "0    2\n",
      "1    2\n",
      "2    2\n",
      "3    2\n",
      "4    2\n",
      "Name: WheelTypeID, dtype: object\n",
      "----------------------- DESCIRBE -----------------------\n",
      "count     41432\n",
      "unique        5\n",
      "top           1\n",
      "freq      20426\n",
      "Name: WheelTypeID, dtype: object\n",
      "----------------------- COUNTS -----------------------\n",
      "Count List: \n",
      " 1    20426\n",
      "2    18791\n",
      "?     1775\n",
      "3      437\n",
      "0        3\n",
      "Name: WheelTypeID, dtype: int64\n",
      "Num of NULL:  44\n",
      "Number of ? : 1775\n",
      "Number of #VALUE! : 0\n",
      "======================= WheelType =======================\n",
      "----------------------- FIRST FIVE -----------------------\n",
      "0    Covers\n",
      "1    Covers\n",
      "2    Covers\n",
      "3    Covers\n",
      "4    Covers\n",
      "Name: WheelType, dtype: object\n",
      "----------------------- DESCIRBE -----------------------\n",
      "count     41380\n",
      "unique        4\n",
      "top       Alloy\n",
      "freq      20406\n",
      "Name: WheelType, dtype: object\n",
      "----------------------- COUNTS -----------------------\n",
      "Count List: \n",
      " Alloy      20406\n",
      "Covers     18761\n",
      "?           1777\n",
      "Special      436\n",
      "Name: WheelType, dtype: int64\n",
      "Num of NULL:  96\n",
      "Number of ? : 1777\n",
      "Number of #VALUE! : 0\n",
      "======================= VehOdo =======================\n",
      "----------------------- FIRST FIVE -----------------------\n",
      "0    51099.0\n",
      "1    48542.0\n",
      "2    46318.0\n",
      "3    50413.0\n",
      "4    50199.0\n",
      "Name: VehOdo, dtype: float64\n",
      "----------------------- DESCIRBE -----------------------\n",
      "count     41432.000000\n",
      "mean      71300.010427\n",
      "std       14724.041171\n",
      "min         577.000000\n",
      "25%       61578.000000\n",
      "50%       73128.500000\n",
      "75%       82259.250000\n",
      "max      480444.000000\n",
      "Name: VehOdo, dtype: float64\n",
      "----------------------- COUNTS -----------------------\n",
      "Five Most Common:  [84675.0, 85884.0, 67464.0, 72101.0, 79600.0]\n",
      "Num of NULL:  44\n",
      "Number of ? : 0\n",
      "Number of #VALUE! : 0\n",
      "======================= Nationality =======================\n",
      "----------------------- FIRST FIVE -----------------------\n",
      "0    AMERICAN\n",
      "1    AMERICAN\n",
      "2    AMERICAN\n",
      "3    AMERICAN\n",
      "4    AMERICAN\n",
      "Name: Nationality, dtype: object\n",
      "----------------------- DESCIRBE -----------------------\n",
      "count        41432\n",
      "unique           6\n",
      "top       AMERICAN\n",
      "freq         34616\n",
      "Name: Nationality, dtype: object\n",
      "----------------------- COUNTS -----------------------\n",
      "Count List: \n",
      " AMERICAN          34616\n",
      "OTHER ASIAN        4474\n",
      "TOP LINE ASIAN     2110\n",
      "USA                 125\n",
      "OTHER               104\n",
      "?                     3\n",
      "Name: Nationality, dtype: int64\n"
     ]
    },
    {
     "name": "stdout",
     "output_type": "stream",
     "text": [
      "Num of NULL:  44\n",
      "Number of ? : 3\n",
      "Number of #VALUE! : 0\n",
      "======================= Size =======================\n",
      "----------------------- FIRST FIVE -----------------------\n",
      "0     MEDIUM\n",
      "1     MEDIUM\n",
      "2     MEDIUM\n",
      "3    COMPACT\n",
      "4     MEDIUM\n",
      "Name: Size, dtype: object\n",
      "----------------------- DESCIRBE -----------------------\n",
      "count      41432\n",
      "unique        13\n",
      "top       MEDIUM\n",
      "freq       17540\n",
      "Name: Size, dtype: object\n",
      "----------------------- COUNTS -----------------------\n",
      "Count List: \n",
      " MEDIUM         17540\n",
      "LARGE           4968\n",
      "MEDIUM SUV      4569\n",
      "COMPACT         4035\n",
      "VAN             3367\n",
      "LARGE TRUCK     1897\n",
      "SMALL SUV       1332\n",
      "SPECIALTY        998\n",
      "CROSSOVER        974\n",
      "LARGE SUV        830\n",
      "SMALL TRUCK      494\n",
      "SPORTS           425\n",
      "?                  3\n",
      "Name: Size, dtype: int64\n",
      "Num of NULL:  44\n",
      "Number of ? : 3\n",
      "Number of #VALUE! : 0\n",
      "======================= TopThreeAmericanName =======================\n",
      "----------------------- FIRST FIVE -----------------------\n",
      "0    CHRYSLER\n",
      "1    CHRYSLER\n",
      "2    CHRYSLER\n",
      "3          GM\n",
      "4    CHRYSLER\n",
      "Name: TopThreeAmericanName, dtype: object\n",
      "----------------------- DESCIRBE -----------------------\n",
      "count     41432\n",
      "unique        5\n",
      "top          GM\n",
      "freq      14075\n",
      "Name: TopThreeAmericanName, dtype: object\n",
      "----------------------- COUNTS -----------------------\n",
      "Count List: \n",
      " GM          14075\n",
      "CHRYSLER    13627\n",
      "FORD         7039\n",
      "OTHER        6688\n",
      "?               3\n",
      "Name: TopThreeAmericanName, dtype: int64\n",
      "Num of NULL:  44\n",
      "Number of ? : 3\n",
      "Number of #VALUE! : 0\n",
      "======================= MMRAcquisitionAuctionAveragePrice =======================\n",
      "----------------------- FIRST FIVE -----------------------\n",
      "0    8566\n",
      "1    8566\n",
      "2    8835\n",
      "3    7165\n",
      "4    8566\n",
      "Name: MMRAcquisitionAuctionAveragePrice, dtype: object\n",
      "----------------------- DESCIRBE -----------------------\n",
      "count     41416\n",
      "unique     9271\n",
      "top           0\n",
      "freq        502\n",
      "Name: MMRAcquisitionAuctionAveragePrice, dtype: object\n",
      "----------------------- COUNTS -----------------------\n",
      "Five Most Common:  ['0', '5480', '6311', '7811', '7644']\n",
      "Num of NULL:  60\n",
      "Number of ? : 7\n",
      "Number of #VALUE! : 0\n",
      "======================= MMRAcquisitionAuctionCleanPrice =======================\n",
      "----------------------- FIRST FIVE -----------------------\n",
      "0    9325\n",
      "1    9325\n",
      "2    9428\n",
      "3    7770\n",
      "4    9325\n",
      "Name: MMRAcquisitionAuctionCleanPrice, dtype: object\n",
      "----------------------- DESCIRBE -----------------------\n",
      "count     41429\n",
      "unique    10010\n",
      "top           0\n",
      "freq        415\n",
      "Name: MMRAcquisitionAuctionCleanPrice, dtype: object\n",
      "----------------------- COUNTS -----------------------\n",
      "Five Most Common:  ['0', '6461', '7450', '1', '8258']\n",
      "Num of NULL:  47\n",
      "Number of ? : 7\n",
      "Number of #VALUE! : 0\n",
      "======================= MMRAcquisitionRetailAveragePrice =======================\n",
      "----------------------- FIRST FIVE -----------------------\n",
      "0     9751\n",
      "1     9751\n",
      "2    10042\n",
      "3     8238\n",
      "4     9751\n",
      "Name: MMRAcquisitionRetailAveragePrice, dtype: object\n",
      "----------------------- DESCIRBE -----------------------\n",
      "count     41429\n",
      "unique    11070\n",
      "top           0\n",
      "freq        502\n",
      "Name: MMRAcquisitionRetailAveragePrice, dtype: object\n",
      "----------------------- COUNTS -----------------------\n",
      "Five Most Common:  ['0', '6418', '7316', '11114', '8756']\n",
      "Num of NULL:  47\n",
      "Number of ? : 7\n",
      "Number of #VALUE! : 0\n",
      "======================= MMRAcquisitonRetailCleanPrice =======================\n",
      "----------------------- FIRST FIVE -----------------------\n",
      "0    10571\n",
      "1    10571\n",
      "2    10682\n",
      "3     8892\n",
      "4    10571\n",
      "Name: MMRAcquisitonRetailCleanPrice, dtype: object\n",
      "----------------------- DESCIRBE -----------------------\n",
      "count     41327\n",
      "unique    11583\n",
      "top           0\n",
      "freq        501\n",
      "Name: MMRAcquisitonRetailCleanPrice, dtype: object\n",
      "----------------------- COUNTS -----------------------\n",
      "Five Most Common:  ['0', '7478', '8546', '11562', '10103']\n",
      "Num of NULL:  149\n",
      "Number of ? : 7\n",
      "Number of #VALUE! : 0\n",
      "======================= MMRCurrentAuctionAveragePrice =======================\n",
      "----------------------- FIRST FIVE -----------------------\n",
      "0    7781\n",
      "1    8568\n",
      "2    8137\n",
      "3    7074\n",
      "4    7857\n",
      "Name: MMRCurrentAuctionAveragePrice, dtype: object\n",
      "----------------------- DESCIRBE -----------------------\n",
      "count     41429\n",
      "unique     9183\n",
      "top           0\n",
      "freq        287\n",
      "Name: MMRCurrentAuctionAveragePrice, dtype: object\n",
      "----------------------- COUNTS -----------------------\n",
      "Five Most Common:  ['0', '?', '5480', '6311', '7269']\n",
      "Num of NULL:  47\n",
      "Number of ? : 184\n",
      "Number of #VALUE! : 0\n",
      "======================= MMRCurrentAuctionCleanPrice =======================\n",
      "----------------------- FIRST FIVE -----------------------\n",
      "0    8545\n",
      "1    9325\n",
      "2    8733\n",
      "3    7629\n",
      "4    8711\n",
      "Name: MMRCurrentAuctionCleanPrice, dtype: object\n",
      "----------------------- DESCIRBE -----------------------\n",
      "count     41429\n",
      "unique     9890\n",
      "top           0\n",
      "freq        206\n",
      "Name: MMRCurrentAuctionCleanPrice, dtype: object\n",
      "----------------------- COUNTS -----------------------\n",
      "Five Most Common:  ['0', '?', '6461', '1', '7450']\n",
      "Num of NULL:  47\n",
      "Number of ? : 184\n",
      "Number of #VALUE! : 0\n",
      "======================= MMRCurrentRetailAveragePrice =======================\n",
      "----------------------- FIRST FIVE -----------------------\n",
      "0    11777\n",
      "1     9753\n",
      "2     9288\n",
      "3     8140\n",
      "4     8986\n",
      "Name: MMRCurrentRetailAveragePrice, dtype: object\n",
      "----------------------- DESCIRBE -----------------------\n",
      "count     41409\n",
      "unique    10935\n",
      "top           0\n",
      "freq        287\n",
      "Name: MMRCurrentRetailAveragePrice, dtype: object\n",
      "----------------------- COUNTS -----------------------\n",
      "Five Most Common:  ['0', '?', '6418', '7316', '8756']\n",
      "Num of NULL:  67\n",
      "Number of ? : 184\n",
      "Number of #VALUE! : 0\n",
      "======================= MMRCurrentRetailCleanPrice =======================\n",
      "----------------------- FIRST FIVE -----------------------\n",
      "0    12505\n",
      "1    10571\n",
      "2     9932\n",
      "3     8739\n",
      "4     9908\n",
      "Name: MMRCurrentRetailCleanPrice, dtype: object\n",
      "----------------------- DESCIRBE -----------------------\n",
      "count     41409\n",
      "unique    11363\n",
      "top           0\n",
      "freq        287\n",
      "Name: MMRCurrentRetailCleanPrice, dtype: object\n",
      "----------------------- COUNTS -----------------------\n",
      "Five Most Common:  ['0', '?', '7478', '8546', '10103']\n",
      "Num of NULL:  67\n",
      "Number of ? : 184\n",
      "Number of #VALUE! : 0\n",
      "======================= MMRCurrentRetailRatio =======================\n",
      "----------------------- FIRST FIVE -----------------------\n",
      "0    0.941783287\n",
      "1    0.922618485\n",
      "2    0.935159082\n",
      "3    0.931456688\n",
      "4    0.906943884\n",
      "Name: MMRCurrentRetailRatio, dtype: object\n",
      "----------------------- DESCIRBE -----------------------\n",
      "count       41116\n",
      "unique      25870\n",
      "top       #VALUE!\n",
      "freq          178\n",
      "Name: MMRCurrentRetailRatio, dtype: object\n",
      "----------------------- COUNTS -----------------------\n",
      "Five Most Common:  ['#VALUE!', '0.858250869', '0.856073017', '0.866673265', '0.949268378']\n",
      "Num of NULL:  360\n",
      "Number of ? : 0\n",
      "Number of #VALUE! : 178\n",
      "======================= PRIMEUNIT =======================\n",
      "----------------------- FIRST FIVE -----------------------\n",
      "0    ?\n",
      "1    ?\n",
      "2    ?\n",
      "3    ?\n",
      "4    ?\n",
      "Name: PRIMEUNIT, dtype: object\n",
      "----------------------- DESCIRBE -----------------------\n",
      "count     41432\n",
      "unique        3\n",
      "top           ?\n",
      "freq      39634\n",
      "Name: PRIMEUNIT, dtype: object\n",
      "----------------------- COUNTS -----------------------\n",
      "Count List: \n",
      " ?      39634\n",
      "NO      1764\n",
      "YES       34\n",
      "Name: PRIMEUNIT, dtype: int64\n",
      "Num of NULL:  44\n",
      "Number of ? : 39634\n",
      "Number of #VALUE! : 0\n",
      "======================= AUCGUART =======================\n",
      "----------------------- FIRST FIVE -----------------------\n",
      "0    ?\n",
      "1    ?\n",
      "2    ?\n",
      "3    ?\n",
      "4    ?\n",
      "Name: AUCGUART, dtype: object\n",
      "----------------------- DESCIRBE -----------------------\n",
      "count     41432\n",
      "unique        3\n",
      "top           ?\n",
      "freq      39634\n",
      "Name: AUCGUART, dtype: object\n",
      "----------------------- COUNTS -----------------------\n",
      "Count List: \n",
      " ?        39634\n",
      "GREEN     1754\n",
      "RED         44\n",
      "Name: AUCGUART, dtype: int64\n",
      "Num of NULL:  44\n",
      "Number of ? : 39634\n",
      "Number of #VALUE! : 0\n",
      "======================= VNST =======================\n",
      "----------------------- FIRST FIVE -----------------------\n",
      "0    NC\n",
      "1    NC\n",
      "2    NC\n",
      "3    NC\n",
      "4    NC\n",
      "Name: VNST, dtype: object\n",
      "----------------------- DESCIRBE -----------------------\n",
      "count     41432\n",
      "unique       31\n",
      "top          TX\n",
      "freq       9076\n",
      "Name: VNST, dtype: object\n",
      "----------------------- COUNTS -----------------------\n",
      "Count List: \n",
      " TX    9076\n",
      "FL    5250\n",
      "CO    3623\n",
      "NC    3594\n",
      "AZ    3383\n",
      "CA    3268\n",
      "OK    2595\n",
      "SC    1662\n",
      "TN    1471\n",
      "GA    1287\n",
      "VA    1093\n",
      "MO     758\n",
      "PA     700\n",
      "NV     553\n",
      "IN     486\n",
      "MS     412\n",
      "LA     349\n",
      "NJ     317\n",
      "NM     239\n",
      "KY     230\n",
      "AL     179\n",
      "UT     165\n",
      "IL     165\n",
      "WV     137\n",
      "OR     136\n",
      "WA     136\n",
      "NH      97\n",
      "NE      26\n",
      "OH      25\n",
      "ID      14\n",
      "NY       6\n",
      "Name: VNST, dtype: int64\n",
      "Num of NULL:  44\n",
      "Number of ? : 0\n",
      "Number of #VALUE! : 0\n",
      "======================= VehBCost =======================\n",
      "----------------------- FIRST FIVE -----------------------\n",
      "0    7800\n",
      "1    7800\n",
      "2    7800\n",
      "3    6000\n",
      "4    7800\n",
      "Name: VehBCost, dtype: object\n",
      "----------------------- DESCIRBE -----------------------\n",
      "count     41432\n",
      "unique     1869\n",
      "top        7500\n",
      "freq        459\n",
      "Name: VehBCost, dtype: object\n",
      "----------------------- COUNTS -----------------------\n",
      "Five Most Common:  ['7500', '6500', '7800', '7200', '7000']\n",
      "Num of NULL:  44\n",
      "Number of ? : 29\n",
      "Number of #VALUE! : 0\n",
      "======================= IsOnlineSale =======================\n",
      "----------------------- FIRST FIVE -----------------------\n",
      "0    0\n",
      "1    0\n",
      "2    0\n",
      "3    0\n",
      "4    0\n",
      "Name: IsOnlineSale, dtype: object\n",
      "----------------------- DESCIRBE -----------------------\n",
      "count     41432.0\n",
      "unique        8.0\n",
      "top           0.0\n",
      "freq      31368.0\n",
      "Name: IsOnlineSale, dtype: float64\n",
      "----------------------- COUNTS -----------------------\n",
      "Count List: \n",
      " 0.0     31368\n",
      "0        8572\n",
      "1.0       753\n",
      "-1.0      601\n",
      "1         134\n",
      "?           2\n",
      "4.0         1\n",
      "2.0         1\n",
      "Name: IsOnlineSale, dtype: int64\n",
      "Num of NULL:  44\n",
      "Number of ? : 2\n",
      "Number of #VALUE! : 0\n",
      "======================= WarrantyCost =======================\n",
      "----------------------- FIRST FIVE -----------------------\n",
      "0    920.0\n",
      "1    834.0\n",
      "2    834.0\n",
      "3    671.0\n",
      "4    920.0\n",
      "Name: WarrantyCost, dtype: float64\n",
      "----------------------- DESCIRBE -----------------------\n",
      "count    41432.000000\n",
      "mean      1273.050758\n",
      "std        599.188662\n",
      "min        462.000000\n",
      "25%        834.000000\n",
      "50%       1155.000000\n",
      "75%       1623.000000\n",
      "max       7498.000000\n",
      "Name: WarrantyCost, dtype: float64\n",
      "----------------------- COUNTS -----------------------\n",
      "Five Most Common:  [920.0, 1974.0, 2152.0, 1215.0, 1389.0]\n",
      "Num of NULL:  44\n",
      "Number of ? : 0\n",
      "Number of #VALUE! : 0\n",
      "======================= ForSale =======================\n",
      "----------------------- FIRST FIVE -----------------------\n",
      "0    Yes\n",
      "1    Yes\n",
      "2    Yes\n",
      "3    Yes\n",
      "4    Yes\n",
      "Name: ForSale, dtype: object\n",
      "----------------------- DESCIRBE -----------------------\n",
      "count     41476\n",
      "unique        6\n",
      "top         Yes\n",
      "freq      27402\n",
      "Name: ForSale, dtype: object\n",
      "----------------------- COUNTS -----------------------\n",
      "Count List: \n",
      " Yes    27402\n",
      "YES     8544\n",
      "yes     5524\n",
      "?          3\n",
      "No         2\n",
      "0          1\n",
      "Name: ForSale, dtype: int64\n",
      "Num of NULL:  0\n",
      "Number of ? : 3\n",
      "Number of #VALUE! : 0\n",
      "======================= IsBadBuy =======================\n",
      "----------------------- FIRST FIVE -----------------------\n",
      "0    0\n",
      "1    0\n",
      "2    0\n",
      "3    0\n",
      "4    0\n",
      "Name: IsBadBuy, dtype: int64\n",
      "----------------------- DESCIRBE -----------------------\n",
      "count    41476.000000\n",
      "mean         0.129497\n",
      "std          0.335753\n",
      "min          0.000000\n",
      "25%          0.000000\n",
      "50%          0.000000\n",
      "75%          0.000000\n",
      "max          1.000000\n",
      "Name: IsBadBuy, dtype: float64\n",
      "----------------------- COUNTS -----------------------\n",
      "Count List: \n",
      " 0    36105\n",
      "1     5371\n",
      "Name: IsBadBuy, dtype: int64\n",
      "Num of NULL:  0\n",
      "Number of ? : 0\n",
      "Number of #VALUE! : 0\n"
     ]
    }
   ],
   "source": [
    "def printColumnInfo():\n",
    "    \n",
    "    '''\n",
    "    Display the information of this Dataframe\n",
    "    '''\n",
    "    \n",
    "    for colName in df.columns:\n",
    "        print(\"======================= \" + str(colName) + \" =======================\")\n",
    "        print(\"----------------------- FIRST FIVE -----------------------\")\n",
    "        print(df[colName][:5])\n",
    "        print(\"----------------------- DESCIRBE -----------------------\")\n",
    "        print(df[colName].describe())\n",
    "        print(\"----------------------- COUNTS -----------------------\")\n",
    "        commonList = list(df[colName].value_counts().keys())\n",
    "        if len(commonList) > 100:\n",
    "            print(\"Five Most Common: \", commonList[:5])\n",
    "        else:\n",
    "            print(\"Count List: \\n\", df[colName].value_counts())\n",
    "        print(\"Num of NULL: \", df[colName].isnull().sum())\n",
    "        for rep in replaced_vals:\n",
    "            print(\"Number of \"+str(rep)+\" : \" + str(len(df[df[colName] == rep])))\n",
    "printColumnInfo()"
   ]
  },
  {
   "cell_type": "code",
   "execution_count": 8,
   "metadata": {
    "scrolled": true
   },
   "outputs": [
    {
     "name": "stdout",
     "output_type": "stream",
     "text": [
      "Preprocess the col: Auction\n",
      "In the Column: Auction : 0, ?have been replaced by null\n",
      "Preprocess the col: VehYear\n",
      "Preprocess the col: Make\n",
      "Preprocess the col: Color\n",
      "In the Column: Color : 6, ?have been replaced by null\n",
      "Preprocess the col: Transmission\n",
      "In the Column: Transmission : 6, ?have been replaced by null\n",
      "Preprocess the col: WheelTypeID\n",
      "Preprocess the col: WheelType\n",
      "Preprocess the col: VehOdo\n",
      "Preprocess the col: Nationality\n",
      "In the Column: Nationality : 3, ?have been replaced by null\n",
      "Preprocess the col: Size\n",
      "In the Column: Size : 3, ?have been replaced by null\n",
      "Preprocess the col: TopThreeAmericanName\n",
      "In the Column: TopThreeAmericanName : 3, ?have been replaced by null\n",
      "Preprocess the col: MMRAcquisitionAuctionAveragePrice\n",
      "In the Column: MMRAcquisitionAuctionAveragePrice : 7, ?have been replaced by null\n",
      "Preprocess the col: MMRAcquisitionAuctionCleanPrice\n",
      "In the Column: MMRAcquisitionAuctionCleanPrice : 7, ?have been replaced by null\n",
      "Preprocess the col: MMRAcquisitionRetailAveragePrice\n",
      "In the Column: MMRAcquisitionRetailAveragePrice : 7, ?have been replaced by null\n",
      "Preprocess the col: MMRAcquisitonRetailCleanPrice\n",
      "In the Column: MMRAcquisitonRetailCleanPrice : 7, ?have been replaced by null\n",
      "Preprocess the col: MMRCurrentAuctionAveragePrice\n",
      "In the Column: MMRCurrentAuctionAveragePrice : 184, ?have been replaced by null\n",
      "In the Column: MMRCurrentAuctionAveragePrice : 0, #VALUE!have been replaced by null\n",
      "Preprocess the col: MMRCurrentAuctionCleanPrice\n",
      "In the Column: MMRCurrentAuctionCleanPrice : 184, ?have been replaced by null\n",
      "In the Column: MMRCurrentAuctionCleanPrice : 0, #VALUE!have been replaced by null\n",
      "Preprocess the col: MMRCurrentRetailAveragePrice\n",
      "In the Column: MMRCurrentRetailAveragePrice : 184, ?have been replaced by null\n",
      "In the Column: MMRCurrentRetailAveragePrice : 0, #VALUE!have been replaced by null\n",
      "Preprocess the col: MMRCurrentRetailCleanPrice\n",
      "In the Column: MMRCurrentRetailCleanPrice : 184, ?have been replaced by null\n",
      "In the Column: MMRCurrentRetailCleanPrice : 0, #VALUE!have been replaced by null\n",
      "Preprocess the col: MMRCurrentRetailRatio\n",
      "In the Column: MMRCurrentRetailRatio : 0, ?have been replaced by null\n",
      "In the Column: MMRCurrentRetailRatio : 178, #VALUE!have been replaced by null\n",
      "Preprocess the col: PRIMEUNIT\n",
      "Preprocess the col: AUCGUART\n",
      "Preprocess the col: VNST\n",
      "Preprocess the col: VehBCost\n",
      "In the Column: VehBCost : 29, ?have been replaced by null\n",
      "Preprocess the col: IsOnlineSale\n",
      "In the Column: IsOnlineSale : 2, ?have been replaced by null\n",
      "In the Column: IsOnlineSale : 1, 2.0have been replaced by null\n",
      "In the Column: IsOnlineSale : 1, 4.0have been replaced by null\n",
      "Preprocess the col: WarrantyCost\n",
      "Preprocess the col: ForSale\n",
      "In the Column: ForSale : 3, ?have been replaced by null\n",
      "In the Column: ForSale : 0, 0have been replaced by null\n",
      "Preprocess the col: IsBadBuy\n"
     ]
    }
   ],
   "source": [
    "if NEW_STATEGY:\n",
    "\n",
    "    class filling_method():\n",
    "        MOST_COMMON = \"MOST_COMMON\"\n",
    "        MEAN = \"MEAN\"\n",
    "        CERTAIN_VALUE = \"CERTAIN_VALUE\"\n",
    "\n",
    "    def replaceFunc(colName):\n",
    "        for replaced, target in preprocessStrategy[colName]['replace_pairs']:\n",
    "            df[colName].replace(replaced, target, inplace=True)\n",
    "\n",
    "    def removeOutlier(colName):  # FOR THE INTERVAL ONLY\n",
    "        global df\n",
    "        df = df[df[colName] < df[colName].quantile(0.999)]\n",
    "\n",
    "    def replacingValueCol(colName):\n",
    "        for replaced in preprocessStrategy[colName]['replaced_vals']:\n",
    "            print(\"In the Column: \" + str(colName) + \" : \" + str(len(\n",
    "                df[df[colName] == replaced])) + \", \" + str(replaced) + \"have been replaced by null\")\n",
    "            # Replacing the null in this process #Inplacing for saving the memory\n",
    "            df[colName].replace(replaced, float('nan'), inplace=True)\n",
    "\n",
    "    def loweringCol(colName):\n",
    "        df[colName] = df[colName].str.lower()\n",
    "\n",
    "    def fillingTheNullValue(colName):  # method can be [\"MEAN\", \"MOST_COMMON\"]\n",
    "        if preprocessStrategy[colName]['filling_method'] == filling_method.MEAN:\n",
    "            df[colName] = df[colName].astype('float')\n",
    "            df[colName].fillna(df[colName].astype(\n",
    "                'float').mean(), inplace=True)\n",
    "        elif preprocessStrategy[colName]['filling_method'] == filling_method.MOST_COMMON:\n",
    "            df[colName] = df[colName].astype('category')\n",
    "            df[colName].fillna(df[colName].astype(\n",
    "                'category').describe()['top'], inplace=True)\n",
    "        elif preprocessStrategy[colName]['filling_method'] == filling_method.CERTAIN_VALUE:\n",
    "            df[colName] = df[colName].astype('category')\n",
    "            df[colName] = df[colName].cat.add_categories(\n",
    "                [preprocessStrategy[colName]['filling_value']])\n",
    "            df[colName].fillna(preprocessStrategy[colName]\n",
    "                               ['filling_value'], inplace=True)\n",
    "\n",
    "    def filterOutRareValue(colName):\n",
    "\n",
    "        def checkingKeepValue(v, savingValues):\n",
    "            if v in savingValues:\n",
    "                return v\n",
    "            return \"LESS_FREQ\"\n",
    "\n",
    "        k = [v for v in df[colName].value_counts().values if v >\n",
    "             preprocessStrategy[colName]['min_freq']]\n",
    "        savingValues = df[colName].value_counts().keys()[:len(k)]\n",
    "\n",
    "        df[colName] = [checkingKeepValue(v, savingValues) for v in df[colName]]\n",
    "\n",
    "    def changeToType(colName):\n",
    "        df[colName] = df[colName].astype(\n",
    "            preprocessStrategy[colName]['changeToType'])\n",
    "\n",
    "    def newData_prep(df):\n",
    "        '''\n",
    "        For Preprocessing through the whole dictionary\n",
    "        '''\n",
    "        df.drop(drop_cols, axis=1, inplace=True)\n",
    "\n",
    "        for colName in df.columns:  # df.columns:\n",
    "\n",
    "            print(\"Preprocess the col: \" + colName)\n",
    "\n",
    "            for stra in preprocessStrategy[colName]['strategies']:\n",
    "                if not stra:\n",
    "                    continue\n",
    "                stra(colName)\n",
    "\n",
    "        if not using_cat:\n",
    "            df['MMRCurrentRetailRatio'] = df['MMRCurrentRetailAveragePrice'] / \\\n",
    "                (df['MMRCurrentRetailCleanPrice']+1e-8)  # Prvent divided by 0\n",
    "\n",
    "        return df\n",
    "\n",
    "    preprocessStrategy = defaultdict(dict)\n",
    "\n",
    "    preprocessStrategy['Auction'] = {\n",
    "        \"strategies\":\n",
    "            [\n",
    "                replacingValueCol,\n",
    "                loweringCol,\n",
    "                fillingTheNullValue,\n",
    "            ],\n",
    "        \"replaced_vals\": ['?'],\n",
    "        \"filling_method\": filling_method.MOST_COMMON\n",
    "    }\n",
    "\n",
    "    preprocessStrategy['VehYear'] = {\n",
    "        \"strategies\":\n",
    "            [\n",
    "                fillingTheNullValue,\n",
    "            ],\n",
    "        \"filling_method\": filling_method.CERTAIN_VALUE,\n",
    "        \"filling_value\": \"UNKNOWN_VALUE\"\n",
    "    }\n",
    "\n",
    "    preprocessStrategy['Make'] = {\n",
    "        \"strategies\":\n",
    "            [\n",
    "                loweringCol,\n",
    "                fillingTheNullValue,\n",
    "            ],\n",
    "        \"filling_method\": filling_method.MOST_COMMON\n",
    "    }\n",
    "\n",
    "    preprocessStrategy['Color'] = {\n",
    "        \"strategies\":\n",
    "            [\n",
    "                loweringCol,\n",
    "                replacingValueCol,\n",
    "                fillingTheNullValue,\n",
    "            ],\n",
    "        \"replaced_vals\": ['?'],\n",
    "        \"filling_method\": filling_method.MOST_COMMON\n",
    "    }\n",
    "\n",
    "    preprocessStrategy['Transmission'] = {\n",
    "        \"strategies\":\n",
    "            [\n",
    "                loweringCol,\n",
    "                replacingValueCol,\n",
    "                fillingTheNullValue,\n",
    "            ],\n",
    "        \"replaced_vals\": ['?'],\n",
    "        \"filling_method\": filling_method.MOST_COMMON\n",
    "    }\n",
    "\n",
    "    preprocessStrategy['WheelTypeID'] = {\n",
    "        \"strategies\":\n",
    "            [\n",
    "                fillingTheNullValue,\n",
    "            ],\n",
    "        \"filling_method\": filling_method.MOST_COMMON\n",
    "    }\n",
    "\n",
    "    preprocessStrategy['WheelType'] = {\n",
    "        \"strategies\":\n",
    "            [\n",
    "                loweringCol,\n",
    "                fillingTheNullValue,\n",
    "            ],\n",
    "        \"filling_method\": filling_method.MOST_COMMON\n",
    "    }\n",
    "\n",
    "    preprocessStrategy['VehOdo'] = {\n",
    "        \"strategies\":\n",
    "            [\n",
    "                fillingTheNullValue,\n",
    "            ],\n",
    "        \"filling_method\": filling_method.MEAN\n",
    "    }\n",
    "\n",
    "    preprocessStrategy['Nationality'] = {  # Should I merge USA with AMERICAN?\n",
    "        \"strategies\":\n",
    "            [\n",
    "                replaceFunc,\n",
    "                loweringCol,\n",
    "                replacingValueCol,\n",
    "                fillingTheNullValue,\n",
    "            ],\n",
    "        \"replaced_vals\": ['?'],\n",
    "        \"filling_method\": filling_method.MOST_COMMON,\n",
    "        \"replace_pairs\": [(\"USA\", \"AMERICAN\")]\n",
    "\n",
    "    }\n",
    "\n",
    "    preprocessStrategy['Size'] = {\n",
    "        \"strategies\":\n",
    "            [\n",
    "                loweringCol,\n",
    "                replacingValueCol,\n",
    "                fillingTheNullValue,\n",
    "            ],\n",
    "        \"replaced_vals\": ['?'],\n",
    "        \"filling_method\": filling_method.MOST_COMMON\n",
    "\n",
    "    }\n",
    "\n",
    "    preprocessStrategy['TopThreeAmericanName'] = {\n",
    "        \"strategies\":\n",
    "            [\n",
    "                loweringCol,\n",
    "                replacingValueCol,\n",
    "                fillingTheNullValue,\n",
    "            ],\n",
    "        \"replaced_vals\": ['?'],\n",
    "        \"filling_method\": filling_method.MOST_COMMON\n",
    "    }\n",
    "\n",
    "    preprocessStrategy['TopThreeAmericanName'] = {\n",
    "        \"strategies\":\n",
    "            [\n",
    "                loweringCol,\n",
    "                replacingValueCol,\n",
    "                fillingTheNullValue,\n",
    "            ],\n",
    "        \"replaced_vals\": ['?'],\n",
    "        \"filling_method\": filling_method.MOST_COMMON\n",
    "    }\n",
    "\n",
    "    preprocessStrategy['MMRAcquisitionAuctionAveragePrice'] = {\n",
    "        \"strategies\":\n",
    "            [\n",
    "                replacingValueCol,\n",
    "                fillingTheNullValue,\n",
    "            ],\n",
    "        \"replaced_vals\": ['?'],\n",
    "        \"filling_method\": filling_method.MEAN\n",
    "    }\n",
    "\n",
    "    preprocessStrategy['MMRAcquisitionAuctionCleanPrice'] = {\n",
    "        \"strategies\":\n",
    "            [\n",
    "                replacingValueCol,\n",
    "                fillingTheNullValue,\n",
    "            ],\n",
    "        \"replaced_vals\": ['?'],\n",
    "        \"filling_method\": filling_method.MEAN\n",
    "    }\n",
    "\n",
    "    preprocessStrategy['MMRAcquisitionRetailAveragePrice'] = {\n",
    "        \"strategies\":\n",
    "            [\n",
    "                replacingValueCol,\n",
    "                fillingTheNullValue,\n",
    "            ],\n",
    "        \"replaced_vals\": ['?'],\n",
    "        \"filling_method\": filling_method.MEAN\n",
    "    }\n",
    "\n",
    "    preprocessStrategy['MMRAcquisitonRetailCleanPrice'] = {\n",
    "        \"strategies\":\n",
    "            [\n",
    "                replacingValueCol,\n",
    "                fillingTheNullValue,\n",
    "            ],\n",
    "        \"replaced_vals\": ['?'],\n",
    "        \"filling_method\": filling_method.MEAN\n",
    "    }\n",
    "\n",
    "    ###############################################################\n",
    "    int_stra = {\n",
    "        \"strategies\":\n",
    "            [\n",
    "                replacingValueCol,\n",
    "                fillingTheNullValue,\n",
    "            ],\n",
    "        \"replaced_vals\": ['?', '#VALUE!'],  # GOT 184 '?'\n",
    "        \"filling_method\": filling_method.MEAN,\n",
    "    }\n",
    "\n",
    "    cat_stra = {  # HOW DO WE DEAL WITH ? in this column\n",
    "        \"strategies\":\n",
    "            [\n",
    "                filterOutRareValue,\n",
    "                fillingTheNullValue,\n",
    "            ],\n",
    "        #     \"replaced_vals\": ['?'], # GOT 184 '?'\n",
    "        \"filling_method\": filling_method.CERTAIN_VALUE,\n",
    "        \"filling_value\": 'NULL',\n",
    "        \"min_freq\": 50\n",
    "    }\n",
    "\n",
    "    preprocessStrategy['MMRCurrentAuctionAveragePrice'] \\\n",
    "        = preprocessStrategy['MMRCurrentAuctionCleanPrice'] \\\n",
    "        = preprocessStrategy['MMRCurrentRetailAveragePrice'] \\\n",
    "        = preprocessStrategy['MMRCurrentRetailCleanPrice'] \\\n",
    "        = preprocessStrategy['MMRCurrentRetailRatio'] \\\n",
    "        = cat_stra if using_cat else int_stra\n",
    "\n",
    "    ###############################################################\n",
    "\n",
    "    preprocessStrategy['PRIMEUNIT'] = {  # HOW DO WE DEAL WITH ? in this column\n",
    "        \"strategies\":\n",
    "            [\n",
    "                loweringCol,\n",
    "                fillingTheNullValue,\n",
    "            ],\n",
    "        #     \"replaced_vals\": ['?'], # GOT 184 '?'\n",
    "        \"filling_method\": filling_method.CERTAIN_VALUE,\n",
    "        \"filling_value\": 'NULL',\n",
    "    }\n",
    "\n",
    "    preprocessStrategy['AUCGUART'] = {  # HOW DO WE DEAL WITH ? in this column\n",
    "        \"strategies\":\n",
    "            [\n",
    "                loweringCol,\n",
    "                fillingTheNullValue,\n",
    "            ],\n",
    "        #     \"replaced_vals\": ['?'], # GOT 184 '?'\n",
    "        \"filling_method\": filling_method.CERTAIN_VALUE,\n",
    "        \"filling_value\": 'NULL',\n",
    "    }\n",
    "\n",
    "    preprocessStrategy['VNST'] = {  # HOW DO WE DEAL WITH ? in this column\n",
    "        \"strategies\":\n",
    "            [\n",
    "                loweringCol,\n",
    "                fillingTheNullValue,\n",
    "            ],\n",
    "        #     \"replaced_vals\": ['?'], # GOT 184 '?'\n",
    "        \"filling_method\": filling_method.CERTAIN_VALUE,\n",
    "        \"filling_value\": 'NULL',\n",
    "    }\n",
    "\n",
    "    preprocessStrategy['VehBCost'] = {  # HOW DO WE DEAL WITH ? in this column\n",
    "        \"strategies\":\n",
    "            [\n",
    "                replacingValueCol,\n",
    "\n",
    "                fillingTheNullValue,\n",
    "            ],\n",
    "        \"replaced_vals\": ['?'],  # GOT 184 '?'\n",
    "        \"filling_method\": filling_method.MEAN\n",
    "    }\n",
    "\n",
    "    preprocessStrategy['IsOnlineSale'] = {  # HOW DO WE DEAL WITH ? in this column\n",
    "        \"strategies\":\n",
    "            [\n",
    "                replacingValueCol,\n",
    "                changeToType,\n",
    "                fillingTheNullValue,\n",
    "            ],\n",
    "        \"replaced_vals\": ['?', 2.0, 4.0],  # GOT 184 '?'\n",
    "        \"filling_method\": filling_method.MOST_COMMON,\n",
    "        \"changeToType\": 'float'\n",
    "    }\n",
    "\n",
    "    preprocessStrategy['WarrantyCost'] = {  # HOW DO WE DEAL WITH ? in this column\n",
    "        \"strategies\":\n",
    "            [\n",
    "                fillingTheNullValue,\n",
    "            ],\n",
    "        \"replaced_vals\": ['?'],  # GOT 184 '?'\n",
    "        \"filling_method\": filling_method.MEAN,\n",
    "    }\n",
    "\n",
    "    preprocessStrategy['ForSale'] = {  # HOW DO WE DEAL WITH ? in this column\n",
    "        \"strategies\":\n",
    "            [\n",
    "                loweringCol,\n",
    "                replacingValueCol,\n",
    "                fillingTheNullValue,\n",
    "            ],\n",
    "        \"replaced_vals\": ['?', 0],  # GOT 184 '?'\n",
    "        \"filling_method\": filling_method.MOST_COMMON,\n",
    "    }\n",
    "\n",
    "    # HOW DO WE DEAL WITH ? in this column\n",
    "    preprocessStrategy['IsBadBuy'] = {\"strategies\": [None]}\n",
    "\n",
    "    newData_prep(df)\n",
    "\n",
    "\n",
    "else:\n",
    "\n",
    "    def data_prep(df):\n",
    "        '''\n",
    "        For Preprocessing the Data (OLD_METHOD)\n",
    "        '''\n",
    "\n",
    "        # Check the replaced values are not in the dataset\n",
    "\n",
    "        for colName in df.columns:\n",
    "\n",
    "            if colName in categorial_cols:\n",
    "\n",
    "                if colName == \"IsOnlineSale\":\n",
    "                    df[colName] = df[colName].astype(\n",
    "                        'float').astype('category')\n",
    "                    df[colName].fillna(df[colName].astype(\n",
    "                        'category').describe()['top'], inplace=True)\n",
    "\n",
    "                # Try to lower the data if the data type is string\n",
    "                try:\n",
    "                    df[colName] = df[colName].str.lower()\n",
    "                except:\n",
    "                    print(colName, \" can't be lowered\")\n",
    "\n",
    "                for replaced in replaced_vals:\n",
    "                    print(\"In the Column: \" + str(colName) + \": \" +\n",
    "                          str(len(df[df[colName] == replaced])) + \" -> \" + str(replaced))\n",
    "                    df[colName].replace(replaced, float('nan'), inplace=True)\n",
    "\n",
    "                df[colName] = df[colName].astype('category')\n",
    "\n",
    "                # Replacing the null by the most common category\n",
    "                df[colName].fillna(df[colName].astype(\n",
    "                    'category').describe()['top'], inplace=True)\n",
    "\n",
    "            if colName in interval_cols:\n",
    "\n",
    "                if colName == \"MMRCurrentRetailRatio\":  # Dealing with this calculated value at the last\n",
    "                    continue\n",
    "\n",
    "                for replaced in replaced_vals:\n",
    "                    print(\"In the Column: \" + str(colName) + \": \" +\n",
    "                          str(len(df[df[colName] == replaced])) + \" -> \" + str(replaced))\n",
    "                    df[colName].replace(replaced, float('nan'), inplace=True)\n",
    "\n",
    "                df[colName] = df[colName].astype('float')\n",
    "\n",
    "                # Removing outlier\n",
    "                df = df[df[colName] < df[colName].quantile(0.999)]\n",
    "\n",
    "                # Replacing the null by the mean\n",
    "                df[colName].fillna(df[colName].astype(\n",
    "                    'float').mean(), inplace=True)\n",
    "\n",
    "        df['MMRCurrentRetailRatio'] = df['MMRCurrentRetailAveragePrice'] / \\\n",
    "            (df['MMRCurrentRetailCleanPrice']+1e-8)  # Prvent divided by 0\n",
    "\n",
    "        df.drop(drop_cols, axis=1, inplace=True)\n",
    "\n",
    "        return df\n",
    "\n",
    "    df = data_prep(df)\n"
   ]
  },
  {
   "cell_type": "markdown",
   "metadata": {},
   "source": [
    "### 3. Can you identify any clear patterns by initial exploration of the data using histogram or box plot?"
   ]
  },
  {
   "cell_type": "code",
   "execution_count": 9,
   "metadata": {},
   "outputs": [],
   "source": [
    "def plotAllCols (df):\n",
    "    for colName in df.columns:\n",
    "        plt.figure(figsize=(20,10))\n",
    "        if colName in categorial_cols:\n",
    "            ### if it's categorial column, plot hist diagram \n",
    "            sns.countplot(x=colName, data = df, hue=\"IsBadBuy\")\n",
    "        elif colName in interval_cols:\n",
    "            ### if it's interval column, plot box diagram\n",
    "            sns.boxplot(x=\"IsBadBuy\", y=colName, data = df )"
   ]
  },
  {
   "cell_type": "code",
   "execution_count": 10,
   "metadata": {},
   "outputs": [
    {
     "data": {
      "image/png": "[encoded data removed]",
      "text/plain": [
       "<Figure size 1440x720 with 1 Axes>"
      ]
     },
     "metadata": {
      "needs_background": "light"
     },
     "output_type": "display_data"
    },
    {
     "data": {
      "image/png": "[encoded data removed]",
      "text/plain": [
       "<Figure size 1440x720 with 1 Axes>"
      ]
     },
     "metadata": {
      "needs_background": "light"
     },
     "output_type": "display_data"
    },
    {
     "data": {
      "image/png": "[encoded data removed]",
      "text/plain": [
       "<Figure size 1440x720 with 1 Axes>"
      ]
     },
     "metadata": {
      "needs_background": "light"
     },
     "output_type": "display_data"
    },
    {
     "data": {
      "image/png": "[encoded data removed]",
      "text/plain": [
       "<Figure size 1440x720 with 1 Axes>"
      ]
     },
     "metadata": {
      "needs_background": "light"
     },
     "output_type": "display_data"
    },
    {
     "data": {
      "image/png": "[encoded data removed]",
      "text/plain": [
       "<Figure size 1440x720 with 1 Axes>"
      ]
     },
     "metadata": {
      "needs_background": "light"
     },
     "output_type": "display_data"
    },
    {
     "data": {
      "image/png": "[encoded data removed]",
      "text/plain": [
       "<Figure size 1440x720 with 1 Axes>"
      ]
     },
     "metadata": {
      "needs_background": "light"
     },
     "output_type": "display_data"
    },
    {
     "data": {
      "image/png": "[encoded data removed]",
      "text/plain": [
       "<Figure size 1440x720 with 1 Axes>"
      ]
     },
     "metadata": {
      "needs_background": "light"
     },
     "output_type": "display_data"
    },
    {
     "data": {
      "image/png": "[encoded data removed]",
      "text/plain": [
       "<Figure size 1440x720 with 1 Axes>"
      ]
     },
     "metadata": {
      "needs_background": "light"
     },
     "output_type": "display_data"
    },
    {
     "data": {
      "image/png": "[encoded data removed]",
      "text/plain": [
       "<Figure size 1440x720 with 1 Axes>"
      ]
     },
     "metadata": {
      "needs_background": "light"
     },
     "output_type": "display_data"
    },
    {
     "data": {
      "image/png": "[encoded data removed]",
      "text/plain": [
       "<Figure size 1440x720 with 1 Axes>"
      ]
     },
     "metadata": {
      "needs_background": "light"
     },
     "output_type": "display_data"
    },
    {
     "data": {
      "image/png": "[encoded data removed]",
      "text/plain": [
       "<Figure size 1440x720 with 1 Axes>"
      ]
     },
     "metadata": {
      "needs_background": "light"
     },
     "output_type": "display_data"
    },
    {
     "data": {
      "image/png": "[encoded data removed]",
      "text/plain": [
       "<Figure size 1440x720 with 1 Axes>"
      ]
     },
     "metadata": {
      "needs_background": "light"
     },
     "output_type": "display_data"
    },
    {
     "data": {
      "image/png": "[encoded data removed]",
      "text/plain": [
       "<Figure size 1440x720 with 1 Axes>"
      ]
     },
     "metadata": {
      "needs_background": "light"
     },
     "output_type": "display_data"
    },
    {
     "data": {
      "image/png": "[encoded data removed]",
      "text/plain": [
       "<Figure size 1440x720 with 1 Axes>"
      ]
     },
     "metadata": {
      "needs_background": "light"
     },
     "output_type": "display_data"
    },
    {
     "data": {
      "image/png": "[encoded data removed]",
      "text/plain": [
       "<Figure size 1440x720 with 1 Axes>"
      ]
     },
     "metadata": {
      "needs_background": "light"
     },
     "output_type": "display_data"
    },
    {
     "data": {
      "image/png": "[encoded data removed]",
      "text/plain": [
       "<Figure size 1440x720 with 1 Axes>"
      ]
     },
     "metadata": {
      "needs_background": "light"
     },
     "output_type": "display_data"
    },
    {
     "data": {
      "image/png": "[encoded data removed]",
      "text/plain": [
       "<Figure size 1440x720 with 1 Axes>"
      ]
     },
     "metadata": {
      "needs_background": "light"
     },
     "output_type": "display_data"
    },
    {
     "data": {
      "image/png": "[encoded data removed]",
      "text/plain": [
       "<Figure size 1440x720 with 1 Axes>"
      ]
     },
     "metadata": {
      "needs_background": "light"
     },
     "output_type": "display_data"
    },
    {
     "data": {
      "image/png": "[encoded data removed]",
      "text/plain": [
       "<Figure size 1440x720 with 1 Axes>"
      ]
     },
     "metadata": {
      "needs_background": "light"
     },
     "output_type": "display_data"
    },
    {
     "data": {
      "image/png": "[encoded data removed]",
      "text/plain": [
       "<Figure size 1440x720 with 1 Axes>"
      ]
     },
     "metadata": {
      "needs_background": "light"
     },
     "output_type": "display_data"
    },
    {
     "data": {
      "image/png": "[encoded data removed]",
      "text/plain": [
       "<Figure size 1440x720 with 1 Axes>"
      ]
     },
     "metadata": {
      "needs_background": "light"
     },
     "output_type": "display_data"
    },
    {
     "data": {
      "image/png": "[encoded data removed]",
      "text/plain": [
       "<Figure size 1440x720 with 1 Axes>"
      ]
     },
     "metadata": {
      "needs_background": "light"
     },
     "output_type": "display_data"
    },
    {
     "data": {
      "image/png": "[encoded data removed]",
      "text/plain": [
       "<Figure size 1440x720 with 1 Axes>"
      ]
     },
     "metadata": {
      "needs_background": "light"
     },
     "output_type": "display_data"
    },
    {
     "data": {
      "image/png": "[encoded data removed]",
      "text/plain": [
       "<Figure size 1440x720 with 1 Axes>"
      ]
     },
     "metadata": {
      "needs_background": "light"
     },
     "output_type": "display_data"
    },
    {
     "data": {
      "image/png": "[encoded data removed]",
      "text/plain": [
       "<Figure size 1440x720 with 1 Axes>"
      ]
     },
     "metadata": {
      "needs_background": "light"
     },
     "output_type": "display_data"
    },
    {
     "data": {
      "image/png": "[encoded data removed]",
      "text/plain": [
       "<Figure size 1440x720 with 1 Axes>"
      ]
     },
     "metadata": {
      "needs_background": "light"
     },
     "output_type": "display_data"
    },
    {
     "data": {
      "image/png": "[encoded data removed]",
      "text/plain": [
       "<Figure size 1440x720 with 1 Axes>"
      ]
     },
     "metadata": {
      "needs_background": "light"
     },
     "output_type": "display_data"
    },
    {
     "data": {
      "text/plain": [
       "<Figure size 1440x720 with 0 Axes>"
      ]
     },
     "metadata": {},
     "output_type": "display_data"
    }
   ],
   "source": [
    "plotAllCols(df)"
   ]
  },
  {
   "cell_type": "markdown",
   "metadata": {},
   "source": [
    "### 4. What variables did you include in the analysis and what were their roles and measurement level set? Justify your choice"
   ]
  },
  {
   "cell_type": "code",
   "execution_count": 11,
   "metadata": {},
   "outputs": [
    {
     "name": "stdout",
     "output_type": "stream",
     "text": [
      "Num of Features: 149\n",
      "\n",
      "\n",
      "\n",
      "The variables that included in the training: \n",
      "VehOdo\n",
      "\n",
      "MMRAcquisitionAuctionAveragePrice\n",
      "\n",
      "MMRAcquisitionAuctionCleanPrice\n",
      "\n",
      "MMRAcquisitionRetailAveragePrice\n",
      "\n",
      "MMRAcquisitonRetailCleanPrice\n",
      "\n",
      "MMRCurrentAuctionAveragePrice\n",
      "\n",
      "MMRCurrentAuctionCleanPrice\n",
      "\n",
      "MMRCurrentRetailAveragePrice\n",
      "\n",
      "MMRCurrentRetailCleanPrice\n",
      "\n",
      "MMRCurrentRetailRatio\n",
      "\n",
      "VehBCost\n",
      "\n",
      "WarrantyCost\n",
      "\n",
      "Auction_adesa\n",
      "\n",
      "Auction_manheim\n",
      "\n",
      "Auction_other\n",
      "\n",
      "VehYear_2001.0\n",
      "\n",
      "VehYear_2002.0\n",
      "\n",
      "VehYear_2003.0\n",
      "\n",
      "VehYear_2004.0\n",
      "\n",
      "VehYear_2005.0\n",
      "\n",
      "VehYear_2006.0\n",
      "\n",
      "VehYear_2007.0\n",
      "\n",
      "VehYear_2008.0\n",
      "\n",
      "VehYear_2009.0\n",
      "\n",
      "VehYear_2010.0\n",
      "\n",
      "VehYear_UNKNOWN_VALUE\n",
      "\n",
      "Make_acura\n",
      "\n",
      "Make_buick\n",
      "\n",
      "Make_cadillac\n",
      "\n",
      "Make_chevrolet\n",
      "\n",
      "Make_chrysler\n",
      "\n",
      "Make_dodge\n",
      "\n",
      "Make_ford\n",
      "\n",
      "Make_gmc\n",
      "\n",
      "Make_honda\n",
      "\n",
      "Make_hyundai\n",
      "\n",
      "Make_infiniti\n",
      "\n",
      "Make_isuzu\n",
      "\n",
      "Make_jeep\n",
      "\n",
      "Make_kia\n",
      "\n",
      "Make_lexus\n",
      "\n",
      "Make_lincoln\n",
      "\n",
      "Make_mazda\n",
      "\n",
      "Make_mercury\n",
      "\n",
      "Make_mini\n",
      "\n",
      "Make_mitsubishi\n",
      "\n",
      "Make_nissan\n",
      "\n",
      "Make_oldsmobile\n",
      "\n",
      "Make_pontiac\n",
      "\n",
      "Make_saturn\n",
      "\n",
      "Make_scion\n",
      "\n",
      "Make_subaru\n",
      "\n",
      "Make_suzuki\n",
      "\n",
      "Make_toyota\n",
      "\n",
      "Make_volkswagen\n",
      "\n",
      "Make_volvo\n",
      "\n",
      "Color_beige\n",
      "\n",
      "Color_black\n",
      "\n",
      "Color_blue\n",
      "\n",
      "Color_brown\n",
      "\n",
      "Color_gold\n",
      "\n",
      "Color_green\n",
      "\n",
      "Color_grey\n",
      "\n",
      "Color_maroon\n",
      "\n",
      "Color_not avail\n",
      "\n",
      "Color_orange\n",
      "\n",
      "Color_other\n",
      "\n",
      "Color_purple\n",
      "\n",
      "Color_red\n",
      "\n",
      "Color_silver\n",
      "\n",
      "Color_white\n",
      "\n",
      "Color_yellow\n",
      "\n",
      "Transmission_auto\n",
      "\n",
      "Transmission_manual\n",
      "\n",
      "WheelTypeID_0\n",
      "\n",
      "WheelTypeID_1\n",
      "\n",
      "WheelTypeID_2\n",
      "\n",
      "WheelTypeID_3\n",
      "\n",
      "WheelTypeID_?\n",
      "\n",
      "WheelType_?\n",
      "\n",
      "WheelType_alloy\n",
      "\n",
      "WheelType_covers\n",
      "\n",
      "WheelType_special\n",
      "\n",
      "Nationality_american\n",
      "\n",
      "Nationality_other\n",
      "\n",
      "Nationality_other asian\n",
      "\n",
      "Nationality_top line asian\n",
      "\n",
      "Size_compact\n",
      "\n",
      "Size_crossover\n",
      "\n",
      "Size_large\n",
      "\n",
      "Size_large suv\n",
      "\n",
      "Size_large truck\n",
      "\n",
      "Size_medium\n",
      "\n",
      "Size_medium suv\n",
      "\n",
      "Size_small suv\n",
      "\n",
      "Size_small truck\n",
      "\n",
      "Size_specialty\n",
      "\n",
      "Size_sports\n",
      "\n",
      "Size_van\n",
      "\n",
      "TopThreeAmericanName_chrysler\n",
      "\n",
      "TopThreeAmericanName_ford\n",
      "\n",
      "TopThreeAmericanName_gm\n",
      "\n",
      "TopThreeAmericanName_other\n",
      "\n",
      "PRIMEUNIT_?\n",
      "\n",
      "PRIMEUNIT_no\n",
      "\n",
      "PRIMEUNIT_yes\n",
      "\n",
      "PRIMEUNIT_NULL\n",
      "\n",
      "AUCGUART_?\n",
      "\n",
      "AUCGUART_green\n",
      "\n",
      "AUCGUART_red\n",
      "\n",
      "AUCGUART_NULL\n",
      "\n",
      "VNST_al\n",
      "\n",
      "VNST_az\n",
      "\n",
      "VNST_ca\n",
      "\n",
      "VNST_co\n",
      "\n",
      "VNST_fl\n",
      "\n",
      "VNST_ga\n",
      "\n",
      "VNST_id\n",
      "\n",
      "VNST_il\n",
      "\n",
      "VNST_in\n",
      "\n",
      "VNST_ky\n",
      "\n",
      "VNST_la\n",
      "\n",
      "VNST_mo\n",
      "\n",
      "VNST_ms\n",
      "\n",
      "VNST_nc\n",
      "\n",
      "VNST_ne\n",
      "\n",
      "VNST_nh\n",
      "\n",
      "VNST_nj\n",
      "\n",
      "VNST_nm\n",
      "\n",
      "VNST_nv\n",
      "\n",
      "VNST_ny\n",
      "\n",
      "VNST_oh\n",
      "\n",
      "VNST_ok\n",
      "\n",
      "VNST_or\n",
      "\n",
      "VNST_pa\n",
      "\n",
      "VNST_sc\n",
      "\n",
      "VNST_tn\n",
      "\n",
      "VNST_tx\n",
      "\n",
      "VNST_ut\n",
      "\n",
      "VNST_va\n",
      "\n",
      "VNST_wa\n",
      "\n",
      "VNST_wv\n",
      "\n",
      "VNST_NULL\n",
      "\n",
      "IsOnlineSale_-1.0\n",
      "\n",
      "IsOnlineSale_0.0\n",
      "\n",
      "IsOnlineSale_1.0\n",
      "\n",
      "ForSale_0\n",
      "\n",
      "ForSale_no\n",
      "\n",
      "ForSale_yes\n",
      "\n"
     ]
    }
   ],
   "source": [
    "# Change to the dummy \n",
    "feature_names_beforDummy = df.drop(\"IsBadBuy\", axis=1).columns\n",
    "\n",
    "df = pd.get_dummies(df)\n",
    "\n",
    "feature_names = df.drop(\"IsBadBuy\", axis=1).columns\n",
    "print(\"Num of Features:\", len(feature_names))\n",
    "print(\"\\n\\n\")\n",
    "print(\"The variables that included in the training: \")\n",
    "\n",
    "for name in feature_names:\n",
    "    print(str(name) + \"\\n\")"
   ]
  },
  {
   "cell_type": "code",
   "execution_count": 12,
   "metadata": {},
   "outputs": [
    {
     "data": {
      "text/plain": [
       "'\\nWe want to include all the features without droping the information that may be useful for the training.\\nSome columns are droped since they may not provide meaningful information for classifying the kicks, such as the ID, Date and TimeStamp.\\n'"
      ]
     },
     "execution_count": 12,
     "metadata": {},
     "output_type": "execute_result"
    }
   ],
   "source": [
    "# Ly\n",
    "\n",
    "'''\n",
    "We want to include all the features without droping the information that may be useful for the training.\n",
    "Some columns are droped since they may not provide meaningful information for classifying the kicks, such as the ID, Date and TimeStamp.\n",
    "'''\n",
    "\n",
    "\n",
    "# drop_cols = ['PurchaseID','PurchaseDate','PurchaseTimestamp']"
   ]
  },
  {
   "cell_type": "markdown",
   "metadata": {},
   "source": [
    "### 5. What distribution scheme did you use? What data partitioning allocation did you set? Explain your selection. "
   ]
  },
  {
   "cell_type": "code",
   "execution_count": 13,
   "metadata": {},
   "outputs": [
    {
     "data": {
      "text/plain": [
       "'\\nWe use stratify sampling for splitting the training and the test sets, which means the portion of kicks \\nin the training and test set will be the same as the original dataset. Moreover, in order to deal with the\\nimbalanced dataset, we use ROS and RUS to test the performance. However, we only apply ROS and RUS on the training\\ndataset since we want the test dataset can have the similar distribution to the real world cases.\\n'"
      ]
     },
     "execution_count": 13,
     "metadata": {},
     "output_type": "execute_result"
    }
   ],
   "source": [
    "# strafying sampling, randomOverSampling -> For training set\n",
    "\n",
    "'''\n",
    "We use stratify sampling for splitting the training and the test sets, which means the portion of kicks \n",
    "in the training and test set will be the same as the original dataset. Moreover, in order to deal with the\n",
    "imbalanced dataset, we use ROS and RUS to test the performance. However, we only apply ROS and RUS on the training\n",
    "dataset since we want the test dataset can have the similar distribution to the real world cases.\n",
    "'''"
   ]
  },
  {
   "cell_type": "code",
   "execution_count": 14,
   "metadata": {
    "scrolled": true
   },
   "outputs": [
    {
     "name": "stdout",
     "output_type": "stream",
     "text": [
      "Using ROS Resmapling\n"
     ]
    }
   ],
   "source": [
    "X_train, X_test, y_train, y_test = train_test_split(df.drop(\"IsBadBuy\", axis=1), df['IsBadBuy'], test_size=0.3, stratify=df['IsBadBuy'], random_state=rs)\n",
    "\n",
    "if ResamplingMethod == 'ros':\n",
    "    print(\"Using ROS Resmapling\")\n",
    "    ros = RandomOverSampler(random_state=rs)\n",
    "    X_train, y_train = ros.fit_resample(X_train, y_train)\n",
    "elif  ResamplingMethod == 'rus':\n",
    "    print(\"Using RUS Resmapling\")\n",
    "    rus = RandomUnderSampler(random_state=rs)\n",
    "    X_train, y_train = rus.fit_resample(X_train, y_train)\n",
    "else:\n",
    "    print(\"No Resampling Method Used\")"
   ]
  },
  {
   "cell_type": "code",
   "execution_count": 15,
   "metadata": {},
   "outputs": [
    {
     "name": "stdout",
     "output_type": "stream",
     "text": [
      "Number of Training:  50546\n",
      "Number of Test:  12443\n"
     ]
    }
   ],
   "source": [
    "print(\"Number of Training: \", len(X_train))\n",
    "print(\"Number of Test: \", len(X_test) )"
   ]
  },
  {
   "cell_type": "markdown",
   "metadata": {},
   "source": [
    "# Task 2. Predictive Modeling Using Decision Trees "
   ]
  },
  {
   "cell_type": "markdown",
   "metadata": {},
   "source": [
    "## 1. Python: Build a decision tree using the default setting. "
   ]
  },
  {
   "cell_type": "code",
   "execution_count": 16,
   "metadata": {},
   "outputs": [],
   "source": [
    "def printLRTopImportant(model, top = 5):\n",
    "    \n",
    "    coef = model.coef_[0]\n",
    "    indices = np.argsort(np.absolute(coef))\n",
    "    indices = np.flip(indices, axis=0)\n",
    "    indices = indices[:top]\n",
    "    for i in indices:\n",
    "        print(feature_names[i], ':', coef[i])\n",
    "\n",
    "def analyse_feature_importance(dm_model, feature_names, n_to_display=20):\n",
    "    # grab feature importances from the model\n",
    "    importances = dm_model.feature_importances_\n",
    "    \n",
    "    # sort them out in descending order\n",
    "    indices = np.argsort(importances)\n",
    "    indices = np.flip(indices, axis=0)\n",
    "\n",
    "    # limit to 20 features, you can leave this out to print out everything\n",
    "    indices = indices[:n_to_display]\n",
    "\n",
    "    for i in indices:\n",
    "        print(feature_names[i], ':', importances[i])\n",
    "\n",
    "def visualize_decision_tree(dm_model, feature_names, save_name):\n",
    "    dotfile = StringIO()\n",
    "    export_graphviz(dm_model, out_file=dotfile, feature_names=feature_names)\n",
    "    graph = pydot.graph_from_dot_data(dotfile.getvalue())\n",
    "    graph[0].write_png(save_name) # saved in the following file\n"
   ]
  },
  {
   "cell_type": "code",
   "execution_count": 17,
   "metadata": {},
   "outputs": [
    {
     "data": {
      "text/plain": [
       "DecisionTreeClassifier(class_weight=None, criterion='gini', max_depth=None,\n",
       "            max_features=None, max_leaf_nodes=None,\n",
       "            min_impurity_decrease=0.0, min_impurity_split=None,\n",
       "            min_samples_leaf=1, min_samples_split=2,\n",
       "            min_weight_fraction_leaf=0.0, presort=False, random_state=101,\n",
       "            splitter='best')"
      ]
     },
     "execution_count": 17,
     "metadata": {},
     "output_type": "execute_result"
    }
   ],
   "source": [
    "# simple decision tree training\n",
    "model = DecisionTreeClassifier(random_state=rs)\n",
    "model.fit(X_train, y_train)"
   ]
  },
  {
   "cell_type": "markdown",
   "metadata": {},
   "source": [
    "### a. What is the classification accuracy on training and test datasets?"
   ]
  },
  {
   "cell_type": "code",
   "execution_count": 18,
   "metadata": {},
   "outputs": [
    {
     "name": "stdout",
     "output_type": "stream",
     "text": [
      "Train accuracy: 0.9994856170616864\n",
      "Test accuracy: 0.8286586835972033\n",
      "              precision    recall  f1-score   support\n",
      "\n",
      "           0       0.91      0.90      0.90     10832\n",
      "           1       0.35      0.37      0.36      1611\n",
      "\n",
      "   micro avg       0.83      0.83      0.83     12443\n",
      "   macro avg       0.63      0.63      0.63     12443\n",
      "weighted avg       0.83      0.83      0.83     12443\n",
      "\n",
      "Confusion Matrix: \n",
      " [[9714 1118]\n",
      " [1014  597]]\n"
     ]
    }
   ],
   "source": [
    "print(\"Train accuracy:\", model.score(X_train, y_train))\n",
    "print(\"Test accuracy:\", model.score(X_test, y_test))\n",
    "y_pred = model.predict(X_test)\n",
    "print(classification_report(y_test, y_pred))\n",
    "print(\"Confusion Matrix: \\n\", confusion_matrix(y_test, y_pred)) ## Confusion Matrix on the TestSet"
   ]
  },
  {
   "cell_type": "markdown",
   "metadata": {},
   "source": [
    "### b. What is the size of tree (i.e. number of nodes)?"
   ]
  },
  {
   "cell_type": "code",
   "execution_count": 19,
   "metadata": {},
   "outputs": [
    {
     "name": "stdout",
     "output_type": "stream",
     "text": [
      "Number of nodes:  6703\n"
     ]
    }
   ],
   "source": [
    "print(\"Number of nodes: \", model.tree_.node_count)"
   ]
  },
  {
   "cell_type": "markdown",
   "metadata": {},
   "source": [
    "### c. How many leaves are in the tree that is selected based on the validation dataset?"
   ]
  },
  {
   "cell_type": "code",
   "execution_count": 20,
   "metadata": {},
   "outputs": [
    {
     "name": "stdout",
     "output_type": "stream",
     "text": [
      "The number of leaves is  3352\n"
     ]
    }
   ],
   "source": [
    "def calculate_num_leaves(dt):\n",
    "    n_nodes = dt.tree_.node_count\n",
    "    ll = dt.tree_.children_left\n",
    "    rl = dt.tree_.children_right\n",
    "    count = 0\n",
    "    for i in range(0,n_nodes):\n",
    "        if (ll[i] & rl[i]) == -1:\n",
    "            count = count + 1\n",
    "    return count\n",
    "print(\"The number of leaves is \",calculate_num_leaves(model));"
   ]
  },
  {
   "cell_type": "markdown",
   "metadata": {},
   "source": [
    "### d. Which variable is used for the first split? What are the competing splits for this first split? "
   ]
  },
  {
   "cell_type": "code",
   "execution_count": 21,
   "metadata": {},
   "outputs": [],
   "source": [
    "visualize_decision_tree(model, df.drop(\"IsBadBuy\", axis=1).columns, \"Tree_Struct.png\")"
   ]
  },
  {
   "cell_type": "markdown",
   "metadata": {},
   "source": [
    "### e. What are the 5 important variables in building the tree? "
   ]
  },
  {
   "cell_type": "code",
   "execution_count": 22,
   "metadata": {},
   "outputs": [
    {
     "name": "stdout",
     "output_type": "stream",
     "text": [
      "WheelTypeID_? : 0.13551426074337208\n",
      "MMRCurrentAuctionAveragePrice : 0.07916633374386034\n",
      "VehOdo : 0.06681157785792576\n",
      "VehBCost : 0.06493159964208899\n",
      "MMRCurrentRetailRatio : 0.06347311733157501\n"
     ]
    }
   ],
   "source": [
    "analyse_feature_importance(model, df.drop(\"IsBadBuy\", axis=1).columns, 5)"
   ]
  },
  {
   "cell_type": "markdown",
   "metadata": {},
   "source": [
    "### f. Report if you see any evidence of model overfitting. "
   ]
  },
  {
   "cell_type": "code",
   "execution_count": 23,
   "metadata": {},
   "outputs": [
    {
     "name": "stdout",
     "output_type": "stream",
     "text": [
      "Train accuracy: 0.9994856170616864\n",
      "Test accuracy: 0.8286586835972033\n"
     ]
    }
   ],
   "source": [
    "## Discuss the measurement of overfitting\n",
    "print(\"Train accuracy:\", model.score(X_train, y_train))\n",
    "print(\"Test accuracy:\", model.score(X_test, y_test))"
   ]
  },
  {
   "cell_type": "markdown",
   "metadata": {},
   "source": [
    "Since the accuracy on the training set is much larger than the test set, it may has the overfitting problem. # LY, pls modify this"
   ]
  },
  {
   "cell_type": "markdown",
   "metadata": {},
   "source": [
    "### g. Did changing the default setting (i.e., only focus on changing the setting of the number of splits to create a node) help improving the model? Answer the above questions on the best performing tree."
   ]
  },
  {
   "cell_type": "code",
   "execution_count": 24,
   "metadata": {},
   "outputs": [
    {
     "data": {
      "text/plain": [
       "<matplotlib.legend.Legend at 0x7f4985b78630>"
      ]
     },
     "execution_count": 24,
     "metadata": {},
     "output_type": "execute_result"
    },
    {
     "data": {
      "image/png": "[encoded data removed]",
      "text/plain": [
       "<Figure size 1440x720 with 1 Axes>"
      ]
     },
     "metadata": {
      "needs_background": "light"
     },
     "output_type": "display_data"
    }
   ],
   "source": [
    "### One tuning on one paramete\n",
    "'''\n",
    "The parameter choose is the max_depth\n",
    "'''\n",
    "\n",
    "model_accuracies = defaultdict(list)\n",
    "\n",
    "test_range = list(range(2, 200))\n",
    "for min_samp in test_range:\n",
    "    model = DecisionTreeClassifier(random_state=rs, min_samples_split = min_samp)\n",
    "    model.fit(X_train, y_train)\n",
    "    model_accuracies['Train'].append(model.score(X_train, y_train))\n",
    "    model_accuracies['Test'].append(model.score(X_test, y_test))\n",
    "\n",
    "plt.figure(figsize=(20,10))\n",
    "for key in model_accuracies.keys():\n",
    "    plt.plot(model_accuracies[key], label=key)\n",
    "plt.ylabel('Accuracy',fontsize=15)\n",
    "plt.xlabel('min_sample_split',fontsize=15)\n",
    "plt.legend(loc='upper right')"
   ]
  },
  {
   "cell_type": "markdown",
   "metadata": {},
   "source": [
    "## 2. Python: Build another decision tree tuned with GridSearchCV"
   ]
  },
  {
   "cell_type": "code",
   "execution_count": 25,
   "metadata": {
    "scrolled": true
   },
   "outputs": [
    {
     "data": {
      "text/plain": [
       "GridSearchCV(cv=3, error_score='raise-deprecating',\n",
       "       estimator=DecisionTreeClassifier(class_weight=None, criterion='gini', max_depth=None,\n",
       "            max_features=None, max_leaf_nodes=None,\n",
       "            min_impurity_decrease=0.0, min_impurity_split=None,\n",
       "            min_samples_leaf=1, min_samples_split=2,\n",
       "            min_weight_fraction_leaf=0.0, presort=False, random_state=101,\n",
       "            splitter='best'),\n",
       "       fit_params=None, iid='warn', n_jobs=None,\n",
       "       param_grid={'criterion': ['gini', 'entropy'], 'max_depth': [1, 51, 101, 151, 201, 251, 301, 351, 401, 451], 'splitter': ['best', 'random'], 'min_samples_leaf': range(1, 4), 'min_samples_split': [2, 50, 100, 150], 'max_features': ['auto', 'sqrt', 'log2', None], 'class_weight': ['balanced', None]},\n",
       "       pre_dispatch='2*n_jobs', refit=True, return_train_score='warn',\n",
       "       scoring=None, verbose=0)"
      ]
     },
     "execution_count": 25,
     "metadata": {},
     "output_type": "execute_result"
    }
   ],
   "source": [
    "# grid search CV\n",
    "params = {'criterion': ['gini', 'entropy'],\n",
    "          'max_depth': list(range(1, 500, 50)),\n",
    "          'splitter': ['best', 'random'],\n",
    "          'min_samples_leaf': range(1,  4),\n",
    "          'min_samples_split': [2, 50, 100, 150],\n",
    "          'max_features':['auto','sqrt','log2', None],\n",
    "          'class_weight':['balanced', None]\n",
    "         }\n",
    "\n",
    "cv = GridSearchCV(param_grid=params, estimator=DecisionTreeClassifier(random_state=rs), cv=3)\n",
    "cv.fit(X_train, y_train)"
   ]
  },
  {
   "cell_type": "markdown",
   "metadata": {},
   "source": [
    "### a. What is the classification accuracy on training and test datasets?"
   ]
  },
  {
   "cell_type": "code",
   "execution_count": 26,
   "metadata": {},
   "outputs": [
    {
     "name": "stdout",
     "output_type": "stream",
     "text": [
      "Train accuracy: 0.9994856170616864\n",
      "Test accuracy: 0.8236759623884915\n",
      "              precision    recall  f1-score   support\n",
      "\n",
      "           0       0.90      0.90      0.90     10832\n",
      "           1       0.32      0.32      0.32      1611\n",
      "\n",
      "   micro avg       0.82      0.82      0.82     12443\n",
      "   macro avg       0.61      0.61      0.61     12443\n",
      "weighted avg       0.82      0.82      0.82     12443\n",
      "\n",
      "Confusion Matrix: \n",
      " [[9729 1103]\n",
      " [1091  520]]\n"
     ]
    }
   ],
   "source": [
    "print(\"Train accuracy:\", cv.score(X_train, y_train))\n",
    "print(\"Test accuracy:\", cv.score(X_test, y_test))\n",
    "\n",
    "# test the best model\n",
    "y_pred = cv.predict(X_test)\n",
    "print(classification_report(y_test, y_pred))\n",
    "# print the confusion matrix\n",
    "print(\"Confusion Matrix: \\n\", confusion_matrix(y_test, y_pred)) ## Confusion Matrix on the TestSet\n",
    "\n",
    "dt_model = cv.best_estimator_"
   ]
  },
  {
   "cell_type": "markdown",
   "metadata": {},
   "source": [
    "### b. What is the size of tree (i.e. number of nodes)? Is the size different from the maximal tree or the tree in the previous step? Why?"
   ]
  },
  {
   "cell_type": "code",
   "execution_count": 27,
   "metadata": {},
   "outputs": [
    {
     "name": "stdout",
     "output_type": "stream",
     "text": [
      "Number of nodes:  13743\n"
     ]
    }
   ],
   "source": [
    "print(\"Number of nodes: \", cv.best_estimator_.tree_.node_count)"
   ]
  },
  {
   "cell_type": "markdown",
   "metadata": {},
   "source": [
    "### c. How many leaves are in the tree that is selected based on the validation dataset?"
   ]
  },
  {
   "cell_type": "code",
   "execution_count": 28,
   "metadata": {},
   "outputs": [
    {
     "name": "stdout",
     "output_type": "stream",
     "text": [
      "The number of leaves is  6872\n"
     ]
    }
   ],
   "source": [
    "print(\"The number of leaves is \",calculate_num_leaves(dt_model));"
   ]
  },
  {
   "cell_type": "markdown",
   "metadata": {},
   "source": [
    "### d. Which variable is used for the first split? What are the competing splits for this first split? "
   ]
  },
  {
   "cell_type": "code",
   "execution_count": 29,
   "metadata": {},
   "outputs": [
    {
     "name": "stdout",
     "output_type": "stream",
     "text": [
      "WheelType_? : 0.10196726739090486\n",
      "The competing splits for the first split is:  0.5\n"
     ]
    }
   ],
   "source": [
    "analyse_feature_importance(cv.best_estimator_, feature_names, 1)\n",
    "print(\"The competing splits for the first split is: \", model.tree_.threshold[0])"
   ]
  },
  {
   "cell_type": "code",
   "execution_count": 30,
   "metadata": {},
   "outputs": [],
   "source": [
    "visualize_decision_tree(cv.best_estimator_, df.drop(\"IsBadBuy\", axis=1).columns, \"Tree_Struct_CV.png\")"
   ]
  },
  {
   "cell_type": "markdown",
   "metadata": {},
   "source": [
    "### e. What are the 5 important variables in building the tree? "
   ]
  },
  {
   "cell_type": "code",
   "execution_count": 31,
   "metadata": {},
   "outputs": [
    {
     "name": "stdout",
     "output_type": "stream",
     "text": [
      "WheelType_? : 0.10196726739090486\n",
      "VehBCost : 0.07747480575066952\n",
      "VehOdo : 0.04975026240861232\n",
      "MMRAcquisitionAuctionCleanPrice : 0.04953950838542224\n",
      "MMRCurrentAuctionAveragePrice : 0.04898870588447332\n"
     ]
    }
   ],
   "source": [
    "analyse_feature_importance(cv.best_estimator_, df.drop(\"IsBadBuy\", axis=1).columns, 5)"
   ]
  },
  {
   "cell_type": "markdown",
   "metadata": {},
   "source": [
    "### f. Report if you see any evidence of model overfitting. "
   ]
  },
  {
   "cell_type": "code",
   "execution_count": 32,
   "metadata": {},
   "outputs": [
    {
     "name": "stdout",
     "output_type": "stream",
     "text": [
      "Train accuracy: 0.9994856170616864\n",
      "Test accuracy: 0.8236759623884915\n"
     ]
    }
   ],
   "source": [
    "print(\"Train accuracy:\", cv.score(X_train, y_train))\n",
    "print(\"Test accuracy:\", cv.score(X_test, y_test))"
   ]
  },
  {
   "cell_type": "markdown",
   "metadata": {},
   "source": [
    "Since the accuracy on the training set is much larger than the test set, it may has the overfitting problem. # Ly pls modify this"
   ]
  },
  {
   "cell_type": "markdown",
   "metadata": {},
   "source": [
    "### g. What are the parameters used? Explain your choices."
   ]
  },
  {
   "cell_type": "code",
   "execution_count": 33,
   "metadata": {},
   "outputs": [
    {
     "name": "stdout",
     "output_type": "stream",
     "text": [
      "The best params of DT:  {'class_weight': 'balanced', 'criterion': 'gini', 'max_depth': 101, 'max_features': 'log2', 'min_samples_leaf': 1, 'min_samples_split': 2, 'splitter': 'best'}\n"
     ]
    }
   ],
   "source": [
    "print(\"The best params of DT: \", cv.best_params_)"
   ]
  },
  {
   "cell_type": "markdown",
   "metadata": {},
   "source": [
    "## 3. What is the significant difference do you see between these two decision tree models (steps 2.1 & 2.2)? How do they compare performance-wise? Explain why those changes may have happened. "
   ]
  },
  {
   "cell_type": "code",
   "execution_count": 34,
   "metadata": {},
   "outputs": [
    {
     "name": "stdout",
     "output_type": "stream",
     "text": [
      "Defualt Model: \n",
      "\n",
      "Train accuracy: 0.8110631899655759\n",
      "Test accuracy: 0.7385678694848509\n",
      "Classification report: \n",
      "               precision    recall  f1-score   support\n",
      "\n",
      "           0       0.92      0.77      0.84     10832\n",
      "           1       0.25      0.52      0.34      1611\n",
      "\n",
      "   micro avg       0.74      0.74      0.74     12443\n",
      "   macro avg       0.58      0.65      0.59     12443\n",
      "weighted avg       0.83      0.74      0.77     12443\n",
      "\n",
      "Confusion Matrix: \n",
      " [[8351 2481]\n",
      " [ 772  839]]\n",
      "\n",
      "\n",
      "\n",
      "GridSearch Model: \n",
      "\n",
      "Train accuracy: 0.9994856170616864\n",
      "Test accuracy: 0.8236759623884915\n",
      "Classification report: \n",
      "               precision    recall  f1-score   support\n",
      "\n",
      "           0       0.90      0.90      0.90     10832\n",
      "           1       0.32      0.32      0.32      1611\n",
      "\n",
      "   micro avg       0.82      0.82      0.82     12443\n",
      "   macro avg       0.61      0.61      0.61     12443\n",
      "weighted avg       0.82      0.82      0.82     12443\n",
      "\n",
      "Confusion Matrix: \n",
      " [[9729 1103]\n",
      " [1091  520]]\n"
     ]
    },
    {
     "data": {
      "text/plain": [
       "'\\n\\nFrom the classification report and the confusion matrix\\n\\n'"
      ]
     },
     "execution_count": 34,
     "metadata": {},
     "output_type": "execute_result"
    }
   ],
   "source": [
    "print(\"Defualt Model: \\n\")\n",
    "print(\"Train accuracy:\", model.score(X_train, y_train))\n",
    "print(\"Test accuracy:\", model.score(X_test, y_test))\n",
    "y_pred = model.predict(X_test)\n",
    "print(\"Classification report: \\n\", classification_report(y_test, y_pred))\n",
    "print(\"Confusion Matrix: \\n\", confusion_matrix(y_test, y_pred)) ## Confusion Matrix on the TestSet\n",
    "\n",
    "print(\"\\n\\n\")\n",
    "\n",
    "print(\"GridSearch Model: \\n\")\n",
    "print(\"Train accuracy:\", cv.score(X_train, y_train))\n",
    "print(\"Test accuracy:\", cv.score(X_test, y_test))\n",
    "y_pred = cv.predict(X_test)\n",
    "print(\"Classification report: \\n\",classification_report(y_test, y_pred))\n",
    "print(\"Confusion Matrix: \\n\", confusion_matrix(y_test, y_pred)) ## Confusion Matrix on the TestSet\n",
    "\n",
    "'''\n",
    "\n",
    "From the classification report and the confusion matrix\n",
    "\n",
    "'''\n",
    "\n",
    "\n",
    "### And anaylse the different from the classification report and the best params"
   ]
  },
  {
   "cell_type": "markdown",
   "metadata": {},
   "source": [
    "## 4. From the better model, can you identify which cars could potential be “kicks”? Can you provide some descriptive summary of those cars?"
   ]
  },
  {
   "cell_type": "code",
   "execution_count": 35,
   "metadata": {},
   "outputs": [
    {
     "data": {
      "text/plain": [
       "'\\nprint out all the classified kicks, from y_test to take the x_test out \\n-> check the length and add the name of features to the value(feature_names).\\n'"
      ]
     },
     "execution_count": 35,
     "metadata": {},
     "output_type": "execute_result"
    }
   ],
   "source": [
    "'''\n",
    "print out all the classified kicks, from y_test to take the x_test out \n",
    "-> check the length and add the name of features to the value(feature_names).\n",
    "'''"
   ]
  },
  {
   "cell_type": "markdown",
   "metadata": {},
   "source": [
    "# Task 3. Predictive Modeling Using Regression"
   ]
  },
  {
   "cell_type": "markdown",
   "metadata": {},
   "source": [
    "## 1. In preparation for regression, is any imputation of missing values needed for this data set? List the variables that needed this."
   ]
  },
  {
   "cell_type": "code",
   "execution_count": 36,
   "metadata": {},
   "outputs": [
    {
     "name": "stdout",
     "output_type": "stream",
     "text": [
      "The Columns apply Imputation: \n",
      " ['Auction', 'VehYear', 'Make', 'Color', 'Transmission', 'WheelTypeID', 'WheelType', 'VehOdo', 'Nationality', 'Size', 'TopThreeAmericanName', 'MMRAcquisitionAuctionAveragePrice', 'MMRAcquisitionAuctionCleanPrice', 'MMRAcquisitionRetailAveragePrice', 'MMRAcquisitonRetailCleanPrice', 'MMRCurrentAuctionAveragePrice', 'MMRCurrentAuctionCleanPrice', 'MMRCurrentRetailAveragePrice', 'MMRCurrentRetailCleanPrice', 'MMRCurrentRetailRatio', 'PRIMEUNIT', 'AUCGUART', 'VNST', 'VehBCost', 'IsOnlineSale', 'WarrantyCost', 'ForSale']\n"
     ]
    }
   ],
   "source": [
    "'''\n",
    "We apply imputation on all of the columns except the dropped columns\n",
    "'''\n",
    "\n",
    "print(\"The Columns apply Imputation: \\n\", list(feature_names_beforDummy))"
   ]
  },
  {
   "cell_type": "markdown",
   "metadata": {},
   "source": [
    "## 2. Apply transformation method(s) to the variable(s) that need it. List the variables that needed it"
   ]
  },
  {
   "cell_type": "code",
   "execution_count": 37,
   "metadata": {},
   "outputs": [
    {
     "name": "stdout",
     "output_type": "stream",
     "text": [
      "Using ROS Resmapling\n"
     ]
    }
   ],
   "source": [
    "## Doing the log transformation\n",
    "\n",
    "\n",
    "### Q: It's enoguh?\n",
    "columns_to_transform = interval_cols\n",
    "\n",
    "def logTransformation(df):\n",
    "    \n",
    "    df_log = df.copy()\n",
    "\n",
    "    \n",
    "    for col in columns_to_transform:\n",
    "        df_log[col] = df_log[col].apply(lambda x: x+1)\n",
    "        df_log[col] = df_log[col].apply(np.log)\n",
    "        \n",
    "        \n",
    "    return df_log\n",
    "\n",
    "df_log = logTransformation(df)\n",
    "X_train_log, X_test_log, y_train_log, y_test_log = train_test_split(df_log.drop(['IsBadBuy'], axis=1), df_log['IsBadBuy'], test_size=0.3, stratify=df_log['IsBadBuy']\n",
    ",random_state=rs)\n",
    "\n",
    "\n",
    "if ResamplingMethod == 'ros':\n",
    "    print(\"Using ROS Resmapling\")\n",
    "    ros = RandomOverSampler(random_state=rs)\n",
    "    X_train_log, y_train_log = ros.fit_resample(X_train_log, y_train_log)\n",
    "elif  ResamplingMethod == 'rus':\n",
    "    print(\"Using RUS Resmapling\")\n",
    "    rus = RandomUnderSampler(random_state=rs)\n",
    "    X_train_log, y_train_log = rus.fit_resample(X_train_log, y_train_log)\n",
    "else:\n",
    "    print(\"No Resampling Method Used\")\n",
    "\n",
    "\n",
    "\n",
    "# Standardise\n",
    "scaler_log = StandardScaler()\n",
    "X_train_log = scaler_log.fit_transform(X_train_log, y_train_log)\n",
    "X_test_log = scaler_log.transform(X_test_log)\n"
   ]
  },
  {
   "cell_type": "markdown",
   "metadata": {},
   "source": [
    "## 3. Build a regression model using the default regression method with all inputs. Once you done it, build another one and tune it using GridSearchCV. Answer the followings:"
   ]
  },
  {
   "cell_type": "code",
   "execution_count": 38,
   "metadata": {},
   "outputs": [
    {
     "data": {
      "text/plain": [
       "LogisticRegression(C=1.0, class_weight=None, dual=False, fit_intercept=True,\n",
       "          intercept_scaling=1, max_iter=100, multi_class='warn',\n",
       "          n_jobs=None, penalty='l2', random_state=101, solver='warn',\n",
       "          tol=0.0001, verbose=0, warm_start=False)"
      ]
     },
     "execution_count": 38,
     "metadata": {},
     "output_type": "execute_result"
    }
   ],
   "source": [
    "### Traing Logistic Regression\n",
    "model = LogisticRegression(random_state=rs)\n",
    "model.fit(X_train_log, y_train_log)"
   ]
  },
  {
   "cell_type": "code",
   "execution_count": 39,
   "metadata": {},
   "outputs": [
    {
     "data": {
      "text/plain": [
       "GridSearchCV(cv=3, error_score='raise-deprecating',\n",
       "       estimator=LogisticRegression(C=1.0, class_weight=None, dual=False, fit_intercept=True,\n",
       "          intercept_scaling=1, max_iter=100, multi_class='warn',\n",
       "          n_jobs=None, penalty='l2', random_state=101, solver='warn',\n",
       "          tol=0.0001, verbose=0, warm_start=False),\n",
       "       fit_params=None, iid='warn', n_jobs=-1,\n",
       "       param_grid={'C': [0.0001, 0.001, 0.01, 0.1, 1], 'solver': ['newton-cg', 'lbfgs', 'liblinear', 'sag', 'saga'], 'max_iter': [30, 50, 100], 'warm_start': [True, False], 'class_weight': ['balanced', None]},\n",
       "       pre_dispatch='2*n_jobs', refit=True, return_train_score='warn',\n",
       "       scoring=None, verbose=0)"
      ]
     },
     "execution_count": 39,
     "metadata": {},
     "output_type": "execute_result"
    }
   ],
   "source": [
    "## GridSearch for Logistic Regression\n",
    "params = {\n",
    "    'C': [pow(10, x) for x in range(-4, 1)],\n",
    "    'solver' : ['newton-cg',\"lbfgs\", \"liblinear\", \"sag\", \"saga\"],\n",
    "    'max_iter': [30, 50, 100],\n",
    "    'warm_start': [True, False],\n",
    "    'class_weight':['balanced', None]\n",
    "}\n",
    "\n",
    "cv = GridSearchCV(param_grid=params, estimator=LogisticRegression(random_state=rs), cv=3, n_jobs=-1)\n",
    "cv.fit(X_train_log, y_train_log)"
   ]
  },
  {
   "cell_type": "markdown",
   "metadata": {},
   "source": [
    "### h. Name the regression function used."
   ]
  },
  {
   "cell_type": "code",
   "execution_count": 40,
   "metadata": {},
   "outputs": [
    {
     "data": {
      "text/plain": [
       "'\\nThe regression function use the sigmoid function as the activation function at output layer.\\n'"
      ]
     },
     "execution_count": 40,
     "metadata": {},
     "output_type": "execute_result"
    }
   ],
   "source": [
    "'''\n",
    "The regression function use the sigmoid function as the activation function at output layer.\n",
    "'''"
   ]
  },
  {
   "cell_type": "markdown",
   "metadata": {},
   "source": [
    "### i. How much was the difference in performance of two models build, default and optimal?"
   ]
  },
  {
   "cell_type": "code",
   "execution_count": 41,
   "metadata": {},
   "outputs": [
    {
     "name": "stdout",
     "output_type": "stream",
     "text": [
      "Train accuracy: 0.6998773394531713\n",
      "Test accuracy: 0.7560877601864502\n",
      "GridSearch Train accuracy: 0.7009456732481304\n",
      "GridSearch Test accuracy: 0.7552840954753677\n"
     ]
    }
   ],
   "source": [
    "print(\"Train accuracy:\", model.score(X_train_log, y_train_log))\n",
    "print(\"Test accuracy:\", model.score(X_test_log, y_test_log))\n",
    "print(\"GridSearch Train accuracy:\", cv.score(X_train_log, y_train_log))\n",
    "print(\"GridSearch Test accuracy:\", cv.score(X_test_log, y_test_log))"
   ]
  },
  {
   "cell_type": "markdown",
   "metadata": {},
   "source": [
    "### j. Show the set parameters for the best model. What are the parameters used? Explain your decision. What are the optimal parameters?"
   ]
  },
  {
   "cell_type": "code",
   "execution_count": 42,
   "metadata": {},
   "outputs": [
    {
     "name": "stdout",
     "output_type": "stream",
     "text": [
      "The best model parameters:  {'C': 1, 'class_weight': 'balanced', 'max_iter': 30, 'solver': 'lbfgs', 'warm_start': True}\n"
     ]
    }
   ],
   "source": [
    "print(\"The best model parameters: \", cv.best_params_)"
   ]
  },
  {
   "cell_type": "markdown",
   "metadata": {},
   "source": [
    "### k. Report which variables are included in the regression model."
   ]
  },
  {
   "cell_type": "code",
   "execution_count": 43,
   "metadata": {},
   "outputs": [
    {
     "name": "stdout",
     "output_type": "stream",
     "text": [
      "Features used: \n",
      "\n",
      "VehOdo, \n",
      "MMRAcquisitionAuctionAveragePrice, \n",
      "MMRAcquisitionAuctionCleanPrice, \n",
      "MMRAcquisitionRetailAveragePrice, \n",
      "MMRAcquisitonRetailCleanPrice, \n",
      "MMRCurrentAuctionAveragePrice, \n",
      "MMRCurrentAuctionCleanPrice, \n",
      "MMRCurrentRetailAveragePrice, \n",
      "MMRCurrentRetailCleanPrice, \n",
      "MMRCurrentRetailRatio, \n",
      "VehBCost, \n",
      "WarrantyCost, \n",
      "Auction_adesa, \n",
      "Auction_manheim, \n",
      "Auction_other, \n",
      "VehYear_2001.0, \n",
      "VehYear_2002.0, \n",
      "VehYear_2003.0, \n",
      "VehYear_2004.0, \n",
      "VehYear_2005.0, \n",
      "VehYear_2006.0, \n",
      "VehYear_2007.0, \n",
      "VehYear_2008.0, \n",
      "VehYear_2009.0, \n",
      "VehYear_2010.0, \n",
      "VehYear_UNKNOWN_VALUE, \n",
      "Make_acura, \n",
      "Make_buick, \n",
      "Make_cadillac, \n",
      "Make_chevrolet, \n",
      "Make_chrysler, \n",
      "Make_dodge, \n",
      "Make_ford, \n",
      "Make_gmc, \n",
      "Make_honda, \n",
      "Make_hyundai, \n",
      "Make_infiniti, \n",
      "Make_isuzu, \n",
      "Make_jeep, \n",
      "Make_kia, \n",
      "Make_lexus, \n",
      "Make_lincoln, \n",
      "Make_mazda, \n",
      "Make_mercury, \n",
      "Make_mini, \n",
      "Make_mitsubishi, \n",
      "Make_nissan, \n",
      "Make_oldsmobile, \n",
      "Make_pontiac, \n",
      "Make_saturn, \n",
      "Make_scion, \n",
      "Make_subaru, \n",
      "Make_suzuki, \n",
      "Make_toyota, \n",
      "Make_volkswagen, \n",
      "Make_volvo, \n",
      "Color_beige, \n",
      "Color_black, \n",
      "Color_blue, \n",
      "Color_brown, \n",
      "Color_gold, \n",
      "Color_green, \n",
      "Color_grey, \n",
      "Color_maroon, \n",
      "Color_not avail, \n",
      "Color_orange, \n",
      "Color_other, \n",
      "Color_purple, \n",
      "Color_red, \n",
      "Color_silver, \n",
      "Color_white, \n",
      "Color_yellow, \n",
      "Transmission_auto, \n",
      "Transmission_manual, \n",
      "WheelTypeID_0, \n",
      "WheelTypeID_1, \n",
      "WheelTypeID_2, \n",
      "WheelTypeID_3, \n",
      "WheelTypeID_?, \n",
      "WheelType_?, \n",
      "WheelType_alloy, \n",
      "WheelType_covers, \n",
      "WheelType_special, \n",
      "Nationality_american, \n",
      "Nationality_other, \n",
      "Nationality_other asian, \n",
      "Nationality_top line asian, \n",
      "Size_compact, \n",
      "Size_crossover, \n",
      "Size_large, \n",
      "Size_large suv, \n",
      "Size_large truck, \n",
      "Size_medium, \n",
      "Size_medium suv, \n",
      "Size_small suv, \n",
      "Size_small truck, \n",
      "Size_specialty, \n",
      "Size_sports, \n",
      "Size_van, \n",
      "TopThreeAmericanName_chrysler, \n",
      "TopThreeAmericanName_ford, \n",
      "TopThreeAmericanName_gm, \n",
      "TopThreeAmericanName_other, \n",
      "PRIMEUNIT_?, \n",
      "PRIMEUNIT_no, \n",
      "PRIMEUNIT_yes, \n",
      "PRIMEUNIT_NULL, \n",
      "AUCGUART_?, \n",
      "AUCGUART_green, \n",
      "AUCGUART_red, \n",
      "AUCGUART_NULL, \n",
      "VNST_al, \n",
      "VNST_az, \n",
      "VNST_ca, \n",
      "VNST_co, \n",
      "VNST_fl, \n",
      "VNST_ga, \n",
      "VNST_id, \n",
      "VNST_il, \n",
      "VNST_in, \n",
      "VNST_ky, \n",
      "VNST_la, \n",
      "VNST_mo, \n",
      "VNST_ms, \n",
      "VNST_nc, \n",
      "VNST_ne, \n",
      "VNST_nh, \n",
      "VNST_nj, \n",
      "VNST_nm, \n",
      "VNST_nv, \n",
      "VNST_ny, \n",
      "VNST_oh, \n",
      "VNST_ok, \n",
      "VNST_or, \n",
      "VNST_pa, \n",
      "VNST_sc, \n",
      "VNST_tn, \n",
      "VNST_tx, \n",
      "VNST_ut, \n",
      "VNST_va, \n",
      "VNST_wa, \n",
      "VNST_wv, \n",
      "VNST_NULL, \n",
      "IsOnlineSale_-1.0, \n",
      "IsOnlineSale_0.0, \n",
      "IsOnlineSale_1.0, \n",
      "ForSale_0, \n",
      "ForSale_no, \n",
      "ForSale_yes, \n"
     ]
    }
   ],
   "source": [
    "# Print all features\n",
    "print(\"Features used: \\n\")\n",
    "\n",
    "for name in feature_names:\n",
    "    print( name +\", \")"
   ]
  },
  {
   "cell_type": "markdown",
   "metadata": {},
   "source": [
    "### l. Report the top-5 important variables (in the order) in the model."
   ]
  },
  {
   "cell_type": "code",
   "execution_count": 44,
   "metadata": {},
   "outputs": [],
   "source": [
    "def printLRTopImportant(model, top = 5):\n",
    "    coef = model.coef_[0]\n",
    "    indices = np.argsort(np.absolute(coef))\n",
    "    indices = np.flip(indices, axis=0)\n",
    "    indices = indices[:top]\n",
    "    for i in indices:\n",
    "        print(feature_names[i], ':', coef[i])"
   ]
  },
  {
   "cell_type": "code",
   "execution_count": 45,
   "metadata": {},
   "outputs": [
    {
     "name": "stdout",
     "output_type": "stream",
     "text": [
      "MMRAcquisitionAuctionAveragePrice : -1.8301352716819697\n",
      "MMRAcquisitionRetailAveragePrice : 1.556335135697774\n",
      "MMRCurrentRetailCleanPrice : -1.1608985500248494\n",
      "WheelTypeID_? : 0.7647388496623555\n",
      "MMRCurrentAuctionAveragePrice : 0.7090035140103588\n"
     ]
    }
   ],
   "source": [
    "printLRTopImportant(model, 5)"
   ]
  },
  {
   "cell_type": "markdown",
   "metadata": {},
   "source": [
    "### m. What is classification accuracy on training and test datasets?"
   ]
  },
  {
   "cell_type": "code",
   "execution_count": 46,
   "metadata": {},
   "outputs": [
    {
     "name": "stdout",
     "output_type": "stream",
     "text": [
      "Classification Report: \n",
      "\n",
      "               precision    recall  f1-score   support\n",
      "\n",
      "           0       0.93      0.78      0.85     10832\n",
      "           1       0.29      0.61      0.39      1611\n",
      "\n",
      "   micro avg       0.76      0.76      0.76     12443\n",
      "   macro avg       0.61      0.69      0.62     12443\n",
      "weighted avg       0.85      0.76      0.79     12443\n",
      "\n",
      "Default Model Confusion Matrix: \n",
      " [[8430 2402]\n",
      " [ 633  978]]\n",
      "GridSearch Classification Report: \n",
      "\n",
      "               precision    recall  f1-score   support\n",
      "\n",
      "           0       0.93      0.78      0.85     10832\n",
      "           1       0.29      0.61      0.39      1611\n",
      "\n",
      "   micro avg       0.76      0.76      0.76     12443\n",
      "   macro avg       0.61      0.69      0.62     12443\n",
      "weighted avg       0.85      0.76      0.79     12443\n",
      "\n",
      "GridSearch Confusion Matrix:\n",
      "  [[8422 2410]\n",
      " [ 635  976]]\n"
     ]
    }
   ],
   "source": [
    "y_pred = model.predict(X_test_log)\n",
    "print(\"Classification Report: \\n\\n\",classification_report(y_test_log, y_pred))\n",
    "print(\"Default Model Confusion Matrix: \\n\", confusion_matrix(y_test, y_pred))\n",
    "\n",
    "y_pred = cv.predict(X_test_log)\n",
    "print(\"GridSearch Classification Report: \\n\\n\",classification_report(y_test_log, y_pred))\n",
    "print(\"GridSearch Confusion Matrix:\\n \", confusion_matrix(y_test, y_pred))\n",
    "log_reg_model = cv.best_estimator_"
   ]
  },
  {
   "cell_type": "markdown",
   "metadata": {},
   "source": [
    "### n. Report any sign of overfitting."
   ]
  },
  {
   "cell_type": "code",
   "execution_count": 47,
   "metadata": {},
   "outputs": [
    {
     "name": "stdout",
     "output_type": "stream",
     "text": [
      "GridSearch Train accuracy: 0.7009456732481304\n",
      "GridSearch Test accuracy: 0.7552840954753677\n"
     ]
    }
   ],
   "source": [
    "print(\"GridSearch Train accuracy:\", cv.score(X_train_log, y_train_log))\n",
    "print(\"GridSearch Test accuracy:\", cv.score(X_test_log, y_test_log))"
   ]
  },
  {
   "cell_type": "code",
   "execution_count": 48,
   "metadata": {},
   "outputs": [
    {
     "data": {
      "text/plain": [
       "\"\\nAccording to the training and test accuracy, the overfitting doesn't occur.\\n\""
      ]
     },
     "execution_count": 48,
     "metadata": {},
     "output_type": "execute_result"
    }
   ],
   "source": [
    "'''\n",
    "According to the training and test accuracy, the overfitting doesn't occur.\n",
    "'''"
   ]
  },
  {
   "cell_type": "markdown",
   "metadata": {},
   "source": [
    "## 4. Build another regression model using the subset of inputs selected by RFE and selection by model method. Answer the followings:"
   ]
  },
  {
   "cell_type": "code",
   "execution_count": 49,
   "metadata": {
    "scrolled": true
   },
   "outputs": [],
   "source": [
    "rfe = RFECV(estimator = LogisticRegression(random_state=rs), cv=3)\n",
    "rfe.fit(X_train_log, y_train_log)\n",
    "X_train_rfe = rfe.transform(X_train_log)\n",
    "X_test_rfe = rfe.transform(X_test_log)\n",
    "\n",
    "selectmodel = SelectFromModel(dt_model, prefit=True)\n",
    "X_train_sel_model = selectmodel.transform(X_train_log)\n",
    "X_test_sel_model = selectmodel.transform(X_test_log)"
   ]
  },
  {
   "cell_type": "markdown",
   "metadata": {},
   "source": [
    "### a. Report which variables are included in the regression model."
   ]
  },
  {
   "cell_type": "code",
   "execution_count": 50,
   "metadata": {},
   "outputs": [
    {
     "name": "stdout",
     "output_type": "stream",
     "text": [
      "Original feature set 149\n",
      "Number of RFE-selected features:  126\n",
      "Number of selectFromModel features:  24\n"
     ]
    }
   ],
   "source": [
    "print(\"Original feature set\", X_train.shape[1])\n",
    "print(\"Number of RFE-selected features: \", rfe.n_features_)\n",
    "print(\"Number of selectFromModel features: \",  X_train_sel_model.shape[1])"
   ]
  },
  {
   "cell_type": "code",
   "execution_count": 51,
   "metadata": {},
   "outputs": [
    {
     "name": "stdout",
     "output_type": "stream",
     "text": [
      "The RFE-selected features: \n",
      "\n",
      " ['VehOdo', 'MMRAcquisitionAuctionAveragePrice', 'MMRAcquisitionAuctionCleanPrice', 'MMRAcquisitionRetailAveragePrice', 'MMRAcquisitonRetailCleanPrice', 'MMRCurrentAuctionAveragePrice', 'MMRCurrentAuctionCleanPrice', 'MMRCurrentRetailAveragePrice', 'MMRCurrentRetailCleanPrice', 'MMRCurrentRetailRatio', 'VehBCost', 'WarrantyCost', 'Auction_adesa', 'Auction_manheim', 'Auction_other', 'VehYear_2001.0', 'VehYear_2002.0', 'VehYear_2003.0', 'VehYear_2004.0', 'VehYear_2005.0', 'VehYear_2006.0', 'VehYear_2007.0', 'VehYear_2008.0', 'VehYear_2009.0', 'VehYear_2010.0', 'VehYear_UNKNOWN_VALUE', 'Make_acura', 'Make_buick', 'Make_chevrolet', 'Make_chrysler', 'Make_dodge', 'Make_ford', 'Make_honda', 'Make_infiniti', 'Make_isuzu', 'Make_jeep', 'Make_kia', 'Make_lexus', 'Make_lincoln', 'Make_mini', 'Make_mitsubishi', 'Make_nissan', 'Make_oldsmobile', 'Make_pontiac', 'Make_saturn', 'Make_scion', 'Make_subaru', 'Make_suzuki', 'Make_toyota', 'Make_volvo', 'Color_beige', 'Color_black', 'Color_brown', 'Color_gold', 'Color_green', 'Color_grey', 'Color_not avail', 'Color_orange', 'Color_other', 'Color_purple', 'Color_red', 'Color_silver', 'Color_white', 'Color_yellow', 'Transmission_auto', 'Transmission_manual', 'WheelTypeID_0', 'WheelTypeID_1', 'WheelTypeID_2', 'WheelTypeID_3', 'WheelTypeID_?', 'WheelType_?', 'WheelType_alloy', 'WheelType_covers', 'WheelType_special', 'Nationality_american', 'Nationality_other', 'Nationality_other asian', 'Nationality_top line asian', 'Size_compact', 'Size_crossover', 'Size_large', 'Size_large suv', 'Size_large truck', 'Size_medium', 'Size_medium suv', 'Size_small suv', 'Size_specialty', 'Size_sports', 'Size_van', 'TopThreeAmericanName_chrysler', 'TopThreeAmericanName_gm', 'TopThreeAmericanName_other', 'PRIMEUNIT_?', 'PRIMEUNIT_no', 'PRIMEUNIT_yes', 'PRIMEUNIT_NULL', 'AUCGUART_?', 'AUCGUART_green', 'AUCGUART_NULL', 'VNST_al', 'VNST_az', 'VNST_co', 'VNST_fl', 'VNST_ga', 'VNST_id', 'VNST_in', 'VNST_ky', 'VNST_la', 'VNST_nc', 'VNST_ne', 'VNST_nh', 'VNST_nj', 'VNST_nm', 'VNST_ny', 'VNST_or', 'VNST_pa', 'VNST_sc', 'VNST_tn', 'VNST_tx', 'VNST_ut', 'VNST_NULL', 'IsOnlineSale_1.0', 'ForSale_0', 'ForSale_no', 'ForSale_yes']\n",
      "\n",
      "\n",
      "\n",
      "The SelectFromModel features: \n",
      "\n",
      " ['VehOdo', 'MMRAcquisitionAuctionAveragePrice', 'MMRAcquisitionAuctionCleanPrice', 'MMRAcquisitionRetailAveragePrice', 'MMRAcquisitonRetailCleanPrice', 'MMRCurrentAuctionAveragePrice', 'MMRCurrentAuctionCleanPrice', 'MMRCurrentRetailAveragePrice', 'MMRCurrentRetailCleanPrice', 'MMRCurrentRetailRatio', 'VehBCost', 'WarrantyCost', 'Auction_manheim', 'VehYear_2004.0', 'Make_chevrolet', 'Make_dodge', 'Color_silver', 'Color_white', 'WheelTypeID_2', 'WheelType_?', 'WheelType_covers', 'TopThreeAmericanName_chrysler', 'TopThreeAmericanName_gm', 'VNST_tx']\n"
     ]
    }
   ],
   "source": [
    "print(\"The RFE-selected features: \\n\\n\", list(compress(feature_names, rfe.support_)))\n",
    "print(\"\\n\\n\")\n",
    "print(\"The SelectFromModel features: \\n\\n\",list(compress(feature_names, selectmodel.get_support())))"
   ]
  },
  {
   "cell_type": "markdown",
   "metadata": {},
   "source": [
    "### b. Report the top-5 important variables (in the order) in the model."
   ]
  },
  {
   "cell_type": "code",
   "execution_count": 52,
   "metadata": {},
   "outputs": [
    {
     "name": "stdout",
     "output_type": "stream",
     "text": [
      "[LibLinear]"
     ]
    },
    {
     "name": "stderr",
     "output_type": "stream",
     "text": [
      "[Parallel(n_jobs=1)]: Using backend SequentialBackend with 1 concurrent workers.\n",
      "[Parallel(n_jobs=1)]: Done   1 out of   1 | elapsed:    0.6s finished\n"
     ]
    },
    {
     "data": {
      "text/plain": [
       "GridSearchCV(cv=3, error_score='raise-deprecating',\n",
       "       estimator=LogisticRegression(C=1.0, class_weight=None, dual=False, fit_intercept=True,\n",
       "          intercept_scaling=1, max_iter=100, multi_class='warn',\n",
       "          n_jobs=None, penalty='l2', random_state=101, solver='warn',\n",
       "          tol=0.0001, verbose=True, warm_start=False),\n",
       "       fit_params=None, iid='warn', n_jobs=-1,\n",
       "       param_grid={'C': [0.0001, 0.001, 0.01, 0.1, 1], 'solver': ['newton-cg', 'lbfgs', 'liblinear', 'sag', 'saga'], 'max_iter': [30, 50, 100], 'warm_start': [True, False], 'class_weight': ['balanced', None]},\n",
       "       pre_dispatch='2*n_jobs', refit=True, return_train_score='warn',\n",
       "       scoring=None, verbose=0)"
      ]
     },
     "execution_count": 52,
     "metadata": {},
     "output_type": "execute_result"
    }
   ],
   "source": [
    "params = {\n",
    "    'C': [pow(10, x) for x in range(-4, 1)],\n",
    "    'solver' : ['newton-cg',\"lbfgs\", \"liblinear\", \"sag\", \"saga\"],\n",
    "    'max_iter': [30, 50, 100],\n",
    "    'warm_start': [True, False],\n",
    "    'class_weight':['balanced', None]\n",
    "\n",
    "}\n",
    "rfe_cv = GridSearchCV(param_grid=params, estimator=LogisticRegression(random_state=rs, verbose=True), cv=3, n_jobs=-1)\n",
    "rfe_cv.fit(X_train_rfe, y_train_log)\n",
    "\n",
    "selectModel_cv = GridSearchCV(param_grid=params, estimator=LogisticRegression(random_state=rs, verbose=True), cv=3, n_jobs=-1)\n",
    "selectModel_cv.fit(X_train_sel_model, y_train_log)\n"
   ]
  },
  {
   "cell_type": "code",
   "execution_count": 53,
   "metadata": {},
   "outputs": [
    {
     "name": "stdout",
     "output_type": "stream",
     "text": [
      "Top-5 important variables for RFE: \n",
      "\n",
      "MMRAcquisitionAuctionAveragePrice : -1.2007986138089202\n",
      "MMRAcquisitionRetailAveragePrice : 1.1707944988856998\n",
      "MMRCurrentRetailCleanPrice : -0.5862338769571586\n",
      "Color_white : 0.5771408731924557\n",
      "MMRAcquisitonRetailCleanPrice : 0.5560971039889662\n",
      "\n",
      "\n",
      "\n",
      "Top-5 important variables for selectModel \n",
      "\n",
      "MMRCurrentRetailAveragePrice : -3.155872487409825\n",
      "MMRCurrentRetailCleanPrice : 2.2997683935748934\n",
      "MMRAcquisitionAuctionAveragePrice : -1.8616373108354378\n",
      "VehYear_2005.0 : 1.2396144583206734\n",
      "MMRAcquisitonRetailCleanPrice : 0.9311113016898371\n"
     ]
    }
   ],
   "source": [
    "print(\"Top-5 important variables for RFE: \\n\")\n",
    "printLRTopImportant(rfe_cv.best_estimator_, 5)\n",
    "print(\"\\n\\n\")\n",
    "print(\"Top-5 important variables for selectModel \\n\")\n",
    "printLRTopImportant(selectModel_cv.best_estimator_, 5)"
   ]
  },
  {
   "cell_type": "markdown",
   "metadata": {},
   "source": [
    "### c. What are the parameters used? Explain your choices. What are the optimal parameters? Which regression function is being used?"
   ]
  },
  {
   "cell_type": "code",
   "execution_count": 54,
   "metadata": {
    "scrolled": true
   },
   "outputs": [
    {
     "name": "stdout",
     "output_type": "stream",
     "text": [
      "Optimal Parameters for RFE {'C': 0.1, 'class_weight': 'balanced', 'max_iter': 30, 'solver': 'liblinear', 'warm_start': True}\n",
      "Optimal Parameters for selectModel {'C': 1, 'class_weight': 'balanced', 'max_iter': 30, 'solver': 'newton-cg', 'warm_start': True}\n"
     ]
    }
   ],
   "source": [
    "print(\"Optimal Parameters for RFE\", rfe_cv.best_params_)\n",
    "print(\"Optimal Parameters for selectModel\", selectModel_cv.best_params_)"
   ]
  },
  {
   "cell_type": "markdown",
   "metadata": {},
   "source": [
    "### d. Report any sign of overfitting"
   ]
  },
  {
   "cell_type": "code",
   "execution_count": 55,
   "metadata": {},
   "outputs": [
    {
     "name": "stdout",
     "output_type": "stream",
     "text": [
      "GridSearch Train accuracy: 0.7009456732481304\n",
      "GridSearch Test accuracy: 0.7552840954753677\n"
     ]
    }
   ],
   "source": [
    "print(\"GridSearch Train accuracy:\", cv.score(X_train_log, y_train_log))\n",
    "print(\"GridSearch Test accuracy:\", cv.score(X_test_log, y_test_log))"
   ]
  },
  {
   "cell_type": "code",
   "execution_count": 56,
   "metadata": {},
   "outputs": [
    {
     "data": {
      "text/plain": [
       "'\\nNo Overfitting occurs in this model ## Ly modify this\\n'"
      ]
     },
     "execution_count": 56,
     "metadata": {},
     "output_type": "execute_result"
    }
   ],
   "source": [
    "'''\n",
    "No Overfitting occurs in this model ## Ly modify this\n",
    "'''"
   ]
  },
  {
   "cell_type": "markdown",
   "metadata": {},
   "source": [
    "### e. What is classification accuracy on training and test datasets?"
   ]
  },
  {
   "cell_type": "code",
   "execution_count": 57,
   "metadata": {},
   "outputs": [
    {
     "name": "stdout",
     "output_type": "stream",
     "text": [
      "GridSearch Train accuracy: 0.7009456732481304\n",
      "GridSearch Test accuracy: 0.7552840954753677\n",
      "\n",
      "\n",
      "RFE:\n",
      "\n",
      "Train accuracy: 0.7000949630039963\n",
      "Test accuracy: 0.7568914248975327\n",
      "\n",
      "\n",
      "selectModel:\n",
      "\n",
      "Train accuracy: 0.6835951410596288\n",
      "Test accuracy: 0.7648477055372499\n"
     ]
    }
   ],
   "source": [
    "print(\"GridSearch Train accuracy:\", cv.score(X_train_log, y_train_log))\n",
    "print(\"GridSearch Test accuracy:\", cv.score(X_test_log, y_test_log))\n",
    "print(\"\\n\\nRFE:\\n\")\n",
    "print(\"Train accuracy:\", rfe_cv.score(X_train_rfe, y_train_log))\n",
    "print(\"Test accuracy:\", rfe_cv.score(X_test_rfe, y_test_log))\n",
    "print(\"\\n\\nselectModel:\\n\")\n",
    "print(\"Train accuracy:\", selectModel_cv.score(X_train_sel_model, y_train_log))\n",
    "print(\"Test accuracy:\", selectModel_cv.score(X_test_sel_model, y_test_log))"
   ]
  },
  {
   "cell_type": "markdown",
   "metadata": {},
   "source": [
    "### f. Did it improve/worsen the performance? Explain why those changes may have happened"
   ]
  },
  {
   "cell_type": "code",
   "execution_count": 58,
   "metadata": {},
   "outputs": [
    {
     "name": "stdout",
     "output_type": "stream",
     "text": [
      "REF classification report: \n",
      "               precision    recall  f1-score   support\n",
      "\n",
      "           0       0.93      0.78      0.85     10832\n",
      "           1       0.29      0.60      0.39      1611\n",
      "\n",
      "   micro avg       0.76      0.76      0.76     12443\n",
      "   macro avg       0.61      0.69      0.62     12443\n",
      "weighted avg       0.85      0.76      0.79     12443\n",
      "\n",
      "REF Confusion Matrix: \n",
      " [[8444 2388]\n",
      " [ 637  974]]\n",
      "\n",
      "\n",
      "\n",
      "selectModel classification report: \n",
      "               precision    recall  f1-score   support\n",
      "\n",
      "           0       0.92      0.79      0.85     10832\n",
      "           1       0.29      0.57      0.38      1611\n",
      "\n",
      "   micro avg       0.76      0.76      0.76     12443\n",
      "   macro avg       0.61      0.68      0.62     12443\n",
      "weighted avg       0.84      0.76      0.79     12443\n",
      "\n",
      "selectModel Confusion Matrix: \n",
      " [[8606 2226]\n",
      " [ 700  911]]\n"
     ]
    }
   ],
   "source": [
    "y_pred = rfe_cv.predict(X_test_rfe)\n",
    "print(\"REF classification report: \\n\",classification_report(y_test, y_pred))\n",
    "print(\"REF Confusion Matrix: \\n\", confusion_matrix(y_test, y_pred))\n",
    "print(\"\\n\\n\")\n",
    "y_pred = selectModel_cv.predict(X_test_sel_model)\n",
    "print(\"selectModel classification report: \\n\",classification_report(y_test, y_pred))\n",
    "print(\"selectModel Confusion Matrix: \\n\", confusion_matrix(y_test, y_pred))\n"
   ]
  },
  {
   "cell_type": "code",
   "execution_count": 59,
   "metadata": {},
   "outputs": [
    {
     "data": {
      "text/plain": [
       "'\\nThe performance...\\n\\n'"
      ]
     },
     "execution_count": 59,
     "metadata": {},
     "output_type": "execute_result"
    }
   ],
   "source": [
    "'''\n",
    "The performance...\n",
    "\n",
    "'''"
   ]
  },
  {
   "cell_type": "markdown",
   "metadata": {},
   "source": [
    " # Task4 - Predicting using neural network"
   ]
  },
  {
   "cell_type": "markdown",
   "metadata": {},
   "source": [
    "## 1. Build a Neural Network model using the default setting. Answer the following:"
   ]
  },
  {
   "cell_type": "code",
   "execution_count": 60,
   "metadata": {},
   "outputs": [
    {
     "data": {
      "text/plain": [
       "MLPClassifier(activation='relu', alpha=0.0001, batch_size='auto', beta_1=0.9,\n",
       "       beta_2=0.999, early_stopping=False, epsilon=1e-08,\n",
       "       hidden_layer_sizes=(100,), learning_rate='constant',\n",
       "       learning_rate_init=0.001, max_iter=200, momentum=0.9,\n",
       "       n_iter_no_change=10, nesterovs_momentum=True, power_t=0.5,\n",
       "       random_state=101, shuffle=True, solver='adam', tol=0.0001,\n",
       "       validation_fraction=0.1, verbose=False, warm_start=False)"
      ]
     },
     "execution_count": 60,
     "metadata": {},
     "output_type": "execute_result"
    }
   ],
   "source": [
    "model = MLPClassifier(random_state=rs)\n",
    "model.fit(X_train_log, y_train_log)"
   ]
  },
  {
   "cell_type": "markdown",
   "metadata": {},
   "source": [
    "### a. What is the network architecture?"
   ]
  },
  {
   "cell_type": "code",
   "execution_count": 61,
   "metadata": {},
   "outputs": [
    {
     "name": "stdout",
     "output_type": "stream",
     "text": [
      "Number of Layers:  3\n",
      "The First layer is Input Layer, and the last layer is the output layer\n",
      "1 Layer with hidden size 149\n",
      "2 Layer with hidden size 100\n",
      "3 Layer with hidden size 1\n",
      "The activation function:  relu\n"
     ]
    }
   ],
   "source": [
    "def printMLPArchitecture(model):\n",
    "\n",
    "    print(\"Number of Layers: \",model.n_layers_ )\n",
    "    print(\"The First layer is Input Layer, and the last layer is the output layer\")\n",
    "    for i, w in enumerate(model.coefs_):\n",
    "        print(\"{} Layer with hidden size {}\".format(i+1, w.shape[0]))\n",
    "        if (i+1) == len(model.coefs_):\n",
    "            print(\"{} Layer with hidden size {}\".format(i+2, w.shape[1]))\n",
    "    \n",
    "    print(\"The activation function: \", model.activation)\n",
    "            \n",
    "printMLPArchitecture(model)"
   ]
  },
  {
   "cell_type": "markdown",
   "metadata": {},
   "source": [
    "### b. How many iterations are needed to train this network?"
   ]
  },
  {
   "cell_type": "code",
   "execution_count": 62,
   "metadata": {},
   "outputs": [
    {
     "name": "stdout",
     "output_type": "stream",
     "text": [
      "Number of iterations it ran:  200\n"
     ]
    }
   ],
   "source": [
    "print(\"Number of iterations it ran: \", model.n_iter_)"
   ]
  },
  {
   "cell_type": "markdown",
   "metadata": {},
   "source": [
    "### c. Do you see any sign of over-fitting?"
   ]
  },
  {
   "cell_type": "code",
   "execution_count": 63,
   "metadata": {},
   "outputs": [
    {
     "name": "stdout",
     "output_type": "stream",
     "text": [
      "MLP Train accuracy: 0.459660507260713\n",
      "MLP Test accuracy: 0.6925982480109298\n"
     ]
    }
   ],
   "source": [
    "print(\"MLP Train accuracy:\", model.score(X_train, y_train))\n",
    "print(\"MLP Test accuracy:\", model.score(X_test, y_test))\n",
    "# No overfitting sign in this model ## Ly modify this"
   ]
  },
  {
   "cell_type": "code",
   "execution_count": 64,
   "metadata": {},
   "outputs": [
    {
     "data": {
      "text/plain": [
       "'\\nThe training accuracy and the test accuracy ...\\n'"
      ]
     },
     "execution_count": 64,
     "metadata": {},
     "output_type": "execute_result"
    }
   ],
   "source": [
    "'''\n",
    "The training accuracy and the test accuracy ...\n",
    "'''"
   ]
  },
  {
   "cell_type": "markdown",
   "metadata": {},
   "source": [
    "### d. Did the training process converge and resulted in the best model? "
   ]
  },
  {
   "cell_type": "code",
   "execution_count": 65,
   "metadata": {
    "scrolled": true
   },
   "outputs": [
    {
     "data": {
      "text/plain": [
       "[<matplotlib.lines.Line2D at 0x7f493ca15ba8>]"
      ]
     },
     "execution_count": 65,
     "metadata": {},
     "output_type": "execute_result"
    },
    {
     "data": {
      "image/png": "[encoded data removed]",
      "text/plain": [
       "<Figure size 720x360 with 1 Axes>"
      ]
     },
     "metadata": {
      "needs_background": "light"
     },
     "output_type": "display_data"
    }
   ],
   "source": [
    "fig = plt.figure(figsize=(10, 5))\n",
    "plt.ylabel('Loss',fontsize=15)\n",
    "plt.xlabel('Number of iterations',fontsize=15)\n",
    "plt.title('Training Loss',fontsize=20,fontweight =\"bold\")\n",
    "plt.plot(model.loss_curve_, label=\"Training Loss\")\n",
    "\n",
    "### The Loss curve is still decreasing"
   ]
  },
  {
   "cell_type": "code",
   "execution_count": 66,
   "metadata": {},
   "outputs": [
    {
     "data": {
      "text/plain": [
       "'\\nThe loss curve is still decreasing. Therefore, it may not converge to the local minima yet.\\n'"
      ]
     },
     "execution_count": 66,
     "metadata": {},
     "output_type": "execute_result"
    }
   ],
   "source": [
    "'''\n",
    "The loss curve is still decreasing. Therefore, it may not converge to the local minima yet.\n",
    "'''"
   ]
  },
  {
   "cell_type": "markdown",
   "metadata": {},
   "source": [
    "### e. What is classification accuracy on training and test datasets?"
   ]
  },
  {
   "cell_type": "code",
   "execution_count": 67,
   "metadata": {},
   "outputs": [
    {
     "name": "stdout",
     "output_type": "stream",
     "text": [
      "MLP Train accuracy: 0.459660507260713\n",
      "MLP Test accuracy: 0.6925982480109298\n",
      "\n",
      "\n",
      "\n",
      "MLP classification report: \n",
      "               precision    recall  f1-score   support\n",
      "\n",
      "           0       0.86      0.77      0.81     10832\n",
      "           1       0.09      0.14      0.11      1611\n",
      "\n",
      "   micro avg       0.69      0.69      0.69     12443\n",
      "   macro avg       0.47      0.46      0.46     12443\n",
      "weighted avg       0.76      0.69      0.72     12443\n",
      "\n",
      "MLP Confusion Matrix: \n",
      " [[8388 2444]\n",
      " [1381  230]]\n"
     ]
    }
   ],
   "source": [
    "print(\"MLP Train accuracy:\", model.score(X_train, y_train))\n",
    "print(\"MLP Test accuracy:\", model.score(X_test, y_test))\n",
    "print(\"\\n\\n\")\n",
    "y_pred = model.predict(X_test)\n",
    "print(\"MLP classification report: \\n\",classification_report(y_test, y_pred))\n",
    "print(\"MLP Confusion Matrix: \\n\", confusion_matrix(y_test, y_pred))\n"
   ]
  },
  {
   "cell_type": "markdown",
   "metadata": {},
   "source": [
    "## 2. Refine this network by tuning it with GridSearchCV. "
   ]
  },
  {
   "cell_type": "code",
   "execution_count": 68,
   "metadata": {},
   "outputs": [
    {
     "name": "stdout",
     "output_type": "stream",
     "text": [
      "Iteration 1, loss = 0.54707512\n",
      "Validation score: 0.736301\n",
      "Iteration 2, loss = 0.47857332\n",
      "Validation score: 0.777448\n",
      "Iteration 3, loss = 0.42324346\n",
      "Validation score: 0.797428\n",
      "Iteration 4, loss = 0.37362828\n",
      "Validation score: 0.814441\n",
      "Iteration 5, loss = 0.32970120\n",
      "Validation score: 0.841345\n",
      "Iteration 6, loss = 0.29536147\n",
      "Validation score: 0.845895\n",
      "Iteration 7, loss = 0.26196995\n",
      "Validation score: 0.866271\n",
      "Iteration 8, loss = 0.23640891\n",
      "Validation score: 0.867854\n",
      "Iteration 9, loss = 0.21630361\n",
      "Validation score: 0.891592\n",
      "Iteration 10, loss = 0.19812908\n",
      "Validation score: 0.897527\n",
      "Iteration 11, loss = 0.17922477\n",
      "Validation score: 0.892186\n",
      "Iteration 12, loss = 0.17157421\n",
      "Validation score: 0.893966\n",
      "Iteration 13, loss = 0.15687880\n",
      "Validation score: 0.898912\n",
      "Iteration 14, loss = 0.15013150\n",
      "Validation score: 0.908012\n",
      "Iteration 15, loss = 0.14213609\n",
      "Validation score: 0.913551\n",
      "Iteration 16, loss = 0.13710825\n",
      "Validation score: 0.908803\n",
      "Iteration 17, loss = 0.12941752\n",
      "Validation score: 0.916123\n",
      "Iteration 18, loss = 0.12335300\n",
      "Validation score: 0.908605\n",
      "Iteration 19, loss = 0.12127017\n",
      "Validation score: 0.920475\n",
      "Iteration 20, loss = 0.11510558\n",
      "Validation score: 0.918299\n",
      "Iteration 21, loss = 0.10792456\n",
      "Validation score: 0.916716\n",
      "Iteration 22, loss = 0.11128821\n",
      "Validation score: 0.923838\n",
      "Iteration 23, loss = 0.10161774\n",
      "Validation score: 0.915727\n",
      "Iteration 24, loss = 0.10311017\n",
      "Validation score: 0.923244\n",
      "Iteration 25, loss = 0.09677756\n",
      "Validation score: 0.916123\n",
      "Iteration 26, loss = 0.09564818\n",
      "Validation score: 0.919881\n",
      "Iteration 27, loss = 0.09391351\n",
      "Validation score: 0.919881\n",
      "Iteration 28, loss = 0.09325189\n",
      "Validation score: 0.920673\n",
      "Iteration 29, loss = 0.08933597\n",
      "Validation score: 0.919090\n",
      "Iteration 30, loss = 0.08553687\n",
      "Validation score: 0.927003\n",
      "Iteration 31, loss = 0.08509835\n",
      "Validation score: 0.920870\n",
      "Iteration 32, loss = 0.08890293\n",
      "Validation score: 0.929575\n",
      "Iteration 33, loss = 0.08273223\n",
      "Validation score: 0.927399\n",
      "Iteration 34, loss = 0.08393377\n",
      "Validation score: 0.919683\n",
      "Iteration 35, loss = 0.08182656\n",
      "Validation score: 0.934520\n",
      "Iteration 36, loss = 0.07923991\n",
      "Validation score: 0.929377\n",
      "Iteration 37, loss = 0.07911647\n",
      "Validation score: 0.924036\n",
      "Iteration 38, loss = 0.07507023\n",
      "Validation score: 0.918892\n",
      "Iteration 39, loss = 0.07546001\n",
      "Validation score: 0.932938\n",
      "Iteration 40, loss = 0.07573450\n",
      "Validation score: 0.925618\n",
      "Iteration 41, loss = 0.07798078\n",
      "Validation score: 0.935707\n",
      "Iteration 42, loss = 0.07570306\n",
      "Validation score: 0.931553\n",
      "Iteration 43, loss = 0.07707894\n",
      "Validation score: 0.923046\n",
      "Iteration 44, loss = 0.07104559\n",
      "Validation score: 0.932938\n",
      "Iteration 45, loss = 0.07088950\n",
      "Validation score: 0.929575\n",
      "Iteration 46, loss = 0.07306730\n",
      "Validation score: 0.930959\n",
      "Iteration 47, loss = 0.06642030\n",
      "Validation score: 0.939268\n",
      "Iteration 48, loss = 0.07605865\n",
      "Validation score: 0.931157\n",
      "Iteration 49, loss = 0.07145894\n",
      "Validation score: 0.933531\n",
      "Iteration 50, loss = 0.07031683\n",
      "Validation score: 0.932146\n",
      "Iteration 51, loss = 0.06679548\n",
      "Validation score: 0.929377\n",
      "Iteration 52, loss = 0.06558132\n",
      "Validation score: 0.928388\n",
      "Iteration 53, loss = 0.06718902\n",
      "Validation score: 0.936103\n",
      "Iteration 54, loss = 0.06389646\n",
      "Validation score: 0.933927\n",
      "Iteration 55, loss = 0.06966706\n",
      "Validation score: 0.924629\n",
      "Iteration 56, loss = 0.06919731\n",
      "Validation score: 0.924431\n",
      "Iteration 57, loss = 0.06199414\n",
      "Validation score: 0.939268\n",
      "Iteration 58, loss = 0.06546817\n",
      "Validation score: 0.931751\n",
      "Validation score did not improve more than tol=0.000100 for 10 consecutive epochs. Stopping.\n"
     ]
    },
    {
     "data": {
      "text/plain": [
       "GridSearchCV(cv=3, error_score='raise-deprecating',\n",
       "       estimator=MLPClassifier(activation='relu', alpha=0.0001, batch_size='auto', beta_1=0.9,\n",
       "       beta_2=0.999, early_stopping=False, epsilon=1e-08,\n",
       "       hidden_layer_sizes=(100,), learning_rate='constant',\n",
       "       learning_rate_init=0.001, max_iter=200, momentum=0.9,\n",
       "       n_iter_no_change=10, nesterovs_momentum=True, power_t=0.5,\n",
       "       random_state=101, shuffle=True, solver='adam', tol=0.0001,\n",
       "       validation_fraction=0.1, verbose=True, warm_start=False),\n",
       "       fit_params=None, iid='warn', n_jobs=-1,\n",
       "       param_grid=[{'hidden_layer_sizes': [(128, 64, 32, 16), (128, 64)], 'activation': ['relu'], 'solver': ['adam'], 'batch_size': [64], 'shuffle': [True], 'learning_rate_init': [0.001], 'n_iter_no_change': [10], 'max_iter': [200], 'warm_start': [True], 'early_stopping': [True], 'alpha': [0.01, 0.001]}],\n",
       "       pre_dispatch='2*n_jobs', refit=True, return_train_score='warn',\n",
       "       scoring=None, verbose=0)"
      ]
     },
     "execution_count": 68,
     "metadata": {},
     "output_type": "execute_result"
    }
   ],
   "source": [
    "# Default\n",
    "# params = {'hidden_layer_sizes': [(3,), (5,), (7,), (9,)], 'alpha': [0.01,0.001, 0.0001, 0.00001]}\n",
    "\n",
    "params = [\n",
    "    {\n",
    "        'hidden_layer_sizes': [(128, 64, 32, 16), (128, 64,)],\n",
    "        'activation': ['relu'],\n",
    "        'solver' : ['adam',],\n",
    "        'batch_size': [64],\n",
    "        'shuffle': [True],\n",
    "        'learning_rate_init': [0.001],\n",
    "        'n_iter_no_change': [10],\n",
    "        'max_iter':[200],\n",
    "        'warm_start': [True],\n",
    "        'early_stopping': [True],\n",
    "        'alpha': [0.01, 0.001],\n",
    "    },      \n",
    "]\n",
    "\n",
    "\n",
    "cv = GridSearchCV(param_grid=params, estimator=MLPClassifier(random_state=rs, verbose=True), cv=3, n_jobs=-1)\n",
    "# cv = GridSearchCV(param_grid=params, estimator=MLPClassifier(random_state=rs, early_stopping=True, max_iter = max_iter, n_iter_no_change = max_iter ), cv=3, n_jobs=-1)\n",
    "cv.fit(X_train_log, y_train_log)"
   ]
  },
  {
   "cell_type": "markdown",
   "metadata": {},
   "source": [
    "### a. What is the network architecture?"
   ]
  },
  {
   "cell_type": "code",
   "execution_count": 69,
   "metadata": {},
   "outputs": [
    {
     "name": "stdout",
     "output_type": "stream",
     "text": [
      "Best Parameters of NN:  {'activation': 'relu', 'alpha': 0.001, 'batch_size': 64, 'early_stopping': True, 'hidden_layer_sizes': (128, 64), 'learning_rate_init': 0.001, 'max_iter': 200, 'n_iter_no_change': 10, 'shuffle': True, 'solver': 'adam', 'warm_start': True}\n"
     ]
    }
   ],
   "source": [
    "print(\"Best Parameters of NN: \", cv.best_params_)"
   ]
  },
  {
   "cell_type": "code",
   "execution_count": 70,
   "metadata": {},
   "outputs": [
    {
     "name": "stdout",
     "output_type": "stream",
     "text": [
      "Number of Layers:  4\n",
      "The First layer is Input Layer, and the last layer is the output layer\n",
      "1 Layer with hidden size 149\n",
      "2 Layer with hidden size 128\n",
      "3 Layer with hidden size 64\n",
      "4 Layer with hidden size 1\n",
      "The activation function:  relu\n"
     ]
    }
   ],
   "source": [
    "printMLPArchitecture(cv.best_estimator_)"
   ]
  },
  {
   "cell_type": "markdown",
   "metadata": {},
   "source": [
    "# b. How many iterations are needed to train this network?"
   ]
  },
  {
   "cell_type": "code",
   "execution_count": 71,
   "metadata": {},
   "outputs": [
    {
     "name": "stdout",
     "output_type": "stream",
     "text": [
      "Number of iterations it ran:  58\n"
     ]
    }
   ],
   "source": [
    "print(\"Number of iterations it ran: \",cv.best_estimator_.n_iter_)"
   ]
  },
  {
   "cell_type": "markdown",
   "metadata": {},
   "source": [
    "### c. Sign of overfitting?"
   ]
  },
  {
   "cell_type": "code",
   "execution_count": 72,
   "metadata": {},
   "outputs": [
    {
     "name": "stdout",
     "output_type": "stream",
     "text": [
      "GridSearch NN Train accuracy: 0.9777430459383532\n",
      "GridSearch NN Test accuracy: 0.8370167965924616\n"
     ]
    }
   ],
   "source": [
    "print(\"GridSearch NN Train accuracy:\", cv.score(X_train_log, y_train_log))\n",
    "print(\"GridSearch NN Test accuracy:\", cv.score(X_test_log, y_test_log))\n",
    "# Since training accuracy is much larger than the test accuracy, it has the sign of overfitting."
   ]
  },
  {
   "cell_type": "code",
   "execution_count": 73,
   "metadata": {},
   "outputs": [
    {
     "data": {
      "text/plain": [
       "[<matplotlib.lines.Line2D at 0x7f494c473780>]"
      ]
     },
     "execution_count": 73,
     "metadata": {},
     "output_type": "execute_result"
    },
    {
     "data": {
      "image/png": "[encoded data removed]",
      "text/plain": [
       "<Figure size 720x360 with 1 Axes>"
      ]
     },
     "metadata": {
      "needs_background": "light"
     },
     "output_type": "display_data"
    }
   ],
   "source": [
    "fig = plt.figure(figsize=(10, 5))\n",
    "plt.ylabel('Accuracy',fontsize=15)\n",
    "plt.xlabel('Number of iterations',fontsize=15)\n",
    "plt.title('Validation Accuracy',fontsize=20,fontweight =\"bold\")\n",
    "plt.plot(cv.best_estimator_.validation_scores_, label=\"Validation Accuracy\")"
   ]
  },
  {
   "cell_type": "code",
   "execution_count": 74,
   "metadata": {},
   "outputs": [
    {
     "data": {
      "text/plain": [
       "'\\nThe training accuracy and the test accuracy...\\n\\nAlso, according to the validation accuracy curve\\n\\n'"
      ]
     },
     "execution_count": 74,
     "metadata": {},
     "output_type": "execute_result"
    }
   ],
   "source": [
    "'''\n",
    "The training accuracy and the test accuracy...\n",
    "\n",
    "Also, according to the validation accuracy curve\n",
    "\n",
    "'''"
   ]
  },
  {
   "cell_type": "markdown",
   "metadata": {},
   "source": [
    "### d. Did the training process converge and resulted in the best model? "
   ]
  },
  {
   "cell_type": "code",
   "execution_count": 75,
   "metadata": {},
   "outputs": [
    {
     "data": {
      "text/plain": [
       "[<matplotlib.lines.Line2D at 0x7f4940c82390>]"
      ]
     },
     "execution_count": 75,
     "metadata": {},
     "output_type": "execute_result"
    },
    {
     "data": {
      "image/png": "[encoded data removed]",
      "text/plain": [
       "<Figure size 720x360 with 1 Axes>"
      ]
     },
     "metadata": {
      "needs_background": "light"
     },
     "output_type": "display_data"
    }
   ],
   "source": [
    "fig = plt.figure(figsize=(10, 5))\n",
    "plt.ylabel('Loss',fontsize=15)\n",
    "plt.xlabel('Number of iterations',fontsize=15)\n",
    "plt.title('Training Loss',fontsize=20,fontweight =\"bold\")\n",
    "plt.plot(cv.best_estimator_.loss_curve_, label=\"Training Loss\")"
   ]
  },
  {
   "cell_type": "markdown",
   "metadata": {},
   "source": [
    "### e. What is classification accuracy on training and test datasets? Is there any improvement in the outcome?"
   ]
  },
  {
   "cell_type": "code",
   "execution_count": 76,
   "metadata": {},
   "outputs": [
    {
     "name": "stdout",
     "output_type": "stream",
     "text": [
      "GridSearch NN Train accuracy: 0.9777430459383532\n",
      "GridSearch NN Test accuracy: 0.8370167965924616\n",
      "\n",
      "\n",
      "\n",
      "GridSearch NN Classification Report: \n",
      "               precision    recall  f1-score   support\n",
      "\n",
      "           0       0.90      0.91      0.91     10832\n",
      "           1       0.36      0.35      0.36      1611\n",
      "\n",
      "   micro avg       0.84      0.84      0.84     12443\n",
      "   macro avg       0.63      0.63      0.63     12443\n",
      "weighted avg       0.83      0.84      0.84     12443\n",
      "\n",
      "GridSearch NN Confusion Matrix: \n",
      " [[9855  977]\n",
      " [1051  560]]\n",
      "Best Parameters of NN:  {'activation': 'relu', 'alpha': 0.001, 'batch_size': 64, 'early_stopping': True, 'hidden_layer_sizes': (128, 64), 'learning_rate_init': 0.001, 'max_iter': 200, 'n_iter_no_change': 10, 'shuffle': True, 'solver': 'adam', 'warm_start': True}\n"
     ]
    }
   ],
   "source": [
    "print(\"GridSearch NN Train accuracy:\", cv.score(X_train_log, y_train_log))\n",
    "print(\"GridSearch NN Test accuracy:\", cv.score(X_test_log, y_test_log))\n",
    "\n",
    "print(\"\\n\\n\")\n",
    "y_pred = cv.predict(X_test_log)\n",
    "print(\"GridSearch NN Classification Report: \\n\",classification_report(y_test_log, y_pred))\n",
    "print(\"GridSearch NN Confusion Matrix: \\n\", confusion_matrix(y_test, y_pred))\n",
    "\n",
    "\n",
    "print(\"Best Parameters of NN: \", cv.best_params_)\n",
    "nn_model = cv.best_estimator_"
   ]
  },
  {
   "cell_type": "markdown",
   "metadata": {},
   "source": [
    "## 3. Would feature selection help here? Build another Neural Network model with inputs selected from RFE with regression (use the best model generated in Task 3) and selection with decision tree (use the best model from Task 2)."
   ]
  },
  {
   "cell_type": "code",
   "execution_count": 77,
   "metadata": {
    "scrolled": true
   },
   "outputs": [
    {
     "name": "stdout",
     "output_type": "stream",
     "text": [
      "Iteration 1, loss = 0.55006225\n",
      "Validation score: 0.735905\n",
      "Iteration 2, loss = 0.47984706\n",
      "Validation score: 0.774679\n",
      "Iteration 3, loss = 0.42210915\n",
      "Validation score: 0.797230\n",
      "Iteration 4, loss = 0.36983292\n",
      "Validation score: 0.820969\n",
      "Iteration 5, loss = 0.31999334\n",
      "Validation score: 0.844115\n",
      "Iteration 6, loss = 0.28662503\n",
      "Validation score: 0.860534\n",
      "Iteration 7, loss = 0.25221418\n",
      "Validation score: 0.863106\n",
      "Iteration 8, loss = 0.22846455\n",
      "Validation score: 0.882295\n",
      "Iteration 9, loss = 0.20889836\n",
      "Validation score: 0.883877\n",
      "Iteration 10, loss = 0.19368282\n",
      "Validation score: 0.897725\n",
      "Iteration 11, loss = 0.18013278\n",
      "Validation score: 0.901484\n",
      "Iteration 12, loss = 0.16860607\n",
      "Validation score: 0.909199\n",
      "Iteration 13, loss = 0.15794195\n",
      "Validation score: 0.914936\n",
      "Iteration 14, loss = 0.15202148\n",
      "Validation score: 0.912562\n",
      "Iteration 15, loss = 0.14529811\n",
      "Validation score: 0.917112\n",
      "Iteration 16, loss = 0.13881151\n",
      "Validation score: 0.920475\n",
      "Iteration 17, loss = 0.13177450\n",
      "Validation score: 0.921266\n",
      "Iteration 18, loss = 0.13015646\n",
      "Validation score: 0.914936\n",
      "Iteration 19, loss = 0.12068699\n",
      "Validation score: 0.921266\n",
      "Iteration 20, loss = 0.12192105\n",
      "Validation score: 0.911573\n",
      "Iteration 21, loss = 0.12003132\n",
      "Validation score: 0.912760\n",
      "Iteration 22, loss = 0.10943126\n",
      "Validation score: 0.919090\n",
      "Iteration 23, loss = 0.11078525\n",
      "Validation score: 0.916518\n",
      "Iteration 24, loss = 0.10566946\n",
      "Validation score: 0.927992\n",
      "Iteration 25, loss = 0.11202087\n",
      "Validation score: 0.923046\n",
      "Iteration 26, loss = 0.10638109\n",
      "Validation score: 0.929377\n",
      "Iteration 27, loss = 0.09962065\n",
      "Validation score: 0.924629\n",
      "Iteration 28, loss = 0.09700691\n",
      "Validation score: 0.925816\n",
      "Iteration 29, loss = 0.09746313\n",
      "Validation score: 0.925025\n",
      "Iteration 30, loss = 0.09158414\n",
      "Validation score: 0.924431\n",
      "Iteration 31, loss = 0.09335132\n",
      "Validation score: 0.927399\n",
      "Iteration 32, loss = 0.09351754\n",
      "Validation score: 0.931355\n",
      "Iteration 33, loss = 0.08600295\n",
      "Validation score: 0.923244\n",
      "Iteration 34, loss = 0.09347434\n",
      "Validation score: 0.929377\n",
      "Iteration 35, loss = 0.08853674\n",
      "Validation score: 0.922651\n",
      "Iteration 36, loss = 0.08196959\n",
      "Validation score: 0.926409\n",
      "Iteration 37, loss = 0.08012877\n",
      "Validation score: 0.928783\n",
      "Iteration 38, loss = 0.09383859\n",
      "Validation score: 0.933531\n",
      "Iteration 39, loss = 0.08376033\n",
      "Validation score: 0.933729\n",
      "Iteration 40, loss = 0.07836819\n",
      "Validation score: 0.932344\n",
      "Iteration 41, loss = 0.08074103\n",
      "Validation score: 0.926607\n",
      "Iteration 42, loss = 0.07440560\n",
      "Validation score: 0.939862\n",
      "Iteration 43, loss = 0.08109114\n",
      "Validation score: 0.928388\n",
      "Iteration 44, loss = 0.07462885\n",
      "Validation score: 0.930168\n",
      "Iteration 45, loss = 0.07518688\n",
      "Validation score: 0.927399\n",
      "Iteration 46, loss = 0.07608733\n",
      "Validation score: 0.939664\n",
      "Iteration 47, loss = 0.07364330\n",
      "Validation score: 0.931355\n",
      "Iteration 48, loss = 0.07672526\n",
      "Validation score: 0.923046\n",
      "Iteration 49, loss = 0.07709252\n",
      "Validation score: 0.933927\n",
      "Iteration 50, loss = 0.06671595\n",
      "Validation score: 0.923640\n",
      "Iteration 51, loss = 0.07414392\n",
      "Validation score: 0.937883\n",
      "Iteration 52, loss = 0.07204053\n",
      "Validation score: 0.938081\n",
      "Iteration 53, loss = 0.06907075\n",
      "Validation score: 0.933333\n",
      "Validation score did not improve more than tol=0.000100 for 10 consecutive epochs. Stopping.\n",
      "Iteration 1, loss = 0.58931856\n",
      "Validation score: 0.693571\n",
      "Iteration 2, loss = 0.56887711\n",
      "Validation score: 0.699505\n",
      "Iteration 3, loss = 0.55819986\n",
      "Validation score: 0.711573\n",
      "Iteration 4, loss = 0.54857577\n",
      "Validation score: 0.712562\n",
      "Iteration 5, loss = 0.53951080\n",
      "Validation score: 0.706825\n",
      "Iteration 6, loss = 0.52938380\n",
      "Validation score: 0.729970\n",
      "Iteration 7, loss = 0.51787453\n",
      "Validation score: 0.736103\n",
      "Iteration 8, loss = 0.50666618\n",
      "Validation score: 0.734916\n",
      "Iteration 9, loss = 0.49512273\n",
      "Validation score: 0.752918\n",
      "Iteration 10, loss = 0.48210883\n",
      "Validation score: 0.750148\n",
      "Iteration 11, loss = 0.47066528\n",
      "Validation score: 0.762611\n",
      "Iteration 12, loss = 0.45801744\n",
      "Validation score: 0.768150\n",
      "Iteration 13, loss = 0.44639482\n",
      "Validation score: 0.781207\n",
      "Iteration 14, loss = 0.43490931\n",
      "Validation score: 0.791889\n",
      "Iteration 15, loss = 0.42346839\n",
      "Validation score: 0.792878\n",
      "Iteration 16, loss = 0.41141134\n",
      "Validation score: 0.790900\n",
      "Iteration 17, loss = 0.39994190\n",
      "Validation score: 0.793670\n",
      "Iteration 18, loss = 0.39189962\n",
      "Validation score: 0.801780\n",
      "Iteration 19, loss = 0.38206891\n",
      "Validation score: 0.813848\n",
      "Iteration 20, loss = 0.36943156\n",
      "Validation score: 0.819782\n",
      "Iteration 21, loss = 0.36455669\n",
      "Validation score: 0.830069\n",
      "Iteration 22, loss = 0.35445151\n",
      "Validation score: 0.825124\n",
      "Iteration 23, loss = 0.34878006\n",
      "Validation score: 0.826904\n",
      "Iteration 24, loss = 0.34101956\n",
      "Validation score: 0.819585\n",
      "Iteration 25, loss = 0.33374843\n",
      "Validation score: 0.847873\n",
      "Iteration 26, loss = 0.32613844\n",
      "Validation score: 0.840158\n",
      "Iteration 27, loss = 0.32176930\n",
      "Validation score: 0.835806\n",
      "Iteration 28, loss = 0.31857059\n",
      "Validation score: 0.846489\n",
      "Iteration 29, loss = 0.31287286\n",
      "Validation score: 0.838773\n",
      "Iteration 30, loss = 0.30436497\n",
      "Validation score: 0.849654\n",
      "Iteration 31, loss = 0.30198760\n",
      "Validation score: 0.850841\n",
      "Iteration 32, loss = 0.30087002\n",
      "Validation score: 0.860732\n",
      "Iteration 33, loss = 0.29313105\n",
      "Validation score: 0.858754\n",
      "Iteration 34, loss = 0.29074290\n",
      "Validation score: 0.863501\n",
      "Iteration 35, loss = 0.28659173\n",
      "Validation score: 0.865084\n",
      "Iteration 36, loss = 0.28468743\n",
      "Validation score: 0.863897\n",
      "Iteration 37, loss = 0.27922393\n",
      "Validation score: 0.853808\n",
      "Iteration 38, loss = 0.27723243\n",
      "Validation score: 0.874777\n",
      "Iteration 39, loss = 0.27425093\n",
      "Validation score: 0.866469\n",
      "Iteration 40, loss = 0.26962243\n",
      "Validation score: 0.858556\n",
      "Iteration 41, loss = 0.27381055\n",
      "Validation score: 0.866667\n",
      "Iteration 42, loss = 0.26329959\n",
      "Validation score: 0.864293\n",
      "Iteration 43, loss = 0.26343270\n",
      "Validation score: 0.876360\n",
      "Iteration 44, loss = 0.26306010\n",
      "Validation score: 0.880514\n",
      "Iteration 45, loss = 0.25601979\n",
      "Validation score: 0.876558\n",
      "Iteration 46, loss = 0.25369687\n",
      "Validation score: 0.872404\n",
      "Iteration 47, loss = 0.25203873\n",
      "Validation score: 0.878932\n",
      "Iteration 48, loss = 0.25291981\n",
      "Validation score: 0.879525\n",
      "Iteration 49, loss = 0.24999345\n",
      "Validation score: 0.880910\n",
      "Iteration 50, loss = 0.24931593\n",
      "Validation score: 0.879921\n",
      "Iteration 51, loss = 0.24346036\n",
      "Validation score: 0.874580\n",
      "Iteration 52, loss = 0.24572028\n",
      "Validation score: 0.883482\n",
      "Iteration 53, loss = 0.24360502\n",
      "Validation score: 0.875173\n",
      "Iteration 54, loss = 0.24368640\n",
      "Validation score: 0.882493\n",
      "Iteration 55, loss = 0.23456952\n",
      "Validation score: 0.886647\n",
      "Iteration 56, loss = 0.23760133\n",
      "Validation score: 0.887834\n",
      "Iteration 57, loss = 0.23968095\n",
      "Validation score: 0.886845\n",
      "Iteration 58, loss = 0.23138386\n",
      "Validation score: 0.894164\n",
      "Iteration 59, loss = 0.23478211\n",
      "Validation score: 0.880910\n",
      "Iteration 60, loss = 0.23339679\n",
      "Validation score: 0.885856\n",
      "Iteration 61, loss = 0.23410777\n",
      "Validation score: 0.885064\n",
      "Iteration 62, loss = 0.22575438\n",
      "Validation score: 0.883877\n",
      "Iteration 63, loss = 0.23073593\n",
      "Validation score: 0.886053\n",
      "Iteration 64, loss = 0.22946885\n",
      "Validation score: 0.890406\n",
      "Iteration 65, loss = 0.22570186\n",
      "Validation score: 0.898318\n",
      "Iteration 66, loss = 0.22435437\n",
      "Validation score: 0.888625\n",
      "Iteration 67, loss = 0.22642374\n",
      "Validation score: 0.896340\n",
      "Iteration 68, loss = 0.21981893\n",
      "Validation score: 0.884471\n",
      "Iteration 69, loss = 0.22127705\n",
      "Validation score: 0.888823\n",
      "Iteration 70, loss = 0.21953378\n",
      "Validation score: 0.886647\n",
      "Iteration 71, loss = 0.22184895\n",
      "Validation score: 0.893571\n",
      "Iteration 72, loss = 0.22176538\n",
      "Validation score: 0.891197\n",
      "Iteration 73, loss = 0.22033268\n",
      "Validation score: 0.892977\n",
      "Iteration 74, loss = 0.21330043\n",
      "Validation score: 0.894955\n",
      "Iteration 75, loss = 0.22060284\n",
      "Validation score: 0.890801\n",
      "Iteration 76, loss = 0.21763188\n",
      "Validation score: 0.901484\n",
      "Iteration 77, loss = 0.21340858\n",
      "Validation score: 0.896142\n",
      "Iteration 78, loss = 0.21158515\n",
      "Validation score: 0.892582\n",
      "Iteration 79, loss = 0.21324669\n",
      "Validation score: 0.896934\n",
      "Iteration 80, loss = 0.20937251\n",
      "Validation score: 0.900099\n",
      "Iteration 81, loss = 0.21220144\n",
      "Validation score: 0.885856\n",
      "Iteration 82, loss = 0.21527536\n",
      "Validation score: 0.885460\n",
      "Iteration 83, loss = 0.20524368\n",
      "Validation score: 0.900297\n",
      "Iteration 84, loss = 0.20888267\n",
      "Validation score: 0.890999\n",
      "Iteration 85, loss = 0.21373057\n",
      "Validation score: 0.896934\n"
     ]
    },
    {
     "name": "stdout",
     "output_type": "stream",
     "text": [
      "Iteration 86, loss = 0.20771093\n",
      "Validation score: 0.895351\n",
      "Iteration 87, loss = 0.21593178\n",
      "Validation score: 0.906034\n",
      "Iteration 88, loss = 0.20590610\n",
      "Validation score: 0.887834\n",
      "Iteration 89, loss = 0.20553455\n",
      "Validation score: 0.899901\n",
      "Iteration 90, loss = 0.20402395\n",
      "Validation score: 0.895747\n",
      "Iteration 91, loss = 0.20452099\n",
      "Validation score: 0.893175\n",
      "Iteration 92, loss = 0.20004052\n",
      "Validation score: 0.905045\n",
      "Iteration 93, loss = 0.20396928\n",
      "Validation score: 0.897923\n",
      "Iteration 94, loss = 0.20366547\n",
      "Validation score: 0.902671\n",
      "Iteration 95, loss = 0.20040389\n",
      "Validation score: 0.900099\n",
      "Iteration 96, loss = 0.20262043\n",
      "Validation score: 0.903462\n",
      "Iteration 97, loss = 0.20333923\n",
      "Validation score: 0.903264\n",
      "Iteration 98, loss = 0.20024018\n",
      "Validation score: 0.904253\n",
      "Validation score did not improve more than tol=0.000100 for 10 consecutive epochs. Stopping.\n"
     ]
    },
    {
     "data": {
      "text/plain": [
       "GridSearchCV(cv=3, error_score='raise-deprecating',\n",
       "       estimator=MLPClassifier(activation='relu', alpha=0.0001, batch_size='auto', beta_1=0.9,\n",
       "       beta_2=0.999, early_stopping=True, epsilon=1e-08,\n",
       "       hidden_layer_sizes=(100,), learning_rate='constant',\n",
       "       learning_rate_init=0.001, max_iter=200, momentum=0.9,\n",
       "       n_iter_no_change=10, nesterovs_momentum=True, power_t=0.5,\n",
       "       random_state=101, shuffle=True, solver='adam', tol=0.0001,\n",
       "       validation_fraction=0.1, verbose=True, warm_start=False),\n",
       "       fit_params=None, iid='warn', n_jobs=-1,\n",
       "       param_grid=[{'hidden_layer_sizes': [(128, 64, 32, 16)], 'activation': ['relu'], 'solver': ['adam'], 'batch_size': [64], 'shuffle': [True], 'learning_rate_init': [0.001], 'n_iter_no_change': [10], 'max_iter': [200], 'warm_start': [True], 'early_stopping': [True], 'alpha': [0.01, 0.001]}],\n",
       "       pre_dispatch='2*n_jobs', refit=True, return_train_score='warn',\n",
       "       scoring=None, verbose=0)"
      ]
     },
     "execution_count": 77,
     "metadata": {},
     "output_type": "execute_result"
    }
   ],
   "source": [
    "params = [\n",
    "    {\n",
    "        'hidden_layer_sizes': [(128, 64, 32, 16)],\n",
    "        'activation': ['relu'],\n",
    "        'solver' : ['adam',],\n",
    "        'batch_size': [64],\n",
    "        'shuffle': [True],\n",
    "        'learning_rate_init': [0.001],\n",
    "        'n_iter_no_change': [10],\n",
    "        'max_iter':[200],\n",
    "        'warm_start': [True],\n",
    "        'early_stopping': [True],\n",
    "        'alpha': [0.01, 0.001],\n",
    "    },      \n",
    "]\n",
    "\n",
    "\n",
    "\n",
    "rfe_cv = GridSearchCV(param_grid=params, estimator=MLPClassifier(random_state=rs, early_stopping=True, verbose=True), cv=3, n_jobs=-1)\n",
    "rfe_cv.fit(X_train_rfe, y_train_log)\n",
    "modelSelect_cv = GridSearchCV(param_grid=params, estimator=MLPClassifier(random_state=rs, early_stopping=True, verbose=True), cv=3, n_jobs=-1)\n",
    "modelSelect_cv.fit(X_train_sel_model, y_train_log)"
   ]
  },
  {
   "cell_type": "markdown",
   "metadata": {},
   "source": [
    "### a. Did feature selection help here? Any change in the network architecture? What inputs are being used as the network input?"
   ]
  },
  {
   "cell_type": "code",
   "execution_count": 78,
   "metadata": {},
   "outputs": [
    {
     "name": "stdout",
     "output_type": "stream",
     "text": [
      "Best Parameters of NN:  {'activation': 'relu', 'alpha': 0.001, 'batch_size': 64, 'early_stopping': True, 'hidden_layer_sizes': (128, 64), 'learning_rate_init': 0.001, 'max_iter': 200, 'n_iter_no_change': 10, 'shuffle': True, 'solver': 'adam', 'warm_start': True}\n",
      "Best Parameters of RFE NN:  {'activation': 'relu', 'alpha': 0.001, 'batch_size': 64, 'early_stopping': True, 'hidden_layer_sizes': (128, 64, 32, 16), 'learning_rate_init': 0.001, 'max_iter': 200, 'n_iter_no_change': 10, 'shuffle': True, 'solver': 'adam', 'warm_start': True}\n",
      "Best Parameters of modelSelect NN:  {'activation': 'relu', 'alpha': 0.01, 'batch_size': 64, 'early_stopping': True, 'hidden_layer_sizes': (128, 64, 32, 16), 'learning_rate_init': 0.001, 'max_iter': 200, 'n_iter_no_change': 10, 'shuffle': True, 'solver': 'adam', 'warm_start': True}\n",
      "\n",
      "\n",
      "\n",
      "GridSearch:\n",
      "Number of Layers:  4\n",
      "The First layer is Input Layer, and the last layer is the output layer\n",
      "1 Layer with hidden size 149\n",
      "2 Layer with hidden size 128\n",
      "3 Layer with hidden size 64\n",
      "4 Layer with hidden size 1\n",
      "The activation function:  relu\n",
      "\n",
      "\n",
      "RFE:\n",
      "Number of Layers:  6\n",
      "The First layer is Input Layer, and the last layer is the output layer\n",
      "1 Layer with hidden size 126\n",
      "2 Layer with hidden size 128\n",
      "3 Layer with hidden size 64\n",
      "4 Layer with hidden size 32\n",
      "5 Layer with hidden size 16\n",
      "6 Layer with hidden size 1\n",
      "The activation function:  relu\n",
      "\n",
      "\n",
      "modelSelect:\n",
      "Number of Layers:  6\n",
      "The First layer is Input Layer, and the last layer is the output layer\n",
      "1 Layer with hidden size 24\n",
      "2 Layer with hidden size 128\n",
      "3 Layer with hidden size 64\n",
      "4 Layer with hidden size 32\n",
      "5 Layer with hidden size 16\n",
      "6 Layer with hidden size 1\n",
      "The activation function:  relu\n",
      "\n",
      "\n"
     ]
    }
   ],
   "source": [
    "print(\"Best Parameters of NN: \", cv.best_params_)\n",
    "print(\"Best Parameters of RFE NN: \", rfe_cv.best_params_)\n",
    "print(\"Best Parameters of modelSelect NN: \", modelSelect_cv.best_params_)\n",
    "print(\"\\n\\n\")\n",
    "\n",
    "print(\"GridSearch:\")\n",
    "printMLPArchitecture(cv.best_estimator_)\n",
    "print(\"\\n\")\n",
    "print(\"RFE:\")\n",
    "printMLPArchitecture(rfe_cv.best_estimator_)\n",
    "print(\"\\n\")\n",
    "print(\"modelSelect:\")\n",
    "printMLPArchitecture(modelSelect_cv.best_estimator_)\n",
    "print(\"\\n\")\n"
   ]
  },
  {
   "cell_type": "markdown",
   "metadata": {},
   "source": [
    "### b. What is classification accuracy on training and test datasets? Is there any improvement in the outcome?"
   ]
  },
  {
   "cell_type": "code",
   "execution_count": 79,
   "metadata": {},
   "outputs": [
    {
     "name": "stdout",
     "output_type": "stream",
     "text": [
      "GridSearch NN Train accuracy: 0.9777430459383532\n",
      "GridSearch NN Test accuracy: 0.8370167965924616\n",
      "RFE NN Train accuracy: 0.9760218414909192\n",
      "RFE NNTest accuracy: 0.8263280559350639\n",
      "modelSelect NN Train accuracy: 0.9487199778419657\n",
      "modelSelect NN Test accuracmodelSelect_cvy: 0.7963513622116852\n"
     ]
    }
   ],
   "source": [
    "print(\"GridSearch NN Train accuracy:\", cv.score(X_train_log, y_train_log))\n",
    "print(\"GridSearch NN Test accuracy:\", cv.score(X_test_log, y_test_log))\n",
    "print(\"RFE NN Train accuracy:\", rfe_cv.score(X_train_rfe, y_train_log))\n",
    "print(\"RFE NNTest accuracy:\", rfe_cv.score(X_test_rfe, y_test_log))\n",
    "print(\"modelSelect NN Train accuracy:\", modelSelect_cv.score(X_train_sel_model, y_train_log))\n",
    "print(\"modelSelect NN Test accuracmodelSelect_cvy:\", modelSelect_cv.score(X_test_sel_model, y_test_log))"
   ]
  },
  {
   "cell_type": "markdown",
   "metadata": {},
   "source": [
    "### c. How many iterations are now needed to train this network?"
   ]
  },
  {
   "cell_type": "code",
   "execution_count": 80,
   "metadata": {},
   "outputs": [
    {
     "name": "stdout",
     "output_type": "stream",
     "text": [
      "Number of iterations GS ran:  58\n",
      "Number of iterations rfe ran:  53\n",
      "Number of iterations modelSelect ran:  98\n"
     ]
    }
   ],
   "source": [
    "print(\"Number of iterations GS ran: \",cv.best_estimator_.n_iter_)\n",
    "print(\"Number of iterations rfe ran: \",rfe_cv.best_estimator_.n_iter_)\n",
    "print(\"Number of iterations modelSelect ran: \",modelSelect_cv.best_estimator_.n_iter_)"
   ]
  },
  {
   "cell_type": "markdown",
   "metadata": {},
   "source": [
    "### d. Do you see any sign of over-fitting?"
   ]
  },
  {
   "cell_type": "code",
   "execution_count": 81,
   "metadata": {},
   "outputs": [],
   "source": [
    "## From the training and test accuracy, we can see that both RFE NN and model_selected NN has the sign of overfitting\n",
    "\n",
    "## Ly pls modify this."
   ]
  },
  {
   "cell_type": "markdown",
   "metadata": {},
   "source": [
    "### e. Did the training process converge and resulted in the best model? "
   ]
  },
  {
   "cell_type": "code",
   "execution_count": 82,
   "metadata": {},
   "outputs": [
    {
     "data": {
      "text/plain": [
       "<matplotlib.legend.Legend at 0x7f4951aa14a8>"
      ]
     },
     "execution_count": 82,
     "metadata": {},
     "output_type": "execute_result"
    },
    {
     "data": {
      "image/png": "[encoded data removed]",
      "text/plain": [
       "<Figure size 720x360 with 1 Axes>"
      ]
     },
     "metadata": {
      "needs_background": "light"
     },
     "output_type": "display_data"
    }
   ],
   "source": [
    "fig = plt.figure(figsize=(10, 5))\n",
    "plt.ylabel('Loss',fontsize=15)\n",
    "plt.xlabel('Number of iterations',fontsize=15)\n",
    "plt.title('Training Loss',fontsize=20,fontweight =\"bold\")\n",
    "plt.plot(cv.best_estimator_.loss_curve_, label=\"GridSearch Loss\")\n",
    "plt.plot(rfe_cv.best_estimator_.loss_curve_, label=\"RFE Loss\")\n",
    "plt.plot(modelSelect_cv.best_estimator_.loss_curve_, label=\"modelSelect Loss\")\n",
    "plt.legend(loc='upper right')"
   ]
  },
  {
   "cell_type": "markdown",
   "metadata": {},
   "source": [
    "# 4. Using the comparison methods, which of the models (i.e one with selected variables and another with all variables) appears to be better? From the better model, can you identify cars those could potential be “kicks”? Can you provide some descriptive summary of those cars? Is it easy to comprehend the performance of the best neural network model for decision making?"
   ]
  },
  {
   "cell_type": "code",
   "execution_count": 83,
   "metadata": {
    "scrolled": false
   },
   "outputs": [
    {
     "name": "stdout",
     "output_type": "stream",
     "text": [
      "GridSearch Classification Report: \n",
      "              precision    recall  f1-score   support\n",
      "\n",
      "           0       0.90      0.91      0.91     10832\n",
      "           1       0.36      0.35      0.36      1611\n",
      "\n",
      "   micro avg       0.84      0.84      0.84     12443\n",
      "   macro avg       0.63      0.63      0.63     12443\n",
      "weighted avg       0.83      0.84      0.84     12443\n",
      "\n",
      "Confusion Matrix: \n",
      " [[9855  977]\n",
      " [1051  560]]\n",
      "\n",
      "\n",
      "RFE Classification Report: \n",
      "              precision    recall  f1-score   support\n",
      "\n",
      "           0       0.90      0.90      0.90     10832\n",
      "           1       0.34      0.36      0.35      1611\n",
      "\n",
      "   micro avg       0.83      0.83      0.83     12443\n",
      "   macro avg       0.62      0.63      0.62     12443\n",
      "weighted avg       0.83      0.83      0.83     12443\n",
      "\n",
      "Confusion Matrix: \n",
      " [[9704 1128]\n",
      " [1033  578]]\n",
      "\n",
      "\n",
      "modelSelect Classification Report: \n",
      "              precision    recall  f1-score   support\n",
      "\n",
      "           0       0.91      0.85      0.88     10832\n",
      "           1       0.29      0.41      0.34      1611\n",
      "\n",
      "   micro avg       0.80      0.80      0.80     12443\n",
      "   macro avg       0.60      0.63      0.61     12443\n",
      "weighted avg       0.83      0.80      0.81     12443\n",
      "\n",
      "Confusion Matrix: \n",
      " [[9250 1582]\n",
      " [ 952  659]]\n"
     ]
    }
   ],
   "source": [
    "print(\"GridSearch Classification Report: \")\n",
    "y_pred = cv.predict(X_test_log)\n",
    "print(classification_report(y_test_log, y_pred))\n",
    "print(\"Confusion Matrix: \\n\", confusion_matrix(y_test, y_pred))\n",
    "print(\"\\n\\nRFE Classification Report: \")\n",
    "y_pred = rfe_cv.predict(X_test_rfe)\n",
    "print(classification_report(y_test_log, y_pred))\n",
    "print(\"Confusion Matrix: \\n\", confusion_matrix(y_test, y_pred))\n",
    "print(\"\\n\\nmodelSelect Classification Report: \")\n",
    "y_pred = modelSelect_cv.predict(X_test_sel_model)\n",
    "print(classification_report(y_test_log, y_pred))\n",
    "print(\"Confusion Matrix: \\n\", confusion_matrix(y_test, y_pred))"
   ]
  },
  {
   "cell_type": "markdown",
   "metadata": {},
   "source": [
    "# Task 5. Generating an Ensemble Model and Comparing Models"
   ]
  },
  {
   "cell_type": "markdown",
   "metadata": {},
   "source": [
    "## 1. Generate an ensemble model to include the best regression model, best decision tree model, and best neural network model."
   ]
  },
  {
   "cell_type": "code",
   "execution_count": 84,
   "metadata": {},
   "outputs": [
    {
     "name": "stdout",
     "output_type": "stream",
     "text": [
      "Iteration 1, loss = 0.54707512\n",
      "Validation score: 0.736301\n",
      "Iteration 2, loss = 0.47857332\n",
      "Validation score: 0.777448\n",
      "Iteration 3, loss = 0.42324346\n",
      "Validation score: 0.797428\n",
      "Iteration 4, loss = 0.37362828\n",
      "Validation score: 0.814441\n",
      "Iteration 5, loss = 0.32970120\n",
      "Validation score: 0.841345\n",
      "Iteration 6, loss = 0.29536147\n",
      "Validation score: 0.845895\n",
      "Iteration 7, loss = 0.26196995\n",
      "Validation score: 0.866271\n",
      "Iteration 8, loss = 0.23640891\n",
      "Validation score: 0.867854\n",
      "Iteration 9, loss = 0.21630361\n",
      "Validation score: 0.891592\n",
      "Iteration 10, loss = 0.19812908\n",
      "Validation score: 0.897527\n",
      "Iteration 11, loss = 0.17922477\n",
      "Validation score: 0.892186\n",
      "Iteration 12, loss = 0.17157421\n",
      "Validation score: 0.893966\n",
      "Iteration 13, loss = 0.15687880\n",
      "Validation score: 0.898912\n",
      "Iteration 14, loss = 0.15013150\n",
      "Validation score: 0.908012\n",
      "Iteration 15, loss = 0.14213609\n",
      "Validation score: 0.913551\n",
      "Iteration 16, loss = 0.13710825\n",
      "Validation score: 0.908803\n",
      "Iteration 17, loss = 0.12941752\n",
      "Validation score: 0.916123\n",
      "Iteration 18, loss = 0.12335300\n",
      "Validation score: 0.908605\n",
      "Iteration 19, loss = 0.12127017\n",
      "Validation score: 0.920475\n",
      "Iteration 20, loss = 0.11510558\n",
      "Validation score: 0.918299\n",
      "Iteration 21, loss = 0.10792456\n",
      "Validation score: 0.916716\n",
      "Iteration 22, loss = 0.11128821\n",
      "Validation score: 0.923838\n",
      "Iteration 23, loss = 0.10161774\n",
      "Validation score: 0.915727\n",
      "Iteration 24, loss = 0.10311017\n",
      "Validation score: 0.923244\n",
      "Iteration 25, loss = 0.09677756\n",
      "Validation score: 0.916123\n",
      "Iteration 26, loss = 0.09564818\n",
      "Validation score: 0.919881\n",
      "Iteration 27, loss = 0.09391351\n",
      "Validation score: 0.919881\n",
      "Iteration 28, loss = 0.09325189\n",
      "Validation score: 0.920673\n",
      "Iteration 29, loss = 0.08933597\n",
      "Validation score: 0.919090\n",
      "Iteration 30, loss = 0.08553687\n",
      "Validation score: 0.927003\n",
      "Iteration 31, loss = 0.08509835\n",
      "Validation score: 0.920870\n",
      "Iteration 32, loss = 0.08890293\n",
      "Validation score: 0.929575\n",
      "Iteration 33, loss = 0.08273223\n",
      "Validation score: 0.927399\n",
      "Iteration 34, loss = 0.08393377\n",
      "Validation score: 0.919683\n",
      "Iteration 35, loss = 0.08182656\n",
      "Validation score: 0.934520\n",
      "Iteration 36, loss = 0.07923991\n",
      "Validation score: 0.929377\n",
      "Iteration 37, loss = 0.07911647\n",
      "Validation score: 0.924036\n",
      "Iteration 38, loss = 0.07507023\n",
      "Validation score: 0.918892\n",
      "Iteration 39, loss = 0.07546001\n",
      "Validation score: 0.932938\n",
      "Iteration 40, loss = 0.07573450\n",
      "Validation score: 0.925618\n",
      "Iteration 41, loss = 0.07798078\n",
      "Validation score: 0.935707\n",
      "Iteration 42, loss = 0.07570306\n",
      "Validation score: 0.931553\n",
      "Iteration 43, loss = 0.07707894\n",
      "Validation score: 0.923046\n",
      "Iteration 44, loss = 0.07104559\n",
      "Validation score: 0.932938\n",
      "Iteration 45, loss = 0.07088950\n",
      "Validation score: 0.929575\n",
      "Iteration 46, loss = 0.07306730\n",
      "Validation score: 0.930959\n",
      "Iteration 47, loss = 0.06642030\n",
      "Validation score: 0.939268\n",
      "Iteration 48, loss = 0.07605865\n",
      "Validation score: 0.931157\n",
      "Iteration 49, loss = 0.07145894\n",
      "Validation score: 0.933531\n",
      "Iteration 50, loss = 0.07031683\n",
      "Validation score: 0.932146\n",
      "Iteration 51, loss = 0.06679548\n",
      "Validation score: 0.929377\n",
      "Iteration 52, loss = 0.06558132\n",
      "Validation score: 0.928388\n",
      "Iteration 53, loss = 0.06718902\n",
      "Validation score: 0.936103\n",
      "Iteration 54, loss = 0.06389646\n",
      "Validation score: 0.933927\n",
      "Iteration 55, loss = 0.06966706\n",
      "Validation score: 0.924629\n",
      "Iteration 56, loss = 0.06919731\n",
      "Validation score: 0.924431\n",
      "Iteration 57, loss = 0.06199414\n",
      "Validation score: 0.939268\n",
      "Iteration 58, loss = 0.06546817\n",
      "Validation score: 0.931751\n",
      "Validation score did not improve more than tol=0.000100 for 10 consecutive epochs. Stopping.\n"
     ]
    }
   ],
   "source": [
    "voting = VotingClassifier(estimators=[('dt', dt_model), ('lr', log_reg_model), ('nn', nn_model)], voting='soft')\n",
    "voting.fit(X_train_log, y_train_log)\n",
    "\n",
    "y_pred_dt = dt_model.predict(X_test_log)\n",
    "y_pred_log_reg = log_reg_model.predict(X_test_log)\n",
    "y_pred_nn = nn_model.predict(X_test_log)\n",
    "y_pred_ensemble = voting.predict(X_test_log)\n"
   ]
  },
  {
   "cell_type": "markdown",
   "metadata": {},
   "source": [
    "### a. Does the Ensemble model outperform the underlying models? Resonate your answer."
   ]
  },
  {
   "cell_type": "code",
   "execution_count": 85,
   "metadata": {},
   "outputs": [
    {
     "name": "stdout",
     "output_type": "stream",
     "text": [
      "Report for DT: \n",
      "               precision    recall  f1-score   support\n",
      "\n",
      "           0       0.87      0.95      0.91     10832\n",
      "           1       0.16      0.07      0.10      1611\n",
      "\n",
      "   micro avg       0.83      0.83      0.83     12443\n",
      "   macro avg       0.52      0.51      0.50     12443\n",
      "weighted avg       0.78      0.83      0.80     12443\n",
      "\n",
      "DT Confusion Matrix: \n",
      " [[10279   553]\n",
      " [ 1502   109]]\n",
      "\n",
      "Report for Logistic Regression: \n",
      "               precision    recall  f1-score   support\n",
      "\n",
      "           0       0.93      0.78      0.85     10832\n",
      "           1       0.29      0.61      0.39      1611\n",
      "\n",
      "   micro avg       0.76      0.76      0.76     12443\n",
      "   macro avg       0.61      0.69      0.62     12443\n",
      "weighted avg       0.85      0.76      0.79     12443\n",
      "\n",
      "Logistic Regression Confusion Matrix: \n",
      " [[8422 2410]\n",
      " [ 635  976]]\n",
      "\n",
      "Report for NN: \n",
      "               precision    recall  f1-score   support\n",
      "\n",
      "           0       0.90      0.91      0.91     10832\n",
      "           1       0.36      0.35      0.36      1611\n",
      "\n",
      "   micro avg       0.84      0.84      0.84     12443\n",
      "   macro avg       0.63      0.63      0.63     12443\n",
      "weighted avg       0.83      0.84      0.84     12443\n",
      "\n",
      "NN Confusion Matrix: \n",
      " [[9855  977]\n",
      " [1051  560]]\n",
      "\n",
      "Report for Ensemble: \n",
      "               precision    recall  f1-score   support\n",
      "\n",
      "           0       0.91      0.93      0.92     10832\n",
      "           1       0.43      0.38      0.40      1611\n",
      "\n",
      "   micro avg       0.86      0.86      0.86     12443\n",
      "   macro avg       0.67      0.65      0.66     12443\n",
      "weighted avg       0.85      0.86      0.85     12443\n",
      "\n",
      "Ensemble Confusion Matrix: \n",
      " [[10038   794]\n",
      " [ 1005   606]]\n"
     ]
    }
   ],
   "source": [
    "print(\"Report for DT: \\n\",classification_report(y_test_log, y_pred_dt))\n",
    "print(\"DT Confusion Matrix: \\n\", confusion_matrix(y_test, y_pred_dt))\n",
    "\n",
    "print(\"\\nReport for Logistic Regression: \\n\",classification_report(y_test_log, y_pred_log_reg))\n",
    "print(\"Logistic Regression Confusion Matrix: \\n\", confusion_matrix(y_test, y_pred_log_reg))\n",
    "\n",
    "print(\"\\nReport for NN: \\n\",classification_report(y_test_log, y_pred_nn))\n",
    "print(\"NN Confusion Matrix: \\n\", confusion_matrix(y_test, y_pred_nn))\n",
    "\n",
    "print(\"\\nReport for Ensemble: \\n\",classification_report(y_test_log, y_pred_ensemble))\n",
    "print(\"Ensemble Confusion Matrix: \\n\", confusion_matrix(y_test, y_pred_ensemble))\n"
   ]
  },
  {
   "cell_type": "markdown",
   "metadata": {},
   "source": [
    "## 2. Use the comparison methods (or the comparison node) to compare the best decision tree model, the best regression model, the best neural network model and the ensemble model. "
   ]
  },
  {
   "cell_type": "markdown",
   "metadata": {},
   "source": [
    "### a. Discuss the findings led by (a) ROC Chart (and Index); (b) Score Ranking (or Accuracy Score); (c) Fit Statistics; (or Classification report) and (4) Output."
   ]
  },
  {
   "cell_type": "markdown",
   "metadata": {},
   "source": [
    "(a) ROC Chart (and Index)"
   ]
  },
  {
   "cell_type": "code",
   "execution_count": 86,
   "metadata": {},
   "outputs": [
    {
     "name": "stdout",
     "output_type": "stream",
     "text": [
      "ROC index on test for DT: 0.6106552750339935\n",
      "ROC index on test for logistic regression: 0.4997357932951725\n",
      "ROC index on test for NN: 0.44552339116139317\n",
      "ROC index on voting classifier: 0.7473490506094089\n"
     ]
    },
    {
     "data": {
      "image/png": "[encoded data removed]",
      "text/plain": [
       "<Figure size 432x288 with 1 Axes>"
      ]
     },
     "metadata": {
      "needs_background": "light"
     },
     "output_type": "display_data"
    }
   ],
   "source": [
    "#### ROC\n",
    "\n",
    "y_pred_proba_dt = dt_model.predict_proba(X_test)\n",
    "y_pred_proba_log_reg = log_reg_model.predict_proba(X_test)\n",
    "y_pred_proba_nn = nn_model.predict_proba(X_test)\n",
    "y_pred_proba_ensemble = voting.predict_proba(X_test_log)\n",
    "\n",
    "roc_index_dt = roc_auc_score(y_test, y_pred_proba_dt[:, 1])\n",
    "roc_index_log_reg = roc_auc_score(y_test, y_pred_proba_log_reg[:, 1])\n",
    "roc_index_nn = roc_auc_score(y_test, y_pred_proba_nn[:, 1])\n",
    "roc_index_ensemble = roc_auc_score(y_test_log, y_pred_proba_ensemble[:, 1])\n",
    "\n",
    "\n",
    "print(\"ROC index on test for DT:\", roc_index_dt)\n",
    "print(\"ROC index on test for logistic regression:\", roc_index_log_reg)\n",
    "print(\"ROC index on test for NN:\", roc_index_nn)\n",
    "print(\"ROC index on voting classifier:\", roc_index_ensemble)\n",
    "\n",
    "\n",
    "fpr_dt, tpr_dt, thresholds_dt = roc_curve(y_test, y_pred_proba_dt[:,1])\n",
    "fpr_log_reg, tpr_log_reg, thresholds_log_reg = roc_curve(y_test, y_pred_proba_log_reg[:,1])\n",
    "fpr_nn, tpr_nn, thresholds_nn = roc_curve(y_test, y_pred_proba_nn[:,1])\n",
    "fpr_ensemble, tpr_ensemble, thresholds_ensemble = roc_curve(y_test, y_pred_proba_ensemble[:,1])\n",
    "\n",
    "\n",
    "plt.plot(fpr_dt, tpr_dt, label='ROC Curve for DT {:.3f}'.format(roc_index_dt), color='red', lw=0.5)\n",
    "plt.plot(fpr_log_reg, tpr_log_reg, label='ROC Curve for Log reg {:.3f}'.format(roc_index_log_reg), color='green', lw=0.5)\n",
    "plt.plot(fpr_nn, tpr_nn, label='ROC Curve for NN {:.3f}'.format(roc_index_nn), color='darkorange', lw=0.5)\n",
    "plt.plot(fpr_ensemble, tpr_ensemble, label='ROC Curve for Ensemble {:.3f}'.format(roc_index_ensemble), color='darkorange', lw=0.5)\n",
    "\n",
    "plt.plot([0, 1], [0, 1], color='navy', lw=0.5, linestyle='--')\n",
    "plt.xlim([0.0, 1.0])\n",
    "plt.ylim([0.0, 1.0])\n",
    "plt.xlabel('False Positive Rate')\n",
    "plt.ylabel('True Positive Rate')\n",
    "plt.title('Receiver operating characteristic example')\n",
    "plt.legend(loc=\"lower right\")\n",
    "plt.show()"
   ]
  },
  {
   "cell_type": "markdown",
   "metadata": {},
   "source": [
    "(b) Score Ranking (or Accuracy Score)"
   ]
  },
  {
   "cell_type": "code",
   "execution_count": 87,
   "metadata": {},
   "outputs": [
    {
     "name": "stdout",
     "output_type": "stream",
     "text": [
      "Accuracy score on test for DT: 0.8348469018725387\n",
      "Accuracy score on test for Logistic Regression: 0.7552840954753677\n",
      "Accuracy score on test for NN: 0.8370167965924616\n",
      "Accuracy score on test for Ensemble: 0.8554207184762517\n"
     ]
    }
   ],
   "source": [
    "print(\"Accuracy score on test for DT:\", accuracy_score(y_test_log, y_pred_dt))\n",
    "print(\"Accuracy score on test for Logistic Regression:\", accuracy_score(y_test_log, y_pred_log_reg))\n",
    "print(\"Accuracy score on test for NN:\", accuracy_score(y_test_log, y_pred_nn))\n",
    "print(\"Accuracy score on test for Ensemble:\", accuracy_score(y_test_log, y_pred_ensemble))"
   ]
  },
  {
   "cell_type": "markdown",
   "metadata": {},
   "source": [
    "(c) Classification report"
   ]
  },
  {
   "cell_type": "code",
   "execution_count": 88,
   "metadata": {},
   "outputs": [
    {
     "name": "stdout",
     "output_type": "stream",
     "text": [
      "Report for DT: \n",
      "               precision    recall  f1-score   support\n",
      "\n",
      "           0       0.87      0.95      0.91     10832\n",
      "           1       0.16      0.07      0.10      1611\n",
      "\n",
      "   micro avg       0.83      0.83      0.83     12443\n",
      "   macro avg       0.52      0.51      0.50     12443\n",
      "weighted avg       0.78      0.83      0.80     12443\n",
      "\n",
      "\n",
      "Report for Logistic Regression: \n",
      "               precision    recall  f1-score   support\n",
      "\n",
      "           0       0.93      0.78      0.85     10832\n",
      "           1       0.29      0.61      0.39      1611\n",
      "\n",
      "   micro avg       0.76      0.76      0.76     12443\n",
      "   macro avg       0.61      0.69      0.62     12443\n",
      "weighted avg       0.85      0.76      0.79     12443\n",
      "\n",
      "\n",
      "Report for NN: \n",
      "               precision    recall  f1-score   support\n",
      "\n",
      "           0       0.90      0.91      0.91     10832\n",
      "           1       0.36      0.35      0.36      1611\n",
      "\n",
      "   micro avg       0.84      0.84      0.84     12443\n",
      "   macro avg       0.63      0.63      0.63     12443\n",
      "weighted avg       0.83      0.84      0.84     12443\n",
      "\n",
      "\n",
      "Report for Ensemble: \n",
      "               precision    recall  f1-score   support\n",
      "\n",
      "           0       0.91      0.93      0.92     10832\n",
      "           1       0.43      0.38      0.40      1611\n",
      "\n",
      "   micro avg       0.86      0.86      0.86     12443\n",
      "   macro avg       0.67      0.65      0.66     12443\n",
      "weighted avg       0.85      0.86      0.85     12443\n",
      "\n"
     ]
    }
   ],
   "source": [
    "print(\"Report for DT: \\n\",classification_report(y_test_log, y_pred_dt))\n",
    "print(\"\\nReport for Logistic Regression: \\n\",classification_report(y_test_log, y_pred_log_reg))\n",
    "print(\"\\nReport for NN: \\n\",classification_report(y_test_log, y_pred_nn))\n",
    "print(\"\\nReport for Ensemble: \\n\",classification_report(y_test_log, y_pred_ensemble))"
   ]
  },
  {
   "cell_type": "markdown",
   "metadata": {},
   "source": [
    "(d) Output"
   ]
  },
  {
   "cell_type": "code",
   "execution_count": 89,
   "metadata": {},
   "outputs": [],
   "source": [
    "### what's the the output? the confusion matrix or just the y_pred? ## Ly pls help me to answer this."
   ]
  },
  {
   "cell_type": "markdown",
   "metadata": {},
   "source": [
    "### b. Do all the models agree on the cars characteristics? How do they vary?"
   ]
  },
  {
   "cell_type": "code",
   "execution_count": 90,
   "metadata": {},
   "outputs": [],
   "source": [
    "# what's this? ## Ly pls help me to answer this."
   ]
  },
  {
   "cell_type": "markdown",
   "metadata": {},
   "source": [
    "# Task 6. Final Remarks: Decision Making"
   ]
  },
  {
   "cell_type": "markdown",
   "metadata": {},
   "source": [
    "## 1. Finally, based on all models and analysis,  is there a particular model you will use in decision making? Justify your choice. "
   ]
  },
  {
   "cell_type": "markdown",
   "metadata": {},
   "source": [
    "We will choose the ensemble model for making decision since it has the highest accuracy. Moreover, the ensemble model has 0.44 precission on the kicks, which means 0.44 it has 44% accuracy when it classify an observation as a kicks. Other model has a lower precision and recall, which means those models can't efficiently detect the \"Kicks\". If we want to apply this model in the real world, we would expect this model to detect suspecious cases, then apply further investigation on those cases."
   ]
  },
  {
   "cell_type": "markdown",
   "metadata": {},
   "source": [
    "## 2. Can you summarise positives and negatives of each predictive modelling method based on this analysis? "
   ]
  },
  {
   "cell_type": "markdown",
   "metadata": {},
   "source": [
    "The NN need more training time and the logistic model need more training time, the decision model and NN model has more serious overfitting problem. However, these two overfitting model have a higher accuracy on the test set. The logisit regression model and th"
   ]
  },
  {
   "cell_type": "code",
   "execution_count": 91,
   "metadata": {},
   "outputs": [],
   "source": [
    "# Add the measurement time to the basic model, \n",
    "\n",
    "# Also talk about that NN has lots of hyper-params, so need more time for searching params"
   ]
  },
  {
   "cell_type": "markdown",
   "metadata": {},
   "source": [
    "## 3. How the outcome of this study can be used by decision makers? "
   ]
  },
  {
   "cell_type": "markdown",
   "metadata": {},
   "source": [
    "The decision maker can use the ensemble model for detecting the suspecious deals."
   ]
  },
  {
   "cell_type": "code",
   "execution_count": null,
   "metadata": {},
   "outputs": [],
   "source": []
  },
  {
   "cell_type": "code",
   "execution_count": null,
   "metadata": {},
   "outputs": [],
   "source": []
  }
 ],
 "metadata": {
  "kernelspec": {
   "display_name": "Python 3",
   "language": "python",
   "name": "python3"
  },
  "language_info": {
   "codemirror_mode": {
    "name": "ipython",
    "version": 3
   },
   "file_extension": ".py",
   "mimetype": "text/x-python",
   "name": "python",
   "nbconvert_exporter": "python",
   "pygments_lexer": "ipython3",
   "version": "3.6.7"
  }
 },
 "nbformat": 4,
 "nbformat_minor": 2
}
